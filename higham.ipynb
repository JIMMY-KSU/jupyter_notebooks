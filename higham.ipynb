{
 "cells": [
  {
   "cell_type": "code",
   "execution_count": 2,
   "metadata": {},
   "outputs": [],
   "source": [
    "from math import sqrt, fabs\n",
    "\n",
    "def higham(t, L):\n",
    "    f = t\n",
    "    for k in range(1, L + 1):\n",
    "        f = sqrt(f)\n",
    "    for k in range(1, L + 1):\n",
    "        f = f**2\n",
    "    f = f**2\n",
    "    return f\n",
    "    \n",
    "        "
   ]
  },
  {
   "cell_type": "code",
   "execution_count": 3,
   "metadata": {},
   "outputs": [
    {
     "data": {
      "text/plain": [
       "3.9999999671099733"
      ]
     },
     "execution_count": 3,
     "metadata": {},
     "output_type": "execute_result"
    }
   ],
   "source": [
    "higham(2, 30)"
   ]
  },
  {
   "cell_type": "code",
   "execution_count": 5,
   "metadata": {},
   "outputs": [
    {
     "data": {
      "text/plain": [
       "3.999999999999986"
      ]
     },
     "execution_count": 5,
     "metadata": {},
     "output_type": "execute_result"
    }
   ],
   "source": [
    "higham(2, 5)"
   ]
  },
  {
   "cell_type": "code",
   "execution_count": 17,
   "metadata": {},
   "outputs": [
    {
     "data": {
      "text/plain": [
       "1.0"
      ]
     },
     "execution_count": 17,
     "metadata": {},
     "output_type": "execute_result"
    }
   ],
   "source": [
    "higham(2, 60)"
   ]
  },
  {
   "cell_type": "code",
   "execution_count": 14,
   "metadata": {},
   "outputs": [],
   "source": [
    "sqrt_eps = 1.5e-8\n",
    "t = 2\n",
    "L = "
   ]
  },
  {
   "cell_type": "code",
   "execution_count": 15,
   "metadata": {},
   "outputs": [
    {
     "data": {
      "text/plain": [
       "5.999996766092863e-08"
      ]
     },
     "execution_count": 15,
     "metadata": {},
     "output_type": "execute_result"
    }
   ],
   "source": [
    "higham(t + sqrt_eps, L) - higham(t, L)"
   ]
  },
  {
   "cell_type": "code",
   "execution_count": null,
   "metadata": {},
   "outputs": [],
   "source": [
    "from math import sqrt, fabs\n",
    "import numpy as np\n",
    "\n",
    "def ECNoise(nf, fval):\n",
    "    level = np.zeros((nf-1))\n",
    "    dsgn  = np.zeros((nf-1))\n",
    "    fnoise = 0.0\n",
    "    gamma = 1.0 # = gamma(0)\n",
    "\n",
    "    # Compute the range of function values.\n",
    "    fnp.amin = np.amin(fval)\n",
    "    fmax = max(fval)\n",
    "    if (fmax-fnp.amin)/max(abs(fmax),abs(fnp.amin))>.1 \n",
    "        inform = 3 return\n",
    "    end\n",
    "\n",
    "    # Construct the difference table.\n",
    "    for j = 1:nf-1\n",
    "        for i = 1:nf-j\n",
    "            fval(i) = fval(i+1) - fval(i)\n",
    "        end\n",
    "\n",
    "        # h is too small only when half the function values are equal.\n",
    "        if (j==1 && sum(fval(1:nf-1)==0)>=nf/2)\n",
    "            inform = 2 return\n",
    "        end\n",
    "\n",
    "        gamma = 0.5*(j/(2*j-1))*gamma\n",
    "\n",
    "        # Compute the estimates for the noise level.\n",
    "        level(j) = sqrt(gamma*mean(fval(1:nf-j).^2))\n",
    "\n",
    "        # Deternp.amine differences in sign.\n",
    "        enp.amin = np.amin(fval(1:nf-j))\n",
    "        emax = max(fval(1:nf-j))\n",
    "        if (enp.amin*emax < 0.0) dsgn(j) = 1 end\n",
    "    end\n",
    "\n",
    "    # Deternp.amine the noise level.\n",
    "    for k = 1:nf-3\n",
    "        enp.amin = np.amin(level(k:k+2))\n",
    "        emax = max(level(k:k+2))\n",
    "        if (emax<=4*enp.amin && dsgn(k))\n",
    "            fnoise = level(k)\n",
    "            inform = 1\n",
    "            return\n",
    "        end\n",
    "    end\n",
    "\n",
    "    # If noise not detected then h is too large.\n",
    "    inform = 3\n",
    "\n",
    "return\n",
    "    \n",
    "    "
   ]
  },
  {
   "cell_type": "code",
   "execution_count": null,
   "metadata": {},
   "outputs": [],
   "source": [
    "def delta(f, h, t0):\n",
    "    return fabs(f(t0 - h) - 2*f(t0) + f(t0 + h))\n",
    "\n",
    "def mu(delta):\n",
    "    tau1 = 100\n",
    "    tau2 = .1\n",
    "    ha = epsf**.25"
   ]
  }
 ],
 "metadata": {
  "kernelspec": {
   "display_name": "Python 2",
   "language": "python",
   "name": "python2"
  },
  "language_info": {
   "codemirror_mode": {
    "name": "ipython",
    "version": 2
   },
   "file_extension": ".py",
   "mimetype": "text/x-python",
   "name": "python",
   "nbconvert_exporter": "python",
   "pygments_lexer": "ipython2",
   "version": "2.7.14"
  }
 },
 "nbformat": 4,
 "nbformat_minor": 2
}
