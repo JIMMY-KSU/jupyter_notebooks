{
 "cells": [
  {
   "cell_type": "code",
   "execution_count": 3,
   "metadata": {},
   "outputs": [
    {
     "data": {
      "text/plain": [
       "3.9999999671099733"
      ]
     },
     "execution_count": 3,
     "metadata": {},
     "output_type": "execute_result"
    }
   ],
   "source": [
    "higham(2, 30)"
   ]
  },
  {
   "cell_type": "code",
   "execution_count": 5,
   "metadata": {},
   "outputs": [
    {
     "data": {
      "text/plain": [
       "3.999999999999986"
      ]
     },
     "execution_count": 5,
     "metadata": {},
     "output_type": "execute_result"
    }
   ],
   "source": [
    "higham(2, 5)"
   ]
  },
  {
   "cell_type": "code",
   "execution_count": 17,
   "metadata": {},
   "outputs": [
    {
     "data": {
      "text/plain": [
       "1.0"
      ]
     },
     "execution_count": 17,
     "metadata": {},
     "output_type": "execute_result"
    }
   ],
   "source": [
    "higham(2, 60)"
   ]
  },
  {
   "cell_type": "code",
   "execution_count": 14,
   "metadata": {},
   "outputs": [],
   "source": [
    "sqrt_eps = 1.5e-8\n",
    "t = 2\n",
    "L = "
   ]
  },
  {
   "cell_type": "code",
   "execution_count": 15,
   "metadata": {},
   "outputs": [
    {
     "data": {
      "text/plain": [
       "5.999996766092863e-08"
      ]
     },
     "execution_count": 15,
     "metadata": {},
     "output_type": "execute_result"
    }
   ],
   "source": [
    "higham(t + sqrt_eps, L) - higham(t, L)"
   ]
  },
  {
   "cell_type": "code",
   "execution_count": null,
   "metadata": {},
   "outputs": [],
   "source": [
    "def delta(f, h, t0):\n",
    "    return fabs(f(t0 - h) - 2*f(t0) + f(t0 + h))\n",
    "\n",
    "def mu(delta):\n",
    "    tau1 = 100\n",
    "    tau2 = .1\n",
    "    ha = epsf**.25"
   ]
  },
  {
   "cell_type": "code",
   "execution_count": 2,
   "metadata": {},
   "outputs": [],
   "source": [
    "import numpy as np"
   ]
  },
  {
   "cell_type": "code",
   "execution_count": 3,
   "metadata": {},
   "outputs": [],
   "source": [
    "fval = np.array([0, 1, 2, 3, 4])"
   ]
  },
  {
   "cell_type": "code",
   "execution_count": 5,
   "metadata": {},
   "outputs": [
    {
     "data": {
      "text/plain": [
       "5"
      ]
     },
     "execution_count": 5,
     "metadata": {},
     "output_type": "execute_result"
    }
   ],
   "source": [
    "fval.size"
   ]
  },
  {
   "cell_type": "code",
   "execution_count": 6,
   "metadata": {},
   "outputs": [
    {
     "data": {
      "text/plain": [
       "array([0, 1])"
      ]
     },
     "execution_count": 6,
     "metadata": {},
     "output_type": "execute_result"
    }
   ],
   "source": [
    "fval[0:2]"
   ]
  },
  {
   "cell_type": "code",
   "execution_count": 7,
   "metadata": {},
   "outputs": [],
   "source": [
    "from math import sqrt, fabs\n",
    "import numpy as np\n",
    "\n",
    "def higham(t, L):\n",
    "    f = t\n",
    "    for k in range(1, L + 1):\n",
    "        f = sqrt(f)\n",
    "    for k in range(1, L + 1):\n",
    "        f = f**2\n",
    "    f = f**2\n",
    "    return f\n",
    "\n",
    "#\n",
    "#  Determines the noise of a function from the function values\n",
    "#\n",
    "#     [fnoise,level,inform] = ECnoise(nf,fval)\n",
    "#\n",
    "#  The user must provide the function value at nf equally-spaced points.\n",
    "#  For example, if nf = 7, the user could provide\n",
    "#\n",
    "#     f(x-3h), f(x-2h), f(x-h), f(x), f(x+h), f(x+2h), f(x+3h)\n",
    "#\n",
    "#  in the array fval. Although nf >= 4 is allowed, the use of at least\n",
    "#  nf = 7 function evaluations is recommended.\n",
    "#\n",
    "#  Noise will not be detected by this code if the function values differ\n",
    "#  in the first digit.\n",
    "#\n",
    "#  If noise is not detected, the user should increase or decrease the\n",
    "#  spacing h according to the ouput value of inform.  In most cases,\n",
    "#  the subroutine detects noise with the initial value of h.\n",
    "#\n",
    "#  On exit:\n",
    "#    fnoise is set to an estimate of the function noise;\n",
    "#       fnoise is set to zero if noise is not detected.\n",
    "#\n",
    "#    level is set to estimates for the noise. The k-th entry is an\n",
    "#      estimate from the k-th difference.\n",
    "#\n",
    "#    inform is set as follows:\n",
    "#      inform = 1  Noise has been detected.\n",
    "#      inform = 2  Noise has not been detected; h is too small.\n",
    "#                  Try 100*h for the next value of h.\n",
    "#      inform = 3  Noise has not been detected; h is too large.\n",
    "#                  Try h/100 for the next value of h.\n",
    "#\n",
    "#     Argonne National Laboratory\n",
    "#     Jorge More' and Stefan Wild. November 2009.\n",
    "\n",
    "def ECNoise(nf, fval):\n",
    "    level = np.zeros((nf-1))\n",
    "    dsgn  = np.zeros((nf-1))\n",
    "    fnoise = 0.0\n",
    "    gamma = 1.0 # = gamma(0)\n",
    "\n",
    "    # Compute the range of function values.\n",
    "    fmin = np.amin(fval)\n",
    "    fmax = np.amax(fval)\n",
    "    if (fmax-fmin)/max(fabs(fmax), fabs(fmin)) > .1:\n",
    "        inform = 3\n",
    "        return fnoise, level, inform\n",
    "\n",
    "    # Construct the difference table.\n",
    "    for j in range(nf-1):\n",
    "        for i in range(nf-(j+1)):\n",
    "            fval[i] = fval[i+1] - fval[i]\n",
    "\n",
    "        # h is too small only when half the function values are equal.\n",
    "        if (j==0 and sum([fval[k] == 0 for k in range(nf - 1)]) >= nf/2):\n",
    "            inform = 2\n",
    "            return fnoise, level, inform\n",
    "\n",
    "        gamma = 0.5*((j+1.)/(2.*(j+1.)-1.))*gamma\n",
    "\n",
    "        # Compute the estimates for the noise level.\n",
    "        level[j] = sqrt(gamma*np.mean(np.square(fval[0:nf-(j+1)])))\n",
    "\n",
    "        # Determine differences in sign.\n",
    "        emin = np.amin(fval[0:nf-(j+1)])\n",
    "        emax = np.amax(fval[0:nf-(j+1)])\n",
    "        if (emin*emax < 0.0):\n",
    "            dsgn[j] = 1\n",
    "\n",
    "    # Determine the noise level.\n",
    "    for k in range(nf-3):\n",
    "        emin = np.amin(level[k:k+3])\n",
    "        emax = np.amax(level[k:k+3])\n",
    "        if (emax<=4*emin and dsgn[k]):\n",
    "            fnoise = level[k]\n",
    "            inform = 1\n",
    "            return fnoise, level, inform\n",
    "\n",
    "    # If noise not detected then h is too large.\n",
    "    inform = 3\n",
    "    return fnoise, level, inform\n"
   ]
  },
  {
   "cell_type": "code",
   "execution_count": 8,
   "metadata": {},
   "outputs": [],
   "source": [
    "fval = np.zeros((7))\n",
    "sqrt_eps = 1.5e-8\n",
    "initial_h = 100*sqrt_eps\n",
    "\n",
    "for i,j in zip(range(-3,4), range(0,7)):\n",
    "    fval[j] = higham(2 + i*initial_h, 30)\n",
    "    \n",
    "\n",
    "fnoise, level, inform = ECNoise(7, fval)"
   ]
  },
  {
   "cell_type": "code",
   "execution_count": 9,
   "metadata": {},
   "outputs": [
    {
     "data": {
      "text/plain": [
       "1"
      ]
     },
     "execution_count": 9,
     "metadata": {},
     "output_type": "execute_result"
    }
   ],
   "source": [
    "inform"
   ]
  },
  {
   "cell_type": "code",
   "execution_count": 10,
   "metadata": {},
   "outputs": [
    {
     "data": {
      "text/plain": [
       "4.9251375751751667e-07"
      ]
     },
     "execution_count": 10,
     "metadata": {},
     "output_type": "execute_result"
    }
   ],
   "source": [
    "fnoise"
   ]
  },
  {
   "cell_type": "code",
   "execution_count": 27,
   "metadata": {},
   "outputs": [
    {
     "data": {
      "text/plain": [
       "array([  4.30033092e-06,   0.00000000e+00,   0.00000000e+00,\n",
       "         0.00000000e+00,   0.00000000e+00,   0.00000000e+00])"
      ]
     },
     "execution_count": 27,
     "metadata": {},
     "output_type": "execute_result"
    }
   ],
   "source": [
    "level"
   ]
  },
  {
   "cell_type": "code",
   "execution_count": null,
   "metadata": {},
   "outputs": [],
   "source": []
  }
 ],
 "metadata": {
  "kernelspec": {
   "display_name": "Python 2",
   "language": "python",
   "name": "python2"
  },
  "language_info": {
   "codemirror_mode": {
    "name": "ipython",
    "version": 2
   },
   "file_extension": ".py",
   "mimetype": "text/x-python",
   "name": "python",
   "nbconvert_exporter": "python",
   "pygments_lexer": "ipython2",
   "version": "2.7.13"
  }
 },
 "nbformat": 4,
 "nbformat_minor": 2
}
