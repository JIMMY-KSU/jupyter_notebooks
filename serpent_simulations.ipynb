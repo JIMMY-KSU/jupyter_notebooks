{
 "cells": [
  {
   "cell_type": "markdown",
   "metadata": {},
   "source": [
    "# 3/10/17\n",
    "\n",
    "## Trying to get a critical infinite serpent simulation, e.g. $k_{\\infty}$ = 1"
   ]
  },
  {
   "cell_type": "markdown",
   "metadata": {},
   "source": [
    "- U235 = .418%\n",
    "- U238 = .8625%\n",
    "- k = 1.07238"
   ]
  },
  {
   "cell_type": "markdown",
   "metadata": {},
   "source": [
    "# msr2g_enrU\n",
    "\n",
    "## 2/10/17\n",
    "\n",
    "Serpent run yielded k\\_eff of 1.03\n",
    "\n",
    "![msr2g_enrU](msr2g_enrU_mesh1.png)\n",
    "\n",
    "# msr2g_part_U_single_cell\n",
    "\n",
    "## 2/10/17\n",
    "\n",
    "Serpent run yielded k$_{eff}$ of 1.44\n",
    "\n",
    "![msr2g_part_U_single_cell](msr2g_part_U_single_cell_mesh1.png)"
   ]
  },
  {
   "cell_type": "markdown",
   "metadata": {},
   "source": [
    "# msr2g_part_U_full_core\n",
    "\n",
    "## 2/13/17\n",
    "\n",
    "Serpent run yielded k$_{eff}$ of .79216 with\n",
    "- D ~ 55 cm\n",
    "- H = 162.56 cm\n",
    "- vacuum BCs\n",
    "\n",
    "![msr2g_part_U_full_core](msr2g_part_U_full_core_mesh1_small_radius.png)\n",
    "\n",
    "Dimensions based on buckling size given on pg. 39, MSRE Design and Operations, part iii, nuclear analysis\n",
    "\n",
    "- k$_{eff}$ = 1.07\n",
    "- D = 74.93 cm\n",
    "- H = 198.12 cm\n",
    "- vacuum BCs\n",
    "- graphite as special moderator material\n",
    "\n",
    "![msr2g_part_U_full_core_bigger](msr2g_part_U_full_core_mesh1.png)\n",
    "\n",
    "- k$_{eff}$ = 1.0545\n",
    "- D = 74.93 cm\n",
    "- H = 198.12 cm\n",
    "- vacuum BCs\n",
    "- graphite as regular doppler broadened material\n",
    "\n",
    "![msr2g_part_U_full_core_bigger](msr2g_part_U_full_core_mesh1_doppler_graphite.png))\n",
    "\n",
    "### 1144 K fuel\n",
    "\n",
    "- k$_{eff}$ = 1.04149\n",
    "- Fuel temperature coefficient of reactivity = -3.08e-5 [$\\frac{\\delta k}{k} / ^{\\circ}F$]"
   ]
  },
  {
   "cell_type": "code",
   "execution_count": null,
   "metadata": {
    "collapsed": false
   },
   "outputs": [],
   "source": [
    "k_nom = 1.0545\n",
    "k_f_1144 = 1.04149\n",
    "\n",
    "fuel_reactivity = (k_f_1144 - k_nom) / k_nom / 400\n",
    "print(fuel_reactivity)"
   ]
  },
  {
   "cell_type": "markdown",
   "metadata": {
    "collapsed": true
   },
   "source": [
    "### 1144 K fuel and graphite\n",
    "\n",
    "- k_eff = 1.02315"
   ]
  },
  {
   "cell_type": "code",
   "execution_count": null,
   "metadata": {
    "collapsed": false
   },
   "outputs": [],
   "source": [
    "k_f_g_1144 = 1.02315\n",
    "total_reactivity = (k_f_g_1144 - k_nom) / k_nom / 400\n",
    "print(total_reactivity)\n",
    "graph_reactivity = total_reactivity - fuel_reactivity\n",
    "print(graph_reactivity)"
   ]
  },
  {
   "cell_type": "code",
   "execution_count": null,
   "metadata": {
    "collapsed": false
   },
   "outputs": [],
   "source": [
    "from numpy import abs\n",
    "print(abs(total_reactivity + 6.96e-5) / 6.96e-5 * 100)\n",
    "print(abs(fuel_reactivity + 3.28e-5) / 3.28e-5 * 100)\n",
    "print(abs(graph_reactivity + 3.68e-5) / 3.68e-5 * 100)"
   ]
  },
  {
   "cell_type": "markdown",
   "metadata": {},
   "source": [
    "# Summary\n",
    "\n",
    "## Serpent Fuel C calculation\n",
    "\n",
    "- $\\alpha_f = -3.08\\cdot 10^{-5} [\\frac{\\delta k}{k} / ^{\\circ}F]$\n",
    "- $\\alpha_g = -4.34\\cdot 10^{-5} [\\frac{\\delta k}{k} / ^{\\circ}F]$\n",
    "- $\\alpha_{tot} = -7.43\\cdot 10^{-5} [\\frac{\\delta k}{k} / ^{\\circ}F]$\n",
    "\n",
    "## MSRE report\n",
    "\n",
    "- $\\alpha_f = -3.28\\cdot 10^{-5} [\\frac{\\delta k}{k} / ^{\\circ}F]$\n",
    "- $\\alpha_g = -3.68\\cdot 10^{-5} [\\frac{\\delta k}{k} / ^{\\circ}F]$\n",
    "- $\\alpha_{tot} = -6.96\\cdot 10^{-5} [\\frac{\\delta k}{k} / ^{\\circ}F]$\n",
    "\n",
    "## % error\n",
    "- $\\alpha_f \\rightarrow 5.96%$\n",
    "- $\\alpha_g \\rightarrow 18.15%$\n",
    "- $\\alpha_{tot} \\rightarrow 6.79%$"
   ]
  },
  {
   "cell_type": "code",
   "execution_count": null,
   "metadata": {
    "collapsed": false
   },
   "outputs": [],
   "source": [
    "from numpy import exp\n",
    "\n",
    "alpha_fuel_faeh = 1.18e-4\n",
    "alpha_fuel_kel = 1.8 * alpha_fuel_faeh\n",
    "alpha_graph_faeh = 1.0e-5\n",
    "alpha_graph_kel = 1.8 * alpha_graph_faeh\n",
    "rho0_fuel = 2.146\n",
    "rho0_graph = 1.86\n",
    "T0 = 922\n",
    "rho1144_fuel = rho0_fuel * exp(-alpha_fuel_kel * (1144 - T0))\n",
    "rho1144_graph = rho0_graph * exp(-alpha_graph_kel * (1144 - T0))\n",
    "print(rho1144_fuel)\n",
    "print(rho1144_graph)"
   ]
  },
  {
   "cell_type": "markdown",
   "metadata": {},
   "source": [
    "# msre_homogeneous\n",
    "\n",
    "## 2/13/17\n",
    "\n",
    "Serpent run yielded k$_{eff}$ of 1.03\n",
    "\n",
    "![msre_homogeneous](msre_homogeneous_mesh1.png)"
   ]
  },
  {
   "cell_type": "markdown",
   "metadata": {},
   "source": [
    "# General Notes\n",
    "\n",
    "## 2/13/17\n",
    "- pg. 39, MSRE Design and Operations, part iii, nuclear analysis: For one-region model of reactivity effects of temperature, geometric buckling used was that of a cylinder, **59** in. in diameter by **78** in. high. Three conditions:\n",
    "    - salt and graphite at 1200 F\n",
    "    - salt at 1600 F, graphite at 1200 F\n",
    "    - salt and graphite at 1600 F\n",
    "- Temperature Reactivity coefficients both negative for fuel and graphite\n",
    "- Most definite reactor geometry and material descriptions: pages 18 & 19 of MSRE Design and Op., part iii\n",
    "- On those pages is a 2D R-Z 20-region model; within each region the material composition is considered to be **uniform**\n",
    "- Critical concentrations of Uranium were calculated for three different salt compositions"
   ]
  },
  {
   "cell_type": "code",
   "execution_count": 1,
   "metadata": {
    "collapsed": false
   },
   "outputs": [
    {
     "name": "stdout",
     "output_type": "stream",
     "text": [
      "0.26584307439696625\n"
     ]
    }
   ],
   "source": [
    "print(100 * .00272 / 1.02316)"
   ]
  },
  {
   "cell_type": "markdown",
   "metadata": {},
   "source": [
    "# 2/27/17\n",
    "\n",
    "My two benchmarks in trying to understand serpent buckling are `msre_homogeneous_critical_question_mark` and `msre_homog_rad_57_b1`. These should both have the exact same material definitions and reactor height and differ only in the radius of the reactor. This is in fact the case, with the former having a radius of 73.86 cm and the latter having a radius of 57.1544 cm. What did this mean for respective $k_{inf}$? Intuitively we would hope for the change to be relatively small, since $\\sigma(\\vec{r},E)$ is unchanged between the two simulations. However, we could get changes because of the change in the reactor flux. So:\n",
    "\n",
    "- `msre_homogeneous_critical_question_mark`: `abs_gc_kinf` = 1.54774\n",
    "- `msre_homog_rad_57_b1`: `abs_gc_kinf` = 1.51718\n",
    "\n",
    "I would contend that this is a small enough change to be satisfactory. Moreover, as calculated in the `sage_scratch` notebook, the critical material buckling changes by even less:\n",
    "\n",
    "- `msre_homogeneous_critical_question_mark`: 1.32e-3\n",
    "- `msre_homog_rad_57_b1`: 1.31e-3"
   ]
  },
  {
   "cell_type": "markdown",
   "metadata": {},
   "source": [
    "Below generation and fission rates taken from `msre_homogeneous_critical_question_mark_res.m`:"
   ]
  },
  {
   "cell_type": "code",
   "execution_count": 2,
   "metadata": {
    "collapsed": false
   },
   "outputs": [
    {
     "data": {
      "text/plain": [
       "2.436452380952381"
      ]
     },
     "execution_count": 2,
     "metadata": {},
     "output_type": "execute_result"
    }
   ],
   "source": [
    "tot_gen_rate = 1.02331\n",
    "tot_fiss_rate = 4.2e-1\n",
    "tot_gen_rate / tot_fiss_rate"
   ]
  },
  {
   "cell_type": "markdown",
   "metadata": {},
   "source": [
    "Above value perfectly matches one-group nubar: 2.43645. It's obvious that in Serpent, the total loss rate is normalized to one, and consequently the generation rate is exactly equal to $k_{eff}$.\n",
    "\n",
    "Relative loss mechanisms differ between the two different sizes as one would hope. Leakage more important in smaller reactor (oh really?):\n",
    "\n",
    "57 cm:\n",
    "```\n",
    "TOT_ABSRATE               (idx, [1:   2]) = [  5.40995E-01 0.00021 ];\n",
    "TOT_LEAKRATE              (idx, [1:   2]) = [  4.59005E-01 0.00025 ];\n",
    "```\n",
    "74 cm:\n",
    "```\n",
    "TOT_ABSRATE               (idx, [1:   2]) = [  6.61174E-01 0.00017 ];\n",
    "TOT_LEAKRATE              (idx, [1:   2]) = [  3.38826E-01 0.00033 ];\n",
    "```"
   ]
  },
  {
   "cell_type": "markdown",
   "metadata": {},
   "source": [
    "I don't even think that the idea of a critical buckling \"search\" makes any bloody sense. That implies to me that you are going to change the materials! To me the search should consist of setting $k_{eff}$ equal to one, and then calculating the appropriate **geometric** buckling. That's what makes sense to me. I just don't think that the buckling search works in Serpent. I decreased the geometric buckling, attempting to reach a value of 1.31e-3, starting from 3.52e-3 for the 57 cm radius reactor but didn't get there...I only got down to 1.90e-3 with the reactor radius of 74 cm. However, that was plenty far enough to go below the material buckling resulting in a super-critical reactor. That's why I don't think the buckling method in Serpent works."
   ]
  },
  {
   "cell_type": "markdown",
   "metadata": {},
   "source": [
    "Ok, we're at assembly level (or some other arbitrary level). Typically, even at assembly level we use reflective boundary conditions at first to isolate the assembly from the rest of the reactor core. Treating the current level this way yields a $k_{inf}$ of sorts and a spectrum that we can call an infinite medium spectrum because of the reflective conditions. However, we want to determine a criticality spectrum. A critical system can be realized in a few ways. One way would be to add some amount of absorber (if $k_{inf}>1$; negative absorber if the system is sub-critical). However, a more physically realistic way is to add leakage; e.g. if the reactor core is critical but one piece's $k_{inf}$ is subcritical, then there will be neat leakage into that component to balance.\n",
    "\n",
    "Two group discretization results in two eigenvalues and their associated eigenvectors (e.g. two eigenvectors total) as long as the matrix has full rank.\n",
    "\n",
    "It might be critical to understand that in general reactor theory language when someone talks about the neutron spectrum, s/he is talking about the neutron energy distribution and may very well not be referring at all to the spatial distribution of neutrons. Spectrum -> energy. And so an **infinite** spectrum may refer only to the neutron **energy distribution** produced by an infinite medium, and consequently the **critical** spectrum may only refer to the change in the neutron energy distribution from the **infinite** spectrum. E.g. we construct a relation between the leakage and infinite spectra (Stammler pg. 356):\n",
    "\n",
    "\\begin{equation}\n",
    "r_L = r_{\\infty} \\frac{1+x}{1 + xk_{\\infty}}\n",
    "\\end{equation}\n",
    "\n",
    "where $r = \\frac{\\phi_1}{\\phi_2}$, $r_{\\infty} = \\frac{\\Sigma_{12}}{\\Sigma_{a2}}$ and $x = L^2/\\tau$ where:\n",
    "\n",
    "\\begin{equation}\n",
    "L^2 = \\frac{D_2}{\\Sigma_{a2}}\\\\\n",
    "\\tau = \\frac{D_1}{\\Sigma_{12} + \\Sigma_{a1}}\n",
    "\\end{equation}"
   ]
  },
  {
   "cell_type": "markdown",
   "metadata": {},
   "source": [
    "**Note** that the above equation for $r_L$ is valid only when the overall reactor is critical and only thermal neutrons cause fission events. A more general equation for the spectrum index is:\n",
    "\n",
    "\\begin{equation}\n",
    "r_i = \\frac{r_{\\infty}}{1+L^2 B_i^2}\n",
    "\\end{equation}\n",
    "\n",
    "where i equals either 1 or 2 for the two group case and the equations for $B_1^2$ and $B_2^2$ can be found on page 355 of Stammler. Spectrum eigenvalue problem corresponds to material buckling (largest of which is $B_1^2$ and is called the fundamental or asymptotic mode; for two group problems $B_2^2$ is referred to as the transient mode; presumably for a G group problem, anything other than $B_1^2$ would be referred to as a transient mode.) Spatial eigenvalue problem corresponds to geometric buckling. Here's $B_1^2$:\n",
    "\n",
    "\\begin{equation}\n",
    "B_1^2 = \\frac{\\lambda k_{\\infty} - 1}{\\tau + \\frac{\\tau}{\\tau*}L^2}\n",
    "\\end{equation}\n",
    "\n",
    "With only thermal fission, $\\tau* = \\tau$. Note that $B_1^2$ is a function only of the material data and the multiplication factor of the reactor. In general, the corresponding Helmholtz equation for the spatial shape can be solved with appropriate boundary conditions determined by continuity of flux and current (assuming we are currently only examining one part of the reactor). However, if we require that the flux in all groups must vanish at the boundaries of a bare homogeneous system, then the Helmholtz equation for the spatial shape becomes an eigenvalue problem."
   ]
  },
  {
   "cell_type": "markdown",
   "metadata": {},
   "source": [
    "It should be noted from a math standpoint that eigenvalue/eigenfunction problems can only arise in differential equations when boundary conditions are homogeneous."
   ]
  },
  {
   "cell_type": "markdown",
   "metadata": {},
   "source": [
    "What I want to figure out tomorrow is exactly how the calculation of few group cross sections is implemented in serpent; e.g. look at the actual code calculation routines."
   ]
  },
  {
   "cell_type": "markdown",
   "metadata": {},
   "source": [
    "# 3/1/17\n",
    "\n",
    "Homogenized cross section of reaction $i$:\n",
    "\n",
    "\\begin{equation}\n",
    "i = j + 1\n",
    "\\end{equation}\n",
    "\n",
    "\\begin{equation}\n",
    "\\Sigma_{i,g} = \\frac{\\int_V \\int_{E_g}^{E_{g-1}} \\Sigma_i(\\vec{r}, E)\\ \\phi(\\vec{r},E)\\ d^3r\\ dE}{\\int_V \\int_{E_g}^{E_{g-1}} \\phi(\\vec{r},E)\\ d^3r\\ dE} \\quad eq. 17.3.1.1\n",
    "\\end{equation}\n",
    "\n",
    "Deterministic transport version:\n",
    "\n",
    "\\begin{equation}\n",
    "\\Sigma_{i,g} = \\frac{ \\sum_j \\left( V_j \\sum_h \\left( \\Sigma_{i,j,h} \\Phi_{j,h} \\right) \\right) } \n",
    "{ \\sum_j \\left( V_j \\sum_h \\Phi_{j,h} \\right) } \\quad eq. 17.3.1.2\n",
    "\\end{equation}"
   ]
  },
  {
   "cell_type": "markdown",
   "metadata": {},
   "source": [
    "In a cell with reflective boundary conditions and homogeneous material composition, the flux has **no spatial dependence** and is thus constant with respect to the spatial coordinates. However, it will not be constant with respect to a continuous energy variable. In general the determinstic transport calculation proceeds like this, similar to that outlined in Figure I.3 in Stammler (pg. 42):\n",
    "\n",
    "1. Within homogeneous material regions, micro-group cross sections are calculated via Monte Carlo methods (which use coninuous energy cross sections). **Double check that these micro-group cross sections are indeed calculated with Monte Carlo methods**. Within each homogeneous region: $\\Sigma_i(\\vec{r},E) \\rightarrow \\Sigma_i(E)$.\n",
    "2. Armed with micro-group cross sections in each region, the micro-group fluxes in a unit/pin-cell are calculated from some analytical or numerical transport method assuming reflective boundary conditions at the outer unit/pin-cell boundary (e.g. imagine the calculations perfomed in the 501 neutron project but with less approximations, e.g. we're definitely not doing diffusion). If a unit/pin-cell only has one material, then the micro-group flux solutions will display **no** spatial dependence.\n",
    "\n",
    "Or put another way:\n",
    "\n",
    "1. **This step needs to be studied more.** Monte Carlo calculation yields continuous energy neutron flux (restricted to what region?). This continuous energy flux is used to collapse continuous energy cross sections in homogeneous material regions to micro-group cross sections using continuos energy neutron flux\n",
    "2. Unit/pin-cell calculation yields micro-group neutron fluxes within the unit/pin-cell, using reflective boundary conditions to completely isolate the unit/pin-cell from the outside world. If the unit/pin-cell is heterogeneous (e.g. multiple material regions), then the micro-group fluxes will display spatial dependence. If so, then a discretized form of equation 17.3.1.1 (using only a spatial filter) can be used to convert homogeneous micro-group cross sections into cell-averaged micro-group cross sections. Similarly, spatially-varying pin-cell fluxes can be homogenized by simple cell averaging (e.g. integrate cell flux over cell volume and then divide by cell volume) to create space indepenent cell average fluxes. Micro-group cell-averaged fluxes are then used to collapse cell-averaged micro-group cross sections into few-group, assembly-averaged cross sections using equation 17.3.1.2. (May also do an intermediate calculation with B2 groups).\n",
    "\n",
    "Another very useful diagram is Stammler X.4. It's perhaps the best one I've seen"
   ]
  },
  {
   "cell_type": "markdown",
   "metadata": {},
   "source": [
    "# 3/7/17\n",
    "\n",
    "Understanding Serpent output:\n",
    "\n",
    "- DIFFAREA = RES_FG_L2\n",
    "- MAT_BUCKLING = RES_MAT_BUCKL\n",
    "- ABS_GC_KINF = RES_ABS_GC_KINF\n",
    "\n",
    "Calculation of RES_MAT_BUCKL (where is the index looping over the few groups):\n",
    "```c\n",
    "\t  if ((div = BufVal(RES_FG_L2, i)) > 0.0)\n",
    "\t    {\n",
    "\t      val = (BufVal(RES_ABS_GC_KINF, i) - 1.0)/div;\n",
    "\t      AddStat(RES_MAT_BUCKL, i, val);\n",
    "```\n",
    "\n",
    "Note that just because `BufVal` takes an index doesn't mean that the first argument is a true array, e.g. `RES_ABS_GC_KINF` only has one value (e.g. one mean and one measure of variance). \n",
    "\n",
    "Ok, here is how `RES_ABS_GC_KINF` is calculated:\n",
    "```c\n",
    "      if ((loss = abs - n2n) > 0.0)\n",
    "\t{\n",
    "\t  keff = src/loss;\n",
    "\t  AddStat(RES_ABS_GC_KINF, i, keff);\n",
    "\t}\n",
    "```\n"
   ]
  },
  {
   "cell_type": "code",
   "execution_count": 5,
   "metadata": {
    "collapsed": false
   },
   "outputs": [
    {
     "name": "stdout",
     "output_type": "stream",
     "text": [
      "0.0013116008120274206\n",
      "1.5445309768805362\n"
     ]
    }
   ],
   "source": [
    "b1_remxs = 2.37419e-3\n",
    "b1_nsf = 3.66701e-3\n",
    "b1_diff = 9.85681e-1\n",
    "b1_mat_buckl = (b1_nsf - b1_remxs) / b1_diff\n",
    "b1_k_inf = b1_nsf / b1_remxs\n",
    "print(b1_mat_buckl)\n",
    "print(b1_k_inf)"
   ]
  },
  {
   "cell_type": "markdown",
   "metadata": {},
   "source": [
    "Above matches perfectly with Serpent output `B1_BUCKLING`. So how does this compare with the original calculation where the material buckling was actually higher and yet the reactor was still sub-critical??"
   ]
  },
  {
   "cell_type": "code",
   "execution_count": 6,
   "metadata": {
    "collapsed": false
   },
   "outputs": [
    {
     "name": "stdout",
     "output_type": "stream",
     "text": [
      "0.0021511746026968465\n",
      "1.5172494900013118\n"
     ]
    }
   ],
   "source": [
    "remxs = 2.21079e-3\n",
    "nsf = 3.35432e-3\n",
    "diff = 5.31584e-1\n",
    "mat_buckl = (nsf - remxs) / diff\n",
    "k_inf = nsf / remxs\n",
    "print(mat_buckl)\n",
    "print(k_inf)"
   ]
  },
  {
   "cell_type": "markdown",
   "metadata": {},
   "source": [
    "So to move the reactor to a state of criticality (from a sub-critical state), the medium was made less absorptive, less fissile, and more diffusive. More particularly, $k_{\\infty}$ was increased and the medium was made more diffusive. Ok, that seems like it could work."
   ]
  },
  {
   "cell_type": "markdown",
   "metadata": {},
   "source": [
    "See `sage_scratch` right before the beginning of 2/24/17 notes for some notes on buckling results. I believe that the quite large discrepancy between predicted critical buckling in Serpent and the actual buckling values is entirely due to large discrepancies in diffusion coefficient values. Let's consider the results from `msre_homog_rad_57_b1_res.m`. We have:\n",
    "\n",
    "- DIFFCOEFF = 5.31584E-1\n",
    "- LEAK_DIFFCOEFF = 8.72571E-1\n",
    "- P1_DIFFCOEFF = 9.37823E-1\n",
    "- B1_DIFFCOEFF = 9.85681E-1\n",
    "\n",
    "If we create a cylindrical reactor that from diffusion theory should have a geometric buckling equal to the predicted critical buckling predicted in the 57 cm radius Serpent simulation, then we produce this set of diffusion coefficients with Serpent:\n",
    "\n",
    "- DIFFCOEFF = 6.46163E-1\n",
    "- LEAK_DIFFCOEFF = 6.04551E-1\n",
    "- P1_DIFFCOEFF = 9.30344E-1\n",
    "- B1_DIFFCOEFF = 9.85825E-1\n",
    "\n",
    "Here's also the important b1 results for the 73 cm radius (supposed to be critical but isn't) simulation:"
   ]
  },
  {
   "cell_type": "code",
   "execution_count": 8,
   "metadata": {
    "collapsed": false
   },
   "outputs": [
    {
     "name": "stdout",
     "output_type": "stream",
     "text": [
      "0.0013167752897319503\n",
      "1.5453647920815372\n"
     ]
    }
   ],
   "source": [
    "b1_73_remxs = 2.38026e-3\n",
    "b1_73_nsf = 3.67837e-3\n",
    "b1_73_diff = 9.85825e-1\n",
    "mat_buckl_73 = (b1_73_nsf - b1_73_remxs) / b1_73_diff\n",
    "k_inf_73 = b1_73_nsf / b1_73_remxs\n",
    "print(mat_buckl_73)\n",
    "print(k_inf_73)"
   ]
  },
  {
   "cell_type": "markdown",
   "metadata": {},
   "source": [
    "All the above results are very close to the b1 calculation results for the 57 cm reactor. So my question: how is the b1 diffusion coefficient calculated and how does it differ from calculation of DIFFCOEFF?"
   ]
  },
  {
   "cell_type": "markdown",
   "metadata": {},
   "source": [
    "Serpent 1 and 2 results for the same input file are pretty much identical, which I suppose should be expected. However, the Serpent 2 result file does contain a lot more information."
   ]
  },
  {
   "cell_type": "markdown",
   "metadata": {},
   "source": [
    "# 3/9/17\n",
    "\n",
    "Analog estimator: score the physical interactions (fission, capture, etc.) or event sequences that are simulated during the calculation. Analog estimates are **directly** related to the simulation process.\n",
    "\n",
    "Note: in general when the chain of equalities ends, that generally means I've reached a point where all arguments are generated via Monte Carlo analog or implicit estimates, e.g. none of the arguments are *derived* quantities, e.g. if I search in `collectresults.c`, their first hit will be on the RHS of an equality sign. \n",
    "\n",
    "Default calculation of $D$:\n",
    "\n",
    "\\begin{equation}\n",
    "D_g = \\frac{\\bar{r_g^2}}{6}\\ \\Sigma_{r,g}\n",
    "\\end{equation}\n",
    "\n",
    "where $\\bar{r_g^2}$ is the mean value of all scored square distances that neutrons have made within energy group $g$, which is an analog estimator. The starting points are the locations where neutrons have entered the group by fission or scattering from another (higher) energy group. The end points are the locations at which the neutrons are lost from the group either by absorption or scattering to another (lower) energy group.\n",
    "\n",
    "Leakage calculation of $D$:\n",
    "\n",
    "\\begin{equation}\n",
    "D_g = \\frac{leak}{B_m^2}\\\\\n",
    "B_m^2 = \\frac{k_{\\infty} - 1}{L_g^2}\\\\\n",
    "L_g^2 = \\frac{\\bar{r_g^2}}{6}\\\\\n",
    "k_{\\infty} = \\frac{src}{loss} = \\frac{\\Sigma_{g,f}\\bar{\\nu}}{\\Sigma_{g,f} + \\Sigma_{g,c} - \\Sigma_{n\\rightarrow n}}\n",
    "\\end{equation}"
   ]
  },
  {
   "cell_type": "markdown",
   "metadata": {},
   "source": [
    "where $leak$ comes directly from Monte Carlo scoring of neutrons exiting the simulation domain I believe.\n",
    "\n",
    "P1 calculation of $D$:\n",
    "\n",
    "\\begin{equation}\n",
    "D_g = \\frac{1}{3\\Sigma_{g,tr}}\\\\\n",
    "\\Sigma_{g,tr} = \\Sigma_{g,t} - \\Sigma_{g,s1}\n",
    "\\end{equation}\n",
    "\n",
    "B1 calculation of $D$ (note that this occurs in `b1solver.c` which is different from all the other calculations of $D$ that occur in `collectresults.c`; moreover the below equation comes from the Fridman and Lepannen PHYSOR paper as opposed to directly from the source code):\n",
    "\n",
    "\\begin{equation}\n",
    "D_g = \\frac{J_g}{|B|\\phi_g}\n",
    "\\end{equation}\n",
    "\n",
    "where $J_g$ is the group current and $|B|$ is the magnitude of the calculated critical buckling."
   ]
  },
  {
   "cell_type": "markdown",
   "metadata": {},
   "source": [
    "### $\\Sigma_r$\n",
    "\n",
    "![remxs](remxs.png)"
   ]
  },
  {
   "cell_type": "markdown",
   "metadata": {},
   "source": [
    "### $\\bar{\\nu}\\Sigma_f$\n",
    "\n",
    "![nsf](nsf.png)"
   ]
  },
  {
   "cell_type": "markdown",
   "metadata": {},
   "source": [
    "### $D$\n",
    "\n",
    "![diff](diff.png)"
   ]
  },
  {
   "cell_type": "markdown",
   "metadata": {},
   "source": [
    "Ok, B1 calculations just don't make sense in multiple regions in Serpent. Serpent performs criticality searches in both regions independently. So that's out!"
   ]
  },
  {
   "cell_type": "markdown",
   "metadata": {
    "collapsed": true
   },
   "source": [
    "# Scratch"
   ]
  },
  {
   "cell_type": "code",
   "execution_count": 2,
   "metadata": {
    "collapsed": false
   },
   "outputs": [
    {
     "data": {
      "text/plain": [
       "800000"
      ]
     },
     "execution_count": 2,
     "metadata": {},
     "output_type": "execute_result"
    }
   ],
   "source": [
    "40 * 20000"
   ]
  },
  {
   "cell_type": "code",
   "execution_count": 3,
   "metadata": {
    "collapsed": false
   },
   "outputs": [
    {
     "data": {
      "text/plain": [
       "135.6475"
      ]
     },
     "execution_count": 3,
     "metadata": {},
     "output_type": "execute_result"
    }
   ],
   "source": [
    "(381.99 + 160.60) / 4"
   ]
  },
  {
   "cell_type": "code",
   "execution_count": 4,
   "metadata": {
    "collapsed": false
   },
   "outputs": [
    {
     "data": {
      "text/plain": [
       "542.59"
      ]
     },
     "execution_count": 4,
     "metadata": {},
     "output_type": "execute_result"
    }
   ],
   "source": [
    "381.99 + 160.60"
   ]
  }
 ],
 "metadata": {
  "kernelspec": {
   "display_name": "Python 3",
   "language": "python",
   "name": "python3"
  },
  "language_info": {
   "codemirror_mode": {
    "name": "ipython",
    "version": 3
   },
   "file_extension": ".py",
   "mimetype": "text/x-python",
   "name": "python",
   "nbconvert_exporter": "python",
   "pygments_lexer": "ipython3",
   "version": "3.6.0"
  }
 },
 "nbformat": 4,
 "nbformat_minor": 1
}
