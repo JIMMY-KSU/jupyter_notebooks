{
 "cells": [
  {
   "cell_type": "markdown",
   "metadata": {},
   "source": [
    "# yt-dev\n",
    "\n",
    "## 2/16/17\n",
    "\n",
    "Let's take T2Sampler2D for example. It is called in `pixelization_routines.pyx` by the `pixelize_element_mesh` function. The `pixelize_element_mesh` function is called in `cartesian_coordinates.py` by the `pixelize` function of the `CartesianCoordinateHandler` class. Here is backtrace for call to `pixelize` when asking for a `SlicePlot` from an exodus data set:\n",
    "```\n",
    "slc = yt.SlicePlot(ds, 'z', ('all','group1_lin'), origin=\"native\")\n",
    "  /home/al007/yt/yt/visualization/plot_window.py(2017) SlicePlot()\n",
    "-> return AxisAlignedSlicePlot(ds, normal, fields, *args, **kwargs)\n",
    "  /home/al007/yt/yt/visualization/plot_window.py(1334) AxisAlignedSlicePlot.__init__()\n",
    "-> PWViewerMPL.__init__()\n",
    "  /home/al007/yt/yt/visualization/plot_window.py(670) PWViewerMPL.__init__()\n",
    "-> PlotWindow.__init__(self, *args, **kwargs)\n",
    "  /home/al007/yt/yt/visualization/plot_window.py(223) PlotWindow.__init__()\n",
    "-> self._setup_plots()\n",
    "  /home/al007/yt/yt/visualization/plot_window.py(758) PWViewerMPL._setup_plots()\n",
    "-> self._recreate_frb()\n",
    "  /home/al007/yt/yt/visualization/plot_window.py(282) PlotWindow._recreate_frb()\n",
    "-> self._frb._get_data_source_fields()\n",
    "  /home/al007/yt/yt/visualization/fixed_resolution.py(156) FixedResolutionBuffer._get_data_source_fields()\n",
    "-> self[f]\n",
    "  /home/al007/yt/yt/visualization/fixed_resolution.py(135) FixedResolutionBuffer.__getitem__()\n",
    "-> buff = self.ds.coordinates.pixelize(...)\n",
    "> /home/al007/yt/yt/geometry/coordinates/cartesian_coordinates.py(68) CartesianCoordinatehandler.pixelize()\n",
    "-> index = data_source.ds.index\n",
    "```"
   ]
  },
  {
   "cell_type": "markdown",
   "metadata": {},
   "source": [
    "Inheritance pattern for some of this plotting stuff:\n",
    "\n",
    "AxisAlignedSlicePlot <- PWViewerMPL <- PlotWindow <- ImagePlotContainer <- object\n",
    "\n",
    "WindowPlotMPL <- ImagePlotMPL <- PlotMPL <- object"
   ]
  },
  {
   "cell_type": "code",
   "execution_count": 8,
   "metadata": {
    "collapsed": false
   },
   "outputs": [
    {
     "name": "stdout",
     "output_type": "stream",
     "text": [
      "[[ 1.   1.   1. ]\n",
      " [ 1.1  1.2  1.3]\n",
      " [ 1.2  1.4  1.6]\n",
      " [ 1.3  1.6  1.9]\n",
      " [ 1.4  1.8  2.2]\n",
      " [ 1.5  2.   2.5]\n",
      " [ 1.6  2.2  2.8]\n",
      " [ 1.7  2.4  3.1]\n",
      " [ 1.8  2.6  3.4]\n",
      " [ 1.9  2.8  3.7]\n",
      " [ 2.   3.   4. ]]\n",
      "[ 0.          0.37416574  0.74833148  1.12249722  1.49666295  1.87082869\n",
      "  2.24499443  2.61916017  2.99332591  3.36749165  3.74165739]\n"
     ]
    }
   ],
   "source": [
    "import numpy as np\n",
    "\n",
    "start_point = np.array([1, 1, 1])\n",
    "end_point = np.array([2, 3, 4])\n",
    "resolution = 10\n",
    "lin_sample_points = np.zeros((resolution + 1, 3))\n",
    "arc_length = np.zeros(resolution + 1)\n",
    "\n",
    "lin_vec = end_point - start_point\n",
    "lin_length = np.linalg.norm(lin_vec)\n",
    "lin_inc = lin_vec / resolution\n",
    "inc_length = np.linalg.norm(lin_inc)\n",
    "lin_sample_points[0] = start_point\n",
    "arc_length[0] = 0\n",
    "for i in range(1, resolution + 1):\n",
    "    lin_sample_points[i] = lin_sample_points[i-1] + lin_inc\n",
    "    arc_length[i] = arc_length[i-1] + inc_length\n",
    "\n",
    "print(lin_sample_points)\n",
    "print(arc_length)"
   ]
  },
  {
   "cell_type": "code",
   "execution_count": 9,
   "metadata": {
    "collapsed": false
   },
   "outputs": [
    {
     "name": "stdout",
     "output_type": "stream",
     "text": [
      "3.74165738677\n"
     ]
    }
   ],
   "source": [
    "print(lin_length)"
   ]
  },
  {
   "cell_type": "code",
   "execution_count": null,
   "metadata": {
    "collapsed": true
   },
   "outputs": [],
   "source": []
  }
 ],
 "metadata": {
  "kernelspec": {
   "display_name": "Python 3",
   "language": "python",
   "name": "python3"
  },
  "language_info": {
   "codemirror_mode": {
    "name": "ipython",
    "version": 3
   },
   "file_extension": ".py",
   "mimetype": "text/x-python",
   "name": "python",
   "nbconvert_exporter": "python",
   "pygments_lexer": "ipython3",
   "version": "3.5.2"
  }
 },
 "nbformat": 4,
 "nbformat_minor": 2
}
