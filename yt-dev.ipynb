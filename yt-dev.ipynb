{
 "cells": [
  {
   "cell_type": "markdown",
   "metadata": {},
   "source": [
    "# yt-dev\n",
    "\n",
    "## 2/16/17\n",
    "\n",
    "Let's take T2Sampler2D for example. It is called in `pixelization_routines.pyx` by the `pixelize_element_mesh` function. The `pixelize_element_mesh` function is called in `cartesian_coordinates.py` by the `pixelize` function of the `CartesianCoordinateHandler` class. Here is backtrace for call to `pixelize` when asking for a `SlicePlot` from an exodus data set:\n",
    "```\n",
    "slc = yt.SlicePlot(ds, 'z', ('all','group1_lin'), origin=\"native\")\n",
    "  /home/al007/yt/yt/visualization/plot_window.py(2017) SlicePlot()\n",
    "-> return AxisAlignedSlicePlot(ds, normal, fields, *args, **kwargs)\n",
    "  /home/al007/yt/yt/visualization/plot_window.py(1334) AxisAlignedSlicePlot.__init__()\n",
    "-> PWViewerMPL.__init__()\n",
    "  /home/al007/yt/yt/visualization/plot_window.py(670) PWViewerMPL.__init__()\n",
    "-> PlotWindow.__init__(self, *args, **kwargs)\n",
    "  /home/al007/yt/yt/visualization/plot_window.py(223) PlotWindow.__init__()\n",
    "-> self._setup_plots()\n",
    "  /home/al007/yt/yt/visualization/plot_window.py(758) PWViewerMPL._setup_plots()\n",
    "-> self._recreate_frb()\n",
    "  /home/al007/yt/yt/visualization/plot_window.py(282) PlotWindow._recreate_frb()\n",
    "-> self._frb._get_data_source_fields()\n",
    "  /home/al007/yt/yt/visualization/fixed_resolution.py(156) FixedResolutionBuffer._get_data_source_fields()\n",
    "-> self[f]\n",
    "  /home/al007/yt/yt/visualization/fixed_resolution.py(135) FixedResolutionBuffer.__getitem__()\n",
    "-> buff = self.ds.coordinates.pixelize(...)\n",
    "> /home/al007/yt/yt/geometry/coordinates/cartesian_coordinates.py(68) CartesianCoordinatehandler.pixelize()\n",
    "-> index = data_source.ds.index\n",
    "```"
   ]
  },
  {
   "cell_type": "markdown",
   "metadata": {},
   "source": [
    "Inheritance pattern for some of this plotting stuff:\n",
    "\n",
    "AxisAlignedSlicePlot <- PWViewerMPL <- PlotWindow <- ImagePlotContainer <- object\n",
    "\n",
    "WindowPlotMPL <- ImagePlotMPL <- PlotMPL <- object"
   ]
  },
  {
   "cell_type": "code",
   "execution_count": null,
   "metadata": {
    "collapsed": false
   },
   "outputs": [],
   "source": [
    "import numpy as np\n",
    "\n",
    "start_point = np.array([1, 1, 1])\n",
    "end_point = np.array([2, 3, 4])\n",
    "resolution = 10\n",
    "lin_sample_points = np.zeros((resolution + 1, 3))\n",
    "arc_length = np.zeros(resolution + 1)\n",
    "\n",
    "lin_vec = end_point - start_point\n",
    "lin_length = np.linalg.norm(lin_vec)\n",
    "lin_inc = lin_vec / resolution\n",
    "inc_length = np.linalg.norm(lin_inc)\n",
    "lin_sample_points[0] = start_point\n",
    "arc_length[0] = 0\n",
    "for i in range(1, resolution + 1):\n",
    "    lin_sample_points[i] = lin_sample_points[i-1] + lin_inc\n",
    "    arc_length[i] = arc_length[i-1] + inc_length\n",
    "\n",
    "print(lin_sample_points)\n",
    "print(arc_length)"
   ]
  },
  {
   "cell_type": "code",
   "execution_count": null,
   "metadata": {
    "collapsed": false
   },
   "outputs": [],
   "source": [
    "print(lin_length)"
   ]
  },
  {
   "cell_type": "markdown",
   "metadata": {
    "collapsed": true
   },
   "source": [
    "# 2/17/17"
   ]
  },
  {
   "cell_type": "code",
   "execution_count": 2,
   "metadata": {
    "collapsed": false
   },
   "outputs": [
    {
     "name": "stderr",
     "output_type": "stream",
     "text": [
      "yt : [WARNING  ] 2017-02-17 19:49:16,061 name_glo_var not found\n",
      "yt : [WARNING  ] 2017-02-17 19:49:16,187 name_elem_var not found\n",
      "yt : [INFO     ] 2017-02-17 19:49:16,189 Loading coordinates\n",
      "yt : [INFO     ] 2017-02-17 19:49:16,192 Loading connectivity\n",
      "yt : [INFO     ] 2017-02-17 19:49:16,205 Parameters: current_time              = 10000.0\n",
      "yt : [INFO     ] 2017-02-17 19:49:16,205 Parameters: domain_dimensions         = [1 1 1]\n",
      "yt : [INFO     ] 2017-02-17 19:49:16,207 Parameters: domain_left_edge          = [ -0.573 -11.5     0.   ]\n",
      "yt : [INFO     ] 2017-02-17 19:49:16,210 Parameters: domain_right_edge         = [   6.303  126.5      1.   ]\n",
      "yt : [INFO     ] 2017-02-17 19:49:16,211 Parameters: cosmological_simulation   = 0\n",
      "yt : [INFO     ] 2017-02-17 19:49:16,213 Loading coordinates\n",
      "yt : [INFO     ] 2017-02-17 19:49:16,215 Loading connectivity\n",
      "yt : [WARNING  ] 2017-02-17 19:49:16,219 name_elem_var not found\n"
     ]
    },
    {
     "data": {
      "image/png": "[encoded data removed]",
      "text/plain": [
       "<matplotlib.figure.Figure at 0x7fe1450c49b0>"
      ]
     },
     "metadata": {},
     "output_type": "display_data"
    }
   ],
   "source": [
    "data_dir = \"/home/lindsayad/Dropbox/moltres_output/\"\n",
    "import yt\n",
    "ds = yt.load(data_dir + \"020617_mod_heat_source_one_minus_beta_fission.e\", step=-1)\n",
    "\n",
    "from yt.geometry.coordinates.cartesian_coordinates import CartesianCoordinateHandler\n",
    "\n",
    "handler = CartesianCoordinateHandler(ds)\n",
    "\n",
    "arc_length, temp_values = handler.line_plot(('all', 'temp'), np.array([1., 0., 0.]), np.array([1., 100., 0.]), 100)\n",
    "import numpy as np\n",
    "import matplotlib.pyplot as plt\n",
    "plt.plot(arc_length, temp_values)\n",
    "plt.show()"
   ]
  },
  {
   "cell_type": "code",
   "execution_count": 3,
   "metadata": {
    "collapsed": false
   },
   "outputs": [
    {
     "name": "stdout",
     "output_type": "stream",
     "text": [
      "Hey\n"
     ]
    }
   ],
   "source": [
    "if not False and True:\n",
    "    print(\"Hey\")"
   ]
  },
  {
   "cell_type": "code",
   "execution_count": 3,
   "metadata": {
    "collapsed": false
   },
   "outputs": [
    {
     "data": {
      "image/png": "[encoded data removed]",
      "text/plain": [
       "<matplotlib.figure.Figure at 0x7feb143e8080>"
      ]
     },
     "metadata": {},
     "output_type": "display_data"
    }
   ],
   "source": [
    "arc_length, temp_values = handler.line_plot([('all', 'temp')], np.array([1., 0., 0.]), np.array([1., 100., 0.]), 10000)\n",
    "plt.plot(arc_length, temp_values)\n",
    "plt.show()"
   ]
  },
  {
   "cell_type": "code",
   "execution_count": 5,
   "metadata": {
    "collapsed": false
   },
   "outputs": [
    {
     "data": {
      "image/png": "[encoded data removed]",
      "text/plain": [
       "<matplotlib.figure.Figure at 0x7feb1441e390>"
      ]
     },
     "metadata": {},
     "output_type": "display_data"
    }
   ],
   "source": [
    "arc_length, group1_values = handler.line_plot([('all', 'group1_lin')], np.array([0., 0., 0.]), np.array([0., 114., 0.]), 10000)\n",
    "arc_length, group2_values = handler.line_plot([('all', 'group2_lin')], np.array([0., 0., 0.]), np.array([0., 114., 0.]), 10000)\n",
    "plt.plot(arc_length, group1_values, arc_length, group2_values)\n",
    "plt.show()"
   ]
  },
  {
   "cell_type": "code",
   "execution_count": 6,
   "metadata": {
    "collapsed": true
   },
   "outputs": [],
   "source": [
    "r = (1, 1, 1)"
   ]
  },
  {
   "cell_type": "code",
   "execution_count": 7,
   "metadata": {
    "collapsed": true
   },
   "outputs": [],
   "source": [
    "x, y, z = r"
   ]
  },
  {
   "cell_type": "code",
   "execution_count": 8,
   "metadata": {
    "collapsed": false
   },
   "outputs": [
    {
     "name": "stdout",
     "output_type": "stream",
     "text": [
      "1 1 1\n"
     ]
    }
   ],
   "source": [
    "print(x, y, z)"
   ]
  },
  {
   "cell_type": "code",
   "execution_count": null,
   "metadata": {
    "collapsed": true
   },
   "outputs": [],
   "source": []
  }
 ],
 "metadata": {
  "kernelspec": {
   "display_name": "Python 3",
   "language": "python",
   "name": "python3"
  },
  "language_info": {
   "codemirror_mode": {
    "name": "ipython",
    "version": 3
   },
   "file_extension": ".py",
   "mimetype": "text/x-python",
   "name": "python",
   "nbconvert_exporter": "python",
   "pygments_lexer": "ipython3",
   "version": "3.5.2"
  }
 },
 "nbformat": 4,
 "nbformat_minor": 2
}
