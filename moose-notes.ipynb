{
 "cells": [
  {
   "cell_type": "code",
   "execution_count": 2,
   "metadata": {
    "collapsed": true
   },
   "outputs": [],
   "source": [
    "def gradVec2(u_vec, x, y):\n",
    "    return sp.Matrix([[diff(u_vec[0], x), diff(u_vec[1],x)], [diff(u_vec[0], y), diff(u_vec[1], y)]])\n",
    "\n",
    "def divTen2(tensor, x, y):\n",
    "    return sp.Matrix([diff(tensor[0,0], x) + diff(tensor[1,0], y), diff(tensor[0, 1], x) + diff(tensor[1,1], y)])\n",
    "\n",
    "def divVec2(u_vec, x, y):\n",
    "    return diff(u_vec[0], x) + diff(u_vec[1], y)"
   ]
  },
  {
   "cell_type": "markdown",
   "metadata": {},
   "source": [
    "# 2/1/17\n",
    "\n",
    "`FEProblemBase::reinitMaterials` only calls property computation for Material objects currently active on the given subdomain so that's good. However, it's possible that material objects \"active\" on the subdomain aren't actually being used in any computing objects like kernels, etc. So we would like to do some additional checking.\n",
    "\n",
    "Alright, let's say we're computing the residual thread. Then assuming we cannot compute properties in a material in isolation, we would like to do the next best thing: only call `computeQpProperties` for materials that have actually been asked to supply properties to kernels, dg_kernels, boundary_conditions, and interface_kernels. \n",
    "\n",
    "So what am I doing as of commit d7dbfe5? I am determining the `needed_mat_props` through `ComputeResidualThread::subdomainChanged()` -> `FEProblemBase::prepareMaterials`. In the latter method, we first ask all materials--if there are _any_ materials active on the block--to  update their material property dependencies and then we ask materials on the boundaries of the subdomain to also update their dependencies. Note that this could lead to a boundary material object getting asked to update their material property dependencies twice because we first pass to `MaterialWarehouse::updateMatPropDependenceyHelper` all material objects as long as there is any one material object active in a block sense on the subdomain, and then we pass active material boundary objects. But this overlap doesn't matter so much because our `needed_mat_props` is a set, so if we try to insert the same material properties multiple times, it will silently and correctly fail. Note,  however, that this could also pass `needed_mat_props` from material objects not on the current block, so that needs to be changed.\n",
    "\n",
    "So what happens in `MaterialWarehouse::updateMatPropDependencyHelper`? We add `mp_deps` from `MaterialPropertyInterface::getMatPropDependencies`. However, it should be noted that this is only done for  <i>material objects</i>. Is this fine? Well let's figure it out. It returns `_material_property_dependencies` which is a set added to by calling `addMatPropDependency`. Now this gets called when the object that inherits from `MaterialPropertyInterface` calls its own `getMaterialProperty` method. So I hypothesize that in my simple test, if I ask to have a material property in my kernel object with `getMaterialProperty` that will not register in any material objects list of `_material_property_dependencies` and consequently `computeQpProperties` will never get called. I will test that the next time I sit down at my comp."
   ]
  },
  {
   "cell_type": "markdown",
   "metadata": {},
   "source": [
    "# 2/2/17\n",
    "\n",
    "Three tests:\n",
    "\n",
    "- Run with _one_ material that doesn't supply any properties. Desired behavior: `computeQpProperties` does not get called. Expected to **Pass**. With devel MOOSE: expected to **Fail** (expected **change**)\n",
    "- Run _two_ materials, one that supplies properties, another that does not. Desired behavior: `computeQpProperties` does not get called for the material not supplying properties while the other one does. Expected behavior:  both materials compute methods get called. **Fail**. With devel MOOSE: expected to **Fail** (expected to **not change**)\n",
    "- Run with a kernel that uses a material property and an elemental aux variable that does not. Desired behavior: `computeQpProperties` should get called through the residual and jacobian threads but not through the aux kernel thread. Expected  to **Pass**. With devel MOOSEE: expected to **Fail** (expected **change**)\n",
    "\n",
    "Calls to computeProperties:\n",
    "\n",
    "1. ComputeResidualThread\n",
    "2. ComputeResidualThread\n",
    "0th nonlinear residual printed\n",
    "3. ComputeJacobianThread\n",
    "4. ComputeResidualThread\n",
    "0th linear residual printed\n",
    "5. ComputeResidualThread\n",
    "1st linear residual printed\n",
    "6. ComputeResidualThread\n",
    "7. ComputeResidualThread\n",
    "1st nonlinear residual printed\n",
    "8. ComputeElemAuxVarsThread -> Actually this is fine because this is the Aux Kernel that is created for outputting the material property\n",
    "\n",
    "Number of calls: 8\n",
    "1. 1-4\n",
    "2. 5-8\n",
    "...\n",
    "7. 25-28\n",
    "8. 29-32\n",
    "\n",
    "Failed tests:\n",
    "\n",
    "- random.material_serial\n",
    "- controls\\*\n",
    "\n",
    "Failed but now passing:\n",
    "\n",
    "- element\\_aux\\_boundary\n",
    "- bnd\\_material\\_test\n",
    "- elem\\_aux\\_bc\\_on\\_bound\n",
    "- output.boundary\n",
    "- multiplicity\n",
    "- material_point_source_test\n",
    "- line\\_material\\_sampler"
   ]
  },
  {
   "cell_type": "markdown",
   "metadata": {},
   "source": [
    "# 2/6/17\n",
    "\n",
    "Ok my new test is failing with threads and I don't really know why. It seems like the number of calls to computing threads should be the same...\n",
    "\n",
    "Calls to computeProperties:\n",
    "\n",
    "1. ComputeResidualThread\n",
    "2. ComputeResidualThread\n",
    "0th nonlinear residual printed\n",
    "3. ComputeJacobianThread\n",
    "4. ComputeResidualThread\n",
    "0th linear residual printed\n",
    "5. ComputResidualThread\n",
    "1st linear residual printed\n",
    "6. ComputeResidualThread\n",
    "7. ComputeResidualThread\n",
    "1st nonlinear residual printed\n",
    "8. ComputeElemAuxVarsThread\n",
    "\n",
    "Yep so thread computing pattern is the exact same. How about whether the material is the same location in memory every time?\n",
    "\n",
    "- 0x7fed90 (1, 2, 8)\n",
    "Increments:\n",
    "1-4, 5-8, 9-12 -> average of 10.5 which is what is observed in the output\n",
    "- 0x810b10 (3, 4, 5, 6, 7"
   ]
  },
  {
   "cell_type": "markdown",
   "metadata": {},
   "source": [
    "# 4/28/17\n",
    "\n",
    "Navier Stokes module development"
   ]
  },
  {
   "cell_type": "code",
   "execution_count": 2,
   "metadata": {
    "collapsed": false
   },
   "outputs": [],
   "source": [
    "import sympy as sp\n",
    "\n",
    "sxx, sxy, syx, syy, nx, ny = sp.var('sxx sxy syx syy nx ny')"
   ]
  },
  {
   "cell_type": "code",
   "execution_count": 5,
   "metadata": {
    "collapsed": false
   },
   "outputs": [],
   "source": [
    "s = sp.Matrix([[sxx, sxy],[syx, syy]])\n",
    "n = sp.Matrix([nx, ny])"
   ]
  },
  {
   "cell_type": "code",
   "execution_count": 6,
   "metadata": {
    "collapsed": false
   },
   "outputs": [
    {
     "data": {
      "text/plain": [
       "Matrix([\n",
       "[nx*sxx + ny*sxy],\n",
       "[nx*syx + ny*syy]])"
      ]
     },
     "execution_count": 6,
     "metadata": {},
     "output_type": "execute_result"
    }
   ],
   "source": [
    "s*n"
   ]
  },
  {
   "cell_type": "code",
   "execution_count": 14,
   "metadata": {
    "collapsed": false
   },
   "outputs": [],
   "source": [
    "prod = n.transpose()*s*n\n",
    "prod2 = n.transpose()*(s*n)"
   ]
  },
  {
   "cell_type": "code",
   "execution_count": 15,
   "metadata": {
    "collapsed": false
   },
   "outputs": [
    {
     "name": "stdout",
     "output_type": "stream",
     "text": [
      "Matrix([[nx*(nx*sxx + ny*syx) + ny*(nx*sxy + ny*syy)]])\n",
      "Matrix([[nx*(nx*sxx + ny*sxy) + ny*(nx*syx + ny*syy)]])\n",
      "False\n"
     ]
    }
   ],
   "source": [
    "print(prod)\n",
    "print(prod2)\n",
    "print(prod==prod2)"
   ]
  },
  {
   "cell_type": "code",
   "execution_count": 13,
   "metadata": {
    "collapsed": false
   },
   "outputs": [
    {
     "data": {
      "text/plain": [
       "(1, 1)"
      ]
     },
     "execution_count": 13,
     "metadata": {},
     "output_type": "execute_result"
    }
   ],
   "source": [
    "prod.shape"
   ]
  },
  {
   "cell_type": "code",
   "execution_count": 18,
   "metadata": {
    "collapsed": false
   },
   "outputs": [
    {
     "data": {
      "text/plain": [
       "True"
      ]
     },
     "execution_count": 18,
     "metadata": {},
     "output_type": "execute_result"
    }
   ],
   "source": [
    "sp.expand(prod) == sp.expand(prod2)"
   ]
  },
  {
   "cell_type": "code",
   "execution_count": 20,
   "metadata": {
    "collapsed": false
   },
   "outputs": [
    {
     "name": "stdout",
     "output_type": "stream",
     "text": [
      "(1, 2)\n"
     ]
    }
   ],
   "source": [
    "lhs = n.transpose()*s\n",
    "print(lhs.shape)"
   ]
  },
  {
   "cell_type": "code",
   "execution_count": 21,
   "metadata": {
    "collapsed": false
   },
   "outputs": [
    {
     "name": "stdout",
     "output_type": "stream",
     "text": [
      "(1, 2)\n"
     ]
    }
   ],
   "source": [
    "rhs = (n.transpose() * s * n) * n.transpose()\n",
    "print(rhs.shape)"
   ]
  },
  {
   "cell_type": "code",
   "execution_count": 62,
   "metadata": {
    "collapsed": false
   },
   "outputs": [
    {
     "name": "stdout",
     "output_type": "stream",
     "text": [
      "Matrix([[nx**2*(nx*sxx + ny*syx) + nx*ny*(nx*sxy + ny*syy), nx*ny*(nx*sxx + ny*syx) + ny**2*(nx*sxy + ny*syy)]])\n",
      "True\n"
     ]
    }
   ],
   "source": [
    "rhs2 = (n.transpose()*s) * (n*n.transpose())\n",
    "print(rhs2)\n",
    "rhs3 = n.transpose() * (s*n*n.transpose())\n",
    "print(sp.expand(rhs) == sp.expand(rhs2) == sp.expand(rhs3))"
   ]
  },
  {
   "cell_type": "code",
   "execution_count": 58,
   "metadata": {
    "collapsed": false
   },
   "outputs": [
    {
     "name": "stdout",
     "output_type": "stream",
     "text": [
      "Matrix([[nx**2, nx*ny], [nx*ny, ny**2]])\n"
     ]
    }
   ],
   "source": [
    "print(n*n.transpose())"
   ]
  },
  {
   "cell_type": "code",
   "execution_count": 59,
   "metadata": {
    "collapsed": false
   },
   "outputs": [
    {
     "name": "stdout",
     "output_type": "stream",
     "text": [
      "Matrix([[nx**2 + ny**2]])\n"
     ]
    }
   ],
   "source": [
    "print(n.transpose()*n)"
   ]
  },
  {
   "cell_type": "code",
   "execution_count": 48,
   "metadata": {
    "collapsed": false
   },
   "outputs": [
    {
     "name": "stdout",
     "output_type": "stream",
     "text": [
      "Matrix([[nx*sxx + ny*syx, nx*sxy + ny*syy]])\n",
      "Matrix([[nx*(nx*(nx*sxx + ny*syx) + ny*(nx*sxy + ny*syy)), ny*(nx*(nx*sxx + ny*syx) + ny*(nx*sxy + ny*syy))]])\n"
     ]
    }
   ],
   "source": [
    "print(sp.simplify(lhs))\n",
    "print(sp.simplify(rhs))"
   ]
  },
  {
   "cell_type": "code",
   "execution_count": 27,
   "metadata": {
    "collapsed": false
   },
   "outputs": [],
   "source": [
    "elml = lhs[0,0]\n",
    "elmr = rhs[0,0]"
   ]
  },
  {
   "cell_type": "code",
   "execution_count": 29,
   "metadata": {
    "collapsed": false
   },
   "outputs": [
    {
     "name": "stdout",
     "output_type": "stream",
     "text": [
      "nx*sxx + ny*syx\n",
      "nx**3*sxx + nx**2*ny*sxy + nx**2*ny*syx + nx*ny**2*syy\n"
     ]
    }
   ],
   "source": [
    "print(elml.expand())\n",
    "print(elmr.expand())"
   ]
  },
  {
   "cell_type": "code",
   "execution_count": 43,
   "metadata": {
    "collapsed": false
   },
   "outputs": [
    {
     "data": {
      "text/plain": [
       "nx**3*sxx + nx**2*ny*sxy + nx**2*ny*syx + nx*ny**2*syy"
      ]
     },
     "execution_count": 43,
     "metadata": {},
     "output_type": "execute_result"
    }
   ],
   "source": [
    "elmr.expand()"
   ]
  },
  {
   "cell_type": "code",
   "execution_count": 42,
   "metadata": {
    "collapsed": false
   },
   "outputs": [
    {
     "data": {
      "text/plain": [
       "ny**2*syy*sqrt(-ny**2 + 1) + ny*sxy*(-ny**2 + 1) + ny*syx*(-ny**2 + 1) + sxx*(-ny**2 + 1)**(3/2)"
      ]
     },
     "execution_count": 42,
     "metadata": {},
     "output_type": "execute_result"
    }
   ],
   "source": [
    "elmr.expand().subs(nx, sp.sqrt(1 - ny**2))"
   ]
  },
  {
   "cell_type": "code",
   "execution_count": 44,
   "metadata": {
    "collapsed": false
   },
   "outputs": [
    {
     "data": {
      "text/plain": [
       "ny**2*syy*sqrt(-ny**2 + 1) - ny*sxy*(ny**2 - 1) - ny*syx*(ny**2 - 1) + sxx*(-ny**2 + 1)**(3/2)"
      ]
     },
     "execution_count": 44,
     "metadata": {},
     "output_type": "execute_result"
    }
   ],
   "source": [
    "elmr.expand().subs(nx, sp.sqrt(1 - ny**2)).simplify()"
   ]
  },
  {
   "cell_type": "code",
   "execution_count": 36,
   "metadata": {
    "collapsed": true
   },
   "outputs": [
    {
     "name": "stdout",
     "output_type": "stream",
     "text": [
      "Help on method replace in module sympy.core.basic:\n",
      "\n",
      "replace(query, value, map=False, simultaneous=True, exact=False) method of sympy.core.add.Add instance\n",
      "    Replace matching subexpressions of ``self`` with ``value``.\n",
      "    \n",
      "    If ``map = True`` then also return the mapping {old: new} where ``old``\n",
      "    was a sub-expression found with query and ``new`` is the replacement\n",
      "    value for it. If the expression itself doesn't match the query, then\n",
      "    the returned value will be ``self.xreplace(map)`` otherwise it should\n",
      "    be ``self.subs(ordered(map.items()))``.\n",
      "    \n",
      "    Traverses an expression tree and performs replacement of matching\n",
      "    subexpressions from the bottom to the top of the tree. The default\n",
      "    approach is to do the replacement in a simultaneous fashion so\n",
      "    changes made are targeted only once. If this is not desired or causes\n",
      "    problems, ``simultaneous`` can be set to False. In addition, if an\n",
      "    expression containing more than one Wild symbol is being used to match\n",
      "    subexpressions and  the ``exact`` flag is True, then the match will only\n",
      "    succeed if non-zero values are received for each Wild that appears in\n",
      "    the match pattern.\n",
      "    \n",
      "    The list of possible combinations of queries and replacement values\n",
      "    is listed below:\n",
      "    \n",
      "    Examples\n",
      "    ========\n",
      "    \n",
      "    Initial setup\n",
      "    \n",
      "        >>> from sympy import log, sin, cos, tan, Wild, Mul, Add\n",
      "        >>> from sympy.abc import x, y\n",
      "        >>> f = log(sin(x)) + tan(sin(x**2))\n",
      "    \n",
      "    1.1. type -> type\n",
      "        obj.replace(type, newtype)\n",
      "    \n",
      "        When object of type ``type`` is found, replace it with the\n",
      "        result of passing its argument(s) to ``newtype``.\n",
      "    \n",
      "        >>> f.replace(sin, cos)\n",
      "        log(cos(x)) + tan(cos(x**2))\n",
      "        >>> sin(x).replace(sin, cos, map=True)\n",
      "        (cos(x), {sin(x): cos(x)})\n",
      "        >>> (x*y).replace(Mul, Add)\n",
      "        x + y\n",
      "    \n",
      "    1.2. type -> func\n",
      "        obj.replace(type, func)\n",
      "    \n",
      "        When object of type ``type`` is found, apply ``func`` to its\n",
      "        argument(s). ``func`` must be written to handle the number\n",
      "        of arguments of ``type``.\n",
      "    \n",
      "        >>> f.replace(sin, lambda arg: sin(2*arg))\n",
      "        log(sin(2*x)) + tan(sin(2*x**2))\n",
      "        >>> (x*y).replace(Mul, lambda *args: sin(2*Mul(*args)))\n",
      "        sin(2*x*y)\n",
      "    \n",
      "    2.1. pattern -> expr\n",
      "        obj.replace(pattern(wild), expr(wild))\n",
      "    \n",
      "        Replace subexpressions matching ``pattern`` with the expression\n",
      "        written in terms of the Wild symbols in ``pattern``.\n",
      "    \n",
      "        >>> a = Wild('a')\n",
      "        >>> f.replace(sin(a), tan(a))\n",
      "        log(tan(x)) + tan(tan(x**2))\n",
      "        >>> f.replace(sin(a), tan(a/2))\n",
      "        log(tan(x/2)) + tan(tan(x**2/2))\n",
      "        >>> f.replace(sin(a), a)\n",
      "        log(x) + tan(x**2)\n",
      "        >>> (x*y).replace(a*x, a)\n",
      "        y\n",
      "    \n",
      "        When the default value of False is used with patterns that have\n",
      "        more than one Wild symbol, non-intuitive results may be obtained:\n",
      "    \n",
      "        >>> b = Wild('b')\n",
      "        >>> (2*x).replace(a*x + b, b - a)\n",
      "        2/x\n",
      "    \n",
      "        For this reason, the ``exact`` option can be used to make the\n",
      "        replacement only when the match gives non-zero values for all\n",
      "        Wild symbols:\n",
      "    \n",
      "        >>> (2*x + y).replace(a*x + b, b - a, exact=True)\n",
      "        y - 2\n",
      "        >>> (2*x).replace(a*x + b, b - a, exact=True)\n",
      "        2*x\n",
      "    \n",
      "    2.2. pattern -> func\n",
      "        obj.replace(pattern(wild), lambda wild: expr(wild))\n",
      "    \n",
      "        All behavior is the same as in 2.1 but now a function in terms of\n",
      "        pattern variables is used rather than an expression:\n",
      "    \n",
      "        >>> f.replace(sin(a), lambda a: sin(2*a))\n",
      "        log(sin(2*x)) + tan(sin(2*x**2))\n",
      "    \n",
      "    3.1. func -> func\n",
      "        obj.replace(filter, func)\n",
      "    \n",
      "        Replace subexpression ``e`` with ``func(e)`` if ``filter(e)``\n",
      "        is True.\n",
      "    \n",
      "        >>> g = 2*sin(x**3)\n",
      "        >>> g.replace(lambda expr: expr.is_Number, lambda expr: expr**2)\n",
      "        4*sin(x**9)\n",
      "    \n",
      "    The expression itself is also targeted by the query but is done in\n",
      "    such a fashion that changes are not made twice.\n",
      "    \n",
      "        >>> e = x*(x*y + 1)\n",
      "        >>> e.replace(lambda x: x.is_Mul, lambda x: 2*x)\n",
      "        2*x*(2*x*y + 1)\n",
      "    \n",
      "    See Also\n",
      "    ========\n",
      "    subs: substitution of subexpressions as defined by the objects\n",
      "          themselves.\n",
      "    xreplace: exact node replacement in expr tree; also capable of\n",
      "              using matching rules\n",
      "\n"
     ]
    }
   ],
   "source": [
    "help(expr.replace)"
   ]
  },
  {
   "cell_type": "code",
   "execution_count": 49,
   "metadata": {
    "collapsed": false
   },
   "outputs": [
    {
     "name": "stdout",
     "output_type": "stream",
     "text": [
      "Matrix([[nx*sxx - nx*(nx*(nx*sxx + ny*syx) + ny*(nx*sxy + ny*syy)) + ny*syx, nx*sxy + ny*syy - ny*(nx*(nx*sxx + ny*syx) + ny*(nx*sxy + ny*syy))]])\n"
     ]
    }
   ],
   "source": [
    "t = lhs - rhs\n",
    "print(t)"
   ]
  },
  {
   "cell_type": "code",
   "execution_count": 51,
   "metadata": {
    "collapsed": false
   },
   "outputs": [],
   "source": [
    "t1 = t[0,0]\n",
    "t2 = t[0,1]"
   ]
  },
  {
   "cell_type": "code",
   "execution_count": 52,
   "metadata": {
    "collapsed": false
   },
   "outputs": [
    {
     "name": "stdout",
     "output_type": "stream",
     "text": [
      "nx*sxx - nx*(nx*(nx*sxx + ny*syx) + ny*(nx*sxy + ny*syy)) + ny*syx\n",
      "nx*sxy + ny*syy - ny*(nx*(nx*sxx + ny*syx) + ny*(nx*sxy + ny*syy))\n"
     ]
    }
   ],
   "source": [
    "print(t1)\n",
    "print(t2)"
   ]
  },
  {
   "cell_type": "code",
   "execution_count": 53,
   "metadata": {
    "collapsed": false
   },
   "outputs": [
    {
     "data": {
      "text/plain": [
       "nx*sxx - nx*(nx*(nx*sxx + ny*syx) + ny*(nx*sxy + ny*syy)) + ny*syx"
      ]
     },
     "execution_count": 53,
     "metadata": {},
     "output_type": "execute_result"
    }
   ],
   "source": [
    "t1.simplify()"
   ]
  },
  {
   "cell_type": "code",
   "execution_count": 63,
   "metadata": {
    "collapsed": true
   },
   "outputs": [],
   "source": [
    "ddx, ddy, ux, uy = sp.var('ddx ddy ux uy')\n",
    "\n",
    "grad = sp.Matrix([ddx,ddy])\n",
    "u = sp.Matrix([ux,uy])\n",
    "print(grad.shape)\n",
    "\n",
    "phij,mu = sp.var('phij mu')\n",
    "uDuxj = sp.Matrix([phij,0])\n",
    "\n",
    "uDuyj = sp.Matrix([0,phij])"
   ]
  },
  {
   "cell_type": "code",
   "execution_count": 65,
   "metadata": {
    "collapsed": false
   },
   "outputs": [
    {
     "data": {
      "text/plain": [
       "Matrix([\n",
       "[ddx*ux, ddx*uy],\n",
       "[ddy*ux, ddy*uy]])"
      ]
     },
     "execution_count": 65,
     "metadata": {},
     "output_type": "execute_result"
    }
   ],
   "source": [
    "grad*u.transpose()"
   ]
  },
  {
   "cell_type": "code",
   "execution_count": 78,
   "metadata": {
    "collapsed": false
   },
   "outputs": [
    {
     "name": "stdout",
     "output_type": "stream",
     "text": [
      "Matrix([[ddy*mu*nx*ny*phij + nx*(2*ddx*mu*nx*phij + ddy*mu*ny*phij)]])\n"
     ]
    }
   ],
   "source": [
    "jacx = n.transpose() * (mu * (grad*uDuxj.transpose() + (grad*uDuxj.transpose()).transpose())) * n\n",
    "print(jacx)"
   ]
  },
  {
   "cell_type": "code",
   "execution_count": 79,
   "metadata": {
    "collapsed": false
   },
   "outputs": [
    {
     "data": {
      "text/plain": [
       "nx*(2*ddx*mu*nx**2*phij + 2*ddy*mu*nx*ny*phij)"
      ]
     },
     "execution_count": 79,
     "metadata": {},
     "output_type": "execute_result"
    }
   ],
   "source": [
    "sp.expand(jacx[0,0])*nx"
   ]
  },
  {
   "cell_type": "code",
   "execution_count": 81,
   "metadata": {
    "collapsed": false
   },
   "outputs": [
    {
     "name": "stdout",
     "output_type": "stream",
     "text": [
      "Matrix([[ddx*mu*nx*ny*phij + ny*(ddx*mu*nx*phij + 2*ddy*mu*ny*phij)]])\n"
     ]
    }
   ],
   "source": [
    "jacy = n.transpose() * (mu * (grad*uDuyj.transpose() + (grad*uDuyj.transpose()).transpose())) * n\n",
    "print(jacy)"
   ]
  },
  {
   "cell_type": "code",
   "execution_count": 82,
   "metadata": {
    "collapsed": false
   },
   "outputs": [
    {
     "data": {
      "text/plain": [
       "ny*(2*ddx*mu*nx*ny*phij + 2*ddy*mu*ny**2*phij)"
      ]
     },
     "execution_count": 82,
     "metadata": {},
     "output_type": "execute_result"
    }
   ],
   "source": [
    "sp.expand(jacy[0,0])*ny"
   ]
  },
  {
   "cell_type": "code",
   "execution_count": 83,
   "metadata": {
    "collapsed": false
   },
   "outputs": [
    {
     "data": {
      "text/plain": [
       "2*mu*ny*phij*(ddx*nx + ddy*ny)"
      ]
     },
     "execution_count": 83,
     "metadata": {},
     "output_type": "execute_result"
    }
   ],
   "source": [
    "sp.factor(jacy[0,0])"
   ]
  },
  {
   "cell_type": "code",
   "execution_count": 87,
   "metadata": {
    "collapsed": false
   },
   "outputs": [
    {
     "name": "stdout",
     "output_type": "stream",
     "text": [
      "2*mu*nx**2*phij*(ddx*nx + ddy*ny)\n",
      "2*mu*ny**2*phij*(ddx*nx + ddy*ny)\n"
     ]
    }
   ],
   "source": [
    "print(sp.factor((jacx[0,0]*n.transpose())[0,0]))\n",
    "print(sp.factor((jacy[0,0]*n.transpose())[0,1]))"
   ]
  },
  {
   "cell_type": "code",
   "execution_count": 88,
   "metadata": {
    "collapsed": false
   },
   "outputs": [
    {
     "name": "stdout",
     "output_type": "stream",
     "text": [
      "Matrix([[2*ddx*mu*phij, ddy*mu*phij], [ddy*mu*phij, 0]])\n",
      "Matrix([[0, ddx*mu*phij], [ddx*mu*phij, 2*ddy*mu*phij]])\n"
     ]
    }
   ],
   "source": [
    "sJacX = mu * (grad*uDuxj.transpose() + (grad*uDuxj.transpose()).transpose())\n",
    "sJacY = mu * (grad*uDuyj.transpose() + (grad*uDuyj.transpose()).transpose())\n",
    "print(sJacX)\n",
    "print(sJacY)"
   ]
  },
  {
   "cell_type": "code",
   "execution_count": 90,
   "metadata": {
    "collapsed": false
   },
   "outputs": [
    {
     "name": "stdout",
     "output_type": "stream",
     "text": [
      "mu*phij*(2*ddx*nx + ddy*ny)\n",
      "mu*phij*(ddx*nx + 2*ddy*ny)\n"
     ]
    }
   ],
   "source": [
    "print(sp.factor((n.transpose()*sJacX)[0,0]))\n",
    "print(sp.factor((n.transpose()*sJacY)[0,1]))"
   ]
  },
  {
   "cell_type": "code",
   "execution_count": 85,
   "metadata": {
    "collapsed": false
   },
   "outputs": [
    {
     "data": {
      "text/plain": [
       "(1, 1)"
      ]
     },
     "execution_count": 85,
     "metadata": {},
     "output_type": "execute_result"
    }
   ],
   "source": [
    "jacx.shape"
   ]
  },
  {
   "cell_type": "markdown",
   "metadata": {},
   "source": [
    "# Jacobian calculations related to deviatoric stress tensor ($\\hat{\\tau}$) and rate of strain tensor ($\\hat{\\epsilon}$)\n",
    "\n",
    "**Note that the total stress tensor ($\\hat{\\sigma}$) is equal to the sum of the deviatoric stress tensor ($\\hat{\\tau}$) and the stress induced by pressure ($-p\\hat{I}$), e.g.**\n",
    "\n",
    "\\begin{equation}\n",
    "\\hat{\\sigma} = \\hat{\\tau} - p\\hat{I}\n",
    "\\end{equation}"
   ]
  },
  {
   "cell_type": "code",
   "execution_count": 5,
   "metadata": {
    "collapsed": false
   },
   "outputs": [
    {
     "name": "stdout",
     "output_type": "stream",
     "text": [
      "Matrix([[ddx*ux, ddx*uy/2 + ddy*ux/2], [ddx*uy/2 + ddy*ux/2, ddy*uy]])\n",
      "Matrix([[ddx*phij, ddy*phij/2], [ddy*phij/2, 0]])\n",
      "Matrix([[0, ddx*phij/2], [ddx*phij/2, ddy*phij]])\n"
     ]
    }
   ],
   "source": [
    "import sympy as sp\n",
    "\n",
    "sxx, sxy, syx, syy, nx, ny, mu = sp.var('sxx sxy syx syy nx ny mu')\n",
    "ddx, ddy, ux, uy = sp.var('ddx ddy ux uy')\n",
    "\n",
    "grad = sp.Matrix([ddx,ddy])\n",
    "u = sp.Matrix([ux,uy])\n",
    "\n",
    "phij,mu = sp.var('phij mu')\n",
    "uDuxj = sp.Matrix([phij,0])\n",
    "uDuyj = sp.Matrix([0,phij])\n",
    "\n",
    "rateOfStrain = (grad*u.transpose() + (grad*u.transpose()).transpose()) * 1 / 2\n",
    "d_rateOfStrain_d_uxj = (grad*uDuxj.transpose() + (grad*uDuxj.transpose()).transpose()) * 1 / 2\n",
    "d_rateOfStrain_d_uyj = (grad*uDuyj.transpose() + (grad*uDuyj.transpose()).transpose()) * 1 / 2\n",
    "print(rateOfStrain)\n",
    "print(d_rateOfStrain_d_uxj)\n",
    "print(d_rateOfStrain_d_uyj)"
   ]
  },
  {
   "cell_type": "code",
   "execution_count": 7,
   "metadata": {
    "collapsed": false
   },
   "outputs": [
    {
     "name": "stdout",
     "output_type": "stream",
     "text": [
      "Matrix([[2*ddx*mu*ux, mu*(ddx*uy + ddy*ux)], [mu*(ddx*uy + ddy*ux), 2*ddy*mu*uy]])\n",
      "Matrix([[2*ddx*mu*phij, ddy*mu*phij], [ddy*mu*phij, 0]])\n",
      "Matrix([[0, ddx*mu*phij], [ddx*mu*phij, 2*ddy*mu*phij]])\n"
     ]
    }
   ],
   "source": [
    "tau = rateOfStrain * 2 * mu\n",
    "d_tau_d_uxj = d_rateOfStrain_d_uxj * 2 * mu\n",
    "d_tau_d_uyj = d_rateOfStrain_d_uyj * 2 * mu\n",
    "print(tau)\n",
    "print(d_tau_d_uxj)\n",
    "print(d_tau_d_uyj)"
   ]
  },
  {
   "cell_type": "code",
   "execution_count": 10,
   "metadata": {
    "collapsed": true
   },
   "outputs": [],
   "source": [
    "normals = sp.Matrix([nx,ny])\n",
    "y_component_normal = sp.Matrix([0,ny])\n",
    "x_component_normal = sp.Matrix([nx,0])\n",
    "test = sp.var('test')\n",
    "test_x = sp.Matrix([test,0])\n",
    "test_y = sp.Matrix([0,test])"
   ]
  },
  {
   "cell_type": "markdown",
   "metadata": {},
   "source": [
    "## This is an example of an **off-diagonal** jacobian computation: derivative with respect to $x$ while test function corresponds to $y$\n",
    "\n",
    "### Specifically this corresponds to an off-diagonal contribution corresponding to the residual term:\n",
    "\n",
    "\\begin{equation}\n",
    "\\vec{n}^T \\cdot \\hat{\\tau} \\cdot \\vec{v}_y\n",
    "\\end{equation}"
   ]
  },
  {
   "cell_type": "code",
   "execution_count": 12,
   "metadata": {
    "collapsed": false
   },
   "outputs": [
    {
     "data": {
      "text/plain": [
       "Matrix([[ddy*mu*nx*phij*test]])"
      ]
     },
     "execution_count": 12,
     "metadata": {},
     "output_type": "execute_result"
    }
   ],
   "source": [
    "normals.transpose() * d_tau_d_uxj * test_y"
   ]
  },
  {
   "cell_type": "markdown",
   "metadata": {},
   "source": [
    "### Now let's look at an off diagonal-term for:\n",
    "\n",
    "\\begin{equation}\n",
    "\\left(\\vec{n}^T \\cdot \\hat{\\tau} \\cdot \\vec{n} \\right) \\vec{n}^T \\cdot \\vec{v}_y\n",
    "\\end{equation}"
   ]
  },
  {
   "cell_type": "code",
   "execution_count": 14,
   "metadata": {
    "collapsed": false
   },
   "outputs": [
    {
     "data": {
      "text/plain": [
       "Matrix([[2*mu*nx*ny*phij*test*(ddx*nx + ddy*ny)]])"
      ]
     },
     "execution_count": 14,
     "metadata": {},
     "output_type": "execute_result"
    }
   ],
   "source": [
    "sp.factor(normals.transpose() * d_tau_d_uxj * normals * normals.transpose() * test_y)"
   ]
  },
  {
   "cell_type": "markdown",
   "metadata": {},
   "source": [
    "## Hmm...that's not very revealing...this result is completely symmetric...it doesn't tell me what the code implementation should be. Let's try 3D in order to elucidate"
   ]
  },
  {
   "cell_type": "code",
   "execution_count": 3,
   "metadata": {
    "collapsed": false
   },
   "outputs": [
    {
     "name": "stdout",
     "output_type": "stream",
     "text": [
      "Matrix([[ddx*ux, ddx*uy/2 + ddy*ux/2, ddx*uz/2 + ddz*ux/2], [ddx*uy/2 + ddy*ux/2, ddy*uy, ddy*uz/2 + ddz*uy/2], [ddx*uz/2 + ddz*ux/2, ddy*uz/2 + ddz*uy/2, ddz*uz]])\n",
      "Matrix([[ddx*phij, ddy*phij/2, ddz*phij/2], [ddy*phij/2, 0, 0], [ddz*phij/2, 0, 0]])\n",
      "Matrix([[0, ddx*phij/2, 0], [ddx*phij/2, ddy*phij, ddz*phij/2], [0, ddz*phij/2, 0]])\n",
      "Matrix([[0, 0, ddx*phij/2], [0, 0, ddy*phij/2], [ddx*phij/2, ddy*phij/2, ddz*phij]])\n"
     ]
    }
   ],
   "source": [
    "import sympy as sp\n",
    "\n",
    "nx, ny, nz, mu, phij, ddx, ddy, ddz, ux, uy, uz = sp.var('nx ny nz mu phij ddx ddy ddz ux uy uz')\n",
    "grad = sp.Matrix([ddx,ddy,ddz])\n",
    "u = sp.Matrix([ux, uy, uz])\n",
    "uDuxj = sp.Matrix([phij,0,0])\n",
    "uDuyj = sp.Matrix([0,phij,0])\n",
    "uDuzj = sp.Matrix([0,0,phij])\n",
    "\n",
    "rateOfStrain = (grad*u.transpose() + (grad*u.transpose()).transpose()) * 1 / 2\n",
    "d_rateOfStrain_d_uxj = (grad*uDuxj.transpose() + (grad*uDuxj.transpose()).transpose()) * 1 / 2\n",
    "d_rateOfStrain_d_uyj = (grad*uDuyj.transpose() + (grad*uDuyj.transpose()).transpose()) * 1 / 2\n",
    "d_rateOfStrain_d_uzj = (grad*uDuzj.transpose() + (grad*uDuzj.transpose()).transpose()) * 1 / 2\n",
    "print(rateOfStrain)\n",
    "print(d_rateOfStrain_d_uxj)\n",
    "print(d_rateOfStrain_d_uyj)\n",
    "print(d_rateOfStrain_d_uzj)"
   ]
  },
  {
   "cell_type": "code",
   "execution_count": 4,
   "metadata": {
    "collapsed": false
   },
   "outputs": [
    {
     "name": "stdout",
     "output_type": "stream",
     "text": [
      "Matrix([[2*ddx*mu*ux, mu*(ddx*uy + ddy*ux), mu*(ddx*uz + ddz*ux)], [mu*(ddx*uy + ddy*ux), 2*ddy*mu*uy, mu*(ddy*uz + ddz*uy)], [mu*(ddx*uz + ddz*ux), mu*(ddy*uz + ddz*uy), 2*ddz*mu*uz]])\n",
      "Matrix([[2*ddx*mu*phij, ddy*mu*phij, ddz*mu*phij], [ddy*mu*phij, 0, 0], [ddz*mu*phij, 0, 0]])\n",
      "Matrix([[0, ddx*mu*phij, 0], [ddx*mu*phij, 2*ddy*mu*phij, ddz*mu*phij], [0, ddz*mu*phij, 0]])\n",
      "Matrix([[0, 0, ddx*mu*phij], [0, 0, ddy*mu*phij], [ddx*mu*phij, ddy*mu*phij, 2*ddz*mu*phij]])\n"
     ]
    }
   ],
   "source": [
    "tau = rateOfStrain * 2 * mu\n",
    "d_tau_d_uxj = d_rateOfStrain_d_uxj * 2 * mu\n",
    "d_tau_d_uyj = d_rateOfStrain_d_uyj * 2 * mu\n",
    "d_tau_d_uzj = d_rateOfStrain_d_uzj * 2 * mu\n",
    "print(tau)\n",
    "print(d_tau_d_uxj)\n",
    "print(d_tau_d_uyj)\n",
    "print(d_tau_d_uzj)"
   ]
  },
  {
   "cell_type": "code",
   "execution_count": 5,
   "metadata": {
    "collapsed": true
   },
   "outputs": [],
   "source": [
    "normals = sp.Matrix([nx,ny,nz])\n",
    "test = sp.var('test')\n",
    "test_x = sp.Matrix([test,0,0])\n",
    "test_y = sp.Matrix([0,test,0])\n",
    "test_z = sp.Matrix([0,0,test])"
   ]
  },
  {
   "cell_type": "code",
   "execution_count": 21,
   "metadata": {
    "collapsed": false
   },
   "outputs": [
    {
     "data": {
      "text/plain": [
       "Matrix([[2*mu*nx*ny*phij*test*(ddx*nx + ddy*ny + ddz*nz)]])"
      ]
     },
     "execution_count": 21,
     "metadata": {},
     "output_type": "execute_result"
    }
   ],
   "source": [
    "sp.factor(normals.transpose() * d_tau_d_uxj * normals * normals.transpose() * test_y)"
   ]
  },
  {
   "cell_type": "code",
   "execution_count": 22,
   "metadata": {
    "collapsed": false
   },
   "outputs": [
    {
     "data": {
      "text/plain": [
       "Matrix([[2*mu*nx*nz*phij*test*(ddx*nx + ddy*ny + ddz*nz)]])"
      ]
     },
     "execution_count": 22,
     "metadata": {},
     "output_type": "execute_result"
    }
   ],
   "source": [
    "sp.factor(normals.transpose() * d_tau_d_uxj * normals * normals.transpose() * test_z)"
   ]
  },
  {
   "cell_type": "code",
   "execution_count": 23,
   "metadata": {
    "collapsed": false
   },
   "outputs": [
    {
     "data": {
      "text/plain": [
       "Matrix([[2*mu*nx*ny*phij*test*(ddx*nx + ddy*ny + ddz*nz)]])"
      ]
     },
     "execution_count": 23,
     "metadata": {},
     "output_type": "execute_result"
    }
   ],
   "source": [
    "sp.factor(normals.transpose() * d_tau_d_uyj * normals * normals.transpose() * test_x)"
   ]
  },
  {
   "cell_type": "markdown",
   "metadata": {},
   "source": [
    "## Alright, it looks like we get the normal components corresponding to residual $i$ and derivative variable $j$!!! Boom!"
   ]
  },
  {
   "cell_type": "code",
   "execution_count": 7,
   "metadata": {
    "collapsed": false
   },
   "outputs": [
    {
     "data": {
      "text/plain": [
       "2*ddx*mu*nx*ux + mu*ny*(ddx*uy + ddy*ux) + mu*nz*(ddx*uz + ddz*ux)"
      ]
     },
     "execution_count": 7,
     "metadata": {},
     "output_type": "execute_result"
    }
   ],
   "source": [
    "(normals.transpose() * tau)[0]"
   ]
  },
  {
   "cell_type": "code",
   "execution_count": 9,
   "metadata": {
    "collapsed": false
   },
   "outputs": [
    {
     "data": {
      "text/plain": [
       "mu*(2*ddx*nx*ux + ddx*ny*uy + ddx*nz*uz + ddy*ny*ux + ddz*nz*ux)"
      ]
     },
     "execution_count": 9,
     "metadata": {},
     "output_type": "execute_result"
    }
   ],
   "source": [
    "sp.factor(_)"
   ]
  },
  {
   "cell_type": "markdown",
   "metadata": {},
   "source": [
    "# 5/3/17"
   ]
  },
  {
   "cell_type": "code",
   "execution_count": 30,
   "metadata": {
    "collapsed": false
   },
   "outputs": [],
   "source": [
    "from scipy.special import erf\n",
    "from numpy import exp, sqrt, pi\n",
    "import numpy as np\n",
    "\n",
    "def u(x, y, u1, u2, sigma):\n",
    "    return (u1 + u2) / 2. - (u1 - u2) / 2. * erf(sigma * y / x)\n",
    "\n",
    "def v(x, y, u1, u2, sigma):\n",
    "    return (u1 - u2) / (2. * sigma * sqrt(pi)) * exp(-(sigma * y / x)**2)\n",
    "\n",
    "def p():\n",
    "    return 0\n",
    "\n",
    "def k(x, y, k0, sigma):\n",
    "    return k0 * exp(-(sigma * y / x)**2)\n",
    "\n",
    "def epsilon(x, y, epsilon0, sigma):\n",
    "    return epsilon0 / x * exp(-(sigma * y / x)**2)\n",
    "\n",
    "def muT(x, y, muT0, sigma):\n",
    "    return muT0 * x * exp(-(sigma * y / x)**2)\n",
    "\n",
    "def k0(u1, u2, sigma):\n",
    "    return 343. / 75000. * u1 * (u1 - u2) * sigma / sqrt(pi)\n",
    "\n",
    "def epsilon0(u1, u2, sigma, Cmu):\n",
    "    return 343. / 22500. * Cmu * u1 * (u1 - u2)**2 * sigma**2 / pi\n",
    "\n",
    "def muT0(u1, rho):\n",
    "    return 343. / 250000. * rho * u1\n",
    "\n",
    "def Re(rho, u1, L, mu):\n",
    "    return rho * u1 * L / mu\n",
    "\n",
    "u1 = 1\n",
    "u2 = 0\n",
    "sigma = 13.5\n",
    "Cmu = 0.9\n",
    "x = np.arange(10, 100.5, .5)\n",
    "y = np.arange(-30, 30.5, .5)\n",
    "x,y = np.meshgrid(x, y)\n",
    "uplot = u(x, y, u1, u2, sigma)\n",
    "vplot = v(x, y, u1, u2, sigma)\n",
    "kplot = k(x, y, k0(u1, u2, sigma), sigma)\n",
    "epsPlot = epsilon(x, y, epsilon0(u1, u2, sigma, Cmu), sigma)\n",
    "muTplot = muT(x, y, muT0(u1, 1), sigma)"
   ]
  },
  {
   "cell_type": "code",
   "execution_count": 25,
   "metadata": {
    "collapsed": false
   },
   "outputs": [
    {
     "data": {
      "image/png": "[encoded data removed]",
      "text/plain": [
       "<matplotlib.figure.Figure at 0x7f0cba7d07f0>"
      ]
     },
     "metadata": {},
     "output_type": "display_data"
    }
   ],
   "source": [
    "import matplotlib.pyplot as plt\n",
    "\n",
    "plt.pcolor(x, y, uplot)\n",
    "plt.colorbar()\n",
    "plt.show()"
   ]
  },
  {
   "cell_type": "code",
   "execution_count": 27,
   "metadata": {
    "collapsed": false
   },
   "outputs": [
    {
     "data": {
      "image/png": "[encoded data removed]",
      "text/plain": [
       "<matplotlib.figure.Figure at 0x7f0cbb1948d0>"
      ]
     },
     "metadata": {},
     "output_type": "display_data"
    }
   ],
   "source": [
    "plt.pcolor(x, y, vplot)\n",
    "plt.colorbar()\n",
    "plt.show()"
   ]
  },
  {
   "cell_type": "code",
   "execution_count": 28,
   "metadata": {
    "collapsed": false
   },
   "outputs": [
    {
     "data": {
      "image/png": "[encoded data removed]",
      "text/plain": [
       "<matplotlib.figure.Figure at 0x7f0cba4db550>"
      ]
     },
     "metadata": {},
     "output_type": "display_data"
    }
   ],
   "source": [
    "plt.pcolor(x, y, kplot)\n",
    "plt.colorbar()\n",
    "plt.show()"
   ]
  },
  {
   "cell_type": "code",
   "execution_count": 29,
   "metadata": {
    "collapsed": false
   },
   "outputs": [
    {
     "data": {
      "image/png": "[encoded data removed]",
      "text/plain": [
       "<matplotlib.figure.Figure at 0x7f0cbb05bd30>"
      ]
     },
     "metadata": {},
     "output_type": "display_data"
    }
   ],
   "source": [
    "plt.pcolor(x, y, epsPlot)\n",
    "plt.colorbar()\n",
    "plt.show()"
   ]
  },
  {
   "cell_type": "code",
   "execution_count": 31,
   "metadata": {
    "collapsed": false
   },
   "outputs": [
    {
     "data": {
      "image/png": "[encoded data removed]",
      "text/plain": [
       "<matplotlib.figure.Figure at 0x7f0cb94c57f0>"
      ]
     },
     "metadata": {},
     "output_type": "display_data"
    }
   ],
   "source": [
    "plt.pcolor(x, y, muTplot)\n",
    "plt.colorbar()\n",
    "plt.show()"
   ]
  },
  {
   "cell_type": "code",
   "execution_count": 1,
   "metadata": {
    "collapsed": true
   },
   "outputs": [],
   "source": [
    "import sympy as sp\n",
    "from sympy import diff\n",
    "\n",
    "x, y, sigma, Cmu, rho, mu, k0, eps0 = sp.var('x y sigma Cmu rho mu k0 eps0')"
   ]
  },
  {
   "cell_type": "code",
   "execution_count": 2,
   "metadata": {
    "collapsed": true
   },
   "outputs": [],
   "source": [
    "def gradVec2(u_vec, x, y):\n",
    "    return sp.Matrix([[diff(u_vec[0], x), diff(u_vec[1],x)], [diff(u_vec[0], y), diff(u_vec[1], y)]])\n",
    "\n",
    "def divTen2(tensor, x, y):\n",
    "    return sp.Matrix([diff(tensor[0,0], x) + diff(tensor[1,0], y), diff(tensor[0, 1], x) + diff(tensor[1,1], y)])\n",
    "\n",
    "def divVec2(u_vec, x, y):\n",
    "    return diff(u_vec[0], x) + diff(u_vec[1], y)"
   ]
  },
  {
   "cell_type": "code",
   "execution_count": 4,
   "metadata": {
    "collapsed": false
   },
   "outputs": [],
   "source": [
    "u = (1 - sp.erf(sigma * y / x)) / 2\n",
    "v = sp.exp(-(sigma * y / x)**2) / 2 / sigma / sp.sqrt(sp.pi)\n",
    "k = k0 * sp.exp(-(sigma * y / x)**2)\n",
    "eps = eps0 / x * sp.exp(-(sigma * y / x)**2)\n",
    "muT = rho * Cmu * k**2 / eps\n",
    "\n",
    "u_vec = sp.Matrix([u, v])\n",
    "grad_u_vec = gradVec2(u_vec, x, y)\n",
    "visc_term = divTen2((mu + muT) * (grad_u_vec + grad_u_vec.transpose()), x, y)"
   ]
  },
  {
   "cell_type": "code",
   "execution_count": 5,
   "metadata": {
    "collapsed": false
   },
   "outputs": [
    {
     "name": "stdout",
     "output_type": "stream",
     "text": [
      "0\n"
     ]
    }
   ],
   "source": [
    "print(sp.simplify(divVec2(u_vec, x, y)))"
   ]
  },
  {
   "cell_type": "code",
   "execution_count": 6,
   "metadata": {
    "collapsed": false
   },
   "outputs": [
    {
     "data": {
      "text/plain": [
       "Matrix([\n",
       "[                   -2*Cmu*k0**2*rho*sigma**2*y*(-sigma*exp(-sigma**2*y**2/x**2)/(sqrt(pi)*x) + sigma*y**2*exp(-sigma**2*y**2/x**2)/(sqrt(pi)*x**3))*exp(-sigma**2*y**2/x**2)/(eps0*x) + 4*sigma**3*y**3*(Cmu*k0**2*rho*x*exp(-sigma**2*y**2/x**2)/eps0 + mu)*exp(-sigma**2*y**2/x**2)/(sqrt(pi)*x**5) + 2*sigma*y*(2*Cmu*k0**2*rho*sigma**2*y**2*exp(-sigma**2*y**2/x**2)/(eps0*x**2) + Cmu*k0**2*rho*exp(-sigma**2*y**2/x**2)/eps0)*exp(-sigma**2*y**2/x**2)/(sqrt(pi)*x**2) - 4*sigma*y*(Cmu*k0**2*rho*x*exp(-sigma**2*y**2/x**2)/eps0 + mu)*exp(-sigma**2*y**2/x**2)/(sqrt(pi)*x**3) + (Cmu*k0**2*rho*x*exp(-sigma**2*y**2/x**2)/eps0 + mu)*(2*sigma**3*y*exp(-sigma**2*y**2/x**2)/(sqrt(pi)*x**3) - 2*sigma**3*y**3*exp(-sigma**2*y**2/x**2)/(sqrt(pi)*x**5) + 2*sigma*y*exp(-sigma**2*y**2/x**2)/(sqrt(pi)*x**3))],\n",
       "[4*Cmu*k0**2*rho*sigma**3*y**2*exp(-2*sigma**2*y**2/x**2)/(sqrt(pi)*eps0*x**3) + 4*sigma**3*y**2*(Cmu*k0**2*rho*x*exp(-sigma**2*y**2/x**2)/eps0 + mu)*exp(-sigma**2*y**2/x**2)/(sqrt(pi)*x**4) - 2*sigma*(Cmu*k0**2*rho*x*exp(-sigma**2*y**2/x**2)/eps0 + mu)*exp(-sigma**2*y**2/x**2)/(sqrt(pi)*x**2) + (-sigma*exp(-sigma**2*y**2/x**2)/(sqrt(pi)*x) + sigma*y**2*exp(-sigma**2*y**2/x**2)/(sqrt(pi)*x**3))*(2*Cmu*k0**2*rho*sigma**2*y**2*exp(-sigma**2*y**2/x**2)/(eps0*x**2) + Cmu*k0**2*rho*exp(-sigma**2*y**2/x**2)/eps0) + (Cmu*k0**2*rho*x*exp(-sigma**2*y**2/x**2)/eps0 + mu)*(-2*sigma**3*y**2*exp(-sigma**2*y**2/x**2)/(sqrt(pi)*x**4) + 2*sigma**3*y**4*exp(-sigma**2*y**2/x**2)/(sqrt(pi)*x**6) + sigma*exp(-sigma**2*y**2/x**2)/(sqrt(pi)*x**2) - 3*sigma*y**2*exp(-sigma**2*y**2/x**2)/(sqrt(pi)*x**4))]])"
      ]
     },
     "execution_count": 6,
     "metadata": {},
     "output_type": "execute_result"
    }
   ],
   "source": [
    "visc_term"
   ]
  },
  {
   "cell_type": "code",
   "execution_count": 61,
   "metadata": {
    "collapsed": false
   },
   "outputs": [
    {
     "data": {
      "text/plain": [
       "(2, 1)"
      ]
     },
     "execution_count": 61,
     "metadata": {},
     "output_type": "execute_result"
    }
   ],
   "source": [
    "visc_term.shape"
   ]
  },
  {
   "cell_type": "code",
   "execution_count": 7,
   "metadata": {
    "collapsed": false
   },
   "outputs": [],
   "source": [
    "momentum_equations = rho * u_vec.transpose() * grad_u_vec - visc_term.transpose()"
   ]
  },
  {
   "cell_type": "code",
   "execution_count": 12,
   "metadata": {
    "collapsed": true
   },
   "outputs": [],
   "source": [
    "u_eq = momentum_equations[0]\n",
    "v_eq = momentum_equations[1]"
   ]
  },
  {
   "cell_type": "code",
   "execution_count": 16,
   "metadata": {
    "collapsed": false
   },
   "outputs": [
    {
     "data": {
      "text/plain": [
       "(-8*pi**5*Cmu*k0**2*rho*sigma**3*x**3*y**2 + 2*pi**5*Cmu*k0**2*rho*sigma*x*(x**2 - y**2)*(2*sigma**2*y**2 + x**2) - pi**5*eps0*rho*sigma*x**3*y**2*(erf(sigma*y/x) - 1)*exp(sigma**2*y**2/x**2) - pi**(9/2)*eps0*rho*x**4*y - 8*pi**5*sigma**3*x**2*y**2*(Cmu*k0**2*rho*x + eps0*mu*exp(sigma**2*y**2/x**2)) + 4*pi**5*sigma*x**4*(Cmu*k0**2*rho*x + eps0*mu*exp(sigma**2*y**2/x**2)) + 2*pi**5*sigma*(Cmu*k0**2*rho*x + eps0*mu*exp(sigma**2*y**2/x**2))*(-2*sigma**2*y**4 - x**4 + x**2*y**2*(2*sigma**2 + 3)))*exp(-2*sigma**2*y**2/x**2)/(2*pi**(11/2)*eps0*x**6)"
      ]
     },
     "execution_count": 16,
     "metadata": {},
     "output_type": "execute_result"
    }
   ],
   "source": [
    "sp.simplify(v_eq)"
   ]
  },
  {
   "cell_type": "code",
   "execution_count": 13,
   "metadata": {
    "collapsed": false
   },
   "outputs": [
    {
     "data": {
      "text/plain": [
       "(-8*pi**3*Cmu*k0**2*rho*sigma**3*x**3*y - 8*pi**3*Cmu*k0**2*rho*sigma**3*x*y**3 - 4*pi**3*eps0*mu*sigma**3*x**2*y*exp(sigma**2*y**2/x**2) - 4*pi**3*eps0*mu*sigma**3*y**3*exp(sigma**2*y**2/x**2) + 4*pi**3*eps0*mu*sigma*x**2*y*exp(sigma**2*y**2/x**2) - pi**3*eps0*rho*sigma*x**3*y*exp(sigma**2*y**2/x**2)*erf(sigma*y/x) + pi**3*eps0*rho*sigma*x**3*y*exp(sigma**2*y**2/x**2) - pi**(5/2)*eps0*rho*x**4)*exp(-2*sigma**2*y**2/x**2)/(2*pi**(7/2)*eps0*x**5)"
      ]
     },
     "execution_count": 13,
     "metadata": {},
     "output_type": "execute_result"
    }
   ],
   "source": [
    "sp.simplify(u_eq)"
   ]
  },
  {
   "cell_type": "code",
   "execution_count": 14,
   "metadata": {
    "collapsed": false
   },
   "outputs": [
    {
     "data": {
      "text/plain": [
       "-4*sigma**3*y**3*(Cmu*k0**2*rho*x*exp(-sigma**2*y**2/x**2)/eps0 + mu)*exp(-sigma**2*y**2/x**2)/(sqrt(pi)*x**5) + 4*sigma*y*(Cmu*k0**2*rho*x*exp(-sigma**2*y**2/x**2)/eps0 + mu)*exp(-sigma**2*y**2/x**2)/(sqrt(pi)*x**3) - (Cmu*k0**2*rho*x*exp(-sigma**2*y**2/x**2)/eps0 + mu)*(2*sigma**3*y*exp(-sigma**2*y**2/x**2)/(sqrt(pi)*x**3) - 2*sigma**3*y**3*exp(-sigma**2*y**2/x**2)/(sqrt(pi)*x**5) + 2*sigma*y*exp(-sigma**2*y**2/x**2)/(sqrt(pi)*x**3)) + (2*Cmu*k0**2*rho*sigma**2*y*(-sigma*exp(-sigma**2*y**2/x**2)/(sqrt(pi)*x) + sigma*y**2*exp(-sigma**2*y**2/x**2)/(sqrt(pi)*x**3))*exp(-sigma**2*y**2/x**2)/eps0 - rho*exp(-2*sigma**2*y**2/x**2)/(2*pi))/x + (rho*sigma*y*(-erf(sigma*y/x)/2 + 1/2)*exp(-sigma**2*y**2/x**2)/sqrt(pi) - 2*sigma*y*(2*Cmu*k0**2*rho*sigma**2*y**2*exp(-sigma**2*y**2/x**2)/(eps0*x**2) + Cmu*k0**2*rho*exp(-sigma**2*y**2/x**2)/eps0)*exp(-sigma**2*y**2/x**2)/sqrt(pi))/x**2"
      ]
     },
     "execution_count": 14,
     "metadata": {},
     "output_type": "execute_result"
    }
   ],
   "source": [
    "sp.collect(u_eq, x)"
   ]
  },
  {
   "cell_type": "code",
   "execution_count": 10,
   "metadata": {
    "collapsed": false
   },
   "outputs": [
    {
     "name": "stdout",
     "output_type": "stream",
     "text": [
      "117649*Cmu*rho*sigma**4*y*(-sigma*exp(-sigma**2*y**2/x**2)/(sqrt(pi)*x) + sigma*y**2*exp(-sigma**2*y**2/x**2)/(sqrt(pi)*x**3))*exp(-sigma**2*y**2/x**2)/(2812500000*pi*eps0*x) + rho*sigma*y*(-erf(sigma*y/x)/2 + 1/2)*exp(-sigma**2*y**2/x**2)/(sqrt(pi)*x**2) - rho*exp(-2*sigma**2*y**2/x**2)/(2*pi*x) - 4*sigma**3*y**3*(117649*Cmu*rho*sigma**2*x*exp(-sigma**2*y**2/x**2)/(5625000000*pi*eps0) + mu)*exp(-sigma**2*y**2/x**2)/(sqrt(pi)*x**5) - 2*sigma*y*(117649*Cmu*rho*sigma**4*y**2*exp(-sigma**2*y**2/x**2)/(2812500000*pi*eps0*x**2) + 117649*Cmu*rho*sigma**2*exp(-sigma**2*y**2/x**2)/(5625000000*pi*eps0))*exp(-sigma**2*y**2/x**2)/(sqrt(pi)*x**2) + 4*sigma*y*(117649*Cmu*rho*sigma**2*x*exp(-sigma**2*y**2/x**2)/(5625000000*pi*eps0) + mu)*exp(-sigma**2*y**2/x**2)/(sqrt(pi)*x**3) - (117649*Cmu*rho*sigma**2*x*exp(-sigma**2*y**2/x**2)/(5625000000*pi*eps0) + mu)*(2*sigma**3*y*exp(-sigma**2*y**2/x**2)/(sqrt(pi)*x**3) - 2*sigma**3*y**3*exp(-sigma**2*y**2/x**2)/(sqrt(pi)*x**5) + 2*sigma*y*exp(-sigma**2*y**2/x**2)/(sqrt(pi)*x**3))\n",
      "343*rho*sigma**2*y*(-sigma*exp(-sigma**2*y**2/x**2)/(sqrt(pi)*x) + sigma*y**2*exp(-sigma**2*y**2/x**2)/(sqrt(pi)*x**3))*exp(-sigma**2*y**2/x**2)/(125000*x) + rho*sigma*y*(-erf(sigma*y/x)/2 + 1/2)*exp(-sigma**2*y**2/x**2)/(sqrt(pi)*x**2) - rho*exp(-2*sigma**2*y**2/x**2)/(2*pi*x) - 4*sigma**3*y**3*(mu + 343*rho*x*exp(-sigma**2*y**2/x**2)/250000)*exp(-sigma**2*y**2/x**2)/(sqrt(pi)*x**5) - 2*sigma*y*(343*rho*sigma**2*y**2*exp(-sigma**2*y**2/x**2)/(125000*x**2) + 343*rho*exp(-sigma**2*y**2/x**2)/250000)*exp(-sigma**2*y**2/x**2)/(sqrt(pi)*x**2) + 4*sigma*y*(mu + 343*rho*x*exp(-sigma**2*y**2/x**2)/250000)*exp(-sigma**2*y**2/x**2)/(sqrt(pi)*x**3) - (mu + 343*rho*x*exp(-sigma**2*y**2/x**2)/250000)*(2*sigma**3*y*exp(-sigma**2*y**2/x**2)/(sqrt(pi)*x**3) - 2*sigma**3*y**3*exp(-sigma**2*y**2/x**2)/(sqrt(pi)*x**5) + 2*sigma*y*exp(-sigma**2*y**2/x**2)/(sqrt(pi)*x**3))\n"
     ]
    }
   ],
   "source": [
    "u_eq = u_eq.subs(k0, sigma / sp.sqrt(sp.pi) * 343 / 75000)\n",
    "print(u_eq)\n",
    "u_eq = u_eq.subs(eps0, Cmu * sigma**2 / sp.pi * 343 / 22500)\n",
    "print(u_eq)"
   ]
  },
  {
   "cell_type": "code",
   "execution_count": 11,
   "metadata": {
    "collapsed": false
   },
   "outputs": [
    {
     "data": {
      "text/plain": [
       "(-125000*pi**3*mu*sigma**3*x**2*y*exp(sigma**2*y**2/x**2) - 125000*pi**3*mu*sigma**3*y**3*exp(sigma**2*y**2/x**2) + 125000*pi**3*mu*sigma*x**2*y*exp(sigma**2*y**2/x**2) - 343*pi**3*rho*sigma**3*x**3*y - 343*pi**3*rho*sigma**3*x*y**3 - 31250*pi**3*rho*sigma*x**3*y*exp(sigma**2*y**2/x**2)*erf(sigma*y/x) + 31250*pi**3*rho*sigma*x**3*y*exp(sigma**2*y**2/x**2) - 31250*pi**(5/2)*rho*x**4)*exp(-2*sigma**2*y**2/x**2)/(62500*pi**(7/2)*x**5)"
      ]
     },
     "execution_count": 11,
     "metadata": {},
     "output_type": "execute_result"
    }
   ],
   "source": [
    "sp.simplify(u_eq)"
   ]
  },
  {
   "cell_type": "code",
   "execution_count": 52,
   "metadata": {
    "collapsed": true
   },
   "outputs": [],
   "source": [
    "grad_u_vec = sp.Matrix([[diff(u, x), diff(v, x)], [diff(u, y), diff(v, y)]])"
   ]
  },
  {
   "cell_type": "code",
   "execution_count": 57,
   "metadata": {
    "collapsed": false
   },
   "outputs": [
    {
     "data": {
      "text/plain": [
       "Matrix([\n",
       "[sigma*y*exp(-sigma**2*y**2/x**2)/(sqrt(pi)*x**2), -y*exp(sigma*y/x)/(2*sqrt(pi)*x**2)],\n",
       "[    -sigma*exp(-sigma**2*y**2/x**2)/(sqrt(pi)*x),       exp(sigma*y/x)/(2*sqrt(pi)*x)]])"
      ]
     },
     "execution_count": 57,
     "metadata": {},
     "output_type": "execute_result"
    }
   ],
   "source": [
    "grad_u_vec"
   ]
  },
  {
   "cell_type": "code",
   "execution_count": 40,
   "metadata": {
    "collapsed": false
   },
   "outputs": [
    {
     "name": "stdout",
     "output_type": "stream",
     "text": [
      "\u001b[H\u001b[2J"
     ]
    }
   ],
   "source": [
    "clear(pi)"
   ]
  },
  {
   "cell_type": "code",
   "execution_count": 49,
   "metadata": {
    "collapsed": true
   },
   "outputs": [],
   "source": [
    "from sympy.physics.vector import ReferenceFrame\n",
    "R = ReferenceFrame('R')\n",
    "\n",
    "u = (1 - sp.erf(sigma * R[1] / R[0])) / 2\n",
    "v = sp.exp(sigma * R[1] / R[0]) / 2 / sigma / sp.sqrt(pi)\n",
    "k = k0 * sp.exp(-(sigma * R[1] / R[0])**2)\n",
    "eps = eps0 / R[0] * sp.exp(-(sigma * R[1] / R[0])**2)\n",
    "muT = rho * Cmu * k**2 / eps"
   ]
  },
  {
   "cell_type": "code",
   "execution_count": 50,
   "metadata": {
    "collapsed": false
   },
   "outputs": [
    {
     "data": {
      "text/plain": [
       "-erf(sigma*y/x)/2 + 1/2"
      ]
     },
     "execution_count": 50,
     "metadata": {},
     "output_type": "execute_result"
    }
   ],
   "source": [
    "u_vec[0]"
   ]
  },
  {
   "cell_type": "code",
   "execution_count": null,
   "metadata": {
    "collapsed": true
   },
   "outputs": [],
   "source": [
    "grad_u_vec = gradVec2(u_vec)"
   ]
  },
  {
   "cell_type": "code",
   "execution_count": 18,
   "metadata": {
    "collapsed": false
   },
   "outputs": [
    {
     "data": {
      "text/plain": [
       "0.99532226501895271"
      ]
     },
     "execution_count": 18,
     "metadata": {},
     "output_type": "execute_result"
    }
   ],
   "source": [
    "from scipy.special import erf\n",
    "\n",
    "erf(2)"
   ]
  },
  {
   "cell_type": "code",
   "execution_count": 19,
   "metadata": {
    "collapsed": false
   },
   "outputs": [
    {
     "data": {
      "text/plain": [
       "-0.84270079294971478"
      ]
     },
     "execution_count": 19,
     "metadata": {},
     "output_type": "execute_result"
    }
   ],
   "source": [
    "erf(-1)"
   ]
  },
  {
   "cell_type": "code",
   "execution_count": 20,
   "metadata": {
    "collapsed": false
   },
   "outputs": [
    {
     "data": {
      "text/plain": [
       "0.83850806955536983"
      ]
     },
     "execution_count": 20,
     "metadata": {},
     "output_type": "execute_result"
    }
   ],
   "source": [
    "erf(.99)"
   ]
  },
  {
   "cell_type": "code",
   "execution_count": 47,
   "metadata": {
    "collapsed": true
   },
   "outputs": [],
   "source": [
    "from numpy import pi, sqrt, exp\n",
    "\n",
    "def d_erf(x):\n",
    "    return 2. / sqrt(pi) * exp(-x**2)\n",
    "\n",
    "def d_half_erf(x):\n",
    "    return 2. / sqrt(pi) * exp(-(0.5*x)**2) * 0.5"
   ]
  },
  {
   "cell_type": "code",
   "execution_count": 48,
   "metadata": {
    "collapsed": false
   },
   "outputs": [
    {
     "data": {
      "text/plain": [
       "0.20755374871029736"
      ]
     },
     "execution_count": 48,
     "metadata": {},
     "output_type": "execute_result"
    }
   ],
   "source": [
    "d_half_erf(-2)"
   ]
  },
  {
   "cell_type": "code",
   "execution_count": 22,
   "metadata": {
    "collapsed": false
   },
   "outputs": [
    {
     "data": {
      "text/plain": [
       "0.41510749742059472"
      ]
     },
     "execution_count": 22,
     "metadata": {},
     "output_type": "execute_result"
    }
   ],
   "source": [
    "d_erf(-1)"
   ]
  },
  {
   "cell_type": "code",
   "execution_count": 23,
   "metadata": {
    "collapsed": false
   },
   "outputs": [
    {
     "name": "stdout",
     "output_type": "stream",
     "text": [
      "3.141592653589793\n"
     ]
    }
   ],
   "source": [
    "print(pi)"
   ]
  },
  {
   "cell_type": "code",
   "execution_count": 24,
   "metadata": {
    "collapsed": false
   },
   "outputs": [
    {
     "data": {
      "text/plain": [
       "1.1283791670955126"
      ]
     },
     "execution_count": 24,
     "metadata": {},
     "output_type": "execute_result"
    }
   ],
   "source": [
    "d_erf(0)"
   ]
  },
  {
   "cell_type": "code",
   "execution_count": 25,
   "metadata": {
    "collapsed": false
   },
   "outputs": [
    {
     "data": {
      "text/plain": [
       "0.41510749742059472"
      ]
     },
     "execution_count": 25,
     "metadata": {},
     "output_type": "execute_result"
    }
   ],
   "source": [
    "d_erf(1)"
   ]
  },
  {
   "cell_type": "code",
   "execution_count": 27,
   "metadata": {
    "collapsed": false
   },
   "outputs": [],
   "source": [
    "import numpy as np"
   ]
  },
  {
   "cell_type": "code",
   "execution_count": 28,
   "metadata": {
    "collapsed": true
   },
   "outputs": [],
   "source": [
    "libmesh = np.loadtxt(\"/home/lindsayad/projects/moose/libmesh/contrib/fparser/examples/first_orig.dat\")"
   ]
  },
  {
   "cell_type": "code",
   "execution_count": 30,
   "metadata": {
    "collapsed": false
   },
   "outputs": [
    {
     "data": {
      "text/plain": [
       "(200, 2)"
      ]
     },
     "execution_count": 30,
     "metadata": {},
     "output_type": "execute_result"
    }
   ],
   "source": [
    "libmesh.shape"
   ]
  },
  {
   "cell_type": "code",
   "execution_count": 42,
   "metadata": {
    "collapsed": true
   },
   "outputs": [],
   "source": [
    "xl = libmesh[:,0]\n",
    "ypl = libmesh[:,1]"
   ]
  },
  {
   "cell_type": "code",
   "execution_count": 45,
   "metadata": {
    "collapsed": true
   },
   "outputs": [],
   "source": [
    "xt = np.arange(-1,1,.01)\n",
    "yt = d_erf(xt)"
   ]
  },
  {
   "cell_type": "code",
   "execution_count": 33,
   "metadata": {
    "collapsed": true
   },
   "outputs": [],
   "source": [
    "import matplotlib.pyplot as plt"
   ]
  },
  {
   "cell_type": "code",
   "execution_count": 43,
   "metadata": {
    "collapsed": false
   },
   "outputs": [
    {
     "data": {
      "image/png": "[encoded data removed]",
      "text/plain": [
       "<matplotlib.figure.Figure at 0x7f892183a358>"
      ]
     },
     "metadata": {},
     "output_type": "display_data"
    }
   ],
   "source": [
    "plt.close()\n",
    "plt.plot(xl, ypl, label=\"libmesh\")\n",
    "plt.plot(xt, yt, label='true')\n",
    "plt.legend()\n",
    "plt.show()"
   ]
  },
  {
   "cell_type": "code",
   "execution_count": 46,
   "metadata": {
    "collapsed": false
   },
   "outputs": [
    {
     "data": {
      "image/png": "[encoded data removed]",
      "text/plain": [
       "<matplotlib.figure.Figure at 0x7f89216442b0>"
      ]
     },
     "metadata": {},
     "output_type": "display_data"
    }
   ],
   "source": [
    "plt.close()\n",
    "plt.plot(xl, yt / ypl)\n",
    "plt.show()"
   ]
  },
  {
   "cell_type": "markdown",
   "metadata": {},
   "source": [
    "# 5/10/17\n",
    "\n",
    "Ok, the analytic\\_turbulence problem sucks. Even if I start with Dirichlet boundary conditions on all boundaries and initial conditions representing the supposed analytic solution, and then run a transient simulation, the solution evolves away from the supposed analytic solution. `backwards_step_adaptive.i` runs to completion, but that's for a relatively low inlet velocity.\n",
    "\n",
    "Getting some pretty good results now also with `backwards_step_adaptive_inlet_v_100.i` which I wasn't a few days before. This could perhaps be due to the introduction of the SUPG terms. Convergence becomes a little slow at longer time steps, perhaps because of incomplete Jacobian implementation? Or poor relative scaling of the variables? Results for `kin` actually don't look too far off from the results in the Kuzmin paper. This simulation uses a Reynolds number of 100, which is still pretty small! Next effort will be with the Reynolds number in the Kuzmin paper of 47,625.\n",
    "\n",
    "It's something I've observed over the years that decreasing element size can lead to decreasing _solver convergence_. Note that I'm not talking about _convergence to the true solution_. I wish I could find a good piece of literature discussing this phenomenon. There are just so many things to consider about a finite element solve; it can be fun at times and frustrating at others."
   ]
  },
  {
   "cell_type": "markdown",
   "metadata": {},
   "source": [
    "# 5/11/17\n",
    "\n",
    "Ok, going to do some methods of manufactured solutions!"
   ]
  },
  {
   "cell_type": "code",
   "execution_count": 1,
   "metadata": {
    "collapsed": true
   },
   "outputs": [],
   "source": [
    "from sympy import *"
   ]
  },
  {
   "cell_type": "code",
   "execution_count": 8,
   "metadata": {
    "collapsed": true
   },
   "outputs": [],
   "source": [
    "x, y, L = var('x y L')"
   ]
  },
  {
   "cell_type": "code",
   "execution_count": 10,
   "metadata": {
    "collapsed": false
   },
   "outputs": [
    {
     "name": "stdout",
     "output_type": "stream",
     "text": [
      "0.45\n",
      "0.58\n",
      "0.91\n",
      "0.33\n",
      "0.21\n",
      "0.36\n",
      "0.84\n",
      "0.41\n",
      "0.26\n",
      "0.66\n",
      "0.88\n",
      "0.85\n",
      "0.88\n",
      "0.96\n",
      "0.36\n",
      "0.51\n",
      "0.51\n",
      "0.50\n",
      "0.66\n",
      "0.44\n",
      "0.66\n",
      "0.70\n",
      "0.45\n",
      "0.47\n",
      "0.39\n",
      "0.89\n",
      "0.30\n",
      "0.88\n",
      "0.61\n",
      "0.85\n"
     ]
    }
   ],
   "source": [
    "from random import randint, random, uniform\n",
    "for i in range(30):\n",
    "    print('%.2f' % uniform(.1, .99))"
   ]
  },
  {
   "cell_type": "code",
   "execution_count": 64,
   "metadata": {
    "collapsed": true
   },
   "outputs": [],
   "source": [
    "from random import randint, random, uniform\n",
    "\n",
    "def sym_func(x, y, L):\n",
    "    return round(uniform(.1, .99),1) + round(uniform(.1, .99),1) * sin(round(uniform(.1, .99),1) * pi * x / L) \\\n",
    "                            + round(uniform(.1, .99),1) * sin(round(uniform(.1, .99),1) * pi * y / L) \\\n",
    "                            + round(uniform(.1, .99),1) * sin(round(uniform(.1, .99),1) * pi * x * y / L)"
   ]
  },
  {
   "cell_type": "code",
   "execution_count": 65,
   "metadata": {
    "collapsed": false
   },
   "outputs": [
    {
     "name": "stdout",
     "output_type": "stream",
     "text": [
      "0.4*sin(0.5*pi*x) + 0.4*sin(pi*y) + 0.7*sin(0.2*pi*x*y) + 0.5\n",
      "0.6*sin(0.8*pi*x) + 0.3*sin(0.3*pi*y) + 0.2*sin(0.3*pi*x*y) + 0.3\n",
      "0.5*sin(0.5*pi*x) + 1.0*sin(0.3*pi*y) + 0.5*sin(0.2*pi*x*y) + 0.5\n",
      "0.4*sin(0.7*pi*x) + 0.9*sin(0.7*pi*y) + 0.7*sin(0.4*pi*x*y) + 0.4\n",
      "0.6*sin(0.3*pi*x) + 0.9*sin(0.9*pi*y) + 0.8*sin(0.6*pi*x*y) + 0.5\n"
     ]
    }
   ],
   "source": [
    "u = sym_func(x, y, 1)\n",
    "v = sym_func(x, y, 1)\n",
    "p = sym_func(x, y, 1)\n",
    "k = sym_func(x, y, 1)\n",
    "eps = sym_func(x, y, 1)\n",
    "\n",
    "print(u, v, p, k, eps, sep=\"\\n\")"
   ]
  },
  {
   "cell_type": "code",
   "execution_count": 113,
   "metadata": {
    "collapsed": true
   },
   "outputs": [],
   "source": [
    "import sympy as sp\n",
    "\n",
    "def gradVec2(u_vec, x, y):\n",
    "    return sp.Matrix([[diff(u_vec[0], x), diff(u_vec[1],x)], [diff(u_vec[0], y), diff(u_vec[1], y)]])\n",
    "\n",
    "def divTen2(tensor, x, y):\n",
    "    return sp.Matrix([diff(tensor[0,0], x) + diff(tensor[1,0], y), diff(tensor[0, 1], x) + diff(tensor[1,1], y)])\n",
    "\n",
    "def divVec2(u_vec, x, y):\n",
    "    return diff(u_vec[0], x) + diff(u_vec[1], y)\n",
    "\n",
    "def gradScalar2(u, x, y):\n",
    "    return sp.Matrix([diff(u, x), diff(u,y)])\n",
    "\n",
    "def strain_rate(u_vec, x, y):\n",
    "    return gradVec2(u_vec, x, y) + gradVec2(u_vec, x, y).transpose()\n",
    "\n",
    "def strain_rate_squared_2(u_vec, x, y):\n",
    "    tensor = gradVec2(u_vec, x, y) + gradVec2(u_vec, x, y).transpose()\n",
    "    rv = 0\n",
    "    for i in range(2):\n",
    "        for j in range(2):\n",
    "            rv += tensor[i, j] * tensor[i, j]\n",
    "    return rv\n",
    "\n",
    "def laplace2(u, x, y):\n",
    "    return diff(diff(u, x), x) + diff(diff(u, y), y)"
   ]
  },
  {
   "cell_type": "markdown",
   "metadata": {},
   "source": [
    "## Momentum equations"
   ]
  },
  {
   "cell_type": "code",
   "execution_count": 94,
   "metadata": {
    "collapsed": false
   },
   "outputs": [
    {
     "data": {
      "text/plain": [
       "sympy.core.numbers.Zero"
      ]
     },
     "execution_count": 94,
     "metadata": {},
     "output_type": "execute_result"
    }
   ],
   "source": [
    "pnew = Integer(0)\n",
    "type(pnew)"
   ]
  },
  {
   "cell_type": "markdown",
   "metadata": {},
   "source": [
    "### Traction Form"
   ]
  },
  {
   "cell_type": "code",
   "execution_count": 104,
   "metadata": {
    "collapsed": true
   },
   "outputs": [
    {
     "name": "stdout",
     "output_type": "stream",
     "text": [
      "-mu*(-0.028*pi**2*x**2*sin(0.2*pi*x*y) - 0.018*pi**2*x*y*sin(0.3*pi*x*y) - 0.056*pi**2*y**2*sin(0.2*pi*x*y) - 0.2*pi**2*sin(0.5*pi*x) - 0.4*pi**2*sin(pi*y) + 0.06*pi*cos(0.3*pi*x*y)) + rho*(0.14*pi*x*cos(0.2*pi*x*y) + 0.4*pi*cos(pi*y))*(0.6*sin(0.8*pi*x) + 0.3*sin(0.3*pi*y) + 0.2*sin(0.3*pi*x*y) + 0.3) - 0.09*rho*(0.56*pi*x*cos(0.4*pi*x*y) + 1.26*pi*cos(0.7*pi*y))*(0.14*pi*x*cos(0.2*pi*x*y) + 0.06*pi*y*cos(0.3*pi*x*y) + 0.48*pi*cos(0.8*pi*x) + 0.4*pi*cos(pi*y))*(0.4*sin(0.7*pi*x) + 0.9*sin(0.7*pi*y) + 0.7*sin(0.4*pi*x*y) + 0.4)/(0.6*sin(0.3*pi*x) + 0.9*sin(0.9*pi*y) + 0.8*sin(0.6*pi*x*y) + 0.5) - 0.09*rho*(-0.48*pi*x*cos(0.6*pi*x*y) - 0.81*pi*cos(0.9*pi*y))*(0.14*pi*x*cos(0.2*pi*x*y) + 0.06*pi*y*cos(0.3*pi*x*y) + 0.48*pi*cos(0.8*pi*x) + 0.4*pi*cos(pi*y))*(0.4*sin(0.7*pi*x) + 0.9*sin(0.7*pi*y) + 0.7*sin(0.4*pi*x*y) + 0.4)**2/(0.6*sin(0.3*pi*x) + 0.9*sin(0.9*pi*y) + 0.8*sin(0.6*pi*x*y) + 0.5)**2 + rho*(0.14*pi*y*cos(0.2*pi*x*y) + 0.2*pi*cos(0.5*pi*x))*(0.4*sin(0.5*pi*x) + 0.4*sin(pi*y) + 0.7*sin(0.2*pi*x*y) + 0.5) - 0.09*rho*(0.28*pi*y*cos(0.2*pi*x*y) + 0.4*pi*cos(0.5*pi*x))*(0.56*pi*y*cos(0.4*pi*x*y) + 0.56*pi*cos(0.7*pi*x))*(0.4*sin(0.7*pi*x) + 0.9*sin(0.7*pi*y) + 0.7*sin(0.4*pi*x*y) + 0.4)/(0.6*sin(0.3*pi*x) + 0.9*sin(0.9*pi*y) + 0.8*sin(0.6*pi*x*y) + 0.5) - 0.09*rho*(0.28*pi*y*cos(0.2*pi*x*y) + 0.4*pi*cos(0.5*pi*x))*(-0.48*pi*y*cos(0.6*pi*x*y) - 0.18*pi*cos(0.3*pi*x))*(0.4*sin(0.7*pi*x) + 0.9*sin(0.7*pi*y) + 0.7*sin(0.4*pi*x*y) + 0.4)**2/(0.6*sin(0.3*pi*x) + 0.9*sin(0.9*pi*y) + 0.8*sin(0.6*pi*x*y) + 0.5)**2 - 0.09*rho*(-0.056*pi**2*y**2*sin(0.2*pi*x*y) - 0.2*pi**2*sin(0.5*pi*x))*(0.4*sin(0.7*pi*x) + 0.9*sin(0.7*pi*y) + 0.7*sin(0.4*pi*x*y) + 0.4)**2/(0.6*sin(0.3*pi*x) + 0.9*sin(0.9*pi*y) + 0.8*sin(0.6*pi*x*y) + 0.5) - 0.09*rho*(-0.028*pi**2*x**2*sin(0.2*pi*x*y) - 0.018*pi**2*x*y*sin(0.3*pi*x*y) - 0.4*pi**2*sin(pi*y) + 0.06*pi*cos(0.3*pi*x*y))*(0.4*sin(0.7*pi*x) + 0.9*sin(0.7*pi*y) + 0.7*sin(0.4*pi*x*y) + 0.4)**2/(0.6*sin(0.3*pi*x) + 0.9*sin(0.9*pi*y) + 0.8*sin(0.6*pi*x*y) + 0.5) + 0.1*pi*y*cos(0.2*pi*x*y) + 0.25*pi*cos(0.5*pi*x)\n",
      "-mu*(-0.036*pi**2*x**2*sin(0.3*pi*x*y) - 0.028*pi**2*x*y*sin(0.2*pi*x*y) - 0.018*pi**2*y**2*sin(0.3*pi*x*y) - 0.384*pi**2*sin(0.8*pi*x) - 0.054*pi**2*sin(0.3*pi*y) + 0.14*pi*cos(0.2*pi*x*y)) + rho*(0.06*pi*x*cos(0.3*pi*x*y) + 0.09*pi*cos(0.3*pi*y))*(0.6*sin(0.8*pi*x) + 0.3*sin(0.3*pi*y) + 0.2*sin(0.3*pi*x*y) + 0.3) - 0.09*rho*(0.12*pi*x*cos(0.3*pi*x*y) + 0.18*pi*cos(0.3*pi*y))*(0.56*pi*x*cos(0.4*pi*x*y) + 1.26*pi*cos(0.7*pi*y))*(0.4*sin(0.7*pi*x) + 0.9*sin(0.7*pi*y) + 0.7*sin(0.4*pi*x*y) + 0.4)/(0.6*sin(0.3*pi*x) + 0.9*sin(0.9*pi*y) + 0.8*sin(0.6*pi*x*y) + 0.5) - 0.09*rho*(0.12*pi*x*cos(0.3*pi*x*y) + 0.18*pi*cos(0.3*pi*y))*(-0.48*pi*x*cos(0.6*pi*x*y) - 0.81*pi*cos(0.9*pi*y))*(0.4*sin(0.7*pi*x) + 0.9*sin(0.7*pi*y) + 0.7*sin(0.4*pi*x*y) + 0.4)**2/(0.6*sin(0.3*pi*x) + 0.9*sin(0.9*pi*y) + 0.8*sin(0.6*pi*x*y) + 0.5)**2 + rho*(0.06*pi*y*cos(0.3*pi*x*y) + 0.48*pi*cos(0.8*pi*x))*(0.4*sin(0.5*pi*x) + 0.4*sin(pi*y) + 0.7*sin(0.2*pi*x*y) + 0.5) - 0.09*rho*(0.56*pi*y*cos(0.4*pi*x*y) + 0.56*pi*cos(0.7*pi*x))*(0.14*pi*x*cos(0.2*pi*x*y) + 0.06*pi*y*cos(0.3*pi*x*y) + 0.48*pi*cos(0.8*pi*x) + 0.4*pi*cos(pi*y))*(0.4*sin(0.7*pi*x) + 0.9*sin(0.7*pi*y) + 0.7*sin(0.4*pi*x*y) + 0.4)/(0.6*sin(0.3*pi*x) + 0.9*sin(0.9*pi*y) + 0.8*sin(0.6*pi*x*y) + 0.5) - 0.09*rho*(-0.48*pi*y*cos(0.6*pi*x*y) - 0.18*pi*cos(0.3*pi*x))*(0.14*pi*x*cos(0.2*pi*x*y) + 0.06*pi*y*cos(0.3*pi*x*y) + 0.48*pi*cos(0.8*pi*x) + 0.4*pi*cos(pi*y))*(0.4*sin(0.7*pi*x) + 0.9*sin(0.7*pi*y) + 0.7*sin(0.4*pi*x*y) + 0.4)**2/(0.6*sin(0.3*pi*x) + 0.9*sin(0.9*pi*y) + 0.8*sin(0.6*pi*x*y) + 0.5)**2 - 0.09*rho*(-0.036*pi**2*x**2*sin(0.3*pi*x*y) - 0.054*pi**2*sin(0.3*pi*y))*(0.4*sin(0.7*pi*x) + 0.9*sin(0.7*pi*y) + 0.7*sin(0.4*pi*x*y) + 0.4)**2/(0.6*sin(0.3*pi*x) + 0.9*sin(0.9*pi*y) + 0.8*sin(0.6*pi*x*y) + 0.5) - 0.09*rho*(-0.028*pi**2*x*y*sin(0.2*pi*x*y) - 0.018*pi**2*y**2*sin(0.3*pi*x*y) - 0.384*pi**2*sin(0.8*pi*x) + 0.14*pi*cos(0.2*pi*x*y))*(0.4*sin(0.7*pi*x) + 0.9*sin(0.7*pi*y) + 0.7*sin(0.4*pi*x*y) + 0.4)**2/(0.6*sin(0.3*pi*x) + 0.9*sin(0.9*pi*y) + 0.8*sin(0.6*pi*x*y) + 0.5) + 0.1*pi*x*cos(0.2*pi*x*y) + 0.3*pi*cos(0.3*pi*y)\n"
     ]
    }
   ],
   "source": [
    "cmu = 0.09\n",
    "\n",
    "uvec = sp.Matrix([u, v])\n",
    "\n",
    "mu, rho = var('mu rho')\n",
    "\n",
    "visc_term = (-mu * divTen2(gradVec2(uvec, x, y) + gradVec2(uvec, x, y).transpose(), x, y)).transpose()\n",
    "conv_term = rho * uvec.transpose() * gradVec2(uvec, x, y)\n",
    "pressure_term = gradScalar2(p, x, y).transpose()\n",
    "turbulent_visc_term = -(divTen2(rho * cmu * k**2 / eps * (gradVec2(uvec, x, y) + gradVec2(uvec, x, y).transpose()), x, y)).transpose()\n",
    "# print(visc_term.shape, conv_term.shape, pressure_term.shape, sep=\"\\n\")\n",
    "source = conv_term + visc_term + pressure_term + turbulent_visc_term\n",
    "print(source[0])\n",
    "print(source[1])"
   ]
  },
  {
   "cell_type": "markdown",
   "metadata": {},
   "source": [
    "### Laplace Form"
   ]
  },
  {
   "cell_type": "code",
   "execution_count": 105,
   "metadata": {
    "collapsed": true
   },
   "outputs": [
    {
     "name": "stdout",
     "output_type": "stream",
     "text": [
      "-mu*(-0.028*pi**2*x**2*sin(0.2*pi*x*y) - 0.028*pi**2*y**2*sin(0.2*pi*x*y) - 0.1*pi**2*sin(0.5*pi*x) - 0.4*pi**2*sin(pi*y)) - 0.09*rho*(0.14*pi*x*cos(0.2*pi*x*y) + 0.4*pi*cos(pi*y))*(0.56*pi*x*cos(0.4*pi*x*y) + 1.26*pi*cos(0.7*pi*y))*(0.4*sin(0.7*pi*x) + 0.9*sin(0.7*pi*y) + 0.7*sin(0.4*pi*x*y) + 0.4)/(0.6*sin(0.3*pi*x) + 0.9*sin(0.9*pi*y) + 0.8*sin(0.6*pi*x*y) + 0.5) - 0.09*rho*(0.14*pi*x*cos(0.2*pi*x*y) + 0.4*pi*cos(pi*y))*(-0.48*pi*x*cos(0.6*pi*x*y) - 0.81*pi*cos(0.9*pi*y))*(0.4*sin(0.7*pi*x) + 0.9*sin(0.7*pi*y) + 0.7*sin(0.4*pi*x*y) + 0.4)**2/(0.6*sin(0.3*pi*x) + 0.9*sin(0.9*pi*y) + 0.8*sin(0.6*pi*x*y) + 0.5)**2 + rho*(0.14*pi*x*cos(0.2*pi*x*y) + 0.4*pi*cos(pi*y))*(0.6*sin(0.8*pi*x) + 0.3*sin(0.3*pi*y) + 0.2*sin(0.3*pi*x*y) + 0.3) - 0.09*rho*(0.14*pi*y*cos(0.2*pi*x*y) + 0.2*pi*cos(0.5*pi*x))*(0.56*pi*y*cos(0.4*pi*x*y) + 0.56*pi*cos(0.7*pi*x))*(0.4*sin(0.7*pi*x) + 0.9*sin(0.7*pi*y) + 0.7*sin(0.4*pi*x*y) + 0.4)/(0.6*sin(0.3*pi*x) + 0.9*sin(0.9*pi*y) + 0.8*sin(0.6*pi*x*y) + 0.5) - 0.09*rho*(0.14*pi*y*cos(0.2*pi*x*y) + 0.2*pi*cos(0.5*pi*x))*(-0.48*pi*y*cos(0.6*pi*x*y) - 0.18*pi*cos(0.3*pi*x))*(0.4*sin(0.7*pi*x) + 0.9*sin(0.7*pi*y) + 0.7*sin(0.4*pi*x*y) + 0.4)**2/(0.6*sin(0.3*pi*x) + 0.9*sin(0.9*pi*y) + 0.8*sin(0.6*pi*x*y) + 0.5)**2 + rho*(0.14*pi*y*cos(0.2*pi*x*y) + 0.2*pi*cos(0.5*pi*x))*(0.4*sin(0.5*pi*x) + 0.4*sin(pi*y) + 0.7*sin(0.2*pi*x*y) + 0.5) - 0.09*rho*(-0.028*pi**2*x**2*sin(0.2*pi*x*y) - 0.4*pi**2*sin(pi*y))*(0.4*sin(0.7*pi*x) + 0.9*sin(0.7*pi*y) + 0.7*sin(0.4*pi*x*y) + 0.4)**2/(0.6*sin(0.3*pi*x) + 0.9*sin(0.9*pi*y) + 0.8*sin(0.6*pi*x*y) + 0.5) - 0.09*rho*(-0.028*pi**2*y**2*sin(0.2*pi*x*y) - 0.1*pi**2*sin(0.5*pi*x))*(0.4*sin(0.7*pi*x) + 0.9*sin(0.7*pi*y) + 0.7*sin(0.4*pi*x*y) + 0.4)**2/(0.6*sin(0.3*pi*x) + 0.9*sin(0.9*pi*y) + 0.8*sin(0.6*pi*x*y) + 0.5) + 0.1*pi*y*cos(0.2*pi*x*y) + 0.25*pi*cos(0.5*pi*x)\n",
      "-mu*(-0.018*pi**2*x**2*sin(0.3*pi*x*y) - 0.018*pi**2*y**2*sin(0.3*pi*x*y) - 0.384*pi**2*sin(0.8*pi*x) - 0.027*pi**2*sin(0.3*pi*y)) - 0.09*rho*(0.06*pi*x*cos(0.3*pi*x*y) + 0.09*pi*cos(0.3*pi*y))*(0.56*pi*x*cos(0.4*pi*x*y) + 1.26*pi*cos(0.7*pi*y))*(0.4*sin(0.7*pi*x) + 0.9*sin(0.7*pi*y) + 0.7*sin(0.4*pi*x*y) + 0.4)/(0.6*sin(0.3*pi*x) + 0.9*sin(0.9*pi*y) + 0.8*sin(0.6*pi*x*y) + 0.5) - 0.09*rho*(0.06*pi*x*cos(0.3*pi*x*y) + 0.09*pi*cos(0.3*pi*y))*(-0.48*pi*x*cos(0.6*pi*x*y) - 0.81*pi*cos(0.9*pi*y))*(0.4*sin(0.7*pi*x) + 0.9*sin(0.7*pi*y) + 0.7*sin(0.4*pi*x*y) + 0.4)**2/(0.6*sin(0.3*pi*x) + 0.9*sin(0.9*pi*y) + 0.8*sin(0.6*pi*x*y) + 0.5)**2 + rho*(0.06*pi*x*cos(0.3*pi*x*y) + 0.09*pi*cos(0.3*pi*y))*(0.6*sin(0.8*pi*x) + 0.3*sin(0.3*pi*y) + 0.2*sin(0.3*pi*x*y) + 0.3) - 0.09*rho*(0.06*pi*y*cos(0.3*pi*x*y) + 0.48*pi*cos(0.8*pi*x))*(0.56*pi*y*cos(0.4*pi*x*y) + 0.56*pi*cos(0.7*pi*x))*(0.4*sin(0.7*pi*x) + 0.9*sin(0.7*pi*y) + 0.7*sin(0.4*pi*x*y) + 0.4)/(0.6*sin(0.3*pi*x) + 0.9*sin(0.9*pi*y) + 0.8*sin(0.6*pi*x*y) + 0.5) - 0.09*rho*(0.06*pi*y*cos(0.3*pi*x*y) + 0.48*pi*cos(0.8*pi*x))*(-0.48*pi*y*cos(0.6*pi*x*y) - 0.18*pi*cos(0.3*pi*x))*(0.4*sin(0.7*pi*x) + 0.9*sin(0.7*pi*y) + 0.7*sin(0.4*pi*x*y) + 0.4)**2/(0.6*sin(0.3*pi*x) + 0.9*sin(0.9*pi*y) + 0.8*sin(0.6*pi*x*y) + 0.5)**2 + rho*(0.06*pi*y*cos(0.3*pi*x*y) + 0.48*pi*cos(0.8*pi*x))*(0.4*sin(0.5*pi*x) + 0.4*sin(pi*y) + 0.7*sin(0.2*pi*x*y) + 0.5) - 0.09*rho*(-0.018*pi**2*x**2*sin(0.3*pi*x*y) - 0.027*pi**2*sin(0.3*pi*y))*(0.4*sin(0.7*pi*x) + 0.9*sin(0.7*pi*y) + 0.7*sin(0.4*pi*x*y) + 0.4)**2/(0.6*sin(0.3*pi*x) + 0.9*sin(0.9*pi*y) + 0.8*sin(0.6*pi*x*y) + 0.5) - 0.09*rho*(-0.018*pi**2*y**2*sin(0.3*pi*x*y) - 0.384*pi**2*sin(0.8*pi*x))*(0.4*sin(0.7*pi*x) + 0.9*sin(0.7*pi*y) + 0.7*sin(0.4*pi*x*y) + 0.4)**2/(0.6*sin(0.3*pi*x) + 0.9*sin(0.9*pi*y) + 0.8*sin(0.6*pi*x*y) + 0.5) + 0.1*pi*x*cos(0.2*pi*x*y) + 0.3*pi*cos(0.3*pi*y)\n"
     ]
    }
   ],
   "source": [
    "cmu = 0.09\n",
    "\n",
    "uvec = sp.Matrix([u, v])\n",
    "\n",
    "mu, rho = var('mu rho')\n",
    "\n",
    "visc_term = (-mu * divTen2(gradVec2(uvec, x, y), x, y)).transpose()\n",
    "conv_term = rho * uvec.transpose() * gradVec2(uvec, x, y)\n",
    "pressure_term = gradScalar2(p, x, y).transpose()\n",
    "turbulent_visc_term = -(divTen2(rho * cmu * k**2 / eps * (gradVec2(uvec, x, y)), x, y)).transpose()\n",
    "# print(visc_term.shape, conv_term.shape, pressure_term.shape, sep=\"\\n\")\n",
    "source = conv_term + visc_term + pressure_term + turbulent_visc_term\n",
    "print(source[0])\n",
    "print(source[1])"
   ]
  },
  {
   "cell_type": "markdown",
   "metadata": {},
   "source": [
    "## Pressure equation"
   ]
  },
  {
   "cell_type": "code",
   "execution_count": 73,
   "metadata": {
    "collapsed": true
   },
   "outputs": [
    {
     "data": {
      "text/plain": [
       "-0.06*pi*x*cos(0.3*pi*x*y) - 0.14*pi*y*cos(0.2*pi*x*y) - 0.2*pi*cos(0.5*pi*x) - 0.09*pi*cos(0.3*pi*y)"
      ]
     },
     "execution_count": 73,
     "metadata": {},
     "output_type": "execute_result"
    }
   ],
   "source": [
    "-divVec2(uvec, x, y)"
   ]
  },
  {
   "cell_type": "markdown",
   "metadata": {},
   "source": [
    "### Or testing with a simple diffusion term"
   ]
  },
  {
   "cell_type": "code",
   "execution_count": 96,
   "metadata": {
    "collapsed": false
   },
   "outputs": [
    {
     "name": "stdout",
     "output_type": "stream",
     "text": [
      "0.02*pi**2*x**2*sin(0.2*pi*x*y) + 0.02*pi**2*y**2*sin(0.2*pi*x*y) + 0.125*pi**2*sin(0.5*pi*x) + 0.09*pi**2*sin(0.3*pi*y)\n"
     ]
    }
   ],
   "source": [
    "diff_term = -laplace2(p, x, y)\n",
    "print(diff_term)"
   ]
  },
  {
   "cell_type": "markdown",
   "metadata": {},
   "source": [
    "## Turbulent kinetic energy equation"
   ]
  },
  {
   "cell_type": "code",
   "execution_count": 99,
   "metadata": {
    "collapsed": true
   },
   "outputs": [
    {
     "name": "stdout",
     "output_type": "stream",
     "text": [
      "rho*(0.28*pi*x*cos(0.4*pi*x*y) + 0.63*pi*cos(0.7*pi*y))*(0.6*sin(0.8*pi*x) + 0.3*sin(0.3*pi*y) + 0.2*sin(0.3*pi*x*y) + 0.3) + rho*(0.28*pi*y*cos(0.4*pi*x*y) + 0.28*pi*cos(0.7*pi*x))*(0.4*sin(0.5*pi*x) + 0.4*sin(pi*y) + 0.7*sin(0.2*pi*x*y) + 0.5) - 0.045*rho*((0.12*pi*x*cos(0.3*pi*x*y) + 0.18*pi*cos(0.3*pi*y))**2 + (0.28*pi*y*cos(0.2*pi*x*y) + 0.4*pi*cos(0.5*pi*x))**2 + 2*(0.14*pi*x*cos(0.2*pi*x*y) + 0.06*pi*y*cos(0.3*pi*x*y) + 0.48*pi*cos(0.8*pi*x) + 0.4*pi*cos(pi*y))**2)*(0.4*sin(0.7*pi*x) + 0.9*sin(0.7*pi*y) + 0.7*sin(0.4*pi*x*y) + 0.4)**2/(0.6*sin(0.3*pi*x) + 0.9*sin(0.9*pi*y) + 0.8*sin(0.6*pi*x*y) + 0.5) + rho*(0.6*sin(0.3*pi*x) + 0.9*sin(0.9*pi*y) + 0.8*sin(0.6*pi*x*y) + 0.5) - (mu + 0.09*rho*(0.4*sin(0.7*pi*x) + 0.9*sin(0.7*pi*y) + 0.7*sin(0.4*pi*x*y) + 0.4)**2/(0.6*sin(0.3*pi*x) + 0.9*sin(0.9*pi*y) + 0.8*sin(0.6*pi*x*y) + 0.5))*(-0.112*pi**2*x**2*sin(0.4*pi*x*y) - 0.441*pi**2*sin(0.7*pi*y)) - (mu + 0.09*rho*(0.4*sin(0.7*pi*x) + 0.9*sin(0.7*pi*y) + 0.7*sin(0.4*pi*x*y) + 0.4)**2/(0.6*sin(0.3*pi*x) + 0.9*sin(0.9*pi*y) + 0.8*sin(0.6*pi*x*y) + 0.5))*(-0.112*pi**2*y**2*sin(0.4*pi*x*y) - 0.196*pi**2*sin(0.7*pi*x)) - (0.28*pi*x*cos(0.4*pi*x*y) + 0.63*pi*cos(0.7*pi*y))*(0.09*rho*(0.56*pi*x*cos(0.4*pi*x*y) + 1.26*pi*cos(0.7*pi*y))*(0.4*sin(0.7*pi*x) + 0.9*sin(0.7*pi*y) + 0.7*sin(0.4*pi*x*y) + 0.4)/(0.6*sin(0.3*pi*x) + 0.9*sin(0.9*pi*y) + 0.8*sin(0.6*pi*x*y) + 0.5) + 0.09*rho*(-0.48*pi*x*cos(0.6*pi*x*y) - 0.81*pi*cos(0.9*pi*y))*(0.4*sin(0.7*pi*x) + 0.9*sin(0.7*pi*y) + 0.7*sin(0.4*pi*x*y) + 0.4)**2/(0.6*sin(0.3*pi*x) + 0.9*sin(0.9*pi*y) + 0.8*sin(0.6*pi*x*y) + 0.5)**2) - (0.28*pi*y*cos(0.4*pi*x*y) + 0.28*pi*cos(0.7*pi*x))*(0.09*rho*(0.56*pi*y*cos(0.4*pi*x*y) + 0.56*pi*cos(0.7*pi*x))*(0.4*sin(0.7*pi*x) + 0.9*sin(0.7*pi*y) + 0.7*sin(0.4*pi*x*y) + 0.4)/(0.6*sin(0.3*pi*x) + 0.9*sin(0.9*pi*y) + 0.8*sin(0.6*pi*x*y) + 0.5) + 0.09*rho*(-0.48*pi*y*cos(0.6*pi*x*y) - 0.18*pi*cos(0.3*pi*x))*(0.4*sin(0.7*pi*x) + 0.9*sin(0.7*pi*y) + 0.7*sin(0.4*pi*x*y) + 0.4)**2/(0.6*sin(0.3*pi*x) + 0.9*sin(0.9*pi*y) + 0.8*sin(0.6*pi*x*y) + 0.5)**2)\n"
     ]
    }
   ],
   "source": [
    "cmu = 0.09\n",
    "sigk = 1.\n",
    "sigeps = 1.3\n",
    "c1eps = 1.44\n",
    "c2eps = 1.92\n",
    "\n",
    "conv_term = rho * uvec.transpose() * gradScalar2(k, x, y)\n",
    "diff_term = - divVec2((mu + rho * cmu * k**2 / eps / sigk) * gradScalar2(k, x, y), x, y)\n",
    "creation_term = - rho * cmu * k**2 / eps / 2 * strain_rate_squared_2(uvec, x, y)\n",
    "destruction_term = rho * eps\n",
    "\n",
    "terms = [conv_term[0,0], diff_term, creation_term, destruction_term]\n",
    "L = 0\n",
    "for term in terms:\n",
    "    L += term\n",
    "print(L)"
   ]
  },
  {
   "cell_type": "markdown",
   "metadata": {},
   "source": [
    "## Turbulent dissipation"
   ]
  },
  {
   "cell_type": "code",
   "execution_count": 100,
   "metadata": {
    "collapsed": true
   },
   "outputs": [
    {
     "name": "stdout",
     "output_type": "stream",
     "text": [
      "rho*(0.48*pi*x*cos(0.6*pi*x*y) + 0.81*pi*cos(0.9*pi*y))*(0.6*sin(0.8*pi*x) + 0.3*sin(0.3*pi*y) + 0.2*sin(0.3*pi*x*y) + 0.3) + rho*(0.48*pi*y*cos(0.6*pi*x*y) + 0.18*pi*cos(0.3*pi*x))*(0.4*sin(0.5*pi*x) + 0.4*sin(pi*y) + 0.7*sin(0.2*pi*x*y) + 0.5) - 0.0648*rho*((0.12*pi*x*cos(0.3*pi*x*y) + 0.18*pi*cos(0.3*pi*y))**2 + (0.28*pi*y*cos(0.2*pi*x*y) + 0.4*pi*cos(0.5*pi*x))**2 + 2*(0.14*pi*x*cos(0.2*pi*x*y) + 0.06*pi*y*cos(0.3*pi*x*y) + 0.48*pi*cos(0.8*pi*x) + 0.4*pi*cos(pi*y))**2)*(0.4*sin(0.7*pi*x) + 0.9*sin(0.7*pi*y) + 0.7*sin(0.4*pi*x*y) + 0.4) + 1.92*rho*(0.6*sin(0.3*pi*x) + 0.9*sin(0.9*pi*y) + 0.8*sin(0.6*pi*x*y) + 0.5)**2/(0.4*sin(0.7*pi*x) + 0.9*sin(0.7*pi*y) + 0.7*sin(0.4*pi*x*y) + 0.4) - (mu + 0.0692307692307692*rho*(0.4*sin(0.7*pi*x) + 0.9*sin(0.7*pi*y) + 0.7*sin(0.4*pi*x*y) + 0.4)**2/(0.6*sin(0.3*pi*x) + 0.9*sin(0.9*pi*y) + 0.8*sin(0.6*pi*x*y) + 0.5))*(-0.288*pi**2*x**2*sin(0.6*pi*x*y) - 0.729*pi**2*sin(0.9*pi*y)) - (mu + 0.0692307692307692*rho*(0.4*sin(0.7*pi*x) + 0.9*sin(0.7*pi*y) + 0.7*sin(0.4*pi*x*y) + 0.4)**2/(0.6*sin(0.3*pi*x) + 0.9*sin(0.9*pi*y) + 0.8*sin(0.6*pi*x*y) + 0.5))*(-0.288*pi**2*y**2*sin(0.6*pi*x*y) - 0.054*pi**2*sin(0.3*pi*x)) - (0.48*pi*x*cos(0.6*pi*x*y) + 0.81*pi*cos(0.9*pi*y))*(0.0692307692307692*rho*(0.56*pi*x*cos(0.4*pi*x*y) + 1.26*pi*cos(0.7*pi*y))*(0.4*sin(0.7*pi*x) + 0.9*sin(0.7*pi*y) + 0.7*sin(0.4*pi*x*y) + 0.4)/(0.6*sin(0.3*pi*x) + 0.9*sin(0.9*pi*y) + 0.8*sin(0.6*pi*x*y) + 0.5) + 0.0692307692307692*rho*(-0.48*pi*x*cos(0.6*pi*x*y) - 0.81*pi*cos(0.9*pi*y))*(0.4*sin(0.7*pi*x) + 0.9*sin(0.7*pi*y) + 0.7*sin(0.4*pi*x*y) + 0.4)**2/(0.6*sin(0.3*pi*x) + 0.9*sin(0.9*pi*y) + 0.8*sin(0.6*pi*x*y) + 0.5)**2) - (0.48*pi*y*cos(0.6*pi*x*y) + 0.18*pi*cos(0.3*pi*x))*(0.0692307692307692*rho*(0.56*pi*y*cos(0.4*pi*x*y) + 0.56*pi*cos(0.7*pi*x))*(0.4*sin(0.7*pi*x) + 0.9*sin(0.7*pi*y) + 0.7*sin(0.4*pi*x*y) + 0.4)/(0.6*sin(0.3*pi*x) + 0.9*sin(0.9*pi*y) + 0.8*sin(0.6*pi*x*y) + 0.5) + 0.0692307692307692*rho*(-0.48*pi*y*cos(0.6*pi*x*y) - 0.18*pi*cos(0.3*pi*x))*(0.4*sin(0.7*pi*x) + 0.9*sin(0.7*pi*y) + 0.7*sin(0.4*pi*x*y) + 0.4)**2/(0.6*sin(0.3*pi*x) + 0.9*sin(0.9*pi*y) + 0.8*sin(0.6*pi*x*y) + 0.5)**2)\n"
     ]
    }
   ],
   "source": [
    "cmu = 0.09\n",
    "sigk = 1.\n",
    "sigeps = 1.3\n",
    "c1eps = 1.44\n",
    "c2eps = 1.92\n",
    "\n",
    "conv_term = rho * uvec.transpose() * gradScalar2(eps, x, y)\n",
    "diff_term = - divVec2((mu + rho * cmu * k**2 / eps / sigeps) * gradScalar2(eps, x, y), x, y)\n",
    "creation_term = - rho * c1eps * cmu * k / 2 * strain_rate_squared_2(uvec, x, y)\n",
    "destruction_term = rho * c2eps * eps**2 / k\n",
    "\n",
    "terms = [conv_term[0,0], diff_term, creation_term, destruction_term]\n",
    "L = 0\n",
    "for term in terms:\n",
    "    L += term\n",
    "print(L)"
   ]
  },
  {
   "cell_type": "markdown",
   "metadata": {},
   "source": [
    "## Simple diffusion"
   ]
  },
  {
   "cell_type": "code",
   "execution_count": 93,
   "metadata": {
    "collapsed": false
   },
   "outputs": [
    {
     "name": "stdout",
     "output_type": "stream",
     "text": [
      "0.028*pi**2*x**2*sin(0.2*pi*x*y) + 0.028*pi**2*y**2*sin(0.2*pi*x*y) + 0.1*pi**2*sin(0.5*pi*x) + 0.4*pi**2*sin(pi*y)\n"
     ]
    }
   ],
   "source": [
    "diff_term = -laplace2(u, x, y)\n",
    "print(diff_term)"
   ]
  },
  {
   "cell_type": "code",
   "execution_count": 69,
   "metadata": {
    "collapsed": true
   },
   "outputs": [],
   "source": [
    "def z(func, xh, yh):\n",
    "    u = np.zeros(xh.shape)\n",
    "    for i in range(0,xh.shape[0]):\n",
    "        for j in range(0,xh.shape[1]):\n",
    "            u[i][j] = func.subs({x:xh[i][j], y:yh[i][j]}).evalf()\n",
    "#             print(func.subs({x:xh[i][j], y:yh[i][j]}).evalf())\n",
    "    return u\n",
    "            \n",
    "\n",
    "xnum = np.arange(0, 1.01, .05)\n",
    "ynum = np.arange(0, 1.01, .05)\n",
    "xgrid, ygrid = np.meshgrid(xnum, ynum)\n",
    "uh = z(u, xgrid, ygrid)\n",
    "\n",
    "vh = z(v, xgrid, ygrid)\n",
    "ph = z(p, xgrid, ygrid)\n",
    "kh = z(k, xgrid, ygrid)\n",
    "epsh = z(eps, xgrid, ygrid)"
   ]
  },
  {
   "cell_type": "code",
   "execution_count": 72,
   "metadata": {
    "collapsed": false
   },
   "outputs": [
    {
     "data": {
      "image/png": "[encoded data removed]",
      "text/plain": [
       "<matplotlib.figure.Figure at 0x7fabcffea748>"
      ]
     },
     "metadata": {},
     "output_type": "display_data"
    },
    {
     "data": {
      "image/png": "[encoded data removed]",
      "text/plain": [
       "<matplotlib.figure.Figure at 0x7fabcfcd9588>"
      ]
     },
     "metadata": {},
     "output_type": "display_data"
    },
    {
     "data": {
      "image/png": "[encoded data removed]",
      "text/plain": [
       "<matplotlib.figure.Figure at 0x7fabd367bb00>"
      ]
     },
     "metadata": {},
     "output_type": "display_data"
    },
    {
     "data": {
      "image/png": "[encoded data removed]",
      "text/plain": [
       "<matplotlib.figure.Figure at 0x7fabcfd6de10>"
      ]
     },
     "metadata": {},
     "output_type": "display_data"
    },
    {
     "data": {
      "image/png": "[encoded data removed]",
      "text/plain": [
       "<matplotlib.figure.Figure at 0x7fabcfd8a470>"
      ]
     },
     "metadata": {},
     "output_type": "display_data"
    }
   ],
   "source": [
    "import matplotlib.pyplot as plt\n",
    "\n",
    "plot_funcs = [uh, vh, ph, kh, epsh]\n",
    "\n",
    "for func in plot_funcs:\n",
    "    plt.pcolor(xgrid, ygrid, func, cmap='coolwarm')\n",
    "    cbar = plt.colorbar()\n",
    "    plt.show()"
   ]
  },
  {
   "cell_type": "code",
   "execution_count": 112,
   "metadata": {
    "collapsed": false
   },
   "outputs": [
    {
     "data": {
      "image/png": "[encoded data removed]",
      "text/latex": [
       "$$\\frac{\\partial}{\\partial x} f{\\left (x,y \\right )}$$"
      ],
      "text/plain": [
       "∂          \n",
       "──(f(x, y))\n",
       "∂x         "
      ]
     },
     "execution_count": 112,
     "metadata": {},
     "output_type": "execute_result"
    }
   ],
   "source": [
    "f, g = symbols('f g', cls=Function)\n",
    "f(x,y).diff(x)"
   ]
  },
  {
   "cell_type": "code",
   "execution_count": 123,
   "metadata": {
    "collapsed": false
   },
   "outputs": [
    {
     "data": {
      "image/png": "[encoded data removed]",
      "text/latex": [
       "$$- n_{x} \\left(n_{x} \\left(2 n_{x} \\frac{\\partial}{\\partial x} \\operatorname{v_{x}}{\\left (x,y \\right )} + n_{y} \\left(\\frac{\\partial}{\\partial y} \\operatorname{v_{x}}{\\left (x,y \\right )} + \\frac{\\partial}{\\partial x} \\operatorname{v_{y}}{\\left (x,y \\right )}\\right)\\right) + n_{y} \\left(n_{x} \\left(\\frac{\\partial}{\\partial y} \\operatorname{v_{x}}{\\left (x,y \\right )} + \\frac{\\partial}{\\partial x} \\operatorname{v_{y}}{\\left (x,y \\right )}\\right) + 2 n_{y} \\frac{\\partial}{\\partial y} \\operatorname{v_{y}}{\\left (x,y \\right )}\\right)\\right) + 2 n_{x} \\frac{\\partial}{\\partial x} \\operatorname{v_{x}}{\\left (x,y \\right )} + n_{y} \\left(\\frac{\\partial}{\\partial y} \\operatorname{v_{x}}{\\left (x,y \\right )} + \\frac{\\partial}{\\partial x} \\operatorname{v_{y}}{\\left (x,y \\right )}\\right)$$"
      ],
      "text/plain": [
       "     ⎛   ⎛     ∂                  ⎛∂              ∂            ⎞⎞       ⎛   ⎛∂\n",
       "- nₓ⋅⎜nₓ⋅⎜2⋅nₓ⋅──(vₓ(x, y)) + n_y⋅⎜──(vₓ(x, y)) + ──(v_y(x, y))⎟⎟ + n_y⋅⎜nₓ⋅⎜─\n",
       "     ⎝   ⎝     ∂x                 ⎝∂y             ∂x           ⎠⎠       ⎝   ⎝∂\n",
       "\n",
       "              ∂            ⎞         ∂            ⎞⎞        ∂                 \n",
       "─(vₓ(x, y)) + ──(v_y(x, y))⎟ + 2⋅n_y⋅──(v_y(x, y))⎟⎟ + 2⋅nₓ⋅──(vₓ(x, y)) + n_y\n",
       "y             ∂x           ⎠         ∂y           ⎠⎠        ∂x                \n",
       "\n",
       " ⎛∂              ∂            ⎞\n",
       "⋅⎜──(vₓ(x, y)) + ──(v_y(x, y))⎟\n",
       " ⎝∂y             ∂x           ⎠"
      ]
     },
     "execution_count": 123,
     "metadata": {},
     "output_type": "execute_result"
    }
   ],
   "source": [
    "vx, vy = symbols('v_x v_y', cls=Function)\n",
    "mu, x, y = var('mu x y')\n",
    "nx, ny = var('n_x n_y')\n",
    "n = sp.Matrix([nx, ny])\n",
    "v_vec = sp.Matrix([vx(x, y), vy(x, y)])\n",
    "sigma = strain_rate(v_vec, x, y)\n",
    "\n",
    "tw = n.transpose() * sigma - n.transpose() * sigma * n * n.transpose()\n",
    "tw[0]"
   ]
  },
  {
   "cell_type": "code",
   "execution_count": 124,
   "metadata": {
    "collapsed": false
   },
   "outputs": [
    {
     "data": {
      "image/png": "[encoded data removed]",
      "text/latex": [
       "$$n_{x} \\left(\\frac{\\partial}{\\partial y} \\operatorname{v_{x}}{\\left (x,y \\right )} + \\frac{\\partial}{\\partial x} \\operatorname{v_{y}}{\\left (x,y \\right )}\\right) - n_{y} \\left(n_{x} \\left(2 n_{x} \\frac{\\partial}{\\partial x} \\operatorname{v_{x}}{\\left (x,y \\right )} + n_{y} \\left(\\frac{\\partial}{\\partial y} \\operatorname{v_{x}}{\\left (x,y \\right )} + \\frac{\\partial}{\\partial x} \\operatorname{v_{y}}{\\left (x,y \\right )}\\right)\\right) + n_{y} \\left(n_{x} \\left(\\frac{\\partial}{\\partial y} \\operatorname{v_{x}}{\\left (x,y \\right )} + \\frac{\\partial}{\\partial x} \\operatorname{v_{y}}{\\left (x,y \\right )}\\right) + 2 n_{y} \\frac{\\partial}{\\partial y} \\operatorname{v_{y}}{\\left (x,y \\right )}\\right)\\right) + 2 n_{y} \\frac{\\partial}{\\partial y} \\operatorname{v_{y}}{\\left (x,y \\right )}$$"
      ],
      "text/plain": [
       "   ⎛∂              ∂            ⎞       ⎛   ⎛     ∂                  ⎛∂       \n",
       "nₓ⋅⎜──(vₓ(x, y)) + ──(v_y(x, y))⎟ - n_y⋅⎜nₓ⋅⎜2⋅nₓ⋅──(vₓ(x, y)) + n_y⋅⎜──(vₓ(x,\n",
       "   ⎝∂y             ∂x           ⎠       ⎝   ⎝     ∂x                 ⎝∂y      \n",
       "\n",
       "       ∂            ⎞⎞       ⎛   ⎛∂              ∂            ⎞         ∂     \n",
       " y)) + ──(v_y(x, y))⎟⎟ + n_y⋅⎜nₓ⋅⎜──(vₓ(x, y)) + ──(v_y(x, y))⎟ + 2⋅n_y⋅──(v_y\n",
       "       ∂x           ⎠⎠       ⎝   ⎝∂y             ∂x           ⎠         ∂y    \n",
       "\n",
       "       ⎞⎞         ∂            \n",
       "(x, y))⎟⎟ + 2⋅n_y⋅──(v_y(x, y))\n",
       "       ⎠⎠         ∂y           "
      ]
     },
     "execution_count": 124,
     "metadata": {},
     "output_type": "execute_result"
    }
   ],
   "source": [
    "tw[1]"
   ]
  },
  {
   "cell_type": "code",
   "execution_count": 129,
   "metadata": {
    "collapsed": false
   },
   "outputs": [
    {
     "data": {
      "image/png": "[encoded data removed]",
      "text/latex": [
       "$$\\frac{\\partial}{\\partial y} \\operatorname{v_{x}}{\\left (x,y \\right )}$$"
      ],
      "text/plain": [
       "∂           \n",
       "──(vₓ(x, y))\n",
       "∂y          "
      ]
     },
     "execution_count": 129,
     "metadata": {},
     "output_type": "execute_result"
    }
   ],
   "source": [
    "vx, vy = symbols('v_x v_y', cls=Function)\n",
    "mu, x, y = var('mu x y')\n",
    "nx, ny = var('n_x n_y')\n",
    "n = sp.Matrix([Integer(0), Integer(1)])\n",
    "v_vec = sp.Matrix([vx(x, y), 0])\n",
    "sigma = strain_rate(v_vec, x, y)\n",
    "\n",
    "tw = n.transpose() * sigma - n.transpose() * sigma * n * n.transpose()\n",
    "tw[0]"
   ]
  },
  {
   "cell_type": "markdown",
   "metadata": {},
   "source": [
    "# Verified RANS kernels\n",
    "\n",
    "- INSK\n",
    "- INSEpsilon\n",
    "- INSMomentumTurbulentViscosityTractionForm\n",
    "- INSMomentumTurbulentViscosityLaplaceForm\n",
    "- INSMomentumShearStressWallFunction with |u|/yStarPlus branch of uTau\n",
    "\n",
    "with exp_form = false."
   ]
  },
  {
   "cell_type": "code",
   "execution_count": 130,
   "metadata": {
    "collapsed": false
   },
   "outputs": [
    {
     "data": {
      "image/png": "[encoded data removed]",
      "text/latex": [
       "$$0.4 \\sin{\\left (0.5 \\pi x \\right )} + 0.4 \\sin{\\left (\\pi y \\right )} + 0.7 \\sin{\\left (0.2 \\pi x y \\right )} + 0.5$$"
      ],
      "text/plain": [
       "0.4⋅sin(0.5⋅π⋅x) + 0.4⋅sin(π⋅y) + 0.7⋅sin(0.2⋅π⋅x⋅y) + 0.5"
      ]
     },
     "execution_count": 130,
     "metadata": {},
     "output_type": "execute_result"
    }
   ],
   "source": [
    "u"
   ]
  },
  {
   "cell_type": "code",
   "execution_count": 113,
   "metadata": {
    "collapsed": true
   },
   "outputs": [],
   "source": [
    "import sympy as sp\n",
    "\n",
    "def gradVec2(u_vec, x, y):\n",
    "    return sp.Matrix([[diff(u_vec[0], x), diff(u_vec[1],x)], [diff(u_vec[0], y), diff(u_vec[1], y)]])\n",
    "\n",
    "def divTen2(tensor, x, y):\n",
    "    return sp.Matrix([diff(tensor[0,0], x) + diff(tensor[1,0], y), diff(tensor[0, 1], x) + diff(tensor[1,1], y)])\n",
    "\n",
    "def divVec2(u_vec, x, y):\n",
    "    return diff(u_vec[0], x) + diff(u_vec[1], y)\n",
    "\n",
    "def gradScalar2(u, x, y):\n",
    "    return sp.Matrix([diff(u, x), diff(u,y)])\n",
    "\n",
    "def strain_rate(u_vec, x, y):\n",
    "    return gradVec2(u_vec, x, y) + gradVec2(u_vec, x, y).transpose()\n",
    "\n",
    "def strain_rate_squared_2(u_vec, x, y):\n",
    "    tensor = gradVec2(u_vec, x, y) + gradVec2(u_vec, x, y).transpose()\n",
    "    rv = 0\n",
    "    for i in range(2):\n",
    "        for j in range(2):\n",
    "            rv += tensor[i, j] * tensor[i, j]\n",
    "    return rv\n",
    "\n",
    "def laplace2(u, x, y):\n",
    "    return diff(diff(u, x), x) + diff(diff(u, y), y)"
   ]
  },
  {
   "cell_type": "code",
   "execution_count": 210,
   "metadata": {
    "collapsed": true
   },
   "outputs": [],
   "source": [
    "def L_momentum_traction(uvec, k, eps, x, y):\n",
    "    cmu = 0.09\n",
    "    mu, rho = sp.var('mu rho')\n",
    "    visc_term = (-mu * divTen2(gradVec2(uvec, x, y) + gradVec2(uvec, x, y).transpose(), x, y)).transpose()\n",
    "    conv_term = rho * uvec.transpose() * gradVec2(uvec, x, y)\n",
    "    pressure_term = gradScalar2(p, x, y).transpose()\n",
    "    turbulent_visc_term = -(divTen2(rho * cmu * k**2 / eps * (gradVec2(uvec, x, y) + gradVec2(uvec, x, y).transpose()), x, y)).transpose()\n",
    "    # print(visc_term.shape, conv_term.shape, pressure_term.shape, sep=\"\\n\")\n",
    "    source = conv_term + visc_term + pressure_term + turbulent_visc_term\n",
    "    return source\n",
    "\n",
    "def bc_terms_momentum_traction(uvec, nvec, k, eps, x, y):\n",
    "    cmu = 0.09\n",
    "    mu, rho = sp.var('mu rho')\n",
    "    visc_term = (-mu * nvec.transpose() * (gradVec2(uvec, x, y) + gradVec2(uvec, x, y).transpose(), x, y)).transpose()\n",
    "    turbulent_visc_term = -(nvec.transpose() * (rho * cmu * k**2 / eps * (gradVec2(uvec, x, y) + gradVec2(uvec, x, y).transpose()), x, y)).transpose()\n",
    "    return visc_term + turbulent_visc_term\n",
    "    \n",
    "def L_momentum_laplace(uvec, k, eps, x, y):\n",
    "    cmu = 0.09\n",
    "    mu, rho = var('mu rho')\n",
    "    visc_term = (-mu * divTen2(gradVec2(uvec, x, y), x, y)).transpose()\n",
    "    conv_term = rho * uvec.transpose() * gradVec2(uvec, x, y)\n",
    "    pressure_term = gradScalar2(p, x, y).transpose()\n",
    "    turbulent_visc_term = -(divTen2(rho * cmu * k**2 / eps * (gradVec2(uvec, x, y)), x, y)).transpose()\n",
    "    # print(visc_term.shape, conv_term.shape, pressure_term.shape, sep=\"\\n\")\n",
    "    source = conv_term + visc_term + pressure_term + turbulent_visc_term\n",
    "    return source\n",
    "\n",
    "def L_pressure(uvec, x, y):\n",
    "    return -divVec2(uvec, x, y)\n",
    "\n",
    "def L_kin(uvec, k, eps, x, y):\n",
    "    cmu = 0.09\n",
    "    sigk = 1.\n",
    "    sigeps = 1.3\n",
    "    c1eps = 1.44\n",
    "    c2eps = 1.92\n",
    "    conv_term = rho * uvec.transpose() * gradScalar2(k, x, y)\n",
    "    diff_term = - divVec2((mu + rho * cmu * k**2 / eps / sigk) * gradScalar2(k, x, y), x, y)\n",
    "    creation_term = - rho * cmu * k**2 / eps / 2 * strain_rate_squared_2(uvec, x, y)\n",
    "    destruction_term = rho * eps\n",
    "    terms = [conv_term[0,0], diff_term, creation_term, destruction_term]\n",
    "    L = 0\n",
    "    for term in terms:\n",
    "        L += term\n",
    "    return L\n",
    "\n",
    "def L_eps(uvec, k, eps, x, y):\n",
    "    cmu = 0.09\n",
    "    sigk = 1.\n",
    "    sigeps = 1.3\n",
    "    c1eps = 1.44\n",
    "    c2eps = 1.92\n",
    "    conv_term = rho * uvec.transpose() * gradScalar2(eps, x, y)\n",
    "    diff_term = - divVec2((mu + rho * cmu * k**2 / eps / sigeps) * gradScalar2(eps, x, y), x, y)\n",
    "    creation_term = - rho * c1eps * cmu * k / 2 * strain_rate_squared_2(uvec, x, y)\n",
    "    destruction_term = rho * c2eps * eps**2 / k\n",
    "    terms = [conv_term[0,0], diff_term, creation_term, destruction_term]\n",
    "    L = 0\n",
    "    for term in terms:\n",
    "        L += term\n",
    "    return L"
   ]
  },
  {
   "cell_type": "code",
   "execution_count": 159,
   "metadata": {
    "collapsed": true
   },
   "outputs": [],
   "source": [
    "def prep_moose_input(sym_expr):\n",
    "    rep1 = re.sub(r'\\*\\*',r'^',str(sym_expr))\n",
    "    rep2 = re.sub(r'mu',r'${mu}',rep1)\n",
    "    rep3 = re.sub(r'rho',r'${rho}',rep2)\n",
    "    return rep3\n",
    "\n",
    "def write_all_functions():\n",
    "    target = open('/home/lindsayad/python/mms_input.txt','w')\n",
    "    target.write(\"[Functions]\" + \"\\n\")\n",
    "    target.write(\"  [./u_source_func]\" + \"\\n\")\n",
    "    target.write(\"    type = ParsedFunction\" + \"\\n\")\n",
    "    target.write(\"    value = '\" + prep_moose_input(L_momentum_traction(uVecNew, kinNew, epsilonNew, x, y)[0]) + \"'\" + \"\\n\")\n",
    "    target.write(\"  [../]\" + \"\\n\")\n",
    "    target.write(\"  [./v_source_func]\" + \"\\n\")\n",
    "    target.write(\"    type = ParsedFunction\" + \"\\n\")\n",
    "    target.write(\"    value = '\" + prep_moose_input(L_momentum_traction(uVecNew, kinNew, epsilonNew, x, y)[1]) + \"'\" + \"\\n\")\n",
    "    target.write(\"  [../]\" + \"\\n\")\n",
    "    target.write(\"  [./p_source_func]\" + \"\\n\")\n",
    "    target.write(\"    type = ParsedFunction\" + \"\\n\")\n",
    "    target.write(\"    value = '\" + prep_moose_input(L_pressure(uVecNew, x, y)) + \"'\" + \"\\n\")\n",
    "    target.write(\"  [../]\" + \"\\n\")\n",
    "    target.write(\"  [./kin_source_func]\" + \"\\n\")\n",
    "    target.write(\"    type = ParsedFunction\" + \"\\n\")\n",
    "    target.write(\"    value = '\" + prep_moose_input(L_kin(uVecNew, kinNew, epsilonNew, x, y)) + \"'\" + \"\\n\")\n",
    "    target.write(\"  [../]\" + \"\\n\")\n",
    "    target.write(\"  [./epsilon_source_func]\" + \"\\n\")\n",
    "    target.write(\"    type = ParsedFunction\" + \"\\n\")\n",
    "    target.write(\"    value = '\" + prep_moose_input(L_eps(uVecNew, kinNew, epsilonNew, x, y)) + \"'\" + \"\\n\")\n",
    "    target.write(\"  [../]\" + \"\\n\")\n",
    "    target.write(\"  [./u_func]\" + \"\\n\")\n",
    "    target.write(\"    type = ParsedFunction\" + \"\\n\")\n",
    "    target.write(\"    value = '\" + str(uNew) + \"'\" + \"\\n\")\n",
    "    target.write(\"  [../]\" + \"\\n\")\n",
    "    target.write(\"  [./v_func]\" + \"\\n\")\n",
    "    target.write(\"    type = ParsedFunction\" + \"\\n\")\n",
    "    target.write(\"    value = '\" + str(vNew) + \"'\" + \"\\n\")\n",
    "    target.write(\"  [../]\" + \"\\n\")\n",
    "    target.write(\"  [./p_func]\" + \"\\n\")\n",
    "    target.write(\"    type = ParsedFunction\" + \"\\n\")\n",
    "    target.write(\"    value = '\" + str(pNew) + \"'\" + \"\\n\")\n",
    "    target.write(\"  [../]\" + \"\\n\")\n",
    "    target.write(\"  [./kin_func]\" + \"\\n\")\n",
    "    target.write(\"    type = ParsedFunction\" + \"\\n\")\n",
    "    target.write(\"    value = '\" + str(kinNew) + \"'\" + \"\\n\")\n",
    "    target.write(\"  [../]\" + \"\\n\")\n",
    "    target.write(\"  [./epsilon_func]\" + \"\\n\")\n",
    "    target.write(\"    type = ParsedFunction\" + \"\\n\")\n",
    "    target.write(\"    value = '\" + str(epsilonNew) + \"'\" + \"\\n\")\n",
    "    target.write(\"  [../]\" + \"\\n\")\n",
    "    target.write(\"[]\" + \"\\n\")\n",
    "    target.close()\n",
    "    \n",
    "def write_reduced_functions():\n",
    "    target = open('/home/lindsayad/python/mms_input.txt','w')\n",
    "    target.write(\"[Functions]\" + \"\\n\")\n",
    "    target.write(\"  [./u_source_func]\" + \"\\n\")\n",
    "    target.write(\"    type = ParsedFunction\" + \"\\n\")\n",
    "    target.write(\"    value = '\" + prep_moose_input(L_momentum_traction(uVecNew, kinNew, epsilonNew, x, y)[0]) + \"'\" + \"\\n\")\n",
    "    target.write(\"  [../]\" + \"\\n\")\n",
    "    target.write(\"  [./kin_source_func]\" + \"\\n\")\n",
    "    target.write(\"    type = ParsedFunction\" + \"\\n\")\n",
    "    target.write(\"    value = '\" + prep_moose_input(L_kin(uVecNew, kinNew, epsilonNew, x, y)) + \"'\" + \"\\n\")\n",
    "    target.write(\"  [../]\" + \"\\n\")\n",
    "    target.write(\"  [./epsilon_source_func]\" + \"\\n\")\n",
    "    target.write(\"    type = ParsedFunction\" + \"\\n\")\n",
    "    target.write(\"    value = '\" + prep_moose_input(L_eps(uVecNew, kinNew, epsilonNew, x, y)) + \"'\" + \"\\n\")\n",
    "    target.write(\"  [../]\" + \"\\n\")\n",
    "    target.write(\"  [./u_func]\" + \"\\n\")\n",
    "    target.write(\"    type = ParsedFunction\" + \"\\n\")\n",
    "    target.write(\"    value = '\" + str(uNew) + \"'\" + \"\\n\")\n",
    "    target.write(\"  [../]\" + \"\\n\")\n",
    "    target.write(\"  [./kin_func]\" + \"\\n\")\n",
    "    target.write(\"    type = ParsedFunction\" + \"\\n\")\n",
    "    target.write(\"    value = '\" + str(kinNew) + \"'\" + \"\\n\")\n",
    "    target.write(\"  [../]\" + \"\\n\")\n",
    "    target.write(\"  [./epsilon_func]\" + \"\\n\")\n",
    "    target.write(\"    type = ParsedFunction\" + \"\\n\")\n",
    "    target.write(\"    value = '\" + str(epsilonNew) + \"'\" + \"\\n\")\n",
    "    target.write(\"  [../]\" + \"\\n\")\n",
    "    target.write(\"[]\" + \"\\n\")\n",
    "    target.close()"
   ]
  },
  {
   "cell_type": "code",
   "execution_count": 205,
   "metadata": {
    "collapsed": true
   },
   "outputs": [],
   "source": [
    "yStarPlus = 11.06\n",
    "\n",
    "# uNew = yStarPlus**2 / y + u * (y - 1.) * 200\n",
    "# uNew = u * (y - 1.) * 200\n",
    "# vNew = Integer(0)\n",
    "# vNew = v * (y - 1.5) * 200\n",
    "\n",
    "# pNew = Integer(0)\n",
    "\n",
    "# # Converges\n",
    "# uNew = u\n",
    "# vNew = v\n",
    "# pNew = p\n",
    "# kinNew = k\n",
    "# epsilonNew = eps\n",
    "\n",
    "# # Does not converge\n",
    "# uNew = u * 200\n",
    "# vNew = v * 200\n",
    "# pNew = p * 200\n",
    "# kinNew = k * 200\n",
    "# epsilonNew = eps * 200\n",
    "\n",
    "# # Converges\n",
    "# uNew = u * (y - 1.)\n",
    "# vNew = v\n",
    "# pNew = p\n",
    "# kinNew = k\n",
    "# epsilonNew = eps\n",
    "\n",
    "# # Converges\n",
    "# uNew = u * (y - 1.) + 1. / y\n",
    "# vNew = v\n",
    "# pNew = p\n",
    "# kinNew = k\n",
    "# epsilonNew = eps\n",
    "\n",
    "# # Does not converge\n",
    "# uNew = u * (y - 1.) + yStarPlus**2 / y\n",
    "# vNew = v\n",
    "# pNew = p\n",
    "# kinNew = k\n",
    "# epsilonNew = eps\n",
    "\n",
    "# # Converges\n",
    "# uNew = u * (y - 1.) + 1.1 / y\n",
    "# vNew = 0\n",
    "# pNew = 0\n",
    "# kinNew = k\n",
    "# epsilonNew = eps\n",
    "\n",
    "# Want to test natural boundary condition\n",
    "uNew = 0.5 + sin(pi * x / 2) + sin(pi * y / 2)\n",
    "vNew = 0\n",
    "pNew = 0\n",
    "kinNew = k\n",
    "epsilonNew = eps\n",
    "\n",
    "uVecNew = sp.Matrix([uNew, vNew])\n",
    "\n",
    "write_reduced_functions()"
   ]
  },
  {
   "cell_type": "code",
   "execution_count": 169,
   "metadata": {
    "collapsed": false
   },
   "outputs": [
    {
     "name": "stdout",
     "output_type": "stream",
     "text": [
      "0.4*sin(0.5*pi*x) + 0.4*sin(pi*y) + 0.7*sin(0.2*pi*x*y) + 0.5\n",
      "0.6*sin(0.8*pi*x) + 0.3*sin(0.3*pi*y) + 0.2*sin(0.3*pi*x*y) + 0.3\n",
      "0.5*sin(0.5*pi*x) + 1.0*sin(0.3*pi*y) + 0.5*sin(0.2*pi*x*y) + 0.5\n",
      "0.4*sin(0.7*pi*x) + 0.9*sin(0.7*pi*y) + 0.7*sin(0.4*pi*x*y) + 0.4\n",
      "0.6*sin(0.3*pi*x) + 0.9*sin(0.9*pi*y) + 0.8*sin(0.6*pi*x*y) + 0.5\n"
     ]
    }
   ],
   "source": [
    "print(u)\n",
    "print(v)\n",
    "print(p)\n",
    "print(k)\n",
    "print(eps)"
   ]
  },
  {
   "cell_type": "markdown",
   "metadata": {},
   "source": [
    "Ok, so apparently just scaling every variable's manufactured solution by 200 causes MOOSE convergence issues. Sigh"
   ]
  },
  {
   "cell_type": "code",
   "execution_count": null,
   "metadata": {
    "collapsed": true
   },
   "outputs": [],
   "source": [
    "vx, vy = symbols('v_x v_y', cls=Function)\n",
    "mu, x, y = var('mu x y')\n",
    "nx, ny = var('n_x n_y')\n",
    "n = sp.Matrix([Integer(0), Integer(1)])\n",
    "v_vec = sp.Matrix([vx(x, y), 0])\n",
    "kinFunc, epsFunc = symbols('kinFunc epsFunc', cls=Function)"
   ]
  },
  {
   "cell_type": "code",
   "execution_count": 225,
   "metadata": {
    "collapsed": false
   },
   "outputs": [],
   "source": [
    "blah = bc_terms_momentum_traction(uVecNew, n, kinNew, epsilonNew, x, y)"
   ]
  },
  {
   "cell_type": "code",
   "execution_count": 218,
   "metadata": {
    "collapsed": false
   },
   "outputs": [
    {
     "data": {
      "text/plain": [
       "sympy.matrices.dense.MutableDenseMatrix"
      ]
     },
     "execution_count": 218,
     "metadata": {},
     "output_type": "execute_result"
    }
   ],
   "source": [
    "type(blah)"
   ]
  },
  {
   "cell_type": "code",
   "execution_count": 226,
   "metadata": {
    "collapsed": false
   },
   "outputs": [
    {
     "data": {
      "image/png": "[encoded data removed]",
      "text/latex": [
       "$$\\left ( \\right )$$"
      ],
      "text/plain": [
       "()"
      ]
     },
     "execution_count": 226,
     "metadata": {},
     "output_type": "execute_result"
    }
   ],
   "source": [
    "blah[0]"
   ]
  },
  {
   "cell_type": "code",
   "execution_count": 207,
   "metadata": {
    "collapsed": false
   },
   "outputs": [
    {
     "data": {
      "image/png": "[encoded data removed]",
      "text/latex": [
       "$$\\mu \\frac{\\partial}{\\partial y} \\operatorname{v_{x}}{\\left (x,y \\right )}$$"
      ],
      "text/plain": [
       "  ∂           \n",
       "μ⋅──(vₓ(x, y))\n",
       "  ∂y          "
      ]
     },
     "execution_count": 207,
     "metadata": {},
     "output_type": "execute_result"
    }
   ],
   "source": [
    "sigma = mu * strain_rate(v_vec, x, y)\n",
    "\n",
    "tw = n.transpose() * sigma - n.transpose() * sigma * n * n.transpose()\n",
    "tw[0]"
   ]
  },
  {
   "cell_type": "code",
   "execution_count": 204,
   "metadata": {
    "collapsed": false
   },
   "outputs": [
    {
     "data": {
      "image/png": "[encoded data removed]",
      "text/latex": [
       "$$\\mu \\frac{\\partial}{\\partial y} \\operatorname{v_{x}}{\\left (x,y \\right )}$$"
      ],
      "text/plain": [
       "  ∂           \n",
       "μ⋅──(vₓ(x, y))\n",
       "  ∂y          "
      ]
     },
     "execution_count": 204,
     "metadata": {},
     "output_type": "execute_result"
    }
   ],
   "source": [
    "(n.transpose() * sigma)[0]"
   ]
  },
  {
   "cell_type": "code",
   "execution_count": 221,
   "metadata": {
    "collapsed": true
   },
   "outputs": [],
   "source": [
    "cmu = 0.09\n",
    "mu, rho = sp.var('mu rho')\n",
    "visc_term = (-mu * n.transpose() * (gradVec2(v_vec, x, y) + gradVec2(v_vec, x, y).transpose(), x, y)).transpose()\n",
    "turbulent_visc_term = -(n.transpose() * (rho * cmu * k**2 / eps * (gradVec2(v_vec, x, y) + gradVec2(v_vec, x, y).transpose()), x, y)).transpose()\n"
   ]
  },
  {
   "cell_type": "code",
   "execution_count": 222,
   "metadata": {
    "collapsed": false
   },
   "outputs": [
    {
     "data": {
      "image/png": "[encoded data removed]",
      "text/latex": [
       "$$\\left[\\begin{matrix}\\left ( \\right )\\\\- \\mu \\left ( \\left[\\begin{matrix}2 \\frac{\\partial}{\\partial x} \\operatorname{v_{x}}{\\left (x,y \\right )} & \\frac{\\partial}{\\partial y} \\operatorname{v_{x}}{\\left (x,y \\right )}\\\\\\frac{\\partial}{\\partial y} \\operatorname{v_{x}}{\\left (x,y \\right )} & 0\\end{matrix}\\right], \\quad x, \\quad y\\right )\\end{matrix}\\right]$$"
      ],
      "text/plain": [
       "⎡                   ()                    ⎤\n",
       "⎢                                         ⎥\n",
       "⎢   ⎛⎡  ∂             ∂           ⎤      ⎞⎥\n",
       "⎢-μ⋅⎜⎢2⋅──(vₓ(x, y))  ──(vₓ(x, y))⎥, x, y⎟⎥\n",
       "⎢   ⎜⎢  ∂x            ∂y          ⎥      ⎟⎥\n",
       "⎢   ⎜⎢                            ⎥      ⎟⎥\n",
       "⎢   ⎜⎢ ∂                          ⎥      ⎟⎥\n",
       "⎢   ⎜⎢ ──(vₓ(x, y))        0      ⎥      ⎟⎥\n",
       "⎣   ⎝⎣ ∂y                         ⎦      ⎠⎦"
      ]
     },
     "execution_count": 222,
     "metadata": {},
     "output_type": "execute_result"
    }
   ],
   "source": [
    "visc_term"
   ]
  },
  {
   "cell_type": "code",
   "execution_count": 223,
   "metadata": {
    "collapsed": false
   },
   "outputs": [
    {
     "name": "stdout",
     "output_type": "stream",
     "text": [
      "Matrix([[()], [-mu*(Matrix([\n",
      "[2*Derivative(v_x(x, y), x), Derivative(v_x(x, y), y)],\n",
      "[  Derivative(v_x(x, y), y),                        0]]), x, y)]])\n"
     ]
    }
   ],
   "source": [
    "print(visc_term)"
   ]
  },
  {
   "cell_type": "code",
   "execution_count": null,
   "metadata": {
    "collapsed": true
   },
   "outputs": [],
   "source": [
    "yStarPlus = 11.06\n",
    "\n",
    "# uNew = yStarPlus**2 / y + u * (y - 1.) * 200\n",
    "# uNew = u * (y - 1.) * 200\n",
    "# vNew = Integer(0)\n",
    "# vNew = v * (y - 1.5) * 200\n",
    "\n",
    "# pNew = Integer(0)\n",
    "\n",
    "# # Converges\n",
    "# uNew = u\n",
    "# vNew = v\n",
    "# pNew = p\n",
    "# kinNew = k\n",
    "# epsilonNew = eps\n",
    "\n",
    "# # Does not converge\n",
    "# uNew = u * 200\n",
    "# vNew = v * 200\n",
    "# pNew = p * 200\n",
    "# kinNew = k * 200\n",
    "# epsilonNew = eps * 200\n",
    "\n",
    "# # Converges\n",
    "# uNew = u * (y - 1.)\n",
    "# vNew = v\n",
    "# pNew = p\n",
    "# kinNew = k\n",
    "# epsilonNew = eps\n",
    "\n",
    "# # Converges\n",
    "# uNew = u * (y - 1.) + 1. / y\n",
    "# vNew = v\n",
    "# pNew = p\n",
    "# kinNew = k\n",
    "# epsilonNew = eps\n",
    "\n",
    "# # Does not converge\n",
    "# uNew = u * (y - 1.) + yStarPlus**2 / y\n",
    "# vNew = v\n",
    "# pNew = p\n",
    "# kinNew = k\n",
    "# epsilonNew = eps\n",
    "\n",
    "# # Converges\n",
    "# uNew = u * (y - 1.) + 1.1 / y\n",
    "# vNew = 0\n",
    "# pNew = 0\n",
    "# kinNew = k\n",
    "# epsilonNew = eps"
   ]
  },
  {
   "cell_type": "code",
   "execution_count": 1,
   "metadata": {
    "collapsed": true
   },
   "outputs": [],
   "source": [
    "from moose_calc_routines import *\n",
    "from sympy import *\n",
    "\n",
    "init_printing()\n",
    "\n",
    "yStarPlus = 1.1\n",
    "vx, vy = symbols('v_x v_y', cls=Function, positive=True, real=True)\n",
    "mu, x, y = var('mu x y', real=True, positive=True)\n",
    "nx, ny = var('n_x n_y')\n",
    "n = sp.Matrix([Integer(0), Integer(1)])\n",
    "v_vec = sp.Matrix([vx(x, y), 0])\n",
    "kinFunc, epsFunc = symbols('k_f \\epsilon_f', cls=Function)\n",
    "\n",
    "u = sym_func(x, y, 1)\n",
    "v = sym_func(x, y, 1)\n",
    "p = sym_func(x, y, 1)\n",
    "k = sym_func(x, y, 1)\n",
    "eps = sym_func(x, y, 1)\n",
    "\n",
    "# Want to test wall function bc\n",
    "uNew = mu * yStarPlus**2 / y\n",
    "# uNew = 0.5 + sin(pi * x / 2) + sin(pi * y / 2) + mu * yStarPlus**2 / y\n",
    "vNew = 0\n",
    "pNew = 0\n",
    "kinNew = k\n",
    "epsilonNew = eps\n",
    "\n",
    "# # Want to test natural boundary condition\n",
    "# uNew = 0.5 + sin(pi * x / 2) + sin(pi * y / 2)\n",
    "# vNew = 0\n",
    "# pNew = 0\n",
    "# kinNew = k\n",
    "# epsilonNew = eps\n",
    "\n",
    "uVecNew = sp.Matrix([uNew, vNew])\n",
    "\n",
    "numeric = bc_terms_momentum_traction(uVecNew, n, kinNew, epsilonNew, x, y, symbolic=False)\n",
    "numeric_wall_function = wall_function_momentum_traction(uVecNew, n, kinNew, epsilonNew, x, y, \"kin\", symbolic=False)\n",
    "symbolic = bc_terms_momentum_traction(v_vec, n, kinFunc(x, y), epsFunc(x, y), x, y, symbolic=True)\n",
    "wall_function = wall_function_momentum_traction(v_vec, n, kinFunc(x, y), epsFunc(x, y), x, y, \"kin\", symbolic=True)"
   ]
  },
  {
   "cell_type": "code",
   "execution_count": 4,
   "metadata": {
    "collapsed": false
   },
   "outputs": [],
   "source": [
    "write_reduced_functions(uVecNew, kinNew, epsilonNew, x, y)"
   ]
  },
  {
   "cell_type": "code",
   "execution_count": 6,
   "metadata": {
    "collapsed": false
   },
   "outputs": [
    {
     "data": {
      "image/png": "[encoded data removed]",
      "text/latex": [
       "$$- 1.21 \\mu^{2} + 1.21 \\mu \\mu$$"
      ],
      "text/plain": [
       "        2           \n",
       "- 1.21⋅μ  + 1.21⋅μ⋅μ"
      ]
     },
     "execution_count": 6,
     "metadata": {},
     "output_type": "execute_result"
    }
   ],
   "source": [
    "expr = numeric[0] - numeric_wall_function[0]\n",
    "\n",
    "expr.subs(y, 1).collect('mu')"
   ]
  },
  {
   "cell_type": "code",
   "execution_count": 2,
   "metadata": {
    "collapsed": false
   },
   "outputs": [
    {
     "data": {
      "image/png": "[encoded data removed]",
      "text/latex": [
       "$$- \\frac{c_{\\mu}^{0.25}}{y_{\\mu}} \\sqrt{\\operatorname{k_{f}}{\\left (x,y \\right )}} \\operatorname{v_{x}}{\\left (y \\right )} - \\mu \\frac{d}{d y} \\operatorname{v_{x}}{\\left (y \\right )}$$"
      ],
      "text/plain": [
       "         0.25   ___________                    \n",
       "  c_{\\mu}    ⋅╲╱ k_f(x, y) ⋅vₓ(y)     d        \n",
       "- ─────────────────────────────── - μ⋅──(vₓ(y))\n",
       "              y_{\\mu}                 dy       "
      ]
     },
     "execution_count": 2,
     "metadata": {},
     "output_type": "execute_result"
    }
   ],
   "source": [
    "expr = symbolic[0] - wall_function[0]\n",
    "# print(expr)\n",
    "# expr\n",
    "\n",
    "newexp = expr.subs(vx(x, y), vx(y)).subs(Abs(vx(y)), vx(y))\n",
    "# print(newexp)\n",
    "newexp"
   ]
  },
  {
   "cell_type": "code",
   "execution_count": 45,
   "metadata": {
    "collapsed": false
   },
   "outputs": [
    {
     "data": {
      "image/png": "[encoded data removed]",
      "text/latex": [
       "$$\\operatorname{v_{x}}{\\left (y \\right )} = \\frac{\\mu y_{\\mu}^{2}}{C_{1} y_{\\mu}^{2} + y}$$"
      ],
      "text/plain": [
       "                    2  \n",
       "           μ⋅y_{\\mu}   \n",
       "vₓ(y) = ───────────────\n",
       "                  2    \n",
       "        C₁⋅y_{\\mu}  + y"
      ]
     },
     "execution_count": 45,
     "metadata": {},
     "output_type": "execute_result"
    }
   ],
   "source": [
    "dsolve(newexp, vx(y))"
   ]
  },
  {
   "cell_type": "code",
   "execution_count": 39,
   "metadata": {
    "collapsed": true
   },
   "outputs": [
    {
     "data": {
      "image/png": "[encoded data removed]",
      "text/latex": [
       "$$- \\frac{c_{\\mu} \\rho \\operatorname{k_{f}}^{2}{\\left (x,y \\right )}}{\\epsilon_{f}{\\left (x,y \\right )}} \\frac{\\partial}{\\partial y} \\operatorname{v_{x}}{\\left (x,y \\right )} - \\mu \\frac{\\partial}{\\partial y} \\operatorname{v_{x}}{\\left (x,y \\right )}$$"
      ],
      "text/plain": [
       "               2       ∂                            \n",
       "  c_{\\mu}⋅ρ⋅k_f (x, y)⋅──(vₓ(x, y))                 \n",
       "                       ∂y               ∂           \n",
       "- ───────────────────────────────── - μ⋅──(vₓ(x, y))\n",
       "           \\epsilon_f(x, y)             ∂y          "
      ]
     },
     "execution_count": 39,
     "metadata": {},
     "output_type": "execute_result"
    }
   ],
   "source": [
    "symbolic[0]"
   ]
  },
  {
   "cell_type": "code",
   "execution_count": 40,
   "metadata": {
    "collapsed": true
   },
   "outputs": [
    {
     "data": {
      "image/png": "[encoded data removed]",
      "text/latex": [
       "$$- \\frac{c_{\\mu} \\rho \\operatorname{k_{f}}^{2}{\\left (x,y \\right )}}{\\epsilon_{f}{\\left (x,y \\right )}} \\frac{\\partial}{\\partial y} \\operatorname{v_{x}}{\\left (x,y \\right )} + \\frac{1}{y_{\\mu}^{2}} \\operatorname{v_{x}}{\\left (x,y \\right )} \\left|{\\operatorname{v_{x}}{\\left (x,y \\right )}}\\right|$$"
      ],
      "text/plain": [
       "               2       ∂                                 \n",
       "  c_{\\mu}⋅ρ⋅k_f (x, y)⋅──(vₓ(x, y))                      \n",
       "                       ∂y             vₓ(x, y)⋅│vₓ(x, y)│\n",
       "- ───────────────────────────────── + ───────────────────\n",
       "           \\epsilon_f(x, y)                        2     \n",
       "                                            y_{\\mu}      "
      ]
     },
     "execution_count": 40,
     "metadata": {},
     "output_type": "execute_result"
    }
   ],
   "source": [
    "wall_function[0]"
   ]
  },
  {
   "cell_type": "code",
   "execution_count": 68,
   "metadata": {
    "collapsed": true
   },
   "outputs": [],
   "source": [
    "from moose_calc_routines import *\n",
    "from sympy import *\n",
    "import sympy as sp\n",
    "from IPython.core.interactiveshell import InteractiveShell\n",
    "InteractiveShell.ast_node_interactivity = \"all\"\n",
    "init_printing()\n",
    "\n",
    "x, y = var('x y')\n",
    "\n",
    "# # INS turbulence\n",
    "# u = 0.4*sin(0.5*pi*x) + 0.4*sin(pi*y) + 0.7*sin(0.2*pi*x*y) + 0.5\n",
    "# v = 0.6*sin(0.8*pi*x) + 0.3*sin(0.3*pi*y) + 0.2*sin(0.3*pi*x*y) + 0.3\n",
    "# p = 0.5*sin(0.5*pi*x) + 1.0*sin(0.3*pi*y) + 0.5*sin(0.2*pi*x*y) + 0.5\n",
    "# k = 0.4*sin(0.7*pi*x) + 0.9*sin(0.7*pi*y) + 0.7*sin(0.4*pi*x*y) + 0.4\n",
    "# eps = 0.6*sin(0.3*pi*x) + 0.9*sin(0.9*pi*y) + 0.8*sin(0.6*pi*x*y) + 0.5\n",
    "# uvec = sp.Matrix([u, v])\n",
    "# n = sp.Matrix([Integer(0), Integer(1)])\n",
    "\n",
    "# INS only\n",
    "u = 0.4*sin(0.5*pi*x) + 0.4*sin(pi*y) + 0.7*sin(0.2*pi*x*y) + 0.5\n",
    "v = 0.6*sin(0.8*pi*x) + 0.3*sin(0.3*pi*y) + 0.2*sin(0.3*pi*x*y) + 0.3\n",
    "p = 0.5*sin(0.5*pi*x) + 1.0*sin(0.3*pi*y) + 0.5*sin(0.2*pi*x*y) + 0.5\n",
    "uvec = sp.Matrix([u, v])\n",
    "nvec = sp.Matrix([Integer(0), Integer(1)])\n",
    "nvecs = {'left' : sp.Matrix([-1, 0]), 'top' : sp.Matrix([0, 1]), \\\n",
    "         'right' : sp.Matrix([1, 0]), 'bottom' : sp.Matrix([0, -1])}\n",
    "\n",
    "source = {bnd_name : \n",
    "          prep_moose_input(-bc_terms_momentum_traction_no_turbulence(uvec, nvec, p, x, y, parts=True)[0])\n",
    "          for bnd_name, nvec in nvecs.items()}"
   ]
  },
  {
   "cell_type": "code",
   "execution_count": 75,
   "metadata": {
    "collapsed": false
   },
   "outputs": [
    {
     "data": {
      "text/plain": [
       "{'bottom': '-${mu}*(0.14*pi*x*cos(0.2*pi*x*y) + 0.06*pi*y*cos(0.3*pi*x*y) + 0.48*pi*cos(0.8*pi*x) + 0.4*pi*cos(pi*y))',\n",
       " 'left': '-${mu}*(0.28*pi*y*cos(0.2*pi*x*y) + 0.4*pi*cos(0.5*pi*x)) + 0.5*sin(0.5*pi*x) + 1.0*sin(0.3*pi*y) + 0.5*sin(0.2*pi*x*y) + 0.5',\n",
       " 'right': '${mu}*(0.28*pi*y*cos(0.2*pi*x*y) + 0.4*pi*cos(0.5*pi*x)) - 0.5*sin(0.5*pi*x) - 1.0*sin(0.3*pi*y) - 0.5*sin(0.2*pi*x*y) - 0.5',\n",
       " 'top': '${mu}*(0.14*pi*x*cos(0.2*pi*x*y) + 0.06*pi*y*cos(0.3*pi*x*y) + 0.48*pi*cos(0.8*pi*x) + 0.4*pi*cos(pi*y))'}"
      ]
     },
     "execution_count": 75,
     "metadata": {},
     "output_type": "execute_result"
    }
   ],
   "source": [
    "source"
   ]
  },
  {
   "cell_type": "code",
   "execution_count": 3,
   "metadata": {
    "collapsed": true
   },
   "outputs": [
    {
     "name": "stdout",
     "output_type": "stream",
     "text": [
      "> /home/lindsayad/jupyter_notebooks/moose_calc_routines.py(172)no_bc_bc()\n",
      "-> if parts:\n",
      "(Pdb) c\n",
      "0\n",
      "0\n"
     ]
    }
   ],
   "source": [
    "surface_terms = bc_terms_momentum_traction_no_turbulence(uvec, nvec, p, x, y, parts=True)\n",
    "tested_bc = no_bc_bc(uvec, nvec, p, x, y, parts=True)\n",
    "needed_func = tested_bc - surface_terms\n",
    "print(prep_moose_input(needed_func[0]))\n",
    "print(prep_moose_input(needed_func[1]))"
   ]
  },
  {
   "cell_type": "code",
   "execution_count": 1,
   "metadata": {
    "collapsed": true
   },
   "outputs": [
    {
     "name": "stdout",
     "output_type": "stream",
     "text": [
      "> /home/lindsayad/jupyter_notebooks/moose_calc_routines.py(127)wall_function_momentum_traction()\n",
      "-> if symbolic:\n",
      "(Pdb) n\n",
      "> /home/lindsayad/jupyter_notebooks/moose_calc_routines.py(131)wall_function_momentum_traction()\n",
      "-> cmu = 0.09\n",
      "(Pdb) \n",
      "> /home/lindsayad/jupyter_notebooks/moose_calc_routines.py(132)wall_function_momentum_traction()\n",
      "-> yStarPlus = 1.1\n",
      "(Pdb) \n",
      "> /home/lindsayad/jupyter_notebooks/moose_calc_routines.py(133)wall_function_momentum_traction()\n",
      "-> if tau_type == \"vel\":\n",
      "(Pdb) \n",
      "> /home/lindsayad/jupyter_notebooks/moose_calc_routines.py(136)wall_function_momentum_traction()\n",
      "-> elif tau_type == \"kin\":\n",
      "(Pdb) \n",
      "> /home/lindsayad/jupyter_notebooks/moose_calc_routines.py(137)wall_function_momentum_traction()\n",
      "-> uTau = cmu**.25 * sp.sqrt(k)\n",
      "(Pdb) \n",
      "> /home/lindsayad/jupyter_notebooks/moose_calc_routines.py(141)wall_function_momentum_traction()\n",
      "-> mu, rho = sp.var('mu rho')\n",
      "(Pdb) \n",
      "> /home/lindsayad/jupyter_notebooks/moose_calc_routines.py(142)wall_function_momentum_traction()\n",
      "-> normal_stress_term = (-nvec.transpose() * mu * strain_rate(uvec, x, y) * nvec * nvec.transpose()).transpose()\n",
      "(Pdb) \n",
      "> /home/lindsayad/jupyter_notebooks/moose_calc_routines.py(143)wall_function_momentum_traction()\n",
      "-> tangential_stress_term = uTau / yStarPlus * uvec\n",
      "(Pdb) p normal_stress_term\n",
      "Matrix([\n",
      "[                                                      0],\n",
      "[-mu*(0.12*pi*x*cos(0.3*pi*x*y) + 0.18*pi*cos(0.3*pi*y))]])\n",
      "(Pdb) n\n",
      "> /home/lindsayad/jupyter_notebooks/moose_calc_routines.py(144)wall_function_momentum_traction()\n",
      "-> muT = rho * cmu * k * k / eps\n",
      "(Pdb) \n",
      "> /home/lindsayad/jupyter_notebooks/moose_calc_routines.py(146)wall_function_momentum_traction()\n",
      "-> turbulent_stress_term = (-nvec.transpose() * strain_rate(uvec, x, y)).transpose()\n",
      "(Pdb) s\n",
      "--Call--\n",
      "> /home/lindsayad/miniconda3/lib/python3.6/site-packages/sympy/matrices/matrices.py(355)transpose()\n",
      "-> def transpose(self):\n",
      "(Pdb) return\n",
      "--Return--\n",
      "> /home/lindsayad/miniconda3/lib/python3.6/site-packages/sympy/matrices/matrices.py(356)transpose()->Matrix([[0, 1]])\n",
      "-> return self._eval_transpose()\n",
      "(Pdb) s\n",
      "--Call--\n",
      "> /home/lindsayad/miniconda3/lib/python3.6/site-packages/sympy/matrices/matrices.py(595)__neg__()\n",
      "-> def __neg__(self):\n",
      "(Pdb) return\n",
      "--Return--\n",
      "> /home/lindsayad/miniconda3/lib/python3.6/site-packages/sympy/matrices/matrices.py(596)__neg__()->Matrix([[0, -1]])\n",
      "-> return -1*self\n",
      "(Pdb) s\n",
      "--Call--\n",
      "> /home/lindsayad/jupyter_notebooks/moose_calc_routines.py(26)strain_rate()\n",
      "-> def strain_rate(u_vec, x, y):\n",
      "(Pdb) n\n",
      "> /home/lindsayad/jupyter_notebooks/moose_calc_routines.py(27)strain_rate()\n",
      "-> return gradVec2(u_vec, x, y) + gradVec2(u_vec, x, y).transpose()\n",
      "(Pdb) return\n",
      "--Return--\n",
      "> /home/lindsayad/jupyter_notebooks/moose_calc_routines.py(27)strain_rate()->Matrix([\n",
      "[   ...s(0.3*pi*y)]])\n",
      "-> return gradVec2(u_vec, x, y) + gradVec2(u_vec, x, y).transpose()\n",
      "(Pdb) quit\n"
     ]
    },
    {
     "ename": "BdbQuit",
     "evalue": "",
     "output_type": "error",
     "traceback": [
      "\u001b[0;31m---------------------------------------------------------------------------\u001b[0m",
      "\u001b[0;31mBdbQuit\u001b[0m                                   Traceback (most recent call last)",
      "\u001b[0;32m<ipython-input-1-01e77c4bb29f>\u001b[0m in \u001b[0;36m<module>\u001b[0;34m()\u001b[0m\n\u001b[1;32m     17\u001b[0m \u001b[0;34m\u001b[0m\u001b[0m\n\u001b[1;32m     18\u001b[0m \u001b[0msurface_terms\u001b[0m \u001b[0;34m=\u001b[0m \u001b[0mbc_terms_momentum_traction\u001b[0m\u001b[0;34m(\u001b[0m\u001b[0muvec\u001b[0m\u001b[0;34m,\u001b[0m \u001b[0mn\u001b[0m\u001b[0;34m,\u001b[0m \u001b[0mp\u001b[0m\u001b[0;34m,\u001b[0m \u001b[0mk\u001b[0m\u001b[0;34m,\u001b[0m \u001b[0meps\u001b[0m\u001b[0;34m,\u001b[0m \u001b[0mx\u001b[0m\u001b[0;34m,\u001b[0m \u001b[0my\u001b[0m\u001b[0;34m,\u001b[0m \u001b[0msymbolic\u001b[0m\u001b[0;34m=\u001b[0m\u001b[0;32mFalse\u001b[0m\u001b[0;34m,\u001b[0m \u001b[0mparts\u001b[0m\u001b[0;34m=\u001b[0m\u001b[0;32mTrue\u001b[0m\u001b[0;34m)\u001b[0m\u001b[0;34m\u001b[0m\u001b[0m\n\u001b[0;32m---> 19\u001b[0;31m \u001b[0mtested_bc\u001b[0m \u001b[0;34m=\u001b[0m \u001b[0mwall_function_momentum_traction\u001b[0m\u001b[0;34m(\u001b[0m\u001b[0muvec\u001b[0m\u001b[0;34m,\u001b[0m \u001b[0mn\u001b[0m\u001b[0;34m,\u001b[0m \u001b[0mp\u001b[0m\u001b[0;34m,\u001b[0m \u001b[0mk\u001b[0m\u001b[0;34m,\u001b[0m \u001b[0meps\u001b[0m\u001b[0;34m,\u001b[0m \u001b[0mx\u001b[0m\u001b[0;34m,\u001b[0m \u001b[0my\u001b[0m\u001b[0;34m,\u001b[0m \u001b[0;34m\"kin\"\u001b[0m\u001b[0;34m,\u001b[0m \u001b[0msymbolic\u001b[0m\u001b[0;34m=\u001b[0m\u001b[0;32mFalse\u001b[0m\u001b[0;34m,\u001b[0m \u001b[0mparts\u001b[0m\u001b[0;34m=\u001b[0m\u001b[0;32mTrue\u001b[0m\u001b[0;34m)\u001b[0m\u001b[0;34m\u001b[0m\u001b[0m\n\u001b[0m",
      "\u001b[0;32m/home/lindsayad/jupyter_notebooks/moose_calc_routines.py\u001b[0m in \u001b[0;36mwall_function_momentum_traction\u001b[0;34m(uvec, nvec, p, k, eps, x, y, tau_type, symbolic, parts)\u001b[0m\n\u001b[1;32m    144\u001b[0m         \u001b[0muTau\u001b[0m \u001b[0;34m=\u001b[0m \u001b[0muvec_norm\u001b[0m \u001b[0;34m/\u001b[0m \u001b[0myStarPlus\u001b[0m\u001b[0;34m\u001b[0m\u001b[0m\n\u001b[1;32m    145\u001b[0m     \u001b[0;32melif\u001b[0m \u001b[0mtau_type\u001b[0m \u001b[0;34m==\u001b[0m \u001b[0;34m\"kin\"\u001b[0m\u001b[0;34m:\u001b[0m\u001b[0;34m\u001b[0m\u001b[0m\n\u001b[0;32m--> 146\u001b[0;31m         \u001b[0muTau\u001b[0m \u001b[0;34m=\u001b[0m \u001b[0mcmu\u001b[0m\u001b[0;34m**\u001b[0m\u001b[0;36m.25\u001b[0m \u001b[0;34m*\u001b[0m \u001b[0msp\u001b[0m\u001b[0;34m.\u001b[0m\u001b[0msqrt\u001b[0m\u001b[0;34m(\u001b[0m\u001b[0mk\u001b[0m\u001b[0;34m)\u001b[0m\u001b[0;34m\u001b[0m\u001b[0m\n\u001b[0m\u001b[1;32m    147\u001b[0m     \u001b[0;32melse\u001b[0m\u001b[0;34m:\u001b[0m\u001b[0;34m\u001b[0m\u001b[0m\n\u001b[1;32m    148\u001b[0m         \u001b[0;32mraise\u001b[0m \u001b[0mValueError\u001b[0m\u001b[0;34m(\u001b[0m\u001b[0;34m\"Must either pass 'vel' or 'kin' for tau_type\"\u001b[0m\u001b[0;34m)\u001b[0m\u001b[0;34m\u001b[0m\u001b[0m\n",
      "\u001b[0;32m/home/lindsayad/jupyter_notebooks/moose_calc_routines.py\u001b[0m in \u001b[0;36mstrain_rate\u001b[0;34m(u_vec, x, y)\u001b[0m\n\u001b[1;32m     25\u001b[0m \u001b[0;34m\u001b[0m\u001b[0m\n\u001b[1;32m     26\u001b[0m \u001b[0;32mdef\u001b[0m \u001b[0mstrain_rate\u001b[0m\u001b[0;34m(\u001b[0m\u001b[0mu_vec\u001b[0m\u001b[0;34m,\u001b[0m \u001b[0mx\u001b[0m\u001b[0;34m,\u001b[0m \u001b[0my\u001b[0m\u001b[0;34m)\u001b[0m\u001b[0;34m:\u001b[0m\u001b[0;34m\u001b[0m\u001b[0m\n\u001b[0;32m---> 27\u001b[0;31m     \u001b[0;32mreturn\u001b[0m \u001b[0mgradVec2\u001b[0m\u001b[0;34m(\u001b[0m\u001b[0mu_vec\u001b[0m\u001b[0;34m,\u001b[0m \u001b[0mx\u001b[0m\u001b[0;34m,\u001b[0m \u001b[0my\u001b[0m\u001b[0;34m)\u001b[0m \u001b[0;34m+\u001b[0m \u001b[0mgradVec2\u001b[0m\u001b[0;34m(\u001b[0m\u001b[0mu_vec\u001b[0m\u001b[0;34m,\u001b[0m \u001b[0mx\u001b[0m\u001b[0;34m,\u001b[0m \u001b[0my\u001b[0m\u001b[0;34m)\u001b[0m\u001b[0;34m.\u001b[0m\u001b[0mtranspose\u001b[0m\u001b[0;34m(\u001b[0m\u001b[0;34m)\u001b[0m\u001b[0;34m\u001b[0m\u001b[0m\n\u001b[0m\u001b[1;32m     28\u001b[0m \u001b[0;34m\u001b[0m\u001b[0m\n\u001b[1;32m     29\u001b[0m \u001b[0;32mdef\u001b[0m \u001b[0mstrain_rate_squared_2\u001b[0m\u001b[0;34m(\u001b[0m\u001b[0mu_vec\u001b[0m\u001b[0;34m,\u001b[0m \u001b[0mx\u001b[0m\u001b[0;34m,\u001b[0m \u001b[0my\u001b[0m\u001b[0;34m)\u001b[0m\u001b[0;34m:\u001b[0m\u001b[0;34m\u001b[0m\u001b[0m\n",
      "\u001b[0;32m/home/lindsayad/miniconda3/lib/python3.6/bdb.py\u001b[0m in \u001b[0;36mtrace_dispatch\u001b[0;34m(self, frame, event, arg)\u001b[0m\n\u001b[1;32m     50\u001b[0m             \u001b[0;32mreturn\u001b[0m \u001b[0mself\u001b[0m\u001b[0;34m.\u001b[0m\u001b[0mdispatch_call\u001b[0m\u001b[0;34m(\u001b[0m\u001b[0mframe\u001b[0m\u001b[0;34m,\u001b[0m \u001b[0marg\u001b[0m\u001b[0;34m)\u001b[0m\u001b[0;34m\u001b[0m\u001b[0m\n\u001b[1;32m     51\u001b[0m         \u001b[0;32mif\u001b[0m \u001b[0mevent\u001b[0m \u001b[0;34m==\u001b[0m \u001b[0;34m'return'\u001b[0m\u001b[0;34m:\u001b[0m\u001b[0;34m\u001b[0m\u001b[0m\n\u001b[0;32m---> 52\u001b[0;31m             \u001b[0;32mreturn\u001b[0m \u001b[0mself\u001b[0m\u001b[0;34m.\u001b[0m\u001b[0mdispatch_return\u001b[0m\u001b[0;34m(\u001b[0m\u001b[0mframe\u001b[0m\u001b[0;34m,\u001b[0m \u001b[0marg\u001b[0m\u001b[0;34m)\u001b[0m\u001b[0;34m\u001b[0m\u001b[0m\n\u001b[0m\u001b[1;32m     53\u001b[0m         \u001b[0;32mif\u001b[0m \u001b[0mevent\u001b[0m \u001b[0;34m==\u001b[0m \u001b[0;34m'exception'\u001b[0m\u001b[0;34m:\u001b[0m\u001b[0;34m\u001b[0m\u001b[0m\n\u001b[1;32m     54\u001b[0m             \u001b[0;32mreturn\u001b[0m \u001b[0mself\u001b[0m\u001b[0;34m.\u001b[0m\u001b[0mdispatch_exception\u001b[0m\u001b[0;34m(\u001b[0m\u001b[0mframe\u001b[0m\u001b[0;34m,\u001b[0m \u001b[0marg\u001b[0m\u001b[0;34m)\u001b[0m\u001b[0;34m\u001b[0m\u001b[0m\n",
      "\u001b[0;32m/home/lindsayad/miniconda3/lib/python3.6/bdb.py\u001b[0m in \u001b[0;36mdispatch_return\u001b[0;34m(self, frame, arg)\u001b[0m\n\u001b[1;32m     94\u001b[0m             \u001b[0;32mfinally\u001b[0m\u001b[0;34m:\u001b[0m\u001b[0;34m\u001b[0m\u001b[0m\n\u001b[1;32m     95\u001b[0m                 \u001b[0mself\u001b[0m\u001b[0;34m.\u001b[0m\u001b[0mframe_returning\u001b[0m \u001b[0;34m=\u001b[0m \u001b[0;32mNone\u001b[0m\u001b[0;34m\u001b[0m\u001b[0m\n\u001b[0;32m---> 96\u001b[0;31m             \u001b[0;32mif\u001b[0m \u001b[0mself\u001b[0m\u001b[0;34m.\u001b[0m\u001b[0mquitting\u001b[0m\u001b[0;34m:\u001b[0m \u001b[0;32mraise\u001b[0m \u001b[0mBdbQuit\u001b[0m\u001b[0;34m\u001b[0m\u001b[0m\n\u001b[0m\u001b[1;32m     97\u001b[0m             \u001b[0;31m# The user issued a 'next' or 'until' command.\u001b[0m\u001b[0;34m\u001b[0m\u001b[0;34m\u001b[0m\u001b[0m\n\u001b[1;32m     98\u001b[0m             \u001b[0;32mif\u001b[0m \u001b[0mself\u001b[0m\u001b[0;34m.\u001b[0m\u001b[0mstopframe\u001b[0m \u001b[0;32mis\u001b[0m \u001b[0mframe\u001b[0m \u001b[0;32mand\u001b[0m \u001b[0mself\u001b[0m\u001b[0;34m.\u001b[0m\u001b[0mstoplineno\u001b[0m \u001b[0;34m!=\u001b[0m \u001b[0;34m-\u001b[0m\u001b[0;36m1\u001b[0m\u001b[0;34m:\u001b[0m\u001b[0;34m\u001b[0m\u001b[0m\n",
      "\u001b[0;31mBdbQuit\u001b[0m: "
     ]
    }
   ],
   "source": [
    "surface_terms = bc_terms_momentum_traction(uvec, n, p, k, eps, x, y, symbolic=False, parts=True)\n",
    "tested_bc = wall_function_momentum_traction(uvec, n, p, k, eps, x, y, \"kin\", symbolic=False, parts=True)"
   ]
  },
  {
   "cell_type": "code",
   "execution_count": 2,
   "metadata": {
    "collapsed": true
   },
   "outputs": [
    {
     "data": {
      "image/png": "[encoded data removed]",
      "text/latex": [
       "$$\\left[\\begin{matrix}\\mu \\left(0.14 \\pi x \\cos{\\left (0.2 \\pi x y \\right )} + 0.06 \\pi y \\cos{\\left (0.3 \\pi x y \\right )} + 0.48 \\pi \\cos{\\left (0.8 \\pi x \\right )} + 0.4 \\pi \\cos{\\left (\\pi y \\right )}\\right) + \\frac{0.09 \\rho \\left(0.4 \\sin{\\left (0.7 \\pi x \\right )} + 0.9 \\sin{\\left (0.7 \\pi y \\right )} + 0.7 \\sin{\\left (0.4 \\pi x y \\right )} + 0.4\\right)^{2}}{0.6 \\sin{\\left (0.3 \\pi x \\right )} + 0.9 \\sin{\\left (0.9 \\pi y \\right )} + 0.8 \\sin{\\left (0.6 \\pi x y \\right )} + 0.5} \\left(0.14 \\pi x \\cos{\\left (0.2 \\pi x y \\right )} + 0.06 \\pi y \\cos{\\left (0.3 \\pi x y \\right )} + 0.48 \\pi \\cos{\\left (0.8 \\pi x \\right )} + 0.4 \\pi \\cos{\\left (\\pi y \\right )}\\right) - 0.14 \\pi x \\cos{\\left (0.2 \\pi x y \\right )} - 0.06 \\pi y \\cos{\\left (0.3 \\pi x y \\right )} + 0.497929597731969 \\left(0.4 \\sin{\\left (0.5 \\pi x \\right )} + 0.4 \\sin{\\left (\\pi y \\right )} + 0.7 \\sin{\\left (0.2 \\pi x y \\right )} + 0.5\\right) \\sqrt{0.4 \\sin{\\left (0.7 \\pi x \\right )} + 0.9 \\sin{\\left (0.7 \\pi y \\right )} + 0.7 \\sin{\\left (0.4 \\pi x y \\right )} + 0.4} - 0.48 \\pi \\cos{\\left (0.8 \\pi x \\right )} - 0.4 \\pi \\cos{\\left (\\pi y \\right )}\\\\\\frac{0.09 \\rho \\left(0.12 \\pi x \\cos{\\left (0.3 \\pi x y \\right )} + 0.18 \\pi \\cos{\\left (0.3 \\pi y \\right )}\\right) \\left(0.4 \\sin{\\left (0.7 \\pi x \\right )} + 0.9 \\sin{\\left (0.7 \\pi y \\right )} + 0.7 \\sin{\\left (0.4 \\pi x y \\right )} + 0.4\\right)^{2}}{0.6 \\sin{\\left (0.3 \\pi x \\right )} + 0.9 \\sin{\\left (0.9 \\pi y \\right )} + 0.8 \\sin{\\left (0.6 \\pi x y \\right )} + 0.5} - 0.12 \\pi x \\cos{\\left (0.3 \\pi x y \\right )} + 0.497929597731969 \\sqrt{0.4 \\sin{\\left (0.7 \\pi x \\right )} + 0.9 \\sin{\\left (0.7 \\pi y \\right )} + 0.7 \\sin{\\left (0.4 \\pi x y \\right )} + 0.4} \\left(0.6 \\sin{\\left (0.8 \\pi x \\right )} + 0.3 \\sin{\\left (0.3 \\pi y \\right )} + 0.2 \\sin{\\left (0.3 \\pi x y \\right )} + 0.3\\right) - 0.18 \\pi \\cos{\\left (0.3 \\pi y \\right )}\\end{matrix}\\right]$$"
      ],
      "text/plain": [
       "⎡                                                                             \n",
       "⎢                                                                             \n",
       "⎢μ⋅(0.14⋅π⋅x⋅cos(0.2⋅π⋅x⋅y) + 0.06⋅π⋅y⋅cos(0.3⋅π⋅x⋅y) + 0.48⋅π⋅cos(0.8⋅π⋅x) + \n",
       "⎢                                                                             \n",
       "⎢                                                                             \n",
       "⎢                                                                             \n",
       "⎢                                                                             \n",
       "⎢                                                                             \n",
       "⎣                                                                             \n",
       "\n",
       "                                                                              \n",
       "                  0.09⋅ρ⋅(0.14⋅π⋅x⋅cos(0.2⋅π⋅x⋅y) + 0.06⋅π⋅y⋅cos(0.3⋅π⋅x⋅y) + \n",
       "0.4⋅π⋅cos(π⋅y)) + ────────────────────────────────────────────────────────────\n",
       "                                                                     0.6⋅sin(0\n",
       "                                                                              \n",
       "                                                                              \n",
       "           0.09⋅ρ⋅(0.12⋅π⋅x⋅cos(0.3⋅π⋅x⋅y) + 0.18⋅π⋅cos(0.3⋅π⋅y))⋅(0.4⋅sin(0.7\n",
       "           ───────────────────────────────────────────────────────────────────\n",
       "                                        0.6⋅sin(0.3⋅π⋅x) + 0.9⋅sin(0.9⋅π⋅y) + \n",
       "\n",
       "                                                                              \n",
       "0.48⋅π⋅cos(0.8⋅π⋅x) + 0.4⋅π⋅cos(π⋅y))⋅(0.4⋅sin(0.7⋅π⋅x) + 0.9⋅sin(0.7⋅π⋅y) + 0\n",
       "──────────────────────────────────────────────────────────────────────────────\n",
       ".3⋅π⋅x) + 0.9⋅sin(0.9⋅π⋅y) + 0.8⋅sin(0.6⋅π⋅x⋅y) + 0.5                         \n",
       "                                                                              \n",
       "                                                    2                         \n",
       "⋅π⋅x) + 0.9⋅sin(0.7⋅π⋅y) + 0.7⋅sin(0.4⋅π⋅x⋅y) + 0.4)                          \n",
       "───────────────────────────────────────────────────── - 0.12⋅π⋅x⋅cos(0.3⋅π⋅x⋅y\n",
       "0.8⋅sin(0.6⋅π⋅x⋅y) + 0.5                                                      \n",
       "\n",
       "                        2                                                     \n",
       ".7⋅sin(0.4⋅π⋅x⋅y) + 0.4)                                                      \n",
       "───────────────────────── - 0.14⋅π⋅x⋅cos(0.2⋅π⋅x⋅y) - 0.06⋅π⋅y⋅cos(0.3⋅π⋅x⋅y) \n",
       "                                                                              \n",
       "                                                                              \n",
       "                                                                              \n",
       "                        ______________________________________________________\n",
       ") + 0.497929597731969⋅╲╱ 0.4⋅sin(0.7⋅π⋅x) + 0.9⋅sin(0.7⋅π⋅y) + 0.7⋅sin(0.4⋅π⋅x\n",
       "                                                                              \n",
       "\n",
       "                                                                              \n",
       "                                                                              \n",
       "+ 0.497929597731969⋅(0.4⋅sin(0.5⋅π⋅x) + 0.4⋅sin(π⋅y) + 0.7⋅sin(0.2⋅π⋅x⋅y) + 0.\n",
       "                                                                              \n",
       "                                                                              \n",
       "                                                                              \n",
       "__________                                                                    \n",
       "⋅y) + 0.4 ⋅(0.6⋅sin(0.8⋅π⋅x) + 0.3⋅sin(0.3⋅π⋅y) + 0.2⋅sin(0.3⋅π⋅x⋅y) + 0.3) - \n",
       "                                                                              \n",
       "\n",
       "                                                                              \n",
       "     ________________________________________________________________         \n",
       "5)⋅╲╱ 0.4⋅sin(0.7⋅π⋅x) + 0.9⋅sin(0.7⋅π⋅y) + 0.7⋅sin(0.4⋅π⋅x⋅y) + 0.4  - 0.48⋅π\n",
       "                                                                              \n",
       "                                                                              \n",
       "                                                                              \n",
       "                                                                              \n",
       "0.18⋅π⋅cos(0.3⋅π⋅y)                                                           \n",
       "                                                                              \n",
       "\n",
       "                              ⎤\n",
       "                              ⎥\n",
       "⋅cos(0.8⋅π⋅x) - 0.4⋅π⋅cos(π⋅y)⎥\n",
       "                              ⎥\n",
       "                              ⎥\n",
       "                              ⎥\n",
       "                              ⎥\n",
       "                              ⎥\n",
       "                              ⎦"
      ]
     },
     "execution_count": 2,
     "metadata": {},
     "output_type": "execute_result"
    },
    {
     "name": "stdout",
     "output_type": "stream",
     "text": [
      "${mu}*(0.14*pi*x*cos(0.2*pi*x*y) + 0.06*pi*y*cos(0.3*pi*x*y) + 0.48*pi*cos(0.8*pi*x) + 0.4*pi*cos(pi*y)) + 0.09*${rho}*(0.14*pi*x*cos(0.2*pi*x*y) + 0.06*pi*y*cos(0.3*pi*x*y) + 0.48*pi*cos(0.8*pi*x) + 0.4*pi*cos(pi*y))*(0.4*sin(0.7*pi*x) + 0.9*sin(0.7*pi*y) + 0.7*sin(0.4*pi*x*y) + 0.4)^2/(0.6*sin(0.3*pi*x) + 0.9*sin(0.9*pi*y) + 0.8*sin(0.6*pi*x*y) + 0.5) - 0.14*pi*x*cos(0.2*pi*x*y) - 0.06*pi*y*cos(0.3*pi*x*y) + 0.497929597731969*(0.4*sin(0.5*pi*x) + 0.4*sin(pi*y) + 0.7*sin(0.2*pi*x*y) + 0.5)*sqrt(0.4*sin(0.7*pi*x) + 0.9*sin(0.7*pi*y) + 0.7*sin(0.4*pi*x*y) + 0.4) - 0.48*pi*cos(0.8*pi*x) - 0.4*pi*cos(pi*y)\n"
     ]
    }
   ],
   "source": [
    "needed_func = tested_bc - surface_terms\n",
    "needed_func\n",
    "print(prep_moose_input(needed_func[0]))"
   ]
  },
  {
   "cell_type": "code",
   "execution_count": 3,
   "metadata": {
    "collapsed": true
   },
   "outputs": [
    {
     "name": "stdout",
     "output_type": "stream",
     "text": [
      "${mu}*(0.14*pi*x*cos(0.2*pi*x*y) + 0.06*pi*y*cos(0.3*pi*x*y) + 0.48*pi*cos(0.8*pi*x) + 0.4*pi*cos(pi*y)) + 0.09*${rho}*(0.14*pi*x*cos(0.2*pi*x*y) + 0.06*pi*y*cos(0.3*pi*x*y) + 0.48*pi*cos(0.8*pi*x) + 0.4*pi*cos(pi*y))*(0.4*sin(0.7*pi*x) + 0.9*sin(0.7*pi*y) + 0.7*sin(0.4*pi*x*y) + 0.4)^2/(0.6*sin(0.3*pi*x) + 0.9*sin(0.9*pi*y) + 0.8*sin(0.6*pi*x*y) + 0.5)\n"
     ]
    }
   ],
   "source": [
    "print(prep_moose_input(-surface_terms[0]))"
   ]
  },
  {
   "cell_type": "code",
   "execution_count": 3,
   "metadata": {
    "collapsed": false
   },
   "outputs": [
    {
     "data": {
      "image/png": "[encoded data removed]",
      "text/latex": [
       "$$\\left[\\begin{matrix}- 0.14 \\pi x \\cos{\\left (0.2 \\pi x y \\right )} - 0.06 \\pi y \\cos{\\left (0.3 \\pi x y \\right )} - 0.48 \\pi \\cos{\\left (0.8 \\pi x \\right )} - 0.4 \\pi \\cos{\\left (\\pi y \\right )}\\\\- \\mu \\left(0.12 \\pi x \\cos{\\left (0.3 \\pi x y \\right )} + 0.18 \\pi \\cos{\\left (0.3 \\pi y \\right )}\\right) - 0.12 \\pi x \\cos{\\left (0.3 \\pi x y \\right )} + 0.5 \\sin{\\left (0.5 \\pi x \\right )} + 1.0 \\sin{\\left (0.3 \\pi y \\right )} + 0.5 \\sin{\\left (0.2 \\pi x y \\right )} - 0.18 \\pi \\cos{\\left (0.3 \\pi y \\right )} + 0.5\\end{matrix}\\right]$$"
      ],
      "text/plain": [
       "⎡                                     -0.14⋅π⋅x⋅cos(0.2⋅π⋅x⋅y) - 0.06⋅π⋅y⋅cos(\n",
       "⎢                                                                             \n",
       "⎣-μ⋅(0.12⋅π⋅x⋅cos(0.3⋅π⋅x⋅y) + 0.18⋅π⋅cos(0.3⋅π⋅y)) - 0.12⋅π⋅x⋅cos(0.3⋅π⋅x⋅y) \n",
       "\n",
       "0.3⋅π⋅x⋅y) - 0.48⋅π⋅cos(0.8⋅π⋅x) - 0.4⋅π⋅cos(π⋅y)                             \n",
       "                                                                              \n",
       "+ 0.5⋅sin(0.5⋅π⋅x) + 1.0⋅sin(0.3⋅π⋅y) + 0.5⋅sin(0.2⋅π⋅x⋅y) - 0.18⋅π⋅cos(0.3⋅π⋅\n",
       "\n",
       "        ⎤\n",
       "        ⎥\n",
       "y) + 0.5⎦"
      ]
     },
     "execution_count": 3,
     "metadata": {},
     "output_type": "execute_result"
    }
   ],
   "source": [
    "wall_function_momentum_traction(uvec, n, p, k, eps, x, y, \"kin\", symbolic=True, parts=True)"
   ]
  },
  {
   "cell_type": "code",
   "execution_count": 1,
   "metadata": {
    "collapsed": false
   },
   "outputs": [],
   "source": [
    "surface_terms = bc_terms_diffusion(u, n, x, y)\n",
    "tested_bc = vacuum(u, n)"
   ]
  },
  {
   "cell_type": "code",
   "execution_count": 2,
   "metadata": {
    "collapsed": false
   },
   "outputs": [
    {
     "data": {
      "image/png": "[encoded data removed]",
      "text/latex": [
       "$$- 0.14 \\pi x \\cos{\\left (0.2 \\pi x y \\right )} - 0.4 \\pi \\cos{\\left (\\pi y \\right )}$$"
      ],
      "text/plain": [
       "-0.14⋅π⋅x⋅cos(0.2⋅π⋅x⋅y) - 0.4⋅π⋅cos(π⋅y)"
      ]
     },
     "execution_count": 2,
     "metadata": {},
     "output_type": "execute_result"
    },
    {
     "data": {
      "image/png": "[encoded data removed]",
      "text/latex": [
       "$$0.2 \\sin{\\left (0.5 \\pi x \\right )} + 0.2 \\sin{\\left (\\pi y \\right )} + 0.35 \\sin{\\left (0.2 \\pi x y \\right )} + 0.25$$"
      ],
      "text/plain": [
       "0.2⋅sin(0.5⋅π⋅x) + 0.2⋅sin(π⋅y) + 0.35⋅sin(0.2⋅π⋅x⋅y) + 0.25"
      ]
     },
     "execution_count": 2,
     "metadata": {},
     "output_type": "execute_result"
    }
   ],
   "source": [
    "surface_terms\n",
    "tested_bc"
   ]
  },
  {
   "cell_type": "code",
   "execution_count": 3,
   "metadata": {
    "collapsed": true
   },
   "outputs": [],
   "source": [
    "needed_func = tested_bc - surface_terms"
   ]
  },
  {
   "cell_type": "code",
   "execution_count": 6,
   "metadata": {
    "collapsed": false
   },
   "outputs": [
    {
     "data": {
      "image/png": "[encoded data removed]",
      "text/latex": [
       "$$0.14 \\pi x \\cos{\\left (0.2 \\pi x y \\right )} + 0.2 \\sin{\\left (0.5 \\pi x \\right )} + 0.2 \\sin{\\left (\\pi y \\right )} + 0.35 \\sin{\\left (0.2 \\pi x y \\right )} + 0.4 \\pi \\cos{\\left (\\pi y \\right )} + 0.25$$"
      ],
      "text/plain": [
       "0.14⋅π⋅x⋅cos(0.2⋅π⋅x⋅y) + 0.2⋅sin(0.5⋅π⋅x) + 0.2⋅sin(π⋅y) + 0.35⋅sin(0.2⋅π⋅x⋅y\n",
       ") + 0.4⋅π⋅cos(π⋅y) + 0.25"
      ]
     },
     "execution_count": 6,
     "metadata": {},
     "output_type": "execute_result"
    },
    {
     "name": "stdout",
     "output_type": "stream",
     "text": [
      "0.14*pi*x*cos(0.2*pi*x*y) + 0.2*sin(0.5*pi*x) + 0.2*sin(pi*y) + 0.35*sin(0.2*pi*x*y) + 0.4*pi*cos(pi*y) + 0.25\n"
     ]
    }
   ],
   "source": [
    "needed_func\n",
    "print(needed_func)"
   ]
  },
  {
   "cell_type": "markdown",
   "metadata": {
    "collapsed": true
   },
   "source": [
    "# 5/16/17"
   ]
  },
  {
   "cell_type": "code",
   "execution_count": 5,
   "metadata": {
    "collapsed": false
   },
   "outputs": [
    {
     "name": "stdout",
     "output_type": "stream",
     "text": [
      "/home/lindsayad/projects/moose/modules/navier_stokes/tests/mms\n"
     ]
    }
   ],
   "source": [
    "cd ~/projects/moose/modules/navier_stokes/tests/mms"
   ]
  },
  {
   "cell_type": "code",
   "execution_count": 66,
   "metadata": {
    "collapsed": false
   },
   "outputs": [],
   "source": [
    "import numpy as np\n",
    "import matplotlib.pyplot as plt\n",
    "\n",
    "def plot_order_accuracy(boundary, h_array, base):\n",
    "    variable_names = {}\n",
    "    init_data = np.genfromtxt(str(int(1/h_array[0])) + \"_\" + str(boundary) + \"_\" + str(base) + \".csv\", \\\n",
    "                              dtype=float, names=True, delimiter=',')\n",
    "    for name in init_data.dtype.names:\n",
    "        if name != 'time':\n",
    "            variable_names[name] = np.array([])\n",
    "            variable_names[name] = np.append(variable_names[name], init_data[name][-1])\n",
    "    for h in h_array[1:]:\n",
    "        data = np.genfromtxt(str(int(1/h)) + \"_\" + str(boundary) + str(base) + \".csv\", \\\n",
    "                            dtype=float, names=True, delimiter=',')\n",
    "        for name in variable_names:\n",
    "            variable_names[name] = np.append(variable_names[name], data[name][-1])\n",
    "    for name, data_array in variable_names.items():\n",
    "        plt.scatter(np.log(h_array), np.log(data_array), label=name)\n",
    "        z = np.polyfit(np.log(h_array), np.log(data_array), 1)\n",
    "        p = np.poly1d(z)\n",
    "        plt.plot(np.log(h_array), p(np.log(h_array)), '-')\n",
    "        equation = \"y=%.3fx+%.3f\" % (z[0],z[1])\n",
    "        plot_point = (np.log(h_array).min() + np.log(h_array).max()) / 2.\n",
    "        plt.annotate(equation, xy=(plot_point, p(plot_point)), xytext=(.9 * plot_point, 1.1 * p(plot_point)),\n",
    "             arrowprops=dict(arrowstyle='->'))#, connectionstyle='arc3,rad=-0.5'))\n",
    "    plt.legend()\n",
    "    plt.savefig(\"/home/lindsayad/Pictures/\" + str(boundary) + str(base) + \".eps\", format='eps')\n",
    "    plt.show()"
   ]
  },
  {
   "cell_type": "code",
   "execution_count": 1,
   "metadata": {
    "collapsed": false
   },
   "outputs": [],
   "source": [
    "from moose_calc_routines import *\n",
    "from sympy import *\n",
    "import sympy as sp\n",
    "from IPython.core.interactiveshell import InteractiveShell\n",
    "InteractiveShell.ast_node_interactivity = \"all\"\n",
    "init_printing()\n",
    "\n",
    "x, y = var('x y')\n",
    "\n",
    "# # INS turbulence\n",
    "# u = 0.4*sin(0.5*pi*x) + 0.4*sin(pi*y) + 0.7*sin(0.2*pi*x*y) + 0.5\n",
    "# v = 0.6*sin(0.8*pi*x) + 0.3*sin(0.3*pi*y) + 0.2*sin(0.3*pi*x*y) + 0.3\n",
    "# p = 0.5*sin(0.5*pi*x) + 1.0*sin(0.3*pi*y) + 0.5*sin(0.2*pi*x*y) + 0.5\n",
    "# k = 0.4*sin(0.7*pi*x) + 0.9*sin(0.7*pi*y) + 0.7*sin(0.4*pi*x*y) + 0.4\n",
    "# eps = 0.6*sin(0.3*pi*x) + 0.9*sin(0.9*pi*y) + 0.8*sin(0.6*pi*x*y) + 0.5\n",
    "# uvec = sp.Matrix([u, v])\n",
    "# n = sp.Matrix([Integer(0), Integer(1)])\n",
    "\n",
    "# INS only\n",
    "u = 0.4*sin(0.5*pi*x) + 0.4*sin(pi*y) + 0.7*sin(0.2*pi*x*y) + 0.5\n",
    "v = 0.6*sin(0.8*pi*x) + 0.3*sin(0.3*pi*y) + 0.2*sin(0.3*pi*x*y) + 0.3\n",
    "p = 0.5*sin(0.5*pi*x) + 1.0*sin(0.3*pi*y) + 0.5*sin(0.2*pi*x*y) + 0.5\n",
    "uvec = sp.Matrix([u, v])\n",
    "nvec = sp.Matrix([Integer(0), Integer(1)])\n",
    "nvecs = {'left' : sp.Matrix([-1, 0]), 'top' : sp.Matrix([0, 1]), \\\n",
    "         'right' : sp.Matrix([1, 0]), 'bottom' : sp.Matrix([0, -1])}\n",
    "\n",
    "source = {bnd_name : \n",
    "          prep_moose_input(-bc_terms_momentum_traction_no_turbulence(uvec, nvec, p, x, y, parts=True)[0])\n",
    "          for bnd_name, nvec in nvecs.items()}\n",
    "anti_bounds = {'left' : 'top right bottom', 'top' : 'right bottom left',\n",
    "               'right' : 'bottom left top', 'bottom' : 'left top right'}\n",
    "h_list = ['5', '10']\n",
    "base = \"pure_ins_test_do_nothing_bc\"\n",
    "\n",
    "run_many_cases(h_list, source, anti_bounds, base)"
   ]
  },
  {
   "cell_type": "code",
   "execution_count": 1,
   "metadata": {
    "collapsed": false
   },
   "outputs": [
    {
     "data": {
      "image/png": "[encoded data removed]",
      "text/plain": [
       "<matplotlib.figure.Figure at 0x7fa5c4600e48>"
      ]
     },
     "metadata": {},
     "output_type": "display_data"
    },
    {
     "data": {
      "image/png": "[encoded data removed]",
      "text/plain": [
       "<matplotlib.figure.Figure at 0x7fa5c4600e80>"
      ]
     },
     "metadata": {},
     "output_type": "display_data"
    },
    {
     "data": {
      "image/png": "[encoded data removed]",
      "text/plain": [
       "<matplotlib.figure.Figure at 0x7fa5a28914e0>"
      ]
     },
     "metadata": {},
     "output_type": "display_data"
    },
    {
     "data": {
      "image/png": "[encoded data removed]",
      "text/plain": [
       "<matplotlib.figure.Figure at 0x7fa59d33ceb8>"
      ]
     },
     "metadata": {},
     "output_type": "display_data"
    }
   ],
   "source": [
    "from moose_calc_routines import *\n",
    "\n",
    "h_array = np.array([.2, .1])\n",
    "base = \"pure_ins_test_do_nothing_bc\"\n",
    "\n",
    "plot_order_accuracy('left', h_array, base)\n",
    "plot_order_accuracy('right', h_array, base)\n",
    "plot_order_accuracy('top', h_array, base)\n",
    "plot_order_accuracy('bottom', h_array, base)"
   ]
  },
  {
   "cell_type": "code",
   "execution_count": 86,
   "metadata": {
    "collapsed": false
   },
   "outputs": [
    {
     "data": {
      "text/plain": [
       "str"
      ]
     },
     "execution_count": 86,
     "metadata": {},
     "output_type": "execute_result"
    },
    {
     "data": {
      "text/plain": [
       "'-${mu}*(0.14*pi*x*cos(0.2*pi*x*y) + 0.06*pi*y*cos(0.3*pi*x*y) + 0.48*pi*cos(0.8*pi*x) + 0.4*pi*cos(pi*y))'"
      ]
     },
     "execution_count": 86,
     "metadata": {},
     "output_type": "execute_result"
    }
   ],
   "source": [
    "type(source['bottom'])\n",
    "source['bottom']"
   ]
  },
  {
   "cell_type": "code",
   "execution_count": 87,
   "metadata": {
    "collapsed": false
   },
   "outputs": [],
   "source": [
    "from subprocess import call\n",
    "import os\n",
    "\n",
    "class cd:\n",
    "    \"\"\"Context manager for changing the current working directory\"\"\"\n",
    "    def __init__(self, newPath):\n",
    "        self.newPath = os.path.expanduser(newPath)\n",
    "\n",
    "    def __enter__(self):\n",
    "        self.savedPath = os.getcwd()\n",
    "        os.chdir(self.newPath)\n",
    "\n",
    "    def __exit__(self, etype, value, traceback):\n",
    "        os.chdir(self.savedPath)\n",
    "\n",
    "def run_many_cases(h_list, source_dict, bounds_dict, base):\n",
    "    with cd(\"/home/lindsayad/projects/moose/modules/navier_stokes/tests/mms\"):\n",
    "        for h in h_list:\n",
    "            for bnd, anti_bnds in bounds_dict.items():\n",
    "                call([\"navier_stokes-opt\", \"-i\", base + \".i\", \"Mesh/nx=\" + h, \"Mesh/ny=\" + h, \n",
    "                      \"mu=1.5\", \"rho=2.5\",\n",
    "                      \"BCs/u/boundary=\" + anti_bnds, \n",
    "                      \"BCs/u_fn_neumann/boundary=\" + bnd, \n",
    "                      \"Outputs/csv/file_base=\" + h + \"_\" + bnd + \"_\" + base,\n",
    "                     \"Functions/u_bc_func/value=\" + source[bnd]])\n"
   ]
  },
  {
   "cell_type": "code",
   "execution_count": null,
   "metadata": {
    "collapsed": true
   },
   "outputs": [],
   "source": []
  }
 ],
 "metadata": {
  "kernelspec": {
   "display_name": "Python 3",
   "language": "python",
   "name": "python3"
  },
  "language_info": {
   "codemirror_mode": {
    "name": "ipython",
    "version": 3
   },
   "file_extension": ".py",
   "mimetype": "text/x-python",
   "name": "python",
   "nbconvert_exporter": "python",
   "pygments_lexer": "ipython3",
   "version": "3.6.0"
  }
 },
 "nbformat": 4,
 "nbformat_minor": 2
}
