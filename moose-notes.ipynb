{
 "cells": [
  {
   "cell_type": "markdown",
   "metadata": {},
   "source": [
    "# 2/1/17\n",
    "\n",
    "`FEProblemBase::reinitMaterials` only calls property computation for Material objects currently active on the given subdomain so that's good. However, it's possible that material objects \"active\" on the subdomain aren't actually being used in any computing objects like kernels, etc. So we would like to do some additional checking.\n",
    "\n",
    "Alright, let's say we're computing the residual thread. Then assuming we cannot compute properties in a material in isolation, we would like to do the next best thing: only call `computeQpProperties` for materials that have actually been asked to supply properties to kernels, dg_kernels, boundary_conditions, and interface_kernels. \n",
    "\n",
    "So what am I doing as of commit d7dbfe5? I am determining the `needed_mat_props` through `ComputeResidualThread::subdomainChanged()` -> `FEProblemBase::prepareMaterials`. In the latter method, we first ask all materials--if there are _any_ materials active on the block--to  update their material property dependencies and then we ask materials on the boundaries of the subdomain to also update their dependencies. Note that this could lead to a boundary material object getting asked to update their material property dependencies twice because we first pass to `MaterialWarehouse::updateMatPropDependenceyHelper` all material objects as long as there is any one material object active in a block sense on the subdomain, and then we pass active material boundary objects. But this overlap doesn't matter so much because our `needed_mat_props` is a set, so if we try to insert the same material properties multiple times, it will silently and correctly fail. Note,  however, that this could also pass `needed_mat_props` from material objects not on the current block, so that needs to be changed.\n",
    "\n",
    "So what happens in `MaterialWarehouse::updateMatPropDependencyHelper`? We add `mp_deps` from `MaterialPropertyInterface::getMatPropDependencies`. However, it should be noted that this is only done for  <i>material objects</i>. Is this fine? Well let's figure it out. It returns `_material_property_dependencies` which is a set added to by calling `addMatPropDependency`. Now this gets called when the object that inherits from `MaterialPropertyInterface` calls its own `getMaterialProperty` method. So I hypothesize that in my simple test, if I ask to have a material property in my kernel object with `getMaterialProperty` that will not register in any material objects list of `_material_property_dependencies` and consequently `computeQpProperties` will never get called. I will test that the next time I sit down at my comp."
   ]
  },
  {
   "cell_type": "markdown",
   "metadata": {},
   "source": [
    "# 2/2/17\n",
    "\n",
    "Three tests:\n",
    "\n",
    "- Run with _one_ material that doesn't supply any properties. Desired behavior: `computeQpProperties` does not get called. Expected to **Pass**. With devel MOOSE: expected to **Fail** (expected **change**)\n",
    "- Run _two_ materials, one that supplies properties, another that does not. Desired behavior: `computeQpProperties` does not get called for the material not supplying properties while the other one does. Expected behavior:  both materials compute methods get called. **Fail**. With devel MOOSE: expected to **Fail** (expected to **not change**)\n",
    "- Run with a kernel that uses a material property and an elemental aux variable that does not. Desired behavior: `computeQpProperties` should get called through the residual and jacobian threads but not through the aux kernel thread. Expected  to **Pass**. With devel MOOSEE: expected to **Fail** (expected **change**)\n",
    "\n",
    "Calls to computeProperties:\n",
    "\n",
    "1. ComputeResidualThread\n",
    "2. ComputeResidualThread\n",
    "0th nonlinear residual printed\n",
    "3. ComputeJacobianThread\n",
    "4. ComputeResidualThread\n",
    "0th linear residual printed\n",
    "5. ComputeResidualThread\n",
    "1st linear residual printed\n",
    "6. ComputeResidualThread\n",
    "7. ComputeResidualThread\n",
    "1st nonlinear residual printed\n",
    "8. ComputeElemAuxVarsThread -> Actually this is fine because this is the Aux Kernel that is created for outputting the material property\n",
    "\n",
    "Number of calls: 8\n",
    "1. 1-4\n",
    "2. 5-8\n",
    "...\n",
    "7. 25-28\n",
    "8. 29-32\n",
    "\n",
    "Failed tests:\n",
    "\n",
    "- random.material_serial\n",
    "- controls\\*\n",
    "\n",
    "Failed but now passing:\n",
    "\n",
    "- element\\_aux\\_boundary\n",
    "- bnd\\_material\\_test\n",
    "- elem\\_aux\\_bc\\_on\\_bound\n",
    "- output.boundary\n",
    "- multiplicity\n",
    "- material_point_source_test\n",
    "- line\\_material\\_sampler"
   ]
  },
  {
   "cell_type": "markdown",
   "metadata": {},
   "source": [
    "# 2/6/17\n",
    "\n",
    "Ok my new test is failing with threads and I don't really know why. It seems like the number of calls to computing threads should be the same...\n",
    "\n",
    "Calls to computeProperties:\n",
    "\n",
    "1. ComputeResidualThread\n",
    "2. ComputeResidualThread\n",
    "0th nonlinear residual printed\n",
    "3. ComputeJacobianThread\n",
    "4. ComputeResidualThread\n",
    "0th linear residual printed\n",
    "5. ComputResidualThread\n",
    "1st linear residual printed\n",
    "6. ComputeResidualThread\n",
    "7. ComputeResidualThread\n",
    "1st nonlinear residual printed\n",
    "8. ComputeElemAuxVarsThread\n",
    "\n",
    "Yep so thread computing pattern is the exact same. How about whether the material is the same location in memory every time?\n",
    "\n",
    "- 0x7fed90 (1, 2, 8)\n",
    "Increments:\n",
    "1-4, 5-8, 9-12 -> average of 10.5 which is what is observed in the output\n",
    "- 0x810b10 (3, 4, 5, 6, 7"
   ]
  },
  {
   "cell_type": "markdown",
   "metadata": {},
   "source": [
    "# 4/28/17\n",
    "\n",
    "Navier Stokes module development"
   ]
  },
  {
   "cell_type": "code",
   "execution_count": 2,
   "metadata": {
    "collapsed": false
   },
   "outputs": [],
   "source": [
    "import sympy as sp\n",
    "\n",
    "sxx, sxy, syx, syy, nx, ny = sp.var('sxx sxy syx syy nx ny')"
   ]
  },
  {
   "cell_type": "code",
   "execution_count": 5,
   "metadata": {
    "collapsed": false
   },
   "outputs": [],
   "source": [
    "s = sp.Matrix([[sxx, sxy],[syx, syy]])\n",
    "n = sp.Matrix([nx, ny])"
   ]
  },
  {
   "cell_type": "code",
   "execution_count": 6,
   "metadata": {
    "collapsed": false
   },
   "outputs": [
    {
     "data": {
      "text/plain": [
       "Matrix([\n",
       "[nx*sxx + ny*sxy],\n",
       "[nx*syx + ny*syy]])"
      ]
     },
     "execution_count": 6,
     "metadata": {},
     "output_type": "execute_result"
    }
   ],
   "source": [
    "s*n"
   ]
  },
  {
   "cell_type": "code",
   "execution_count": 14,
   "metadata": {
    "collapsed": false
   },
   "outputs": [],
   "source": [
    "prod = n.transpose()*s*n\n",
    "prod2 = n.transpose()*(s*n)"
   ]
  },
  {
   "cell_type": "code",
   "execution_count": 15,
   "metadata": {
    "collapsed": false
   },
   "outputs": [
    {
     "name": "stdout",
     "output_type": "stream",
     "text": [
      "Matrix([[nx*(nx*sxx + ny*syx) + ny*(nx*sxy + ny*syy)]])\n",
      "Matrix([[nx*(nx*sxx + ny*sxy) + ny*(nx*syx + ny*syy)]])\n",
      "False\n"
     ]
    }
   ],
   "source": [
    "print(prod)\n",
    "print(prod2)\n",
    "print(prod==prod2)"
   ]
  },
  {
   "cell_type": "code",
   "execution_count": 13,
   "metadata": {
    "collapsed": false
   },
   "outputs": [
    {
     "data": {
      "text/plain": [
       "(1, 1)"
      ]
     },
     "execution_count": 13,
     "metadata": {},
     "output_type": "execute_result"
    }
   ],
   "source": [
    "prod.shape"
   ]
  },
  {
   "cell_type": "code",
   "execution_count": 18,
   "metadata": {
    "collapsed": false
   },
   "outputs": [
    {
     "data": {
      "text/plain": [
       "True"
      ]
     },
     "execution_count": 18,
     "metadata": {},
     "output_type": "execute_result"
    }
   ],
   "source": [
    "sp.expand(prod) == sp.expand(prod2)"
   ]
  },
  {
   "cell_type": "code",
   "execution_count": 20,
   "metadata": {
    "collapsed": false
   },
   "outputs": [
    {
     "name": "stdout",
     "output_type": "stream",
     "text": [
      "(1, 2)\n"
     ]
    }
   ],
   "source": [
    "lhs = n.transpose()*s\n",
    "print(lhs.shape)"
   ]
  },
  {
   "cell_type": "code",
   "execution_count": 21,
   "metadata": {
    "collapsed": false
   },
   "outputs": [
    {
     "name": "stdout",
     "output_type": "stream",
     "text": [
      "(1, 2)\n"
     ]
    }
   ],
   "source": [
    "rhs = (n.transpose() * s * n) * n.transpose()\n",
    "print(rhs.shape)"
   ]
  },
  {
   "cell_type": "code",
   "execution_count": 62,
   "metadata": {
    "collapsed": false
   },
   "outputs": [
    {
     "name": "stdout",
     "output_type": "stream",
     "text": [
      "Matrix([[nx**2*(nx*sxx + ny*syx) + nx*ny*(nx*sxy + ny*syy), nx*ny*(nx*sxx + ny*syx) + ny**2*(nx*sxy + ny*syy)]])\n",
      "True\n"
     ]
    }
   ],
   "source": [
    "rhs2 = (n.transpose()*s) * (n*n.transpose())\n",
    "print(rhs2)\n",
    "rhs3 = n.transpose() * (s*n*n.transpose())\n",
    "print(sp.expand(rhs) == sp.expand(rhs2) == sp.expand(rhs3))"
   ]
  },
  {
   "cell_type": "code",
   "execution_count": 58,
   "metadata": {
    "collapsed": false
   },
   "outputs": [
    {
     "name": "stdout",
     "output_type": "stream",
     "text": [
      "Matrix([[nx**2, nx*ny], [nx*ny, ny**2]])\n"
     ]
    }
   ],
   "source": [
    "print(n*n.transpose())"
   ]
  },
  {
   "cell_type": "code",
   "execution_count": 59,
   "metadata": {
    "collapsed": false
   },
   "outputs": [
    {
     "name": "stdout",
     "output_type": "stream",
     "text": [
      "Matrix([[nx**2 + ny**2]])\n"
     ]
    }
   ],
   "source": [
    "print(n.transpose()*n)"
   ]
  },
  {
   "cell_type": "code",
   "execution_count": 48,
   "metadata": {
    "collapsed": false
   },
   "outputs": [
    {
     "name": "stdout",
     "output_type": "stream",
     "text": [
      "Matrix([[nx*sxx + ny*syx, nx*sxy + ny*syy]])\n",
      "Matrix([[nx*(nx*(nx*sxx + ny*syx) + ny*(nx*sxy + ny*syy)), ny*(nx*(nx*sxx + ny*syx) + ny*(nx*sxy + ny*syy))]])\n"
     ]
    }
   ],
   "source": [
    "print(sp.simplify(lhs))\n",
    "print(sp.simplify(rhs))"
   ]
  },
  {
   "cell_type": "code",
   "execution_count": 27,
   "metadata": {
    "collapsed": false
   },
   "outputs": [],
   "source": [
    "elml = lhs[0,0]\n",
    "elmr = rhs[0,0]"
   ]
  },
  {
   "cell_type": "code",
   "execution_count": 29,
   "metadata": {
    "collapsed": false
   },
   "outputs": [
    {
     "name": "stdout",
     "output_type": "stream",
     "text": [
      "nx*sxx + ny*syx\n",
      "nx**3*sxx + nx**2*ny*sxy + nx**2*ny*syx + nx*ny**2*syy\n"
     ]
    }
   ],
   "source": [
    "print(elml.expand())\n",
    "print(elmr.expand())"
   ]
  },
  {
   "cell_type": "code",
   "execution_count": 43,
   "metadata": {
    "collapsed": false
   },
   "outputs": [
    {
     "data": {
      "text/plain": [
       "nx**3*sxx + nx**2*ny*sxy + nx**2*ny*syx + nx*ny**2*syy"
      ]
     },
     "execution_count": 43,
     "metadata": {},
     "output_type": "execute_result"
    }
   ],
   "source": [
    "elmr.expand()"
   ]
  },
  {
   "cell_type": "code",
   "execution_count": 42,
   "metadata": {
    "collapsed": false
   },
   "outputs": [
    {
     "data": {
      "text/plain": [
       "ny**2*syy*sqrt(-ny**2 + 1) + ny*sxy*(-ny**2 + 1) + ny*syx*(-ny**2 + 1) + sxx*(-ny**2 + 1)**(3/2)"
      ]
     },
     "execution_count": 42,
     "metadata": {},
     "output_type": "execute_result"
    }
   ],
   "source": [
    "elmr.expand().subs(nx, sp.sqrt(1 - ny**2))"
   ]
  },
  {
   "cell_type": "code",
   "execution_count": 44,
   "metadata": {
    "collapsed": false
   },
   "outputs": [
    {
     "data": {
      "text/plain": [
       "ny**2*syy*sqrt(-ny**2 + 1) - ny*sxy*(ny**2 - 1) - ny*syx*(ny**2 - 1) + sxx*(-ny**2 + 1)**(3/2)"
      ]
     },
     "execution_count": 44,
     "metadata": {},
     "output_type": "execute_result"
    }
   ],
   "source": [
    "elmr.expand().subs(nx, sp.sqrt(1 - ny**2)).simplify()"
   ]
  },
  {
   "cell_type": "code",
   "execution_count": 36,
   "metadata": {
    "collapsed": true
   },
   "outputs": [
    {
     "name": "stdout",
     "output_type": "stream",
     "text": [
      "Help on method replace in module sympy.core.basic:\n",
      "\n",
      "replace(query, value, map=False, simultaneous=True, exact=False) method of sympy.core.add.Add instance\n",
      "    Replace matching subexpressions of ``self`` with ``value``.\n",
      "    \n",
      "    If ``map = True`` then also return the mapping {old: new} where ``old``\n",
      "    was a sub-expression found with query and ``new`` is the replacement\n",
      "    value for it. If the expression itself doesn't match the query, then\n",
      "    the returned value will be ``self.xreplace(map)`` otherwise it should\n",
      "    be ``self.subs(ordered(map.items()))``.\n",
      "    \n",
      "    Traverses an expression tree and performs replacement of matching\n",
      "    subexpressions from the bottom to the top of the tree. The default\n",
      "    approach is to do the replacement in a simultaneous fashion so\n",
      "    changes made are targeted only once. If this is not desired or causes\n",
      "    problems, ``simultaneous`` can be set to False. In addition, if an\n",
      "    expression containing more than one Wild symbol is being used to match\n",
      "    subexpressions and  the ``exact`` flag is True, then the match will only\n",
      "    succeed if non-zero values are received for each Wild that appears in\n",
      "    the match pattern.\n",
      "    \n",
      "    The list of possible combinations of queries and replacement values\n",
      "    is listed below:\n",
      "    \n",
      "    Examples\n",
      "    ========\n",
      "    \n",
      "    Initial setup\n",
      "    \n",
      "        >>> from sympy import log, sin, cos, tan, Wild, Mul, Add\n",
      "        >>> from sympy.abc import x, y\n",
      "        >>> f = log(sin(x)) + tan(sin(x**2))\n",
      "    \n",
      "    1.1. type -> type\n",
      "        obj.replace(type, newtype)\n",
      "    \n",
      "        When object of type ``type`` is found, replace it with the\n",
      "        result of passing its argument(s) to ``newtype``.\n",
      "    \n",
      "        >>> f.replace(sin, cos)\n",
      "        log(cos(x)) + tan(cos(x**2))\n",
      "        >>> sin(x).replace(sin, cos, map=True)\n",
      "        (cos(x), {sin(x): cos(x)})\n",
      "        >>> (x*y).replace(Mul, Add)\n",
      "        x + y\n",
      "    \n",
      "    1.2. type -> func\n",
      "        obj.replace(type, func)\n",
      "    \n",
      "        When object of type ``type`` is found, apply ``func`` to its\n",
      "        argument(s). ``func`` must be written to handle the number\n",
      "        of arguments of ``type``.\n",
      "    \n",
      "        >>> f.replace(sin, lambda arg: sin(2*arg))\n",
      "        log(sin(2*x)) + tan(sin(2*x**2))\n",
      "        >>> (x*y).replace(Mul, lambda *args: sin(2*Mul(*args)))\n",
      "        sin(2*x*y)\n",
      "    \n",
      "    2.1. pattern -> expr\n",
      "        obj.replace(pattern(wild), expr(wild))\n",
      "    \n",
      "        Replace subexpressions matching ``pattern`` with the expression\n",
      "        written in terms of the Wild symbols in ``pattern``.\n",
      "    \n",
      "        >>> a = Wild('a')\n",
      "        >>> f.replace(sin(a), tan(a))\n",
      "        log(tan(x)) + tan(tan(x**2))\n",
      "        >>> f.replace(sin(a), tan(a/2))\n",
      "        log(tan(x/2)) + tan(tan(x**2/2))\n",
      "        >>> f.replace(sin(a), a)\n",
      "        log(x) + tan(x**2)\n",
      "        >>> (x*y).replace(a*x, a)\n",
      "        y\n",
      "    \n",
      "        When the default value of False is used with patterns that have\n",
      "        more than one Wild symbol, non-intuitive results may be obtained:\n",
      "    \n",
      "        >>> b = Wild('b')\n",
      "        >>> (2*x).replace(a*x + b, b - a)\n",
      "        2/x\n",
      "    \n",
      "        For this reason, the ``exact`` option can be used to make the\n",
      "        replacement only when the match gives non-zero values for all\n",
      "        Wild symbols:\n",
      "    \n",
      "        >>> (2*x + y).replace(a*x + b, b - a, exact=True)\n",
      "        y - 2\n",
      "        >>> (2*x).replace(a*x + b, b - a, exact=True)\n",
      "        2*x\n",
      "    \n",
      "    2.2. pattern -> func\n",
      "        obj.replace(pattern(wild), lambda wild: expr(wild))\n",
      "    \n",
      "        All behavior is the same as in 2.1 but now a function in terms of\n",
      "        pattern variables is used rather than an expression:\n",
      "    \n",
      "        >>> f.replace(sin(a), lambda a: sin(2*a))\n",
      "        log(sin(2*x)) + tan(sin(2*x**2))\n",
      "    \n",
      "    3.1. func -> func\n",
      "        obj.replace(filter, func)\n",
      "    \n",
      "        Replace subexpression ``e`` with ``func(e)`` if ``filter(e)``\n",
      "        is True.\n",
      "    \n",
      "        >>> g = 2*sin(x**3)\n",
      "        >>> g.replace(lambda expr: expr.is_Number, lambda expr: expr**2)\n",
      "        4*sin(x**9)\n",
      "    \n",
      "    The expression itself is also targeted by the query but is done in\n",
      "    such a fashion that changes are not made twice.\n",
      "    \n",
      "        >>> e = x*(x*y + 1)\n",
      "        >>> e.replace(lambda x: x.is_Mul, lambda x: 2*x)\n",
      "        2*x*(2*x*y + 1)\n",
      "    \n",
      "    See Also\n",
      "    ========\n",
      "    subs: substitution of subexpressions as defined by the objects\n",
      "          themselves.\n",
      "    xreplace: exact node replacement in expr tree; also capable of\n",
      "              using matching rules\n",
      "\n"
     ]
    }
   ],
   "source": [
    "help(expr.replace)"
   ]
  },
  {
   "cell_type": "code",
   "execution_count": 49,
   "metadata": {
    "collapsed": false
   },
   "outputs": [
    {
     "name": "stdout",
     "output_type": "stream",
     "text": [
      "Matrix([[nx*sxx - nx*(nx*(nx*sxx + ny*syx) + ny*(nx*sxy + ny*syy)) + ny*syx, nx*sxy + ny*syy - ny*(nx*(nx*sxx + ny*syx) + ny*(nx*sxy + ny*syy))]])\n"
     ]
    }
   ],
   "source": [
    "t = lhs - rhs\n",
    "print(t)"
   ]
  },
  {
   "cell_type": "code",
   "execution_count": 51,
   "metadata": {
    "collapsed": false
   },
   "outputs": [],
   "source": [
    "t1 = t[0,0]\n",
    "t2 = t[0,1]"
   ]
  },
  {
   "cell_type": "code",
   "execution_count": 52,
   "metadata": {
    "collapsed": false
   },
   "outputs": [
    {
     "name": "stdout",
     "output_type": "stream",
     "text": [
      "nx*sxx - nx*(nx*(nx*sxx + ny*syx) + ny*(nx*sxy + ny*syy)) + ny*syx\n",
      "nx*sxy + ny*syy - ny*(nx*(nx*sxx + ny*syx) + ny*(nx*sxy + ny*syy))\n"
     ]
    }
   ],
   "source": [
    "print(t1)\n",
    "print(t2)"
   ]
  },
  {
   "cell_type": "code",
   "execution_count": 53,
   "metadata": {
    "collapsed": false
   },
   "outputs": [
    {
     "data": {
      "text/plain": [
       "nx*sxx - nx*(nx*(nx*sxx + ny*syx) + ny*(nx*sxy + ny*syy)) + ny*syx"
      ]
     },
     "execution_count": 53,
     "metadata": {},
     "output_type": "execute_result"
    }
   ],
   "source": [
    "t1.simplify()"
   ]
  },
  {
   "cell_type": "code",
   "execution_count": 63,
   "metadata": {
    "collapsed": true
   },
   "outputs": [],
   "source": [
    "ddx, ddy, ux, uy = sp.var('ddx ddy ux uy')\n",
    "\n",
    "grad = sp.Matrix([ddx,ddy])\n",
    "u = sp.Matrix([ux,uy])\n",
    "print(grad.shape)\n",
    "\n",
    "phij,mu = sp.var('phij mu')\n",
    "uDuxj = sp.Matrix([phij,0])\n",
    "\n",
    "uDuyj = sp.Matrix([0,phij])"
   ]
  },
  {
   "cell_type": "code",
   "execution_count": 65,
   "metadata": {
    "collapsed": false
   },
   "outputs": [
    {
     "data": {
      "text/plain": [
       "Matrix([\n",
       "[ddx*ux, ddx*uy],\n",
       "[ddy*ux, ddy*uy]])"
      ]
     },
     "execution_count": 65,
     "metadata": {},
     "output_type": "execute_result"
    }
   ],
   "source": [
    "grad*u.transpose()"
   ]
  },
  {
   "cell_type": "code",
   "execution_count": 78,
   "metadata": {
    "collapsed": false
   },
   "outputs": [
    {
     "name": "stdout",
     "output_type": "stream",
     "text": [
      "Matrix([[ddy*mu*nx*ny*phij + nx*(2*ddx*mu*nx*phij + ddy*mu*ny*phij)]])\n"
     ]
    }
   ],
   "source": [
    "jacx = n.transpose() * (mu * (grad*uDuxj.transpose() + (grad*uDuxj.transpose()).transpose())) * n\n",
    "print(jacx)"
   ]
  },
  {
   "cell_type": "code",
   "execution_count": 79,
   "metadata": {
    "collapsed": false
   },
   "outputs": [
    {
     "data": {
      "text/plain": [
       "nx*(2*ddx*mu*nx**2*phij + 2*ddy*mu*nx*ny*phij)"
      ]
     },
     "execution_count": 79,
     "metadata": {},
     "output_type": "execute_result"
    }
   ],
   "source": [
    "sp.expand(jacx[0,0])*nx"
   ]
  },
  {
   "cell_type": "code",
   "execution_count": 81,
   "metadata": {
    "collapsed": false
   },
   "outputs": [
    {
     "name": "stdout",
     "output_type": "stream",
     "text": [
      "Matrix([[ddx*mu*nx*ny*phij + ny*(ddx*mu*nx*phij + 2*ddy*mu*ny*phij)]])\n"
     ]
    }
   ],
   "source": [
    "jacy = n.transpose() * (mu * (grad*uDuyj.transpose() + (grad*uDuyj.transpose()).transpose())) * n\n",
    "print(jacy)"
   ]
  },
  {
   "cell_type": "code",
   "execution_count": 82,
   "metadata": {
    "collapsed": false
   },
   "outputs": [
    {
     "data": {
      "text/plain": [
       "ny*(2*ddx*mu*nx*ny*phij + 2*ddy*mu*ny**2*phij)"
      ]
     },
     "execution_count": 82,
     "metadata": {},
     "output_type": "execute_result"
    }
   ],
   "source": [
    "sp.expand(jacy[0,0])*ny"
   ]
  },
  {
   "cell_type": "code",
   "execution_count": 83,
   "metadata": {
    "collapsed": false
   },
   "outputs": [
    {
     "data": {
      "text/plain": [
       "2*mu*ny*phij*(ddx*nx + ddy*ny)"
      ]
     },
     "execution_count": 83,
     "metadata": {},
     "output_type": "execute_result"
    }
   ],
   "source": [
    "sp.factor(jacy[0,0])"
   ]
  },
  {
   "cell_type": "code",
   "execution_count": 87,
   "metadata": {
    "collapsed": false
   },
   "outputs": [
    {
     "name": "stdout",
     "output_type": "stream",
     "text": [
      "2*mu*nx**2*phij*(ddx*nx + ddy*ny)\n",
      "2*mu*ny**2*phij*(ddx*nx + ddy*ny)\n"
     ]
    }
   ],
   "source": [
    "print(sp.factor((jacx[0,0]*n.transpose())[0,0]))\n",
    "print(sp.factor((jacy[0,0]*n.transpose())[0,1]))"
   ]
  },
  {
   "cell_type": "code",
   "execution_count": 88,
   "metadata": {
    "collapsed": false
   },
   "outputs": [
    {
     "name": "stdout",
     "output_type": "stream",
     "text": [
      "Matrix([[2*ddx*mu*phij, ddy*mu*phij], [ddy*mu*phij, 0]])\n",
      "Matrix([[0, ddx*mu*phij], [ddx*mu*phij, 2*ddy*mu*phij]])\n"
     ]
    }
   ],
   "source": [
    "sJacX = mu * (grad*uDuxj.transpose() + (grad*uDuxj.transpose()).transpose())\n",
    "sJacY = mu * (grad*uDuyj.transpose() + (grad*uDuyj.transpose()).transpose())\n",
    "print(sJacX)\n",
    "print(sJacY)"
   ]
  },
  {
   "cell_type": "code",
   "execution_count": 90,
   "metadata": {
    "collapsed": false
   },
   "outputs": [
    {
     "name": "stdout",
     "output_type": "stream",
     "text": [
      "mu*phij*(2*ddx*nx + ddy*ny)\n",
      "mu*phij*(ddx*nx + 2*ddy*ny)\n"
     ]
    }
   ],
   "source": [
    "print(sp.factor((n.transpose()*sJacX)[0,0]))\n",
    "print(sp.factor((n.transpose()*sJacY)[0,1]))"
   ]
  },
  {
   "cell_type": "code",
   "execution_count": 85,
   "metadata": {
    "collapsed": false
   },
   "outputs": [
    {
     "data": {
      "text/plain": [
       "(1, 1)"
      ]
     },
     "execution_count": 85,
     "metadata": {},
     "output_type": "execute_result"
    }
   ],
   "source": [
    "jacx.shape"
   ]
  },
  {
   "cell_type": "markdown",
   "metadata": {},
   "source": [
    "# Jacobian calculations related to deviatoric stress tensor ($\\hat{\\tau}$) and rate of strain tensor ($\\hat{\\epsilon}$)\n",
    "\n",
    "**Note that the total stress tensor ($\\hat{\\sigma}$) is equal to the sum of the deviatoric stress tensor ($\\hat{\\tau}$) and the stress induced by pressure ($-p\\hat{I}$), e.g.**\n",
    "\n",
    "\\begin{equation}\n",
    "\\hat{\\sigma} = \\hat{\\tau} - p\\hat{I}\n",
    "\\end{equation}"
   ]
  },
  {
   "cell_type": "code",
   "execution_count": 5,
   "metadata": {
    "collapsed": false
   },
   "outputs": [
    {
     "name": "stdout",
     "output_type": "stream",
     "text": [
      "Matrix([[ddx*ux, ddx*uy/2 + ddy*ux/2], [ddx*uy/2 + ddy*ux/2, ddy*uy]])\n",
      "Matrix([[ddx*phij, ddy*phij/2], [ddy*phij/2, 0]])\n",
      "Matrix([[0, ddx*phij/2], [ddx*phij/2, ddy*phij]])\n"
     ]
    }
   ],
   "source": [
    "import sympy as sp\n",
    "\n",
    "sxx, sxy, syx, syy, nx, ny, mu = sp.var('sxx sxy syx syy nx ny mu')\n",
    "ddx, ddy, ux, uy = sp.var('ddx ddy ux uy')\n",
    "\n",
    "grad = sp.Matrix([ddx,ddy])\n",
    "u = sp.Matrix([ux,uy])\n",
    "\n",
    "phij,mu = sp.var('phij mu')\n",
    "uDuxj = sp.Matrix([phij,0])\n",
    "uDuyj = sp.Matrix([0,phij])\n",
    "\n",
    "rateOfStrain = (grad*u.transpose() + (grad*u.transpose()).transpose()) * 1 / 2\n",
    "d_rateOfStrain_d_uxj = (grad*uDuxj.transpose() + (grad*uDuxj.transpose()).transpose()) * 1 / 2\n",
    "d_rateOfStrain_d_uyj = (grad*uDuyj.transpose() + (grad*uDuyj.transpose()).transpose()) * 1 / 2\n",
    "print(rateOfStrain)\n",
    "print(d_rateOfStrain_d_uxj)\n",
    "print(d_rateOfStrain_d_uyj)"
   ]
  },
  {
   "cell_type": "code",
   "execution_count": 7,
   "metadata": {
    "collapsed": false
   },
   "outputs": [
    {
     "name": "stdout",
     "output_type": "stream",
     "text": [
      "Matrix([[2*ddx*mu*ux, mu*(ddx*uy + ddy*ux)], [mu*(ddx*uy + ddy*ux), 2*ddy*mu*uy]])\n",
      "Matrix([[2*ddx*mu*phij, ddy*mu*phij], [ddy*mu*phij, 0]])\n",
      "Matrix([[0, ddx*mu*phij], [ddx*mu*phij, 2*ddy*mu*phij]])\n"
     ]
    }
   ],
   "source": [
    "tau = rateOfStrain * 2 * mu\n",
    "d_tau_d_uxj = d_rateOfStrain_d_uxj * 2 * mu\n",
    "d_tau_d_uyj = d_rateOfStrain_d_uyj * 2 * mu\n",
    "print(tau)\n",
    "print(d_tau_d_uxj)\n",
    "print(d_tau_d_uyj)"
   ]
  },
  {
   "cell_type": "code",
   "execution_count": 10,
   "metadata": {
    "collapsed": true
   },
   "outputs": [],
   "source": [
    "normals = sp.Matrix([nx,ny])\n",
    "y_component_normal = sp.Matrix([0,ny])\n",
    "x_component_normal = sp.Matrix([nx,0])\n",
    "test = sp.var('test')\n",
    "test_x = sp.Matrix([test,0])\n",
    "test_y = sp.Matrix([0,test])"
   ]
  },
  {
   "cell_type": "markdown",
   "metadata": {},
   "source": [
    "## This is an example of an **off-diagonal** jacobian computation: derivative with respect to $x$ while test function corresponds to $y$\n",
    "\n",
    "### Specifically this corresponds to an off-diagonal contribution corresponding to the residual term:\n",
    "\n",
    "\\begin{equation}\n",
    "\\vec{n}^T \\cdot \\hat{\\tau} \\cdot \\vec{v}_y\n",
    "\\end{equation}"
   ]
  },
  {
   "cell_type": "code",
   "execution_count": 12,
   "metadata": {
    "collapsed": false
   },
   "outputs": [
    {
     "data": {
      "text/plain": [
       "Matrix([[ddy*mu*nx*phij*test]])"
      ]
     },
     "execution_count": 12,
     "metadata": {},
     "output_type": "execute_result"
    }
   ],
   "source": [
    "normals.transpose() * d_tau_d_uxj * test_y"
   ]
  },
  {
   "cell_type": "markdown",
   "metadata": {},
   "source": [
    "### Now let's look at an off diagonal-term for:\n",
    "\n",
    "\\begin{equation}\n",
    "\\left(\\vec{n}^T \\cdot \\hat{\\tau} \\cdot \\vec{n} \\right) \\vec{n}^T \\cdot \\vec{v}_y\n",
    "\\end{equation}"
   ]
  },
  {
   "cell_type": "code",
   "execution_count": 14,
   "metadata": {
    "collapsed": false
   },
   "outputs": [
    {
     "data": {
      "text/plain": [
       "Matrix([[2*mu*nx*ny*phij*test*(ddx*nx + ddy*ny)]])"
      ]
     },
     "execution_count": 14,
     "metadata": {},
     "output_type": "execute_result"
    }
   ],
   "source": [
    "sp.factor(normals.transpose() * d_tau_d_uxj * normals * normals.transpose() * test_y)"
   ]
  },
  {
   "cell_type": "markdown",
   "metadata": {},
   "source": [
    "## Hmm...that's not very revealing...this result is completely symmetric...it doesn't tell me what the code implementation should be. Let's try 3D in order to elucidate"
   ]
  },
  {
   "cell_type": "code",
   "execution_count": 3,
   "metadata": {
    "collapsed": false
   },
   "outputs": [
    {
     "name": "stdout",
     "output_type": "stream",
     "text": [
      "Matrix([[ddx*ux, ddx*uy/2 + ddy*ux/2, ddx*uz/2 + ddz*ux/2], [ddx*uy/2 + ddy*ux/2, ddy*uy, ddy*uz/2 + ddz*uy/2], [ddx*uz/2 + ddz*ux/2, ddy*uz/2 + ddz*uy/2, ddz*uz]])\n",
      "Matrix([[ddx*phij, ddy*phij/2, ddz*phij/2], [ddy*phij/2, 0, 0], [ddz*phij/2, 0, 0]])\n",
      "Matrix([[0, ddx*phij/2, 0], [ddx*phij/2, ddy*phij, ddz*phij/2], [0, ddz*phij/2, 0]])\n",
      "Matrix([[0, 0, ddx*phij/2], [0, 0, ddy*phij/2], [ddx*phij/2, ddy*phij/2, ddz*phij]])\n"
     ]
    }
   ],
   "source": [
    "import sympy as sp\n",
    "\n",
    "nx, ny, nz, mu, phij, ddx, ddy, ddz, ux, uy, uz = sp.var('nx ny nz mu phij ddx ddy ddz ux uy uz')\n",
    "grad = sp.Matrix([ddx,ddy,ddz])\n",
    "u = sp.Matrix([ux, uy, uz])\n",
    "uDuxj = sp.Matrix([phij,0,0])\n",
    "uDuyj = sp.Matrix([0,phij,0])\n",
    "uDuzj = sp.Matrix([0,0,phij])\n",
    "\n",
    "rateOfStrain = (grad*u.transpose() + (grad*u.transpose()).transpose()) * 1 / 2\n",
    "d_rateOfStrain_d_uxj = (grad*uDuxj.transpose() + (grad*uDuxj.transpose()).transpose()) * 1 / 2\n",
    "d_rateOfStrain_d_uyj = (grad*uDuyj.transpose() + (grad*uDuyj.transpose()).transpose()) * 1 / 2\n",
    "d_rateOfStrain_d_uzj = (grad*uDuzj.transpose() + (grad*uDuzj.transpose()).transpose()) * 1 / 2\n",
    "print(rateOfStrain)\n",
    "print(d_rateOfStrain_d_uxj)\n",
    "print(d_rateOfStrain_d_uyj)\n",
    "print(d_rateOfStrain_d_uzj)"
   ]
  },
  {
   "cell_type": "code",
   "execution_count": 4,
   "metadata": {
    "collapsed": false
   },
   "outputs": [
    {
     "name": "stdout",
     "output_type": "stream",
     "text": [
      "Matrix([[2*ddx*mu*ux, mu*(ddx*uy + ddy*ux), mu*(ddx*uz + ddz*ux)], [mu*(ddx*uy + ddy*ux), 2*ddy*mu*uy, mu*(ddy*uz + ddz*uy)], [mu*(ddx*uz + ddz*ux), mu*(ddy*uz + ddz*uy), 2*ddz*mu*uz]])\n",
      "Matrix([[2*ddx*mu*phij, ddy*mu*phij, ddz*mu*phij], [ddy*mu*phij, 0, 0], [ddz*mu*phij, 0, 0]])\n",
      "Matrix([[0, ddx*mu*phij, 0], [ddx*mu*phij, 2*ddy*mu*phij, ddz*mu*phij], [0, ddz*mu*phij, 0]])\n",
      "Matrix([[0, 0, ddx*mu*phij], [0, 0, ddy*mu*phij], [ddx*mu*phij, ddy*mu*phij, 2*ddz*mu*phij]])\n"
     ]
    }
   ],
   "source": [
    "tau = rateOfStrain * 2 * mu\n",
    "d_tau_d_uxj = d_rateOfStrain_d_uxj * 2 * mu\n",
    "d_tau_d_uyj = d_rateOfStrain_d_uyj * 2 * mu\n",
    "d_tau_d_uzj = d_rateOfStrain_d_uzj * 2 * mu\n",
    "print(tau)\n",
    "print(d_tau_d_uxj)\n",
    "print(d_tau_d_uyj)\n",
    "print(d_tau_d_uzj)"
   ]
  },
  {
   "cell_type": "code",
   "execution_count": 5,
   "metadata": {
    "collapsed": true
   },
   "outputs": [],
   "source": [
    "normals = sp.Matrix([nx,ny,nz])\n",
    "test = sp.var('test')\n",
    "test_x = sp.Matrix([test,0,0])\n",
    "test_y = sp.Matrix([0,test,0])\n",
    "test_z = sp.Matrix([0,0,test])"
   ]
  },
  {
   "cell_type": "code",
   "execution_count": 21,
   "metadata": {
    "collapsed": false
   },
   "outputs": [
    {
     "data": {
      "text/plain": [
       "Matrix([[2*mu*nx*ny*phij*test*(ddx*nx + ddy*ny + ddz*nz)]])"
      ]
     },
     "execution_count": 21,
     "metadata": {},
     "output_type": "execute_result"
    }
   ],
   "source": [
    "sp.factor(normals.transpose() * d_tau_d_uxj * normals * normals.transpose() * test_y)"
   ]
  },
  {
   "cell_type": "code",
   "execution_count": 22,
   "metadata": {
    "collapsed": false
   },
   "outputs": [
    {
     "data": {
      "text/plain": [
       "Matrix([[2*mu*nx*nz*phij*test*(ddx*nx + ddy*ny + ddz*nz)]])"
      ]
     },
     "execution_count": 22,
     "metadata": {},
     "output_type": "execute_result"
    }
   ],
   "source": [
    "sp.factor(normals.transpose() * d_tau_d_uxj * normals * normals.transpose() * test_z)"
   ]
  },
  {
   "cell_type": "code",
   "execution_count": 23,
   "metadata": {
    "collapsed": false
   },
   "outputs": [
    {
     "data": {
      "text/plain": [
       "Matrix([[2*mu*nx*ny*phij*test*(ddx*nx + ddy*ny + ddz*nz)]])"
      ]
     },
     "execution_count": 23,
     "metadata": {},
     "output_type": "execute_result"
    }
   ],
   "source": [
    "sp.factor(normals.transpose() * d_tau_d_uyj * normals * normals.transpose() * test_x)"
   ]
  },
  {
   "cell_type": "markdown",
   "metadata": {},
   "source": [
    "## Alright, it looks like we get the normal components corresponding to residual $i$ and derivative variable $j$!!! Boom!"
   ]
  },
  {
   "cell_type": "code",
   "execution_count": 7,
   "metadata": {
    "collapsed": false
   },
   "outputs": [
    {
     "data": {
      "text/plain": [
       "2*ddx*mu*nx*ux + mu*ny*(ddx*uy + ddy*ux) + mu*nz*(ddx*uz + ddz*ux)"
      ]
     },
     "execution_count": 7,
     "metadata": {},
     "output_type": "execute_result"
    }
   ],
   "source": [
    "(normals.transpose() * tau)[0]"
   ]
  },
  {
   "cell_type": "code",
   "execution_count": 9,
   "metadata": {
    "collapsed": false
   },
   "outputs": [
    {
     "data": {
      "text/plain": [
       "mu*(2*ddx*nx*ux + ddx*ny*uy + ddx*nz*uz + ddy*ny*ux + ddz*nz*ux)"
      ]
     },
     "execution_count": 9,
     "metadata": {},
     "output_type": "execute_result"
    }
   ],
   "source": [
    "sp.factor(_)"
   ]
  },
  {
   "cell_type": "markdown",
   "metadata": {},
   "source": [
    "# 5/3/17"
   ]
  },
  {
   "cell_type": "code",
   "execution_count": 30,
   "metadata": {
    "collapsed": false
   },
   "outputs": [],
   "source": [
    "from scipy.special import erf\n",
    "from numpy import exp, sqrt, pi\n",
    "import numpy as np\n",
    "\n",
    "def u(x, y, u1, u2, sigma):\n",
    "    return (u1 + u2) / 2. - (u1 - u2) / 2. * erf(sigma * y / x)\n",
    "\n",
    "def v(x, y, u1, u2, sigma):\n",
    "    return (u1 - u2) / (2. * sigma * sqrt(pi)) * exp(-(sigma * y / x)**2)\n",
    "\n",
    "def p():\n",
    "    return 0\n",
    "\n",
    "def k(x, y, k0, sigma):\n",
    "    return k0 * exp(-(sigma * y / x)**2)\n",
    "\n",
    "def epsilon(x, y, epsilon0, sigma):\n",
    "    return epsilon0 / x * exp(-(sigma * y / x)**2)\n",
    "\n",
    "def muT(x, y, muT0, sigma):\n",
    "    return muT0 * x * exp(-(sigma * y / x)**2)\n",
    "\n",
    "def k0(u1, u2, sigma):\n",
    "    return 343. / 75000. * u1 * (u1 - u2) * sigma / sqrt(pi)\n",
    "\n",
    "def epsilon0(u1, u2, sigma, Cmu):\n",
    "    return 343. / 22500. * Cmu * u1 * (u1 - u2)**2 * sigma**2 / pi\n",
    "\n",
    "def muT0(u1, rho):\n",
    "    return 343. / 250000. * rho * u1\n",
    "\n",
    "def Re(rho, u1, L, mu):\n",
    "    return rho * u1 * L / mu\n",
    "\n",
    "u1 = 1\n",
    "u2 = 0\n",
    "sigma = 13.5\n",
    "Cmu = 0.9\n",
    "x = np.arange(10, 100.5, .5)\n",
    "y = np.arange(-30, 30.5, .5)\n",
    "x,y = np.meshgrid(x, y)\n",
    "uplot = u(x, y, u1, u2, sigma)\n",
    "vplot = v(x, y, u1, u2, sigma)\n",
    "kplot = k(x, y, k0(u1, u2, sigma), sigma)\n",
    "epsPlot = epsilon(x, y, epsilon0(u1, u2, sigma, Cmu), sigma)\n",
    "muTplot = muT(x, y, muT0(u1, 1), sigma)"
   ]
  },
  {
   "cell_type": "code",
   "execution_count": 25,
   "metadata": {
    "collapsed": false
   },
   "outputs": [
    {
     "data": {
      "image/png": "[encoded data removed]",
      "text/plain": [
       "<matplotlib.figure.Figure at 0x7f0cba7d07f0>"
      ]
     },
     "metadata": {},
     "output_type": "display_data"
    }
   ],
   "source": [
    "import matplotlib.pyplot as plt\n",
    "\n",
    "plt.pcolor(x, y, uplot)\n",
    "plt.colorbar()\n",
    "plt.show()"
   ]
  },
  {
   "cell_type": "code",
   "execution_count": 27,
   "metadata": {
    "collapsed": false
   },
   "outputs": [
    {
     "data": {
      "image/png": "[encoded data removed]",
      "text/plain": [
       "<matplotlib.figure.Figure at 0x7f0cbb1948d0>"
      ]
     },
     "metadata": {},
     "output_type": "display_data"
    }
   ],
   "source": [
    "plt.pcolor(x, y, vplot)\n",
    "plt.colorbar()\n",
    "plt.show()"
   ]
  },
  {
   "cell_type": "code",
   "execution_count": 28,
   "metadata": {
    "collapsed": false
   },
   "outputs": [
    {
     "data": {
      "image/png": "[encoded data removed]",
      "text/plain": [
       "<matplotlib.figure.Figure at 0x7f0cba4db550>"
      ]
     },
     "metadata": {},
     "output_type": "display_data"
    }
   ],
   "source": [
    "plt.pcolor(x, y, kplot)\n",
    "plt.colorbar()\n",
    "plt.show()"
   ]
  },
  {
   "cell_type": "code",
   "execution_count": 29,
   "metadata": {
    "collapsed": false
   },
   "outputs": [
    {
     "data": {
      "image/png": "[encoded data removed]",
      "text/plain": [
       "<matplotlib.figure.Figure at 0x7f0cbb05bd30>"
      ]
     },
     "metadata": {},
     "output_type": "display_data"
    }
   ],
   "source": [
    "plt.pcolor(x, y, epsPlot)\n",
    "plt.colorbar()\n",
    "plt.show()"
   ]
  },
  {
   "cell_type": "code",
   "execution_count": 31,
   "metadata": {
    "collapsed": false
   },
   "outputs": [
    {
     "data": {
      "image/png": "[encoded data removed]",
      "text/plain": [
       "<matplotlib.figure.Figure at 0x7f0cb94c57f0>"
      ]
     },
     "metadata": {},
     "output_type": "display_data"
    }
   ],
   "source": [
    "plt.pcolor(x, y, muTplot)\n",
    "plt.colorbar()\n",
    "plt.show()"
   ]
  },
  {
   "cell_type": "code",
   "execution_count": 1,
   "metadata": {
    "collapsed": true
   },
   "outputs": [],
   "source": [
    "import sympy as sp\n",
    "from sympy import diff\n",
    "\n",
    "x, y, sigma, Cmu, rho, mu, k0, eps0 = sp.var('x y sigma Cmu rho mu k0 eps0')"
   ]
  },
  {
   "cell_type": "code",
   "execution_count": 2,
   "metadata": {
    "collapsed": true
   },
   "outputs": [],
   "source": [
    "def gradVec2(u_vec, x, y):\n",
    "    return sp.Matrix([[diff(u_vec[0], x), diff(u_vec[1],x)], [diff(u_vec[0], y), diff(u_vec[1], y)]])\n",
    "\n",
    "def divTen2(tensor, x, y):\n",
    "    return sp.Matrix([diff(tensor[0,0], x) + diff(tensor[1,0], y), diff(tensor[0, 1], x) + diff(tensor[1,1], y)])\n",
    "\n",
    "def divVec2(u_vec, x, y):\n",
    "    return diff(u_vec[0], x) + diff(u_vec[1], y)"
   ]
  },
  {
   "cell_type": "code",
   "execution_count": 4,
   "metadata": {
    "collapsed": false
   },
   "outputs": [],
   "source": [
    "u = (1 - sp.erf(sigma * y / x)) / 2\n",
    "v = sp.exp(-(sigma * y / x)**2) / 2 / sigma / sp.sqrt(sp.pi)\n",
    "k = k0 * sp.exp(-(sigma * y / x)**2)\n",
    "eps = eps0 / x * sp.exp(-(sigma * y / x)**2)\n",
    "muT = rho * Cmu * k**2 / eps\n",
    "\n",
    "u_vec = sp.Matrix([u, v])\n",
    "grad_u_vec = gradVec2(u_vec, x, y)\n",
    "visc_term = divTen2((mu + muT) * (grad_u_vec + grad_u_vec.transpose()), x, y)"
   ]
  },
  {
   "cell_type": "code",
   "execution_count": 5,
   "metadata": {
    "collapsed": false
   },
   "outputs": [
    {
     "name": "stdout",
     "output_type": "stream",
     "text": [
      "0\n"
     ]
    }
   ],
   "source": [
    "print(sp.simplify(divVec2(u_vec, x, y)))"
   ]
  },
  {
   "cell_type": "code",
   "execution_count": 6,
   "metadata": {
    "collapsed": false
   },
   "outputs": [
    {
     "data": {
      "text/plain": [
       "Matrix([\n",
       "[                   -2*Cmu*k0**2*rho*sigma**2*y*(-sigma*exp(-sigma**2*y**2/x**2)/(sqrt(pi)*x) + sigma*y**2*exp(-sigma**2*y**2/x**2)/(sqrt(pi)*x**3))*exp(-sigma**2*y**2/x**2)/(eps0*x) + 4*sigma**3*y**3*(Cmu*k0**2*rho*x*exp(-sigma**2*y**2/x**2)/eps0 + mu)*exp(-sigma**2*y**2/x**2)/(sqrt(pi)*x**5) + 2*sigma*y*(2*Cmu*k0**2*rho*sigma**2*y**2*exp(-sigma**2*y**2/x**2)/(eps0*x**2) + Cmu*k0**2*rho*exp(-sigma**2*y**2/x**2)/eps0)*exp(-sigma**2*y**2/x**2)/(sqrt(pi)*x**2) - 4*sigma*y*(Cmu*k0**2*rho*x*exp(-sigma**2*y**2/x**2)/eps0 + mu)*exp(-sigma**2*y**2/x**2)/(sqrt(pi)*x**3) + (Cmu*k0**2*rho*x*exp(-sigma**2*y**2/x**2)/eps0 + mu)*(2*sigma**3*y*exp(-sigma**2*y**2/x**2)/(sqrt(pi)*x**3) - 2*sigma**3*y**3*exp(-sigma**2*y**2/x**2)/(sqrt(pi)*x**5) + 2*sigma*y*exp(-sigma**2*y**2/x**2)/(sqrt(pi)*x**3))],\n",
       "[4*Cmu*k0**2*rho*sigma**3*y**2*exp(-2*sigma**2*y**2/x**2)/(sqrt(pi)*eps0*x**3) + 4*sigma**3*y**2*(Cmu*k0**2*rho*x*exp(-sigma**2*y**2/x**2)/eps0 + mu)*exp(-sigma**2*y**2/x**2)/(sqrt(pi)*x**4) - 2*sigma*(Cmu*k0**2*rho*x*exp(-sigma**2*y**2/x**2)/eps0 + mu)*exp(-sigma**2*y**2/x**2)/(sqrt(pi)*x**2) + (-sigma*exp(-sigma**2*y**2/x**2)/(sqrt(pi)*x) + sigma*y**2*exp(-sigma**2*y**2/x**2)/(sqrt(pi)*x**3))*(2*Cmu*k0**2*rho*sigma**2*y**2*exp(-sigma**2*y**2/x**2)/(eps0*x**2) + Cmu*k0**2*rho*exp(-sigma**2*y**2/x**2)/eps0) + (Cmu*k0**2*rho*x*exp(-sigma**2*y**2/x**2)/eps0 + mu)*(-2*sigma**3*y**2*exp(-sigma**2*y**2/x**2)/(sqrt(pi)*x**4) + 2*sigma**3*y**4*exp(-sigma**2*y**2/x**2)/(sqrt(pi)*x**6) + sigma*exp(-sigma**2*y**2/x**2)/(sqrt(pi)*x**2) - 3*sigma*y**2*exp(-sigma**2*y**2/x**2)/(sqrt(pi)*x**4))]])"
      ]
     },
     "execution_count": 6,
     "metadata": {},
     "output_type": "execute_result"
    }
   ],
   "source": [
    "visc_term"
   ]
  },
  {
   "cell_type": "code",
   "execution_count": 61,
   "metadata": {
    "collapsed": false
   },
   "outputs": [
    {
     "data": {
      "text/plain": [
       "(2, 1)"
      ]
     },
     "execution_count": 61,
     "metadata": {},
     "output_type": "execute_result"
    }
   ],
   "source": [
    "visc_term.shape"
   ]
  },
  {
   "cell_type": "code",
   "execution_count": 7,
   "metadata": {
    "collapsed": false
   },
   "outputs": [],
   "source": [
    "momentum_equations = rho * u_vec.transpose() * grad_u_vec - visc_term.transpose()"
   ]
  },
  {
   "cell_type": "code",
   "execution_count": 12,
   "metadata": {
    "collapsed": true
   },
   "outputs": [],
   "source": [
    "u_eq = momentum_equations[0]\n",
    "v_eq = momentum_equations[1]"
   ]
  },
  {
   "cell_type": "code",
   "execution_count": 16,
   "metadata": {
    "collapsed": false
   },
   "outputs": [
    {
     "data": {
      "text/plain": [
       "(-8*pi**5*Cmu*k0**2*rho*sigma**3*x**3*y**2 + 2*pi**5*Cmu*k0**2*rho*sigma*x*(x**2 - y**2)*(2*sigma**2*y**2 + x**2) - pi**5*eps0*rho*sigma*x**3*y**2*(erf(sigma*y/x) - 1)*exp(sigma**2*y**2/x**2) - pi**(9/2)*eps0*rho*x**4*y - 8*pi**5*sigma**3*x**2*y**2*(Cmu*k0**2*rho*x + eps0*mu*exp(sigma**2*y**2/x**2)) + 4*pi**5*sigma*x**4*(Cmu*k0**2*rho*x + eps0*mu*exp(sigma**2*y**2/x**2)) + 2*pi**5*sigma*(Cmu*k0**2*rho*x + eps0*mu*exp(sigma**2*y**2/x**2))*(-2*sigma**2*y**4 - x**4 + x**2*y**2*(2*sigma**2 + 3)))*exp(-2*sigma**2*y**2/x**2)/(2*pi**(11/2)*eps0*x**6)"
      ]
     },
     "execution_count": 16,
     "metadata": {},
     "output_type": "execute_result"
    }
   ],
   "source": [
    "sp.simplify(v_eq)"
   ]
  },
  {
   "cell_type": "code",
   "execution_count": 13,
   "metadata": {
    "collapsed": false
   },
   "outputs": [
    {
     "data": {
      "text/plain": [
       "(-8*pi**3*Cmu*k0**2*rho*sigma**3*x**3*y - 8*pi**3*Cmu*k0**2*rho*sigma**3*x*y**3 - 4*pi**3*eps0*mu*sigma**3*x**2*y*exp(sigma**2*y**2/x**2) - 4*pi**3*eps0*mu*sigma**3*y**3*exp(sigma**2*y**2/x**2) + 4*pi**3*eps0*mu*sigma*x**2*y*exp(sigma**2*y**2/x**2) - pi**3*eps0*rho*sigma*x**3*y*exp(sigma**2*y**2/x**2)*erf(sigma*y/x) + pi**3*eps0*rho*sigma*x**3*y*exp(sigma**2*y**2/x**2) - pi**(5/2)*eps0*rho*x**4)*exp(-2*sigma**2*y**2/x**2)/(2*pi**(7/2)*eps0*x**5)"
      ]
     },
     "execution_count": 13,
     "metadata": {},
     "output_type": "execute_result"
    }
   ],
   "source": [
    "sp.simplify(u_eq)"
   ]
  },
  {
   "cell_type": "code",
   "execution_count": 14,
   "metadata": {
    "collapsed": false
   },
   "outputs": [
    {
     "data": {
      "text/plain": [
       "-4*sigma**3*y**3*(Cmu*k0**2*rho*x*exp(-sigma**2*y**2/x**2)/eps0 + mu)*exp(-sigma**2*y**2/x**2)/(sqrt(pi)*x**5) + 4*sigma*y*(Cmu*k0**2*rho*x*exp(-sigma**2*y**2/x**2)/eps0 + mu)*exp(-sigma**2*y**2/x**2)/(sqrt(pi)*x**3) - (Cmu*k0**2*rho*x*exp(-sigma**2*y**2/x**2)/eps0 + mu)*(2*sigma**3*y*exp(-sigma**2*y**2/x**2)/(sqrt(pi)*x**3) - 2*sigma**3*y**3*exp(-sigma**2*y**2/x**2)/(sqrt(pi)*x**5) + 2*sigma*y*exp(-sigma**2*y**2/x**2)/(sqrt(pi)*x**3)) + (2*Cmu*k0**2*rho*sigma**2*y*(-sigma*exp(-sigma**2*y**2/x**2)/(sqrt(pi)*x) + sigma*y**2*exp(-sigma**2*y**2/x**2)/(sqrt(pi)*x**3))*exp(-sigma**2*y**2/x**2)/eps0 - rho*exp(-2*sigma**2*y**2/x**2)/(2*pi))/x + (rho*sigma*y*(-erf(sigma*y/x)/2 + 1/2)*exp(-sigma**2*y**2/x**2)/sqrt(pi) - 2*sigma*y*(2*Cmu*k0**2*rho*sigma**2*y**2*exp(-sigma**2*y**2/x**2)/(eps0*x**2) + Cmu*k0**2*rho*exp(-sigma**2*y**2/x**2)/eps0)*exp(-sigma**2*y**2/x**2)/sqrt(pi))/x**2"
      ]
     },
     "execution_count": 14,
     "metadata": {},
     "output_type": "execute_result"
    }
   ],
   "source": [
    "sp.collect(u_eq, x)"
   ]
  },
  {
   "cell_type": "code",
   "execution_count": 10,
   "metadata": {
    "collapsed": false
   },
   "outputs": [
    {
     "name": "stdout",
     "output_type": "stream",
     "text": [
      "117649*Cmu*rho*sigma**4*y*(-sigma*exp(-sigma**2*y**2/x**2)/(sqrt(pi)*x) + sigma*y**2*exp(-sigma**2*y**2/x**2)/(sqrt(pi)*x**3))*exp(-sigma**2*y**2/x**2)/(2812500000*pi*eps0*x) + rho*sigma*y*(-erf(sigma*y/x)/2 + 1/2)*exp(-sigma**2*y**2/x**2)/(sqrt(pi)*x**2) - rho*exp(-2*sigma**2*y**2/x**2)/(2*pi*x) - 4*sigma**3*y**3*(117649*Cmu*rho*sigma**2*x*exp(-sigma**2*y**2/x**2)/(5625000000*pi*eps0) + mu)*exp(-sigma**2*y**2/x**2)/(sqrt(pi)*x**5) - 2*sigma*y*(117649*Cmu*rho*sigma**4*y**2*exp(-sigma**2*y**2/x**2)/(2812500000*pi*eps0*x**2) + 117649*Cmu*rho*sigma**2*exp(-sigma**2*y**2/x**2)/(5625000000*pi*eps0))*exp(-sigma**2*y**2/x**2)/(sqrt(pi)*x**2) + 4*sigma*y*(117649*Cmu*rho*sigma**2*x*exp(-sigma**2*y**2/x**2)/(5625000000*pi*eps0) + mu)*exp(-sigma**2*y**2/x**2)/(sqrt(pi)*x**3) - (117649*Cmu*rho*sigma**2*x*exp(-sigma**2*y**2/x**2)/(5625000000*pi*eps0) + mu)*(2*sigma**3*y*exp(-sigma**2*y**2/x**2)/(sqrt(pi)*x**3) - 2*sigma**3*y**3*exp(-sigma**2*y**2/x**2)/(sqrt(pi)*x**5) + 2*sigma*y*exp(-sigma**2*y**2/x**2)/(sqrt(pi)*x**3))\n",
      "343*rho*sigma**2*y*(-sigma*exp(-sigma**2*y**2/x**2)/(sqrt(pi)*x) + sigma*y**2*exp(-sigma**2*y**2/x**2)/(sqrt(pi)*x**3))*exp(-sigma**2*y**2/x**2)/(125000*x) + rho*sigma*y*(-erf(sigma*y/x)/2 + 1/2)*exp(-sigma**2*y**2/x**2)/(sqrt(pi)*x**2) - rho*exp(-2*sigma**2*y**2/x**2)/(2*pi*x) - 4*sigma**3*y**3*(mu + 343*rho*x*exp(-sigma**2*y**2/x**2)/250000)*exp(-sigma**2*y**2/x**2)/(sqrt(pi)*x**5) - 2*sigma*y*(343*rho*sigma**2*y**2*exp(-sigma**2*y**2/x**2)/(125000*x**2) + 343*rho*exp(-sigma**2*y**2/x**2)/250000)*exp(-sigma**2*y**2/x**2)/(sqrt(pi)*x**2) + 4*sigma*y*(mu + 343*rho*x*exp(-sigma**2*y**2/x**2)/250000)*exp(-sigma**2*y**2/x**2)/(sqrt(pi)*x**3) - (mu + 343*rho*x*exp(-sigma**2*y**2/x**2)/250000)*(2*sigma**3*y*exp(-sigma**2*y**2/x**2)/(sqrt(pi)*x**3) - 2*sigma**3*y**3*exp(-sigma**2*y**2/x**2)/(sqrt(pi)*x**5) + 2*sigma*y*exp(-sigma**2*y**2/x**2)/(sqrt(pi)*x**3))\n"
     ]
    }
   ],
   "source": [
    "u_eq = u_eq.subs(k0, sigma / sp.sqrt(sp.pi) * 343 / 75000)\n",
    "print(u_eq)\n",
    "u_eq = u_eq.subs(eps0, Cmu * sigma**2 / sp.pi * 343 / 22500)\n",
    "print(u_eq)"
   ]
  },
  {
   "cell_type": "code",
   "execution_count": 11,
   "metadata": {
    "collapsed": false
   },
   "outputs": [
    {
     "data": {
      "text/plain": [
       "(-125000*pi**3*mu*sigma**3*x**2*y*exp(sigma**2*y**2/x**2) - 125000*pi**3*mu*sigma**3*y**3*exp(sigma**2*y**2/x**2) + 125000*pi**3*mu*sigma*x**2*y*exp(sigma**2*y**2/x**2) - 343*pi**3*rho*sigma**3*x**3*y - 343*pi**3*rho*sigma**3*x*y**3 - 31250*pi**3*rho*sigma*x**3*y*exp(sigma**2*y**2/x**2)*erf(sigma*y/x) + 31250*pi**3*rho*sigma*x**3*y*exp(sigma**2*y**2/x**2) - 31250*pi**(5/2)*rho*x**4)*exp(-2*sigma**2*y**2/x**2)/(62500*pi**(7/2)*x**5)"
      ]
     },
     "execution_count": 11,
     "metadata": {},
     "output_type": "execute_result"
    }
   ],
   "source": [
    "sp.simplify(u_eq)"
   ]
  },
  {
   "cell_type": "code",
   "execution_count": 52,
   "metadata": {
    "collapsed": true
   },
   "outputs": [],
   "source": [
    "grad_u_vec = sp.Matrix([[diff(u, x), diff(v, x)], [diff(u, y), diff(v, y)]])"
   ]
  },
  {
   "cell_type": "code",
   "execution_count": 57,
   "metadata": {
    "collapsed": false
   },
   "outputs": [
    {
     "data": {
      "text/plain": [
       "Matrix([\n",
       "[sigma*y*exp(-sigma**2*y**2/x**2)/(sqrt(pi)*x**2), -y*exp(sigma*y/x)/(2*sqrt(pi)*x**2)],\n",
       "[    -sigma*exp(-sigma**2*y**2/x**2)/(sqrt(pi)*x),       exp(sigma*y/x)/(2*sqrt(pi)*x)]])"
      ]
     },
     "execution_count": 57,
     "metadata": {},
     "output_type": "execute_result"
    }
   ],
   "source": [
    "grad_u_vec"
   ]
  },
  {
   "cell_type": "code",
   "execution_count": 40,
   "metadata": {
    "collapsed": false
   },
   "outputs": [
    {
     "name": "stdout",
     "output_type": "stream",
     "text": [
      "\u001b[H\u001b[2J"
     ]
    }
   ],
   "source": [
    "clear(pi)"
   ]
  },
  {
   "cell_type": "code",
   "execution_count": 49,
   "metadata": {
    "collapsed": true
   },
   "outputs": [],
   "source": [
    "from sympy.physics.vector import ReferenceFrame\n",
    "R = ReferenceFrame('R')\n",
    "\n",
    "u = (1 - sp.erf(sigma * R[1] / R[0])) / 2\n",
    "v = sp.exp(sigma * R[1] / R[0]) / 2 / sigma / sp.sqrt(pi)\n",
    "k = k0 * sp.exp(-(sigma * R[1] / R[0])**2)\n",
    "eps = eps0 / R[0] * sp.exp(-(sigma * R[1] / R[0])**2)\n",
    "muT = rho * Cmu * k**2 / eps"
   ]
  },
  {
   "cell_type": "code",
   "execution_count": 50,
   "metadata": {
    "collapsed": false
   },
   "outputs": [
    {
     "data": {
      "text/plain": [
       "-erf(sigma*y/x)/2 + 1/2"
      ]
     },
     "execution_count": 50,
     "metadata": {},
     "output_type": "execute_result"
    }
   ],
   "source": [
    "u_vec[0]"
   ]
  },
  {
   "cell_type": "code",
   "execution_count": null,
   "metadata": {
    "collapsed": true
   },
   "outputs": [],
   "source": [
    "grad_u_vec = gradVec2(u_vec)"
   ]
  }
 ],
 "metadata": {
  "kernelspec": {
   "display_name": "Python 3",
   "language": "python",
   "name": "python3"
  },
  "language_info": {
   "codemirror_mode": {
    "name": "ipython",
    "version": 3
   },
   "file_extension": ".py",
   "mimetype": "text/x-python",
   "name": "python",
   "nbconvert_exporter": "python",
   "pygments_lexer": "ipython3",
   "version": "3.6.0"
  }
 },
 "nbformat": 4,
 "nbformat_minor": 2
}
