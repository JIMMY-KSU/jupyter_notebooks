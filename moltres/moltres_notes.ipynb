{
 "cells": [
  {
   "cell_type": "markdown",
   "metadata": {},
   "source": [
    "# Key values\n",
    "\n",
    "- $\\alpha_{msre}$ = 6.96e-5\n"
   ]
  },
  {
   "cell_type": "markdown",
   "metadata": {},
   "source": [
    "# 3/29/17\n",
    "\n",
    "For the record, there is definitely something wrong with my Jacobian because PJFNK converged WAY faster than NEWTON did. Yay for PJFNK though!"
   ]
  },
  {
   "cell_type": "markdown",
   "metadata": {},
   "source": [
    "The key it turns out as always is to think carefully about what you're doing. Take one set of physics at a time. Think about what the operating temperature should be and then design the reactor dimensions to be extremeley close to critical at that temperature."
   ]
  },
  {
   "cell_type": "markdown",
   "metadata": {},
   "source": [
    "The only thing I use the `average_fission_heat` postprocessor for is as a quantity to aid in calculation of the residual for `GammaHeatSource`. Residuals are calculated with the solution variable `u`. The inner linear iteration of the Newton solve calculates $\\delta u$. The $b$ vector, corresponding to $-\\vec{R}(\\vec{u})$, and the A matrix corresponding to $\\hat{J}(\\vec{u})$ doesn't change during the linear iteration. Consequently, I don't need to update that postprocessor during that time. Initial guess for $u$ for the outer Newton solve in a transient simulation is just the value of $u$ from the previous time step I would assume. And the initial guess for $\\delta u$ in the inner linear iterations is zero."
   ]
  },
  {
   "cell_type": "markdown",
   "metadata": {},
   "source": [
    "The above very well may not be true. Just look at `moose-notes`. `ComputeResidualThread` is getting called during linear iterations. Also not sure whether that example in `moose-notes` was with PJFNK or with NEWTON. The residual and jacobian calling patterns are odd to me. Why would `ComputeJacobianThread` not get called any time that `ComputeResidualThread` gets called? Well at the end of a non-linear iteration, if we've reached convergence, then we have to check the residual...in that instance it makese perfect sense why we get a residual call and not a jacobian call"
   ]
  },
  {
   "cell_type": "markdown",
   "metadata": {},
   "source": [
    "Ok, so for PJFNK, ComputeResidualThread is called for every linear iteration, whereas it is not called on linear iterations for NEWTON."
   ]
  },
  {
   "cell_type": "code",
   "execution_count": null,
   "metadata": {
    "collapsed": true
   },
   "outputs": [],
   "source": [
    "tot_r = 60\n",
    "num_segments = 30\n",
    "def area(total_r, num_segments, x):\n",
    "    for i in range(num_segments):\n",
    "        if i == 0:\n",
    "            fuel_area += "
   ]
  },
  {
   "cell_type": "code",
   "execution_count": null,
   "metadata": {
    "collapsed": true
   },
   "outputs": [],
   "source": [
    "import sympy as sp"
   ]
  },
  {
   "cell_type": "code",
   "execution_count": 34,
   "metadata": {
    "collapsed": false
   },
   "outputs": [],
   "source": [
    "def calc_spacing(R, n):\n",
    "    x = sp.symbols('x')\n",
    "    Af = 0\n",
    "    Am = 0\n",
    "    for m in range(2*n - 1):\n",
    "        if m % 2 == 0:\n",
    "            Af += sp.pi * (R/n * (m/2 + x))**2\n",
    "        if m % 2 == 1:\n",
    "            Af -= sp.pi * (R/n * (m+1)/2)**2\n",
    "    for m in range(2*n):\n",
    "        if m % 2 == 0:\n",
    "            Am -= sp.pi * (R/n * (m/2 + x))**2\n",
    "        if m % 2 == 1:\n",
    "            Am += sp.pi * (R/n * (m+1)/2)**2\n",
    "    return sp.solve(Af / (Af + Am) - .225, x)\n",
    "\n",
    "def intervals(R, pitch):\n",
    "    return R/pitch"
   ]
  },
  {
   "cell_type": "code",
   "execution_count": 37,
   "metadata": {
    "collapsed": false
   },
   "outputs": [
    {
     "data": {
      "text/plain": [
       "14.5"
      ]
     },
     "execution_count": 37,
     "metadata": {},
     "output_type": "execute_result"
    }
   ],
   "source": [
    "intervals(72.5, 5)"
   ]
  },
  {
   "cell_type": "code",
   "execution_count": 38,
   "metadata": {
    "collapsed": false
   },
   "outputs": [
    {
     "data": {
      "text/plain": [
       "[-13.2379522111692, 0.237952211169211]"
      ]
     },
     "execution_count": 38,
     "metadata": {},
     "output_type": "execute_result"
    }
   ],
   "source": [
    "calc_spacing(72.5, 14)"
   ]
  },
  {
   "cell_type": "code",
   "execution_count": 28,
   "metadata": {
    "collapsed": false
   },
   "outputs": [
    {
     "data": {
      "text/plain": [
       "[14]"
      ]
     },
     "execution_count": 28,
     "metadata": {},
     "output_type": "execute_result"
    }
   ],
   "source": [
    "n = sp.symbols('n')\n",
    "sp.solve(70/n - 5, n)"
   ]
  },
  {
   "cell_type": "markdown",
   "metadata": {},
   "source": [
    "- 922 K: .9648121903\n",
    "- 1022 K: 0.9531920162"
   ]
  },
  {
   "cell_type": "code",
   "execution_count": 32,
   "metadata": {
    "collapsed": false
   },
   "outputs": [],
   "source": [
    "def calc_alpha(k1, k2, dT):\n",
    "    average_k = (k1+k2)/2\n",
    "    return (k2 - k1) / (average_k * dT * 1.8)"
   ]
  },
  {
   "cell_type": "code",
   "execution_count": 33,
   "metadata": {
    "collapsed": false
   },
   "outputs": [
    {
     "data": {
      "text/plain": [
       "-6.731635161069959e-05"
      ]
     },
     "execution_count": 33,
     "metadata": {},
     "output_type": "execute_result"
    }
   ],
   "source": [
    "calc_alpha(.9648121903, .9531920162, 100)"
   ]
  },
  {
   "cell_type": "markdown",
   "metadata": {},
   "source": [
    "Ok, using a FDP preconditioner with NEWTON, solution time is 1011.92 seconds for `transient-full-core-RZ-msre-vol-frac-and-comp-FDP.i` and the simulation requires 506 time steps. By contrast, `transient-full-core-RZ-msre-vol-frac-and-comp.i` required 2275.33 seconds and took 1052 time steps. The latter simulation employed PJFNK with SMP preconditioner."
   ]
  },
  {
   "cell_type": "markdown",
   "metadata": {},
   "source": [
    "# 3/28/17\n",
    "\n",
    "Single channel with reflective boundary conditions (T = 922):\n",
    "\n",
    "- H = 133 cm, k = 1.29\n",
    "- H = 113, k = 1.22\n",
    "- H = 75, k = .985\n",
    "- H = 80, k = 1.0286\n",
    "- H = 76.83486, k = 1.00165173"
   ]
  },
  {
   "cell_type": "markdown",
   "metadata": {},
   "source": [
    "Now with T = 1022:\n",
    "\n",
    "- H = 76.83468, k = 1.00282373\n",
    "- T = 972, H = 76.83468, k = 1.00184445"
   ]
  },
  {
   "cell_type": "markdown",
   "metadata": {},
   "source": [
    "Positive feedback; that's fantastic!!! Psych!!!"
   ]
  },
  {
   "cell_type": "markdown",
   "metadata": {},
   "source": [
    "Well...I didn't have the problem set to RZ...like a big old dodo bird. So I had a much larger fuel volume fraction than I should have.\n",
    "\n",
    "- T = 922, H = 76.83486, k = .970188376\n",
    "- T = 1022, H = 76.83486, k = .956530391\n",
    "- T = 1022, H = 80, k = 0.9896450276\n",
    "- T = 1022, H = 81.0853, k = 1.00055746\n",
    "- T = 922, H = 80, k = 1.0033598451"
   ]
  },
  {
   "cell_type": "markdown",
   "metadata": {},
   "source": [
    "Annoyingly, the range of values for which a simulation is supercritical at 922 K and subcritical at 1022 K is different between k-eigenvalue and transient simulations."
   ]
  },
  {
   "cell_type": "code",
   "execution_count": 6,
   "metadata": {
    "collapsed": true
   },
   "outputs": [],
   "source": [
    "def calc_height(h1, h2, k1, k2):\n",
    "    h = sp.symbols('h')\n",
    "    k = (k2 - k1) / (h2 - h1) * (h - h1) + k1\n",
    "\n",
    "    return sp.solve(k - 1.001, h)"
   ]
  },
  {
   "cell_type": "code",
   "execution_count": 8,
   "metadata": {
    "collapsed": false
   },
   "outputs": [
    {
     "data": {
      "text/plain": [
       "[81.0853230182247]"
      ]
     },
     "execution_count": 8,
     "metadata": {},
     "output_type": "execute_result"
    }
   ],
   "source": [
    "calc_height(76.83486, 80, .956530391, .9896450276)"
   ]
  },
  {
   "cell_type": "code",
   "execution_count": null,
   "metadata": {
    "collapsed": true
   },
   "outputs": [],
   "source": [
    "h1 = 75\n",
    "h2 = 80\n",
    "k1 = .985\n",
    "k2 = 1.0286\n",
    "\n",
    "import sympy as sp\n",
    "h = sp.symbols('h')\n",
    "k = (k2 - k1) / (h2 - h1) * (h - h1) + k1\n",
    "\n",
    "sp.solve(k - 1, h)"
   ]
  },
  {
   "cell_type": "markdown",
   "metadata": {},
   "source": [
    "# 3/24/17"
   ]
  },
  {
   "cell_type": "code",
   "execution_count": 1,
   "metadata": {
    "collapsed": false
   },
   "outputs": [
    {
     "name": "stdout",
     "output_type": "stream",
     "text": [
      "/home/lindsayad/moltres_output\n"
     ]
    }
   ],
   "source": [
    "cd ~/moltres_output"
   ]
  },
  {
   "cell_type": "markdown",
   "metadata": {},
   "source": [
    "### T = 922"
   ]
  },
  {
   "cell_type": "code",
   "execution_count": 2,
   "metadata": {
    "collapsed": false
   },
   "outputs": [
    {
     "data": {
      "text/plain": [
       "array([ 1.02378742])"
      ]
     },
     "execution_count": 2,
     "metadata": {},
     "output_type": "execute_result"
    }
   ],
   "source": [
    "import yt\n",
    "ds = yt.load(\"k-eig-inverted-file-mesh-two-grp-two-mat_out.e\", step=-1)\n",
    "ds.parameters['eigenvalue']"
   ]
  },
  {
   "cell_type": "markdown",
   "metadata": {},
   "source": [
    "### T = 1022"
   ]
  },
  {
   "cell_type": "code",
   "execution_count": 3,
   "metadata": {
    "collapsed": false
   },
   "outputs": [
    {
     "data": {
      "text/plain": [
       "array([ 1.01036983])"
      ]
     },
     "execution_count": 3,
     "metadata": {},
     "output_type": "execute_result"
    }
   ],
   "source": [
    "ds = yt.load(\"inverted-temp-1022.e\", step=-1)\n",
    "ds.parameters['eigenvalue']"
   ]
  },
  {
   "cell_type": "markdown",
   "metadata": {},
   "source": [
    "Well the above is quite unfortunate :-( However, it does give us a reasonable value for the total alpha of the system:\n",
    "\n",
    "- alpha\\_moltres (with scale inputs) = 7.33e-5\n",
    "- alpha\\_serpent = 7.43e-5\n",
    "- alpha\\_msre = 6.96e-5"
   ]
  },
  {
   "cell_type": "markdown",
   "metadata": {},
   "source": [
    "What's needed is a reactor that's sub-critical at 1022 K (or any value > 922 really) and very slightly super-critical at 922 K"
   ]
  },
  {
   "cell_type": "markdown",
   "metadata": {},
   "source": [
    "So, heres' some resuls from the corresponding trasient simulation:\n",
    "\n",
    "- group 1, x normal\n",
    "\n",
    "![group_1_x](group1_x_normal_keig_1pt02.png)\n",
    "\n",
    "- group 2, x normal\n",
    "\n",
    "![group_2_x](group2_x_normal_keig_1pt02.png)\n",
    "\n",
    "- group 2, z normal\n",
    "\n",
    "![group_2_z](group2_z_normal_keig_1pt02.png)\n",
    "\n",
    "- group 1, z normal\n",
    "\n",
    "![group_1_z](group1_z_normal_keig_1pt02.png)\n",
    "\n",
    "- temp, z normal\n",
    "\n",
    "![temp_z](temp_z_normal_keig_1pt02.png)\n",
    "\n",
    "- temp, x normal\n",
    "\n",
    "![temp_x](temp_x_normal_keig_1pt02.png)"
   ]
  },
  {
   "cell_type": "markdown",
   "metadata": {},
   "source": [
    "- temp, x normal, with mesh edges\n",
    "\n",
    "![mesh](temp_x_normal_with_mesh.png)"
   ]
  },
  {
   "cell_type": "markdown",
   "metadata": {},
   "source": [
    "Discussion: Somehow we're getting a temperature sink in the moderator regions. Looking at the mesh, it's clear that in the moderator the only nodes are on the fuel-moderator interface or in the center of the moderator. So in essence each moderator region only has two elements spanning it's width. This is a boundary layer issue. See below, corresponding to test case `simpler_test_diffusion_conservation.i`:\n",
    "\n",
    "- initial\n",
    "\n",
    "![initial](demo_boundary_layer_issue_step0.png)\n",
    "\n",
    "- step\n",
    "\n",
    "![step](demo_boundary_layer_issue_step1.png)"
   ]
  },
  {
   "cell_type": "markdown",
   "metadata": {},
   "source": [
    "The above shows that if you swiftly ramp up the boundary values, the inner node un-physically decreases in value when in fact it should be increasing."
   ]
  },
  {
   "cell_type": "markdown",
   "metadata": {},
   "source": [
    "One way to solve is to just mesh it like crazy:\n",
    "\n",
    "- 200 elements\n",
    "\n",
    "![200](tau_1e-5_nx_200.png)\n",
    "\n",
    "- 2000 elements\n",
    "\n",
    "![2000](tau_1e-5_nx_2000.png)"
   ]
  },
  {
   "cell_type": "markdown",
   "metadata": {},
   "source": [
    "Another thing is to increase the time scale of the transient for constant mesh size and diffusion coefficient...but that time scale is determined by physics so that's not realistic"
   ]
  },
  {
   "cell_type": "markdown",
   "metadata": {},
   "source": [
    "Ok, running with a reduced height"
   ]
  },
  {
   "cell_type": "code",
   "execution_count": 4,
   "metadata": {
    "collapsed": false
   },
   "outputs": [
    {
     "data": {
      "text/plain": [
       "array([ 1.00232862])"
      ]
     },
     "execution_count": 4,
     "metadata": {},
     "output_type": "execute_result"
    }
   ],
   "source": [
    "ds = yt.load('k-eig-922_out.e', step = -1)\n",
    "ds.parameters['eigenvalue']"
   ]
  },
  {
   "cell_type": "code",
   "execution_count": 5,
   "metadata": {
    "collapsed": false
   },
   "outputs": [
    {
     "data": {
      "text/plain": [
       "array([ 0.98890525])"
      ]
     },
     "execution_count": 5,
     "metadata": {},
     "output_type": "execute_result"
    }
   ],
   "source": [
    "ds = yt.load('k-eig-1022_out.e', step = -1)\n",
    "ds.parameters['eigenvalue']"
   ]
  },
  {
   "cell_type": "markdown",
   "metadata": {},
   "source": [
    "Ok, this looks like it could be a prime candidate!!"
   ]
  },
  {
   "cell_type": "markdown",
   "metadata": {},
   "source": [
    "# 3/22/17\n",
    "\n",
    "I'm going to just start including all moltres, scale, and serpent notes here, instead of having separate notebooks. "
   ]
  },
  {
   "cell_type": "code",
   "execution_count": 13,
   "metadata": {
    "collapsed": true
   },
   "outputs": [],
   "source": [
    "k_inf_serp_msre_comp = 1.64875\n",
    "k_inf_newt_msre_comp = 1.63078"
   ]
  },
  {
   "cell_type": "markdown",
   "metadata": {},
   "source": [
    "Very nice comparison for the two cross section generators. These values came from `msre_single_unit_cell_res.m` and `msre_conc_cuboid_lattice/calc_buckling.out` respectively."
   ]
  },
  {
   "cell_type": "markdown",
   "metadata": {},
   "source": [
    "# 3/20/17\n",
    "\n",
    "So the big transient simulation I ran last week, `transient-msre-file-mesh-two-grp-two-b1-mat.i` showed that it was in fact subcritical as was hoped for since the corresponding k-eigenvalue simulation was subcritical (k = .932). This corresponded to a 23x23 mesh. I'm not thrilled by the idea of making the mesh even larger...more degrees of freedom...longer run time. Unfortunatley, everything right now is educated guess-work. I think it's time to go back and look at Scale again. "
   ]
  },
  {
   "cell_type": "code",
   "execution_count": 1,
   "metadata": {
    "collapsed": false
   },
   "outputs": [
    {
     "name": "stdout",
     "output_type": "stream",
     "text": [
      "/home/lindsayad/moltres_output\n"
     ]
    }
   ],
   "source": [
    "cd ~/moltres_output"
   ]
  },
  {
   "cell_type": "code",
   "execution_count": 2,
   "metadata": {
    "collapsed": false
   },
   "outputs": [
    {
     "data": {
      "text/plain": [
       "array([ 0.95811971])"
      ]
     },
     "execution_count": 2,
     "metadata": {},
     "output_type": "execute_result"
    }
   ],
   "source": [
    "import yt\n",
    "ds = yt.load(\"24x24-k-eig-two-grp-two-b1-mat_out.e\", step=-1)\n",
    "ds.parameters['eigenvalue']"
   ]
  },
  {
   "cell_type": "code",
   "execution_count": 4,
   "metadata": {
    "collapsed": false
   },
   "outputs": [],
   "source": [
    "import sympy as sp\n",
    "x, y, z = sp.symbols('x y z')\n",
    "f = x*y + x*z + y*z + x**2 + y**2 + z**2"
   ]
  },
  {
   "cell_type": "code",
   "execution_count": 8,
   "metadata": {
    "collapsed": false
   },
   "outputs": [
    {
     "name": "stdout",
     "output_type": "stream",
     "text": [
      "y**2 + y*z + z**2\n",
      "y**2 + y*z + y + z**2 + z + 1\n",
      "x**2 + x*z + z**2\n",
      "x**2 + x*z + x + z**2 + z + 1\n",
      "x**2 + x*y + y**2\n",
      "x**2 + x*y + x + y**2 + y + 1\n"
     ]
    }
   ],
   "source": [
    "print(f.subs(x, 0))\n",
    "print(f.subs(x, 1))\n",
    "print(f.subs(y, 0))\n",
    "print(f.subs(y, 1))\n",
    "print(f.subs(z, 0))\n",
    "print(f.subs(z, 1))"
   ]
  },
  {
   "cell_type": "code",
   "execution_count": 10,
   "metadata": {
    "collapsed": true
   },
   "outputs": [],
   "source": [
    "from sympy import diff"
   ]
  },
  {
   "cell_type": "code",
   "execution_count": 11,
   "metadata": {
    "collapsed": false
   },
   "outputs": [
    {
     "data": {
      "text/plain": [
       "6"
      ]
     },
     "execution_count": 11,
     "metadata": {},
     "output_type": "execute_result"
    }
   ],
   "source": [
    "diff(diff(f, x), x) + diff(diff(f, y), y) + diff(diff(f, z), z)"
   ]
  },
  {
   "cell_type": "code",
   "execution_count": 12,
   "metadata": {
    "collapsed": false
   },
   "outputs": [
    {
     "data": {
      "text/plain": [
       "array([ 1.00449883])"
      ]
     },
     "execution_count": 12,
     "metadata": {},
     "output_type": "execute_result"
    }
   ],
   "source": [
    "ds26 = yt.load(\"26x26-k-eig-two-grp-two-b1-mat_out.e\", step=-1)\n",
    "ds26.parameters['eigenvalue']"
   ]
  },
  {
   "cell_type": "markdown",
   "metadata": {},
   "source": [
    "# 3/17/17"
   ]
  },
  {
   "cell_type": "code",
   "execution_count": 36,
   "metadata": {
    "collapsed": false
   },
   "outputs": [],
   "source": [
    "ds = yt.load(\"k-eig-msre-file-mesh-two-grp-two-mat_out.e\", step=-1)"
   ]
  },
  {
   "cell_type": "code",
   "execution_count": 38,
   "metadata": {
    "collapsed": false
   },
   "outputs": [
    {
     "data": {
      "text/html": [
       "<img style=\"max-width:100%%;max-height:100%%;\" src=\"data:image/png;base64,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\"><br>"
      ],
      "text/plain": [
       "<yt.visualization.plot_window.AxisAlignedSlicePlot at 0x7fd011c6f160>"
      ]
     },
     "metadata": {},
     "output_type": "display_data"
    }
   ],
   "source": [
    "slc = yt.SlicePlot(ds, 'z', ('all', 'group1'), center=[63.46,63.46,81.28])\n",
    "slc.set_log(('all','group1'), False)\n",
    "slc.show()"
   ]
  },
  {
   "cell_type": "code",
   "execution_count": 39,
   "metadata": {
    "collapsed": false
   },
   "outputs": [
    {
     "data": {
      "text/plain": [
       "array([ 0.93209566])"
      ]
     },
     "execution_count": 39,
     "metadata": {},
     "output_type": "execute_result"
    }
   ],
   "source": [
    "ds.parameters['eigenvalue']"
   ]
  },
  {
   "cell_type": "markdown",
   "metadata": {},
   "source": [
    "# 3/16/17\n",
    "\n",
    "Ok, so two fuel volumes along with its corresponding top and bottom are missing in the exodus rendering of the 22x22 msre mesh."
   ]
  },
  {
   "cell_type": "markdown",
   "metadata": {},
   "source": [
    "# 3/15/17"
   ]
  },
  {
   "cell_type": "code",
   "execution_count": 27,
   "metadata": {
    "collapsed": true
   },
   "outputs": [],
   "source": [
    "import yt"
   ]
  },
  {
   "cell_type": "code",
   "execution_count": 28,
   "metadata": {
    "collapsed": false
   },
   "outputs": [
    {
     "name": "stdout",
     "output_type": "stream",
     "text": [
      "/home/lindsayad/moltres_output\n"
     ]
    }
   ],
   "source": [
    "cd ~/moltres_output"
   ]
  },
  {
   "cell_type": "code",
   "execution_count": 29,
   "metadata": {
    "collapsed": true
   },
   "outputs": [],
   "source": [
    "ds = yt.load(\"k-eig-msre-file-mesh-two-grp_out.e\", step=-1)"
   ]
  },
  {
   "cell_type": "code",
   "execution_count": 34,
   "metadata": {
    "collapsed": false
   },
   "outputs": [
    {
     "data": {
      "text/html": [
       "<img style=\"max-width:100%%;max-height:100%%;\" src=\"data:image/png;base64,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\"><br>"
      ],
      "text/plain": [
       "<yt.visualization.plot_window.AxisAlignedSlicePlot at 0x7fd013dcd710>"
      ]
     },
     "metadata": {},
     "output_type": "display_data"
    }
   ],
   "source": [
    "slc = yt.SlicePlot(ds, 'z', ('all', 'group1'), center=[60.58,60.58,81.28])\n",
    "slc.set_log(('all', 'group1'), False)\n",
    "slc.show()"
   ]
  },
  {
   "cell_type": "code",
   "execution_count": 30,
   "metadata": {
    "collapsed": true
   },
   "outputs": [],
   "source": [
    "ad = ds.all_data()"
   ]
  },
  {
   "cell_type": "code",
   "execution_count": 31,
   "metadata": {
    "collapsed": true
   },
   "outputs": [],
   "source": [
    "group1 = ad[('all', 'group1')]"
   ]
  },
  {
   "cell_type": "code",
   "execution_count": 33,
   "metadata": {
    "collapsed": false
   },
   "outputs": [
    {
     "data": {
      "text/plain": [
       "0.04776936475558167 dimensionless"
      ]
     },
     "execution_count": 33,
     "metadata": {},
     "output_type": "execute_result"
    }
   ],
   "source": [
    "group1.max()"
   ]
  },
  {
   "cell_type": "markdown",
   "metadata": {},
   "source": [
    "Something assymetric is definitely happening inside the above simulation."
   ]
  },
  {
   "cell_type": "markdown",
   "metadata": {},
   "source": [
    "# 3/14/17\n",
    "\n",
    "Ok, with four groups: **k = .9950481092**. This was run with a new serpent simulation, whose corresponding analog k was .993646 and whose implicit k was .994757. This agreement is certainly good enough for me.\n",
    "\n",
    "Summary:\n",
    "- one group k = .9949941345\n",
    "- two group k = .995186825\n",
    "- four group k = .9950481092\n",
    "- Serpent k = .994 - .995"
   ]
  },
  {
   "cell_type": "markdown",
   "metadata": {},
   "source": [
    "Moreover, the Moltres two group k aligns perfectly with the analytic value calculated just from group constant cross sections output by serpent (see below)."
   ]
  },
  {
   "cell_type": "code",
   "execution_count": 10,
   "metadata": {
    "collapsed": false
   },
   "outputs": [
    {
     "name": "stdout",
     "output_type": "stream",
     "text": [
      "0.9951862546391439\n"
     ]
    }
   ],
   "source": [
    "nsf1 = 9.91131e-5\n",
    "nsf2 = 1.49462e-3\n",
    "sigma12 = 5.84977e-3\n",
    "sigma21 = 9.91528e-4\n",
    "sigmar1 = 6.68476e-3\n",
    "sigmar2 = 2.21493e-3\n",
    "k = (nsf1 + nsf2 * sigma12 / sigmar2) / (sigmar1 - sigma21 * sigma12 / sigmar2)\n",
    "print(k)"
   ]
  },
  {
   "cell_type": "code",
   "execution_count": 9,
   "metadata": {
    "collapsed": false
   },
   "outputs": [
    {
     "name": "stdout",
     "output_type": "stream",
     "text": [
      "0.00668476\n",
      "0.0022149279999999997\n"
     ]
    }
   ],
   "source": [
    "sigmaa1 = 8.3499e-4\n",
    "sigmar1_comp = sigmaa1 + sigma12\n",
    "print(sigmar1_comp)\n",
    "sigmaa2 = 1.2234e-3\n",
    "sigmar2_comp = sigmaa2 + sigma21\n",
    "print(sigmar2_comp)"
   ]
  },
  {
   "cell_type": "code",
   "execution_count": 11,
   "metadata": {
    "collapsed": true
   },
   "outputs": [],
   "source": [
    "import netCDF4"
   ]
  },
  {
   "cell_type": "code",
   "execution_count": 12,
   "metadata": {
    "collapsed": false
   },
   "outputs": [
    {
     "name": "stdout",
     "output_type": "stream",
     "text": [
      "/home/lindsayad/projects/moltres/problems/MooseGold/022317_test_critical_neutronics_only_reactor\n"
     ]
    }
   ],
   "source": [
    "cd ~/projects/moltres/problems/MooseGold/022317_test_critical_neutronics_only_reactor/"
   ]
  },
  {
   "cell_type": "code",
   "execution_count": 13,
   "metadata": {
    "collapsed": true
   },
   "outputs": [],
   "source": [
    "ds = netCDF4.Dataset(\"k-eig-gen-msh-inf-two-grp_out.e\",step=-1)"
   ]
  },
  {
   "cell_type": "code",
   "execution_count": 23,
   "metadata": {
    "collapsed": false
   },
   "outputs": [
    {
     "name": "stdout",
     "output_type": "stream",
     "text": [
      "b'bnorm\\x00\\xab\\xce\\xdf\\xea\\x86,?\\xa3\\xab\\xcf!\\x92}X?\\xa3\\xab\\xcf;\\x9c0-?\\xa3\\xab\\xcf\\x89'\n",
      "b'eigenvalue\\x00?\\xa3\\xab\\xcf\\xfc\\xb7|\\x1f?\\xa3\\xab\\xd0\\x16\\xc2\\xac$?\\xa3\\xab\\xd0{\\xf4'\n",
      "b'group1diff\\x00\\xa3\\xab\\xd1\\x06\\xcf/\\x94?\\xa3\\xab\\xd1 \\xdc(e?\\xa3\\xab\\xd1\\x9d$\\x8b'\n",
      "b'group1max\\x00\\xa3\\xab\\xd2>\\xce\\xfe\\xb8?\\xa3\\xab\\xd2X\\xdd\\xf3\\xe9?\\xa3\\xab\\xd2\\xeb\\xa6\\x19N'\n",
      "b'group1norm\\x00\\xd3\\xa3~\\xbd\\x03?\\xa3\\xab\\xd3\\xbd\\x8f\\xa5\\xa4?\\xa3\\xab\\xd4f+A\\xf8?'\n",
      "b'group2diff\\x003{\\xab\\xe3?\\xa3\\xab\\xd5M\\x8d\\xee\\xdf?\\xa3\\xab\\xd6\\x0b=\\xf6\\x10?\\xa3'\n",
      "b'group2max\\x00\\xed>|\\xd6?\\xa3\\xab\\xd7\\x07PB\\xca?\\xa3\\xab\\xd7\\xd9H\\x80E?\\xa3\\xab'\n",
      "b'group2norm\\x00\\x94s?\\xa3\\xab\\xd8\\xe94B\\xdf?\\xa3\\xab\\xd9\\xce\\xa1\\xd8\\xde?\\xa3\\xab\\xd9'\n",
      "b'tot_fissions\\x00\\xa3\\xab\\xda\\xf1\\x8c`M?\\xa3\\xab\\xdb\\xe9S\\xef\\x06?\\xa3\\xab\\xdc\\x03'\n"
     ]
    }
   ],
   "source": [
    "for glo_var in ds.variables[\"name_glo_var\"]:\n",
    "    print(glo_var.tostring())"
   ]
  },
  {
   "cell_type": "code",
   "execution_count": 24,
   "metadata": {
    "collapsed": true
   },
   "outputs": [
    {
     "ename": "YTFieldNotFound",
     "evalue": "Could not find field '('connect1', 'eigenvalue')' in k-eig-gen-msh-inf-two-grp_out.e.",
     "output_type": "error",
     "traceback": [
      "\u001b[0;31m---------------------------------------------------------------------------\u001b[0m",
      "\u001b[0;31mYTFieldNotFound\u001b[0m                           Traceback (most recent call last)",
      "\u001b[0;32m<ipython-input-24-498257630cae>\u001b[0m in \u001b[0;36m<module>\u001b[0;34m()\u001b[0m\n\u001b[1;32m      2\u001b[0m \u001b[0mds\u001b[0m \u001b[0;34m=\u001b[0m \u001b[0myt\u001b[0m\u001b[0;34m.\u001b[0m\u001b[0mload\u001b[0m\u001b[0;34m(\u001b[0m\u001b[0;34m\"k-eig-gen-msh-inf-two-grp_out.e\"\u001b[0m\u001b[0;34m,\u001b[0m \u001b[0mstep\u001b[0m\u001b[0;34m=\u001b[0m\u001b[0;34m-\u001b[0m\u001b[0;36m1\u001b[0m\u001b[0;34m)\u001b[0m\u001b[0;34m\u001b[0m\u001b[0m\n\u001b[1;32m      3\u001b[0m \u001b[0mad\u001b[0m \u001b[0;34m=\u001b[0m \u001b[0mds\u001b[0m\u001b[0;34m.\u001b[0m\u001b[0mall_data\u001b[0m\u001b[0;34m(\u001b[0m\u001b[0;34m)\u001b[0m\u001b[0;34m\u001b[0m\u001b[0m\n\u001b[0;32m----> 4\u001b[0;31m \u001b[0mad\u001b[0m\u001b[0;34m[\u001b[0m\u001b[0;34m(\u001b[0m\u001b[0;34m'connect1'\u001b[0m\u001b[0;34m,\u001b[0m\u001b[0;34m'eigenvalue'\u001b[0m\u001b[0;34m)\u001b[0m\u001b[0;34m]\u001b[0m\u001b[0;34m\u001b[0m\u001b[0m\n\u001b[0m",
      "\u001b[0;32m/home/lindsayad/yt/yt/data_objects/data_containers.py\u001b[0m in \u001b[0;36m__getitem__\u001b[0;34m(self, key)\u001b[0m\n\u001b[1;32m    272\u001b[0m         \u001b[0mReturns\u001b[0m \u001b[0ma\u001b[0m \u001b[0msingle\u001b[0m \u001b[0mfield\u001b[0m\u001b[0;34m.\u001b[0m  \u001b[0mWill\u001b[0m \u001b[0madd\u001b[0m \u001b[0;32mif\u001b[0m \u001b[0mnecessary\u001b[0m\u001b[0;34m.\u001b[0m\u001b[0;34m\u001b[0m\u001b[0m\n\u001b[1;32m    273\u001b[0m         \"\"\"\n\u001b[0;32m--> 274\u001b[0;31m         \u001b[0mf\u001b[0m \u001b[0;34m=\u001b[0m \u001b[0mself\u001b[0m\u001b[0;34m.\u001b[0m\u001b[0m_determine_fields\u001b[0m\u001b[0;34m(\u001b[0m\u001b[0;34m[\u001b[0m\u001b[0mkey\u001b[0m\u001b[0;34m]\u001b[0m\u001b[0;34m)\u001b[0m\u001b[0;34m[\u001b[0m\u001b[0;36m0\u001b[0m\u001b[0;34m]\u001b[0m\u001b[0;34m\u001b[0m\u001b[0m\n\u001b[0m\u001b[1;32m    275\u001b[0m         \u001b[0;32mif\u001b[0m \u001b[0mf\u001b[0m \u001b[0;32mnot\u001b[0m \u001b[0;32min\u001b[0m \u001b[0mself\u001b[0m\u001b[0;34m.\u001b[0m\u001b[0mfield_data\u001b[0m \u001b[0;32mand\u001b[0m \u001b[0mkey\u001b[0m \u001b[0;32mnot\u001b[0m \u001b[0;32min\u001b[0m \u001b[0mself\u001b[0m\u001b[0;34m.\u001b[0m\u001b[0mfield_data\u001b[0m\u001b[0;34m:\u001b[0m\u001b[0;34m\u001b[0m\u001b[0m\n\u001b[1;32m    276\u001b[0m             \u001b[0;32mif\u001b[0m \u001b[0mf\u001b[0m \u001b[0;32min\u001b[0m \u001b[0mself\u001b[0m\u001b[0;34m.\u001b[0m\u001b[0m_container_fields\u001b[0m\u001b[0;34m:\u001b[0m\u001b[0;34m\u001b[0m\u001b[0m\n",
      "\u001b[0;32m/home/lindsayad/yt/yt/data_objects/data_containers.py\u001b[0m in \u001b[0;36m_determine_fields\u001b[0;34m(self, fields)\u001b[0m\n\u001b[1;32m   1119\u001b[0m                     \u001b[0;32mraise\u001b[0m \u001b[0mYTFieldNotParseable\u001b[0m\u001b[0;34m(\u001b[0m\u001b[0mfield\u001b[0m\u001b[0;34m)\u001b[0m\u001b[0;34m\u001b[0m\u001b[0m\n\u001b[1;32m   1120\u001b[0m                 \u001b[0mftype\u001b[0m\u001b[0;34m,\u001b[0m \u001b[0mfname\u001b[0m \u001b[0;34m=\u001b[0m \u001b[0mfield\u001b[0m\u001b[0;34m\u001b[0m\u001b[0m\n\u001b[0;32m-> 1121\u001b[0;31m                 \u001b[0mfinfo\u001b[0m \u001b[0;34m=\u001b[0m \u001b[0mself\u001b[0m\u001b[0;34m.\u001b[0m\u001b[0mds\u001b[0m\u001b[0;34m.\u001b[0m\u001b[0m_get_field_info\u001b[0m\u001b[0;34m(\u001b[0m\u001b[0mftype\u001b[0m\u001b[0;34m,\u001b[0m \u001b[0mfname\u001b[0m\u001b[0;34m)\u001b[0m\u001b[0;34m\u001b[0m\u001b[0m\n\u001b[0m\u001b[1;32m   1122\u001b[0m             \u001b[0;32melif\u001b[0m \u001b[0misinstance\u001b[0m\u001b[0;34m(\u001b[0m\u001b[0mfield\u001b[0m\u001b[0;34m,\u001b[0m \u001b[0mDerivedField\u001b[0m\u001b[0;34m)\u001b[0m\u001b[0;34m:\u001b[0m\u001b[0;34m\u001b[0m\u001b[0m\n\u001b[1;32m   1123\u001b[0m                 \u001b[0mftype\u001b[0m\u001b[0;34m,\u001b[0m \u001b[0mfname\u001b[0m \u001b[0;34m=\u001b[0m \u001b[0mfield\u001b[0m\u001b[0;34m.\u001b[0m\u001b[0mname\u001b[0m\u001b[0;34m\u001b[0m\u001b[0m\n",
      "\u001b[0;32m/home/lindsayad/yt/yt/data_objects/static_output.py\u001b[0m in \u001b[0;36m_get_field_info\u001b[0;34m(self, ftype, fname)\u001b[0m\n\u001b[1;32m    748\u001b[0m                     \u001b[0mself\u001b[0m\u001b[0;34m.\u001b[0m\u001b[0m_last_finfo\u001b[0m \u001b[0;34m=\u001b[0m \u001b[0mself\u001b[0m\u001b[0;34m.\u001b[0m\u001b[0mfield_info\u001b[0m\u001b[0;34m[\u001b[0m\u001b[0;34m(\u001b[0m\u001b[0mftype\u001b[0m\u001b[0;34m,\u001b[0m \u001b[0mfname\u001b[0m\u001b[0;34m)\u001b[0m\u001b[0;34m]\u001b[0m\u001b[0;34m\u001b[0m\u001b[0m\n\u001b[1;32m    749\u001b[0m                     \u001b[0;32mreturn\u001b[0m \u001b[0mself\u001b[0m\u001b[0;34m.\u001b[0m\u001b[0m_last_finfo\u001b[0m\u001b[0;34m\u001b[0m\u001b[0m\n\u001b[0;32m--> 750\u001b[0;31m         \u001b[0;32mraise\u001b[0m \u001b[0mYTFieldNotFound\u001b[0m\u001b[0;34m(\u001b[0m\u001b[0;34m(\u001b[0m\u001b[0mftype\u001b[0m\u001b[0;34m,\u001b[0m \u001b[0mfname\u001b[0m\u001b[0;34m)\u001b[0m\u001b[0;34m,\u001b[0m \u001b[0mself\u001b[0m\u001b[0;34m)\u001b[0m\u001b[0;34m\u001b[0m\u001b[0m\n\u001b[0m\u001b[1;32m    751\u001b[0m \u001b[0;34m\u001b[0m\u001b[0m\n\u001b[1;32m    752\u001b[0m     \u001b[0;32mdef\u001b[0m \u001b[0m_setup_classes\u001b[0m\u001b[0;34m(\u001b[0m\u001b[0mself\u001b[0m\u001b[0;34m)\u001b[0m\u001b[0;34m:\u001b[0m\u001b[0;34m\u001b[0m\u001b[0m\n",
      "\u001b[0;31mYTFieldNotFound\u001b[0m: Could not find field '('connect1', 'eigenvalue')' in k-eig-gen-msh-inf-two-grp_out.e."
     ]
    }
   ],
   "source": [
    "import yt\n",
    "ds = yt.load(\"k-eig-gen-msh-inf-two-grp_out.e\", step=-1)\n",
    "ad = ds.all_data()\n",
    "ad[('connect1','eigenvalue')]"
   ]
  },
  {
   "cell_type": "code",
   "execution_count": 26,
   "metadata": {
    "collapsed": false
   },
   "outputs": [
    {
     "data": {
      "text/plain": [
       "0.99518682522488267"
      ]
     },
     "execution_count": 26,
     "metadata": {},
     "output_type": "execute_result"
    }
   ],
   "source": [
    "ds.parameters['eigenvalue'][0]"
   ]
  },
  {
   "cell_type": "markdown",
   "metadata": {},
   "source": [
    "So, it seems like the issue is the translation of diffusion and spatial variation from Serpent to Moltres.\n",
    "\n",
    "I could create a single unit cell simulation in Serpent with reflective/periodic boundary conditions (note that for symmetric unit cells, reflective and periodic boundary conditions will yield the same results)...but I've already just done that. As long as there are black boundary conditions in serpent, Moltres will be unable to replicate serpent's k value.\n",
    "\n",
    "Another thing I was thinking about: simulate single unit cell in Serpent with reflective boundary conditions. Then use B1 calculation to calculate appropriate few group constants as well as diffusion coefficients. In my initial experimentation, however, I only expect this to work when cross section homogenization is taken over the entire geometry. Consequently, I would only emerge from my Serpent simulation with group constants for a single homogenized material. How would I translate this into the temperature calculation? If I wanted to keep temperature calculation heterogeneous, in my Moltres calculation I would have to ingegrate total fission reactions over each individual unit cell and then divide by the actual unit cell fuel volume (less than the total unit cell volume obviously) to get the fission reaction rate per fuel volume. This would require assigning individual subdomain IDs to every unit cell, which kind of sounds like a lot of work. The advantage of the above method would be that I would have diffusion coefficients calculated via a deterministic method and then I could simply change my reactor dimensions in Moltres until I had a critical reactor (and hopefully those would be around the size of the MSRE reactor). Alternatively, I could just use the local fission rate in the fuel region and divide by (fuel volume/total volume)...hmmm that actually sounds like a pretty good plan!\n",
    "\n",
    "The best case scenario is to get group constants for graphite and fuel regions. That would make life the easiest."
   ]
  },
  {
   "cell_type": "markdown",
   "metadata": {},
   "source": [
    "If using a regular lattice with radial reflective boundary conditions, then simulating just one unit cell will yield the exact same result as simulating 100x100."
   ]
  },
  {
   "cell_type": "markdown",
   "metadata": {},
   "source": [
    "**Remember**, `msre_22x22_correct_vol_fraction.msh` has 467600 nodes, so with two groups, that's 935200 degrees of freedom."
   ]
  },
  {
   "cell_type": "markdown",
   "metadata": {},
   "source": [
    "# 3/13/17\n",
    "\n",
    "Ok, so with `022317_test_critical_neutronics_only_reactor/k-eig-gen-mesh-inf-one-grp.i`, able to get exactly the k-eigenvalue that we want: **.9949941345** which exactly equals $\\frac{\\bar{\\nu}\\Sigma_f}{\\Sigma_a}$ output by serpent. Note that serpent k is **.995021**. Now I'm going to test the infinite medium, two-group formulation and make sure we still get the same k. Ok, with two group formulation, **k = 0.99518682522488267**. Next task is to see whether I can write out the analytical expression that reproduces that exact number using only the few group constants generated by serpent, analogous to what I did for the one group formulation"
   ]
  },
  {
   "cell_type": "markdown",
   "metadata": {},
   "source": [
    "Whether the pressure is pinned or not, the velocity profile is identical. That's\n",
    "a plus.\n",
    "\n",
    "However, the profiles are different depending on whether the pressure is\n",
    "integrated by parts or not.\n",
    "\n",
    "So the oscillations are not caused by the convective term in the NS momentum\n",
    "equation. It's definitely caused by the radial boundary condition at the axis of\n",
    "symmetry.\n",
    "\n",
    "Fantastic description of different classes of boundary conditions:\n",
    "http://www.math.ttu.edu/~klong/Sundance/html/bcs.html\n",
    "\n",
    "Well this is interesting; the _coord_type gets selected correctly when I run the\n",
    "debug executable, but incorrectly when I run the opt executable.\n",
    "\n",
    "I'm finding what Martin Leseur found: integrating p by parts creates\n",
    "problems. Ok, there was a problem with the sign in the do nothing BC. When that\n",
    "sign is fixed, the open flow problem is solved correctly in cartesian\n",
    "coordinates whether the pressure is integrated by parts or not. The open flow\n",
    "problem is solved correctly in cylindrical coordinates if the pressure is not\n",
    "integrated by parts; but currently it does not converge to a solution if the\n",
    "pressure is integrated by parts.\n",
    "\n",
    "Tomorrow, record eigenvalue and flux values for different choices of the\n",
    "postprocessor. Understand why the choice doesn't matter.\n",
    "\n",
    "bxnorm = regular norm\n",
    "\n",
    "Postprocessor Values:\n",
    "\n",
    "| time           | bnorm          | eigenvalue     | group1max      | group1norm     | group2max      | group2norm     |\n",
    "|----------------|----------------|----------------|----------------|----------------|----------------|----------------|\n",
    "|   0.000000e+00 |   1.000000e+00 |   1.000000e+00 |   0.000000e+00 |   8.590069e+01 |   0.000000e+00 |   8.590069e+01 |\n",
    "|   1.000000e+00 |   1.827927e+00 |   1.827927e+00 |   1.804033e-01 |   3.188402e+02 |   1.215683e-01 |   1.672426e+02 |\n",
    "|   2.000000e+00 |   1.828075e+00 |   1.828075e+00 |   1.804071e-01 |   3.188541e+02 |   1.215784e-01 |   1.672560e+02 |\n",
    "\n",
    "\n",
    "bxnorm = group1 norm\n",
    "\n",
    "Postprocessor values\n",
    "\n",
    "| time           | bnorm          | eigenvalue     | group1max      | group1norm     | group2max      | group2norm     |\n",
    "|----------------|----------------|----------------|----------------|----------------|----------------|----------------|\n",
    "|   0.000000e+00 |   1.164135e-02 |   1.000000e+00 |   0.000000e+00 |   1.000000e+00 |   0.000000e+00 |   1.000000e+00 |\n",
    "|   1.000000e+00 |   1.049054e-02 |   1.828668e+00 |   1.034865e-03 |   1.828668e+00 |   6.967703e-04 |   9.598150e-01 |\n",
    "|   2.000000e+00 |   1.048084e-02 |   1.828075e+00 |   1.034322e-03 |   1.828075e+00 |   6.970413e-04 |   9.589231e-01 |\n",
    "\n",
    "\n",
    "bxnorm = group2 norm\n",
    "\n",
    "Postprocessor Values:\n",
    "\n",
    "| time           | bnorm          | eigenvalue     | group1max      | group1norm     | group2max      | group2norm     |\n",
    "|----------------|----------------|----------------|----------------|----------------|----------------|----------------|\n",
    "|   0.000000e+00 |   1.164135e-02 |   1.000000e+00 |   0.000000e+00 |   1.000000e+00 |   0.000000e+00 |   1.000000e+00 |\n",
    "|   1.000000e+00 |   1.998091e-02 |   1.828113e+00 |   1.971931e-03 |   3.485134e+00 |   1.328793e-03 |   1.828113e+00 |\n",
    "|   2.000000e+00 |   1.998051e-02 |   1.828075e+00 |   1.971815e-03 |   3.485013e+00 |   1.328828e-03 |   1.828075e+00 |\n",
    "\n",
    "\n",
    "Notes on preconditioning:\n",
    "\n",
    "asm-lu pre, full=false: linear its = 20\n",
    "asm-lu pre, full=true: linear its = 17\n",
    "default pre, full=true: linear its = 11\n",
    "default pre, full=fase: linear its = 11\n",
    "\n",
    "Ok, _grad_zero is of type std::vector<VariableGradient>. The length of the\n",
    "vector is equal to the number of threads. Each element of the vector is created\n",
    "like this: _grad_zero[tid].resize(getMaxQps(), RealGradient(0.));\n",
    "- The type of VariableGradient is MooseArray<RealGradient>. The array has length\n",
    "  equal to the number of quadrature points in the geometric element. And each\n",
    "  element is of type RealGradient which is of type RealVectorValue.\n",
    "- How are RealVectorValues initialized?\n",
    "- RealVectorValue is of type VectorValue<Real>\n",
    "- And VectorValue is a templated class\n",
    "\n",
    "Environments for compiling on cray:\n",
    "\n",
    "- module load cray-petsc\n",
    "- module load cray-hdf5\n",
    "- module switch PrgEnv-cray PrgEnv-gcc\n",
    "- module load cray-mpich\n",
    "\n",
    "So with a full preconditioner, it took 6 nonlinear iterations with PJFNK (it\n",
    "does not converge with NEWTON within 50 nonlinear iterations). 7 nonlinear\n",
    "iterations with just the diagonal components on the preconditioner...moreover\n",
    "the number of linear iterations required was quite a bit higher. It also took 6\n",
    "nonlinear iterations with line_search turned back on with PJFNK and with the\n",
    "full preconditioner.\n",
    "\n",
    "### 11/14/16\n",
    "\n",
    "axisymm_cylinder.geo:\n",
    "\n",
    "- H = 39.6 cm: not multiplying\n",
    "- H = 80 cm; multiplying\n",
    "- H = 60 cm; not multiplying\n",
    "- H = 70 cm; not multiplying\n",
    "\n",
    "There is a monotonic decrease in group 1 and group 2 fission and NSF cross sections with\n",
    "increasing temperature. However, there's also a monotonic decrease in the\n",
    "removal cross section as well. Diffusion constants generally trend downward with\n",
    "temperature in the fuel. Same in the moderator.\n",
    "\n",
    "Precursor1 is always the residual that causes the simulation to fail. It gets\n",
    "this absolutely ridiculous depression in its concentration in the middle of the\n",
    "reactor. If I look a few time steps before the simulation starts crashing, then\n",
    "the precursor concentration looks like it should: monotonic. It's worthwhile to\n",
    "note that precursor1 isn't the only precursor whose behavior goes from monotonic\n",
    "to oscillatory; about half the precursor groups become oscillatory by the end of\n",
    "failed simulations. So my job is to figure out what's going on. Why does it\n",
    "crash? The problem is not:\n",
    "\n",
    "- the RZ formulation\n",
    "- the precursor decay kernels\n",
    "\n",
    "The problem can't be fixed by:\n",
    "- just reducing the advection velocity\n",
    "- changing prec scaling from 1e-3 to 1e3\n",
    "- increasing artificial diffusion\n",
    "\n",
    "When the precursor simulation fails, the temperature and flux profiles look\n",
    "fine.\n",
    "\n",
    "Can definitely fix it with a sufficient source stabilization...but then the\n",
    "problem becomes accuracy.\n",
    "\n",
    "Order of tasks:\n",
    "\n",
    "deprecated_block\n",
    "finish_input_file_output\n",
    "meta_action\n",
    "no_action\n",
    "setup_oversampling\n",
    "\n",
    "Order of tasks that do things:\n",
    "- dynamic_object_registration\n",
    "    - Problem\n",
    "- common_output\n",
    "    - Outputs\n",
    "- set_global_params\n",
    "    - GlobalParams\n",
    "- setup_recover_file_base\n",
    "- check_copy_nodal_vars\n",
    "    - temp\n",
    "- setup_mesh\n",
    "    - Mesh\n",
    "\n",
    "\n",
    "So it makes sense that it takes so much bloody time for heat to diffuse from the\n",
    "surface of the moderator into the moderator bulk. The charateristic diffusion\n",
    "time from interface to wall is 42 seconds. The massive amounts of heat from\n",
    "fission are being generated over the course of hundredths of a second. So yea\n",
    "we're going to have to go to some wall like condition at the interface...e.g. we\n",
    "cannot have Tmod = Tfuel at the interface.\n",
    "\n",
    "Coefficient of thermal expansion, graphite: 2-6e-6 m/(m*K)\n",
    "\n",
    "Doubling fluid flow velocity (see leastSquared directory), had absolutely no\n",
    "impact on the maximum temperature in the reactor which seems a little bit odd to\n",
    "me.\n",
    "\n",
    "Putting those dumb boundary conditions in place for the temperature in the\n",
    "moderator produces a hideous spectrum. I think how Cammi got around these things\n",
    "is because he never used local temperatures to determine his properties. He used\n",
    "block averaged values. So he could integrate over half the moderator domain to\n",
    "determine the average temperature and then use that for the neutron group\n",
    "constants in the other half.\n",
    "\n",
    "Working on monotone cubic interpolation:\n",
    "\n",
    "The second order accurate finite difference methods for derivative computation\n",
    "will compute derivatives exactly for a second order polynomial. They WILL NOT\n",
    "correctly compute derivatives for a third order polynomial because they are only\n",
    "second order accurate. The FC algorithm initializes derivatives using this\n",
    "second order differencing scheme. However, the FB algorithm roughly averages\n",
    "neighboring secant lines...this is not second order accurate (or is it?).\n",
    "\n",
    "Let's say we have some function. We want to evaluate/estimate it's derivative at\n",
    "a point. How can we do that? We can perform a finite difference to do the\n",
    "estimation:\n",
    "\n",
    "f'(x) ~ (f(x+h) - f(x-h)) / h\n",
    "\n",
    "We can write the error of this approximation as:\n",
    "\n",
    "E(h) = C * h**n\n",
    "\n",
    "where n is the order of accuracy. We can imagine a case where a method is nth\n",
    "order accurate and the error is zero; this corresponds to C = 0.\n",
    "\n",
    "From wikipedia: \"The Newton series consists of the terms of the Newton forward\n",
    "difference equation, named after Isaac Newton; in essence, it is the Newton\n",
    "interpolation formula, namely the discrete analog of the continuum Taylor\n",
    "expansion, which holds for any polynomial function f and for most (but not all)\n",
    "analytic functions.\n",
    "\n",
    "You can define your numerical derivative however you want! But then the key is\n",
    "you need to be able to set-up an expression:\n",
    "\n",
    "y' + Error(stuff, h) = numerical\\_derivative\n",
    "\n",
    "And then you can inspect the parts that make up the error in order to determine\n",
    "it's functional dependence on h and perhaps whether the error is zero because of\n",
    "other components that make up the error function. Cool!\n",
    "\n",
    "yt is not correctly rendering any of my new neutronic simulation data sets! Need\n",
    "to figure out why.\n",
    "\n",
    "Ok first test was running a single region test with Quad4 elements. That test\n",
    "went sucessfully which makes sense because Andrew has had a Q2 sampler\n",
    "implemented forever.\n",
    "\n",
    "It should be noted that data values in yt aren't actually accessed until\n",
    "performing data access, something like `ad['diffused']`. Even this operation:\n",
    "`ad = ds.all_data()` won't actually read the variable values.\n",
    "\n",
    "Prism volumes:\n",
    "second order volumes: 1.17718\n",
    "first order volumes: 1.06066\n",
    "\n",
    "For just one element:\n",
    "first order volume: 1.5 (as it should be)\n",
    "second order volume: 2.32843; very close to 2.356 which is equal to:\n",
    "pi * r^2 * h / 4\n",
    "\n",
    "The rule for computing the PRISM18 volume can be found in the libmesh source.\n",
    "\n",
    "The natural boundary condition appears to have an effect on the flow at the\n",
    "boundary for shizzle.\n",
    "\n",
    "I've been able to get the flow simulation to work perfectly with the correct\n",
    "geometry and the correct boundary conditions. Nice!\n",
    "\n",
    "Ok, so when linking a library with -l, the linker searches in order from first\n",
    "to last of directories provided with -L. -rpath matters for run-time; if there's\n",
    "a mistake in supplying rpath during the linking stage, this error will show up\n",
    "at run-time, NOT during program linking.\n",
    "\n",
    "ldd uses LD_LIBRARY_PATH. You can kind of think of ldd as a command that\n",
    "executes the shared object in order to discover its dependencies. Things that\n",
    "get executed care about their environment; e.g. in this case ldd certainly cares\n",
    "about LD_LIBRARY_PATH.\n",
    "\n",
    "Changing LD_LIBRARY_PATH will change the memory location/library version that a\n",
    "shared object points to. E.g. if I alter LD_LIBRARY_PATH, then I can change the\n",
    "location of the library that libgfortran.so.3 points to.\n",
    "\n",
    "When resolving shared object dependencies of an executable or other shared\n",
    "object, the looking order is roughly the following:\n",
    "\n",
    "1. Directories specified in the DT_RPATH dynamic section attribute of the\n",
    "   executable/shared object in question (this is set at compile/linking time for\n",
    "   example with -W,-rpath)\n",
    "2. From the environment variable LD_LIBRARY_PATH\n",
    "3. From the library directories listed in /etc/ld.so.conf\n",
    "4. Finally in /lib and then /usr/lib\n",
    "\n",
    "Nice!\n",
    "\n",
    "The problematic file appears to be...kind of the core shared\n",
    "object...libmesh_dbg.so\n",
    "\n",
    "Successfull compilation command for the previously failing unit_tests-dbg:\n",
    "\n",
    "ccache clang++ -std=gnu++11 -O0 -felide-constructors -g -pedantic -W -Wall\n",
    "-Wextra -Wno-long-long -Wunused -Wpointer-arith -Wformat -Wparentheses\n",
    "-Qunused-arguments -Woverloaded-virtual -fopenmp -std=gnu++11 -o\n",
    ".libs/unit_tests-dbg hello.cpp -Wl,-rpath -Wl,/opt/moose/tbb/lib -Wl,-rpath\n",
    "-Wl,/opt/moose/petsc/mpich_petsc-3.7.4/clang-opt-superlu/lib -Wl,-rpath\n",
    "-Wl,/opt/moose/gcc-6.2.0/lib/gcc/x86_64-pc-linux-gnu/6.2.0 -Wl,-rpath\n",
    "-Wl,/opt/moose/gcc-6.2.0/lib64 -Wl,-rpath -Wl,/lib/x86_64-linux-gnu -Wl,-rpath\n",
    "-Wl,/opt/moose/gcc-6.2.0/lib -Wl,-rpath\n",
    "-Wl,/opt/moose/mpich/mpich-3.2/clang-opt/lib -Wl,-rpath\n",
    "-Wl,/opt/moose/llvm-3.9.0/lib -Wl,-rpath -Wl,/usr/lib/x86_64-linux-gnu\n",
    "-L/opt/moose/petsc/mpich_petsc-3.7.4/clang-opt-superlu/lib\n",
    "-L/opt/moose/mpich/mpich-3.2/clang-opt/lib -L/opt/moose/gcc-6.2.0/lib64\n",
    "-L/opt/moose/gcc-6.2.0/lib\n",
    "/home/lindsayad/test_multiple_petsc/libmesh/build/contrib/netcdf/v4/liblib/.libs/libnetcdf.so\n",
    "/usr/lib/x86_64-linux-gnu/libcurl-gnutls.so -lz -L/opt/moose/tbb/lib -ltbb\n",
    "-ltbbmalloc -lpetsc -lsuperlu_dist -lcmumps -ldmumps -lsmumps -lzmumps\n",
    "-lmumps_common -lpord -lparmetis -lmetis -lHYPRE\n",
    "-L/opt/moose/gcc-6.2.0/lib/gcc/x86_64-pc-linux-gnu/6.2.0 -L/lib/x86_64-linux-gnu\n",
    "-L/opt/moose/llvm-3.9.0/lib -lscalapack -lflapack -lfblas -lX11 -lhwloc\n",
    "/opt/moose/mpich/mpich-3.2/clang-opt/lib/libmpifort.so\n",
    "/opt/moose/gcc-6.2.0/lib/../lib64/libgfortran.so\n",
    "/opt/moose/gcc-6.2.0/lib/../lib64/libgomp.so\n",
    "/opt/moose/gcc-6.2.0/lib/../lib64/libquadmath.so\n",
    "/opt/moose/mpich/mpich-3.2/clang-opt/lib/libmpicxx.so\n",
    "/opt/moose/gcc-6.2.0/lib/../lib64/libstdc++.so -lm\n",
    "/opt/moose/mpich/mpich-3.2/clang-opt/lib/libmpi.so -lrt -lomp -lgcc_s -lpthread\n",
    "-L/usr/lib/x86_64-linux-gnu -L/opt/moose/cppunit-1.12.1/clang-opt/lib -lcppunit\n",
    "-ldl -pthread -fopenmp -Wl,-rpath\n",
    "-Wl,/home/lindsayad/test_multiple_petsc/scripts/../libmesh/installed/lib\n",
    "-Wl,-rpath -Wl,/opt/moose/gcc-6.2.0/lib/../lib64 -Wl,-rpath\n",
    "-Wl,/opt/moose/mpich/mpich-3.2/clang-opt/lib\n",
    "\n",
    "Should it be enough...?\n",
    "\n",
    "I learned exactly why the libmesh build was failing. The reason is that when\n",
    "compiling and linking the libmesh_dbg library, the /usr/lib/x86_64-linux-gnu\n",
    "directory was passed to the linker before the opt petsc directory, meaning that\n",
    "-lpetsc links in the system petsc as opposed to the MOOSE environment petsc. And\n",
    "then when compiling and linking the unit_tests-dbg shared object, the opt petsc directory\n",
    "is passed first, so there's a mismatch there.\n",
    "\n",
    "To summarize: system petsc can be used to build libmesh/moose as long as the\n",
    "moose environment is not loaded. However, it's pretty much impossible to unload\n",
    "the system packages, so the moose environment petsc cannot be used to build\n",
    "libmesh/moose as long as the system petsc is installed.\n",
    "\n",
    "Knowing why this failed is enough for me. There's really no practical use to\n",
    "having two petsc installations loaded at any time.\n",
    "\n",
    "Cannot source .bashrc when a conda virtualenv is active.\n",
    "\n",
    "In typedef:\n",
    "\n",
    "typedef <ITEM1> <ITEM2>\n",
    "\n",
    "The second item is being defined to equal the first item, e.g., you can think of\n",
    "it as:\n",
    "\n",
    "ITEM2 = ITEM1\n",
    "\n",
    "e.g. ITEM1 is the thing that already exists.\n",
    "\n",
    "Looking at dof_map_constraints.C in libMesh:\n",
    "\n",
    "During interpolation of the nodes, these dofs get fixed:\n",
    "\n",
    "first element (0xa74eb0):\n",
    "0\n",
    "1\n",
    "3\n",
    "4\n",
    "7\n",
    "This must be a corner element of the global mesh\n",
    "\n",
    "second element (0xa75020):\n",
    "0\n",
    "1\n",
    "4\n",
    "This must be a side element of the global mesh\n",
    "\n",
    "So question is: how is it determined whether a degree of freedom is nodal or edge? A reasonable guess would be that a \"nodal\" degree of freedom corresponds to an element vertex.\n",
    "\n",
    "Another question: why is it that on edge dofs the solution values aren't simply assigned to the evaluation of the dirichlet function?\n",
    "\n",
    "On a quadrilateral side (with second order shape functions), there are three quadrature points. I'm curious where the quadrature points are located.\n",
    "\n",
    "Ok, stripping the problem down to one element. Then the quadrature points of one example side are:\n",
    "\n",
    "(-.77, -1, 0)\n",
    "(0, -1, 0)\n",
    "(.77, -1, 0)\n",
    "\n",
    "Which of these also corresponds to a degree of freedom?? Why the point (0, -1, 0) does of course.\n",
    "\n",
    "Solution value at (-.77, -1, 0): -.3467\n",
    "\n",
    "Ok the solution values at the quadrature points calculated in libmesh match the dirichlet function being projected onto them. That's good!\n",
    "\n",
    "I need to understand what an infinite homogeneous medium really means in the context of Scale.\n",
    "\n",
    "Files that cause compilation errors during Scale build:\n",
    "\n",
    "packages/Tsurfer/read_npt.f90:1552\n",
    "packages/Senlib/read_response_M.f90:277\n",
    "packages/Senlib/read_response_M.f90:394\n",
    "\n",
    "Trying to get familiar with Scale execution. Currently performing an infinite lattice calculation with NEWT (sample newt1.inp).\n",
    "\n",
    "Call sequence so far:\n",
    "\n",
    "main (ScalePrograms/scale.cpp)\n",
    "Scale::ScaleDriver::run (ScaleDriver/ScaleDriver.cpp)\n",
    "Scale::ScaleDriver::runSequence (ScaleDriver/ScaleDriver.cpp)\n",
    "Scale::Sequence::TNewt::execute (Sequence/TNewt/TNewt.cpp)\n",
    "Scale::Module::BaseTMGTransport::execute (Module/Xsdrn/BaseTMGTransport.cpp)\n",
    "Scale::Module::XSProcModule::execute (Module/XSProc/XSProcModule.cpp)\n",
    "\n",
    "From whithin XSProceModule::execute we call:\n",
    "\n",
    "Crawdad::execute (Crawdad/Crawdad.cpp)\n",
    "\n",
    "amd then:\n",
    "\n",
    "XSProc::execute (XSProc/XSProc/XSProc.cpp)\n",
    "\n",
    "From within XSProc::excute we call:\n",
    "\n",
    "Dancoff::execute (XSProc/dancoff/Dancoff.cpp)\n",
    "execute_dancoff (XSProc/dancoff/DancoffInterface.cpp)\n",
    "F_executeDancoff (XSProc/dancoff/Dancoff_I.f90)\n",
    "execute_dancoff (XSProc/dancoff/Dancoff_M.f90)\n",
    "\n",
    "and then:\n",
    "\n",
    "bonamiM::execute (XSProc/bonamiM/nonamiM.cpp)\n",
    "\n",
    "and then:\n",
    "\n",
    "MixMacros::execute (XSProc/MixMacros/MixMacros.cpp)\n",
    "\n",
    "and then:\n",
    "\n",
    "CentrmPmc::execute (PMC/CentrmPmc.cpp)\n",
    "\n",
    "and then:\n",
    "\n",
    "MixMacros::execute\n",
    "\n",
    "Once all that is finished we return to Scale::Module::BaseTMGTransport::execute (BaseTMGTransport.cpp) which then calls:\n",
    "\n",
    "Scale::Module::NewtModule::execute (Module/Newt/NewtModule.cpp)\n",
    "\n",
    "BaseTMGTransport::execute looks like an important function. It is the function from which both the execution routines for generating the multigroup cross sections and the actual transport code are called.\n",
    "\n",
    "Here's Newt backtrace:\n",
    "\n",
    "#0  newtapifortran_m::executenewt (inputsaver=..., lib=...)\n",
    "    at /home/lindsayad/scale/SCALE-6.2-serial-6.2.1-Source/packages/Newt/NewtApiFortran.f90:184\n",
    "#1  0x00007fffe8673d47 in newtapibinding_m::f_executenewt (\n",
    "    inputsaver=<error reading variable: Attempt to dereference a generic pointer.>,\n",
    "    libs=<error reading variable: Attempt to dereference a generic pointer.>)\n",
    "    at /home/lindsayad/scale/SCALE-6.2-serial-6.2.1-Source/packages/Newt/NewtApiBinding.f90:38\n",
    "#2  0x00007ffff2b88d0b in NEWT::NewtApi::executeNewt (this=0x7fffffffc130, inputSaver=0x5db0718, lib=0x238af770)\n",
    "    at /home/lindsayad/scale/SCALE-6.2-serial-6.2.1-Source/packages/Newt/NewtApi.h:41\n",
    "#3  0x00007ffff2b85689 in Scale::Module::NewtModule::execute (this=0x5db0660)\n",
    "    at /home/lindsayad/scale/SCALE-6.2-serial-6.2.1-Source/packages/Module/Newt/NewtModule.cpp:212\n",
    "#4  0x00007ffff293932b in Scale::Module::BaseTMGTransport::execute (this=0x68f710)\n",
    "    at /home/lindsayad/scale/SCALE-6.2-serial-6.2.1-Source/packages/Module/Xsdrn/BaseTMGTransport.cpp:174\n",
    "#5  0x00007ffff7206c94 in Scale::Sequence::TNewt::execute (this=0x68f470)\n",
    "    at /home/lindsayad/scale/SCALE-6.2-serial-6.2.1-Source/packages/Sequence/TNewt/TNewt.cpp:200\n",
    "#6  0x00007ffff7bc16a3 in Scale::ScaleDriver::runSequence (this=0x7fffffffd620, name=..., sequence=..., current_sequence_stream=...)\n",
    "    at /home/lindsayad/scale/SCALE-6.2-serial-6.2.1-Source/packages/ScaleDriver/ScaleDriver.cpp:591\n",
    "#7  0x00007ffff7bbfe6c in Scale::ScaleDriver::run(Standard::Factory<Standard::AbstractSequence*, std::__cxx11::basic_string<char, std::char_traits<char>, std::allocator<char> >, std::function<Standard::AbstractSequence* ()> >&) (this=0x7fffffffd620, sequenceFactory=...)\n",
    "    at /home/lindsayad/scale/SCALE-6.2-serial-6.2.1-Source/packages/ScaleDriver/ScaleDriver.cpp:389\n",
    "#8  0x000000000041919f in main (argc=2, argv=0x7fffffffd908)\n",
    "    at /home/lindsayad/scale/SCALE-6.2-serial-6.2.1-Source/packages/ScalePrograms/scale.cpp:173\n",
    "\n",
    "Now looking at executing my silly little input file.\n",
    "\n",
    "Still call Crawdad and then again:\n",
    "\n",
    "Dancoff\n",
    "Bonami\n",
    "MixMacros\n",
    "CentrmPmc\n",
    "MixMacros\n",
    "\n",
    "Drilling down a little into centrmpmc.\n",
    "\n",
    "Crawdad gets called according to the documentation because CentrmPmc requires it (or something like that).\n",
    "\n",
    "Ok, using an infinite lattice as opposed to inifinite homogeneous medium, I still get high k values:\n",
    "\n",
    "k-eff = 1.41823805\n",
    "k-infinity from four factor formula = 1.419670\n",
    "\n",
    "After \"Critical Spectra Calculated with the B1 Method\":\n",
    "\n",
    "Critical Buckling = 1.05846e-3\n",
    "k-infinity of critical system = 1.38594\n",
    "\n",
    "Changing the grid size from 5x5 to 10x10 (at least I believe that's what I was doing) did not appreciably change the results."
   ]
  },
  {
   "cell_type": "markdown",
   "metadata": {
    "collapsed": true
   },
   "source": [
    "## 1/11/17\n",
    "\n",
    "Trying to understand what nodal methods means. Here are some excerpts from <i>Progress in Nodal Methods for the Solution of the Neutron Diffusion and Transport Equations</i> written by Lawrence, published in 1985:\n",
    "\n",
    "> \"Practical limiations on computer storage and execution time generally prohibit the explicit modeling of each fuel pin in a LWR. Instead 'equivalent' few-group diffusion-theory parameters are determined for relatively large homogeneous regions often consisting of entire fuel assemblies in the radial plane. With these parameters in hand, global solutions are computed for this homogenized-assembly representation of the reactor. Solution of this problem using traditional finite-difference techniques requires a large number of mesh points in orrder to represent accurately the spatial variation of the neutron flux. The computational expense associated with these calculations motivated the early development of less rigorous, yet more computationally efficient techniques oriented towards the determination of the flux averaged over each homogeneous region or 'node'. This class of methods thus became known as nodal methods, and the FLARE model developed in 1964 is representative of the first generation of these schemes.\"\n"
   ]
  },
  {
   "cell_type": "code",
   "execution_count": 2,
   "metadata": {
    "collapsed": false
   },
   "outputs": [
    {
     "name": "stdout",
     "output_type": "stream",
     "text": [
      "0.29674477\n",
      "0.009201230000000005\n"
     ]
    }
   ],
   "source": [
    "sigma_t_1 = 3.05946e-1\n",
    "sigmas_1to1 = 2.94802e-1\n",
    "sigmas_1to2 = 1.94277e-3\n",
    "sigmas_1 = sigmas_1to1 + sigmas_1to2\n",
    "sigma_a_1 = sigma_t_1 - sigmas_1\n",
    "print(sigmas_1)\n",
    "print(sigma_a_1)"
   ]
  },
  {
   "cell_type": "code",
   "execution_count": 4,
   "metadata": {
    "collapsed": false
   },
   "outputs": [
    {
     "name": "stdout",
     "output_type": "stream",
     "text": [
      "0.27827233\n",
      "0.03676366999999997\n"
     ]
    }
   ],
   "source": [
    "sigma_t_2 = 3.15036e-1\n",
    "sigma_s_2to1 = 1.58033e-3\n",
    "sigma_s_2to2 = 2.76692e-1\n",
    "sigma_s_2 = sigma_s_2to1 + sigma_s_2to2\n",
    "sigma_a_2 = sigma_t_2 - sigma_s_2\n",
    "print(sigma_s_2)\n",
    "print(sigma_a_2)\n"
   ]
  },
  {
   "cell_type": "markdown",
   "metadata": {},
   "source": [
    "Alright, confirmed that we can deduce the `Total- Scatter` cross section (equivalent to what I am used to thinking of as the absorption cross section) from summing the contributions of the P0 scattering matrix. Good!"
   ]
  },
  {
   "cell_type": "markdown",
   "metadata": {
    "collapsed": true
   },
   "source": [
    "## 1/12/17\n",
    "\n",
    "Trying to figure out how to pass default coupling values through to actions:\n",
    "\n",
    "```C++\n",
    "void\n",
    "InputParameters::addCoupledVar(const std::string & name, const std::string & doc_string)\n",
    "{\n",
    "  addParam<std::vector<VariableName> >(name, doc_string);\n",
    "  _coupled_vars.insert(name);\n",
    "}\n",
    "\n",
    "Ok, we're passing T = std::vector<VariableName> >\n",
    "\n",
    "template <typename T>\n",
    "void\n",
    "InputParameters::addParam(const std::string &name, const std::string &doc_string)\n",
    "{\n",
    "  checkConsistentType<T>(name);\n",
    "\n",
    "  InputParameters::insert<T>(name);\n",
    "  _doc_string[name] = doc_string;\n",
    "}\n",
    "\n",
    "Recall again, T = std::vector<VariableName> >\n",
    "\n",
    "template <typename T>\n",
    "inline\n",
    "void Parameters::insert (const std::string & name)\n",
    "{\n",
    "  if (!this->have_parameter<T>(name))\n",
    "    _values[name] = new Parameter<T>;\n",
    "\n",
    "  set_attributes(name, true);\n",
    "}\n",
    "\n",
    "Note that the if block in the above function does get entered as one might hope.\n",
    "\n",
    "So in compilation, what does that code pattern look like?\n",
    "\n",
    "  checkConsistentType<T>(name);\n",
    "  \n",
    "  if (!this->have_parameter<T>(name))\n",
    "    _values[name] = new Parameter<T>;\n",
    "\n",
    "  set_attributes(name, true);\n",
    "  _doc_string[name] = doc_string;\n",
    "  \n",
    "  _coupled_vars.insert(name);  \n",
    "  \n",
    "Hmm, that's interesting, here's what InputParameters::set looks like:\n",
    "\n",
    "  checkConsistentType<T>(name);\n",
    "\n",
    "  if (!this->have_parameter<T>(name))\n",
    "    _values[name] = new Parameter<T>;\n",
    "\n",
    "  set_attributes(name, false);\n",
    "\n",
    "  if (quiet_mode)\n",
    "    _set_by_add_param.insert(name);\n",
    "\n",
    "  return cast_ptr<Parameter<T>*>(_values[name])->set();\n",
    "  \n",
    "```"
   ]
  },
  {
   "cell_type": "markdown",
   "metadata": {},
   "source": [
    "It's important to note that we are setting to a `getParam`\n",
    "\n",
    "```\n",
    "getVecMooseTypes searches itself for a parameter with name \"name\". If it finds that parameter, then it tries to get the vector of variable names accessible by name. \n",
    "\n",
    "Parameters::_values is a map. It's like a python dictionary. It's keys are the parameter names. And then each key has an associated value which can be of a variety of types. Apparently the key \"temperature\" is associated with a vector of VariableNames. And in the normal Kernel case, when acessing the value corresponding to the key name of \"v\", the value returned is essentially NULL. How come that doesn't happen for me??? My question is: when does the value part of the key-value pair get added to the map??\n",
    "\n",
    "In Coupleable, we loop from _c_parameters.coupledVarsBegin() to _c_parameters.coupledVarsEnd() which just inspects _coupled_vars. _coupled_vars itself is set of strings, e.g. it's a set of the coupled variable names.\n",
    "\n",
    "So as already discussed, one of my big issues is that I have no idea at what point the value part of the key-value pair for \"temperature\" gets created.\n",
    "```"
   ]
  },
  {
   "cell_type": "markdown",
   "metadata": {},
   "source": [
    "```\n",
    "Apparently cast_ptr is a type definied by libmesh. Knew it!\n",
    "```"
   ]
  },
  {
   "cell_type": "markdown",
   "metadata": {},
   "source": [
    "```\n",
    "Here's default temperature of 800:\n",
    "\n",
    "+----------------+----------------+----------------+----------------+\n",
    "| time           | group1_current | group1_old     | multiplication |\n",
    "+----------------+----------------+----------------+----------------+\n",
    "|   0.000000e+00 |   0.000000e+00 |   0.000000e+00 |   0.000000e+00 |\n",
    "|   1.000000e-04 |   3.539391e+03 |   1.328831e+03 |   2.663538e+00 |\n",
    "|   2.200000e-04 |   3.186612e+03 |   3.539391e+03 |   9.003279e-01 |\n",
    "|   3.640000e-04 |   2.307495e+03 |   3.186612e+03 |   7.241216e-01 |\n",
    "|   5.368000e-04 |   1.524371e+03 |   2.307495e+03 |   6.606172e-01 |\n",
    "|   7.441600e-04 |   9.246172e+02 |   1.524371e+03 |   6.065567e-01 |\n",
    "|   9.929920e-04 |   5.076227e+02 |   9.246172e+02 |   5.490085e-01 |\n",
    "|   1.291590e-03 |   2.472787e+02 |   5.076227e+02 |   4.871309e-01 |\n",
    "+----------------+----------------+----------------+----------------+\n",
    "\n",
    "Here's default temperature of 1050:\n",
    "\n",
    "Postprocessor Values:\n",
    "+----------------+----------------+----------------+----------------+\n",
    "| time           | group1_current | group1_old     | multiplication |\n",
    "+----------------+----------------+----------------+----------------+\n",
    "|   0.000000e+00 |   0.000000e+00 |   0.000000e+00 |   0.000000e+00 |\n",
    "|   1.000000e-04 |   3.539391e+03 |   1.328831e+03 |   2.663538e+00 |\n",
    "|   2.200000e-04 |   3.186612e+03 |   3.539391e+03 |   9.003279e-01 |\n",
    "|   3.640000e-04 |   2.307495e+03 |   3.186612e+03 |   7.241216e-01 |\n",
    "|   5.368000e-04 |   1.524371e+03 |   2.307495e+03 |   6.606172e-01 |\n",
    "|   7.441600e-04 |   9.246172e+02 |   1.524371e+03 |   6.065567e-01 |\n",
    "|   9.929920e-04 |   5.076227e+02 |   9.246172e+02 |   5.490085e-01 |\n",
    "|   1.291590e-03 |   2.472787e+02 |   5.076227e+02 |   4.871309e-01 |\n",
    "+----------------+----------------+----------------+----------------+\n",
    "\n",
    "The exact frieking same.\n",
    "\n",
    "With the default temperatures changed in the kernel source files:\n",
    "\n",
    "Postprocessor Values:\n",
    "+----------------+----------------+----------------+----------------+\n",
    "| time           | group1_current | group1_old     | multiplication |\n",
    "+----------------+----------------+----------------+----------------+\n",
    "|   0.000000e+00 |   0.000000e+00 |   0.000000e+00 |   0.000000e+00 |\n",
    "|   1.000000e-04 |   3.539391e+03 |   1.328831e+03 |   2.663538e+00 |\n",
    "|   2.200000e-04 |   3.186612e+03 |   3.539391e+03 |   9.003279e-01 |\n",
    "|   3.640000e-04 |   2.307495e+03 |   3.186612e+03 |   7.241216e-01 |\n",
    "|   5.368000e-04 |   1.524371e+03 |   2.307495e+03 |   6.606172e-01 |\n",
    "|   7.441600e-04 |   9.246172e+02 |   1.524371e+03 |   6.065567e-01 |\n",
    "|   9.929920e-04 |   5.076227e+02 |   9.246172e+02 |   5.490085e-01 |\n",
    "|   1.291590e-03 |   2.472787e+02 |   5.076227e+02 |   4.871309e-01 |\n",
    "+----------------+----------------+----------------+----------------+\n",
    "\n",
    "The exact frieking same. There's some weird stuff going on right now, and I'm too tired to debug it.\n",
    "\n",
    "Well I figured out why this wasn't changing...the temperature is not used in any of the kernel calculations. It's only used in the material calculation and that has a default setting itself which was totally unaffected by any temperature changes I was trying to affect in the action.\n",
    "```"
   ]
  },
  {
   "cell_type": "markdown",
   "metadata": {
    "collapsed": true
   },
   "source": [
    "I'm a glutton for punishment, what can I say.\n",
    "\n",
    "```\n",
    "params.addCoupledVar gets called before InputParameters::defaultCoupledValue which actually sets the default coupled value.\n",
    "\n",
    "Here's the latter's backtrace:\n",
    "\n",
    "#0  InputParameters::defaultCoupledValue (this=0xa2db98, coupling_name=..., value=3)\n",
    "    at /home/lindsayad/projects/moose/framework/src/utils/InputParameters.C:426\n",
    "#1  0x00007ffff66d9c57 in Parser::setVectorParameter<VariableName> (this=0x9db9e0, full_name=..., short_name=..., param=0xa30070)\n",
    "    at /home/lindsayad/projects/moose/framework/src/parser/Parser.C:1291\n",
    "#2  0x00007ffff66d622a in Parser::extractParams (this=0x9db9e0, prefix=..., p=...)\n",
    "    at /home/lindsayad/projects/moose/framework/src/parser/Parser.C:832\n",
    "#3  0x00007ffff66ce6cf in Parser::parse (this=0x9db9e0, input_filename=...)\n",
    "    at /home/lindsayad/projects/moose/framework/src/parser/Parser.C:246\n",
    "#4  0x00007ffff5d314e9 in MooseApp::setupOptions (this=0x9dab60) at /home/lindsayad/projects/moose/framework/src/base/MooseApp.C:327\n",
    "#5  0x00007ffff5d3382d in MooseApp::run (this=0x9dab60) at /home/lindsayad/projects/moose/framework/src/base/MooseApp.C:575\n",
    "#6  0x0000000000424449 in main (argc=3, argv=0x7fffffffd8a8) at /home/lindsayad/projects/moose/test/src/main.C:35\n",
    "```\n"
   ]
  },
  {
   "cell_type": "markdown",
   "metadata": {},
   "source": [
    "## 1/13/17\n",
    "\n",
    "Looking at some integer arithmetic"
   ]
  },
  {
   "cell_type": "code",
   "execution_count": 1,
   "metadata": {
    "collapsed": false
   },
   "outputs": [
    {
     "name": "stdout",
     "output_type": "stream",
     "text": [
      "4294967295\n"
     ]
    }
   ],
   "source": [
    "bits = [i for i in range(32)]\n",
    "sum = 0\n",
    "for bit in bits:\n",
    "    sum += 2**bit\n",
    "print(sum)"
   ]
  },
  {
   "cell_type": "markdown",
   "metadata": {},
   "source": [
    "Above is maximum representable integer value with 32 bits. Cool!"
   ]
  },
  {
   "cell_type": "markdown",
   "metadata": {},
   "source": [
    "I want to show a sequence of backward stepping by gdb.\n",
    "\n",
    "Set breakpoint at Parser.C:704, running `gdb --args ../../../moose-test_dbg -i optionally_coupled.i` in `moose/test/tests/variables/optionally_coupled/`:\n",
    "\n",
    "```\n",
    "bool found = false; \n",
    "bool in_global = false;                                                                                                 │\n",
    "std::string orig_name = prefix + \"/\" + it.first;                                                                        │\n",
    "std::string full_name = orig_name;\n",
    "    if (_getpot_file.have_variable(full_name.c_str()) || (_app.commandLine() && _app.commandLine()->haveVariable(full_name.c_str())))\n",
    "        else if (global_params_block != NULL)\n",
    "            if (!found)\n",
    "```"
   ]
  },
  {
   "cell_type": "markdown",
   "metadata": {},
   "source": [
    "Currently, I'm getting a critical reactor with serpent input for height=396 and nt_scale=1e0. Getting a sub-critical reactor with newt input for height=396 and nt_scale=1e16. Going to try the latter with nt_scale=1e0 when I get back from the run. Also with nt_scale=1e0 no criticality"
   ]
  },
  {
   "cell_type": "markdown",
   "metadata": {},
   "source": [
    "- The group 2 NSF value (fissxs * numbar) is a little lower in the fuel for newt than it is for serpent.\n",
    "- The diffusivity of group 2 in the fuel is about twice as high with serpent as it is with NEWT\n",
    "- Scattering from group 2 to 1 in the fuel quite a bit higher in newt than in serpent\n",
    "- Remxs from group 1 in moderator quite a bit higher in newt than serpent\n",
    "- Ok, here are the first order of magnitude differences I've seen: at 800 K in moderator:\n",
    "NEWT: g1 D = .991; g2 D = .776\n",
    "SERPENT: g1 D = .35; g2 D = .02\n",
    "- The group 2 diffusivity in newt is like 40 times higher!!!\n",
    "\n",
    "Ok even swapping the diffusivity coefficients in the moderator from newt's to serpent's did not make the reactor critical. If I inspect the newt_moltres output file after 18 time steps, the shape of the neutron distributions are the same as all the neutron distributions I've seen while using Serpent input data.\n",
    "\n",
    "So question: why does newt say a critical buckling occurs at 115 cm when I can't use it's collapsed group xsecs to make a critical reactor at 396 cm!?!?!?\n",
    "\n",
    "With serpent inputs, geometry is sub-critical at 115 cm but super-critical at 200 cm. Subcritical at 150. Supercritical at 175. So we know critical buckling occurs with serpent inputs for 150 < H < 175 (cm).\n",
    "\n",
    "With newt inputs, gemoetry still sub-critical at 500 cm. So different from the actual newt calculation!!!\n",
    "\n",
    "### So awesomely, the order of scattering is reversed from Serpent to Newt.\n",
    "\n",
    "- Serpent does P(1 -> 1), P(2 -> 1), ...\n",
    "- Newt does (what I think is more sensical) P(1 -> 1), P(1 -> 2), ...\n",
    "\n",
    "Hey, what do you know? Transposing the scattering matrix made the newt reactor super critical at 396 cm!!! That's a start! And at 200! Sub-critical at 100. Super Critical at 150! And at 125. Very slightly super critical at 115! Sub at 110. Sub at 112. Sub at 114."
   ]
  },
  {
   "cell_type": "markdown",
   "metadata": {},
   "source": [
    "# (perfectly_bracketed_critical_buckling_height_from_newt): So this is pretty freaking awesome\n",
    "\n",
    "## This moltres problem directory just considers neutronics, e.g. no temperature coupling\n",
    "\n",
    "For 908 K in newt with MSBR concentrations, the predicted critical buckling factor was 7.00660e-4 corresonding to a reactor height of 114.76 cm. We then ask newt to output collapsed two group constants. We feed those group constants into Moltres (at admittedly 900 K). Results:\n",
    "\n",
    "## At 114 cm, the reactor is sub-critical\n",
    "\n",
    "## At 115 cm, the reactor is super-critical\n",
    "\n",
    "How about that for computational science?! Maybe I can still run simulations after all!\n",
    "\n",
    "For the record [114, 115] is still the bracket for 908 K in Moltres :-) And increasing the Moltres temperature to 950 K leads to a sub-critical reactor at 115 cm."
   ]
  },
  {
   "cell_type": "markdown",
   "metadata": {},
   "source": [
    "# (add_temperature_coupling): Now coupling back in temperature\n",
    "\n",
    "So now continuing to use newt material values and a reactor height of 115 cm, I run a simulation coupling back in temperature with an inlet value of 824 K. We produce a nice critical reactor with outlet temperature of 992 K and tradtional neutronic distribution centered in the axial center of the reactor, and thermal group concentrated in the moderatore region and fast group concentrated in the fuel region.\n",
    "\n",
    "### Important note\n",
    "\n",
    "In order to get this nice criticial reactor, had to cut time step growth factor from 1.2 to 1.05. Otherwise I observe the same phenomenon I've seen in the past: at some arbitrary time step the neutron population will suddenly decrease by many orders of magnitude and the reactor will go the a uniform temperature of 824 K with no neutron population."
   ]
  },
  {
   "cell_type": "markdown",
   "metadata": {},
   "source": [
    "## Note that above two cases do not include precursors --> That will be next on the docket"
   ]
  },
  {
   "cell_type": "markdown",
   "metadata": {},
   "source": [
    "# 1/17/17\n",
    "## add_precursors:"
   ]
  },
  {
   "cell_type": "markdown",
   "metadata": {
    "collapsed": true
   },
   "source": [
    "## 1/18/17\n",
    "\n",
    "## add_precursors:\n",
    "\n",
    "So I've run into a problem of application of boundary conditions for the advectively transported precursors. It appears that the DiffusionNoBCBC's modify the outflow behavior in a non-physical way. E.g. if I apply the DiffusionNoBCBC's I observe that the concentration is actually forced negative at the outlet. In trying to circumvent the problems with Diffusion while having a non-oscillatory solution, I've stumbled upon the `rdg` module in MOOSE which is based on finite volume methods for scalar advection. However, a lot of the user objects are not currently block restrictable which raises errors in my simulation becuase the precursors don't just live on one block. So I'm trying to figure out how I can restrict them. I am restricting the `ElementLoopObject` itself. So I kind of think it should be a command like `this->isBlockRestricted()` or something like that."
   ]
  },
  {
   "cell_type": "markdown",
   "metadata": {},
   "source": [
    "## 1/19/17 add_precursors:\n",
    "\n",
    "Paul Roe's superbee slope limiting scheme was published in 1986. Currently starting to read some of Cockburn's Runge-Kutta Discontinuous Galerkin method papers for hyperbolic systems. His fourth paper on the subject is published in 1990; the fifth paper in 1998.\n",
    "\n",
    "It's incredibly interesting that in order not to observe oscillations in the solution of `u` with rdg that the `solve_type` must be set to `LINEAR`. If the solve_type is set to `NEWTON`, then oscillations in `u` are observed."
   ]
  },
  {
   "cell_type": "markdown",
   "metadata": {
    "collapsed": true
   },
   "source": [
    "## 1/20/17 add_precursors:\n",
    "\n",
    "Successfully got Moltres to run with precursors. I went with low order (first order) accuracy and simply used `CONSTANT MONOMIAL`s with `DGConvection` and a `DGConvectionOutflow` boundary condition. No linear interpolation of cell center values to cell faces for determination of flux; rather the value was assumed constant across the cell/element. This is equivalent to the donor-cell algorithm discussed in www.ita.uni-heidelberg.de/~dullemond/lectures/num_fluid_2012/Chapter_4.pdf. The donor-cell algorithm is significantly diffusive; maybe at some point we can use higher order methods; perhaps when Yidong finishes transplanting `bighorn` code in the the `moose` modules. "
   ]
  },
  {
   "cell_type": "markdown",
   "metadata": {},
   "source": [
    "## temperature_to_dg:"
   ]
  },
  {
   "cell_type": "markdown",
   "metadata": {},
   "source": [
    "## 1/21/17\n",
    "\n",
    "**Wikipedia Vector spaces**: Vector spaces are also called linear spaces. This is from Wikipedia's Vector space article. A vector space is a collection of objects called vectors, which may be added together and multiplied (\"scaled\") by numbers, called scalars in this context. A vector space over a (scalar) field F is a set V together with two operations that satisfy eight axioms. Elements of V are commonly called vectors. Elements of F are commonly called scalars (because they can *scale* vectors). In the axioms on Wikipedia's page, **u**, **v**, and **w** are abitrary vectors in _V_ and _a_ and _b_ are scalars in _F_. The most common _F_ fields in engineering are the field of real numbers **R** and the field of complex numbers **C**. The corresponding vector fields are the <i>real vector space</i> and <i>complex vector space</i> respectively. The general definition of a vector space allows scalars to be elements of any fixed field _F_. The notion is then known as an <i>F-vector space</i> or a <i>vector space over F</i>.\n",
    "\n",
    "A real linear space (vector space) is over the field of real numbers. \n",
    "\n",
    "Functions from any fixed set \\Omega to a field _F_ also form vector spaces, by performing addition and scalar multiplication pointwise. Such function spaces occur in many geometric situations, when \\Omega is the real line or an interval, or other subsets of **R**. For example we can define a vector space where the elements of the vector space are the polynomial functions defined by:\n",
    "\n",
    "f(x) = r0 + r1\\*x + ... rn\\*x^n\n",
    "\n",
    "where the coefficients r0, ..., rn are in the scalar field _F_. \n",
    "\n",
    "So I've had some confusion about what is meant in books/articles when the author is talking about vector spaces of functions. I've been trying to think of it in the context of Euclidean vectors, e.g. 2D or 3D Euclidean vectors in which vectors, the elements of the vector space, are defined by pairs or triplets of real numbers respectively. So I was trying to think of these function/vector spaces as having elements that are pairs or triplets of real valued functions (using 2D and 3D analogy respectively). In reality I can think of each function as being its own element of the function/vector space. \n",
    "\n",
    "(Wikipedia function): Collections of functions with the same domain and codomain are called function spaces, the properties of which are studied in such mathematical disciplines as real analysis, complex analysis, and functional analysis. The function's codomain doesn't have to be the same as the function's set of outputs. There are three pieces that make up a function in modern mathematics: 1) the set of possible inputs (_domain_), 2) a set containing the set of outputs and possibly additional elements (_codomain_), and 3) the set of all input-output pairs called the function's _graph_. Sometimes _range_ is used to refer to the codomain, but more commonly it's used to refer to the set of possible function outputs, also known as the _image_. My favorite example of a function definition in which the image doesn't match the codomain is f(x) = x^2 where we define both the domain and the codomain to be the set of real numbers. Here the image/range is 0 and all positive real numbers while the codomain is all real numbers.\n",
    "\n",
    "I love the figure on the **Wikipedia Space(mathematics)** article which shows a hierarchy of spaces: an inner product space is a normed vector space is a metric space is a topological space.\n",
    "\n",
    "A space is a set with some added structure. A set is a well-defined collection of distinct objects, considered as an object in its own right.\n",
    "\n",
    "A normed vector space is a locally convex space is a vector space. A normed vector space is also a metric space is a topological space.\n",
    "\n",
    "**Wikipedia Isomorphism**: An isomorphism is a homomorphism or morphism (i.e. a mathematical mapping) that admits an inverse. Two mathematical objects are isomorphic if an isomorphism exists between them.... For most algebraic structures, including groups and rings, a homomorphism is an isomorphism if and only if it is bijective (i.e. both injective and surjective). Injective means that every element of the codomain is mapped to by at most one element of the domain. E.g. an element in the codomain coupld be mapped to by one or zero elements in the domain. If we defined X and Y to be the sets of all real numbers than, the mapping f(x) = x^2 is not injective because for instance both x = 1 and x = -1 map to +1. Surjective means that every element of the codomain is mapped to by at least one element of the domain. x^2 is not surjective either because none of the negative real numbers can be mapped to by the elements of X. Now f(x) = x is both injective and surjective, and is thus bijective.\n",
    "\n",
    "**Wikipedia Function space**: A function space is a set of functions of a given kind from a set X to a set Y. It is called a space because in many applications it is a topological space (including metric spaces), a vector space, or both. Namely, if Y is a field, functions have inherent vector structure with two operations of pointwise addition and multiplication to a scalar. Topological and metrical structures of function spaces are more diverse. \n",
    "\n",
    "**Wikipedia Topological space**: A topological space may be defined as a set of points, along with a set of neighbourhoods for each point, satisfying a set of axioms relating points and neighbourhoods. The definition of a topological space relies only upon set theory and is the most general notion of a mathematical space that allows for the definition of concepts such as continuity, connectedness, and convergence. Other spaces, such as manifolds and metric spaces, are specializations of topological spaces with extra structures or constraints. Being so general, topological spaces are a central unifying notion and appear in virtually every branch of modern mathematics. "
   ]
  },
  {
   "cell_type": "markdown",
   "metadata": {
    "collapsed": true
   },
   "source": [
    "# 1/23/17\n",
    "\n",
    "Thinking with David Andrs about block restriction of `ElementLoopObject`. `AEFVKernel` calls a user object of type `InternalSideFluxBase`. `AEFVBC` calls a user object of type `BoundaryFluxBase`. In `BoundaryFluxBase` for example, the `getFlux` method is implemented. However, it's the children of `BoundaryFluxBase` that define the calcFlux method. For `AEFVFreeOutflowBoundaryFlux`, calcFlux takes uvec1 and dwave as arguments. AEFVBC passes the material property `u` as the uvec argument to calcFlux. `uvec` represents the values of the variable at the faces. So essentially the material property is for holding the variable value at faces while the variable value at the element/cell center is held by the actual nonlinear coupled variable. In the material class, the material property (e.g. variable value at cell faces) is calculated using the variable value at the element center and a provided user object for slope limiting, e.g. required parameters for the material (AEFVMaterial) are: `addRequiredCoupledVar(\"u\"...)` and `addRequiredParam<UserObjectName>(\"slope_limiting\"...)`, where the user object is of type `SlopeLimitingBase` which itself inherits from `ElementLoopObject`.\n",
    "\n",
    "# Testing oscillations in moose/test/tests/dgkernels/1d_advection_dg/\n",
    "\n",
    "Oscillatory cases and/or contains undershoots and/or overshoots):\n",
    "- first order monomial, TimeIntegrator = ExplicitMidpoint, old values for kernels and dg_kernels, solve_type = LINEAR\n",
    "\n",
    "Non-oscillatory cases\n",
    "- zeroth order monomial, TimeIntegrator = ExplicitMidpoint, old values for kernels and dg_kernels, solve_type = LINEAR\n",
    "- zeroth order monomial, TimeIntegrator = ExplicitMidpoint, old values for kernels and dg_kernels, solve_type = NEWTON\n",
    "- zeroth order monomial, TimeIntegrator = ImplicitEuler, new values for kernels and dg_kernels, solve_type = NEWTON\n",
    "\n",
    "This is odd because I thought I recalled that for the rDG test case I could get oscillations by switching to NEWTON\n",
    "\n",
    "# Testing oscillations in moose/modules/tests/advection_1d/1d_aefv_square_wave_superbee.i\n",
    "\n",
    "Non-oscillatory:\n",
    "- super_bee limiter, solve_type = 'LINEAR'\n",
    "- none limiter, solve_type = 'LINEAR'\n",
    "- none limiter, solve_type = 'NEWTON'\n",
    "- minmod limiter, solve_type = 'LINEAR'\n",
    "- minmod limiter, solve_type = 'NEWTON'\n",
    "- mc limiter, solve_type = 'LINEAR'\n",
    "\n",
    "Oscillatory cases and/or contains undershoots and/or overshoots):\n",
    "- super_bee limiter, solve_type = 'NEWTON'\n",
    "- super_bee limiter, solve_type = 'PFJNK'\n",
    "- minmod limiter, solve_type = 'NEWTON'\n",
    "- minmod limiter, solve_type = 'PFJNK'\n"
   ]
  },
  {
   "cell_type": "markdown",
   "metadata": {
    "collapsed": true
   },
   "source": [
    "# 1/24/17\n",
    "\n",
    "In the namespace `pcrecpp` used in the chemical_reactions module, `RE` and `StringPiece` are classes. Thus objects of those type can be initialized in the standard way using `()`. "
   ]
  },
  {
   "cell_type": "markdown",
   "metadata": {},
   "source": [
    "# 1/25/17"
   ]
  },
  {
   "cell_type": "code",
   "execution_count": 1,
   "metadata": {
    "collapsed": false
   },
   "outputs": [],
   "source": [
    "import sympy as sp"
   ]
  },
  {
   "cell_type": "code",
   "execution_count": 8,
   "metadata": {
    "collapsed": false
   },
   "outputs": [],
   "source": [
    "e, x = sp.symbols('e x')"
   ]
  },
  {
   "cell_type": "code",
   "execution_count": 12,
   "metadata": {
    "collapsed": false
   },
   "outputs": [],
   "source": [
    "expr = -(e - 1)*e**(-1) - e**(-1) + 1"
   ]
  },
  {
   "cell_type": "code",
   "execution_count": 16,
   "metadata": {
    "collapsed": false
   },
   "outputs": [
    {
     "data": {
      "text/plain": [
       "0"
      ]
     },
     "execution_count": 16,
     "metadata": {},
     "output_type": "execute_result"
    }
   ],
   "source": [
    "sp.simplify(expr)"
   ]
  },
  {
   "cell_type": "markdown",
   "metadata": {
    "collapsed": true
   },
   "source": [
    "# 2/24/17\n",
    "\n",
    "Investigating translation of serpent few group constants into Moltres input:\n",
    "\n",
    "- recipvel: check\n",
    "- diffcoef: check\n",
    "- remxs: check\n",
    "- gtransfxs: check\n",
    "- chi: check\n",
    "- nsf: check\n",
    "\n",
    "Now check translation from matlab file to txt file\n",
    "\n",
    "- recipvel: check\n",
    "- diffcoef: check\n",
    "- remxs: check\n",
    "- gtransfxs: check\n",
    "- chi: check\n",
    "- nsf: check\n",
    "\n",
    "I guess now check exponential formulation, otherwise serpent is just outputting bad few-group constants or I am using the wrong constants for my governing equations."
   ]
  },
  {
   "cell_type": "markdown",
   "metadata": {},
   "source": [
    "# 2/27/17\n",
    "\n",
    "Let's outline group constant generation methodology, starting with deterministic methods. These methods are based on Lewis's and Miller's book: <i>Computational Methods of Neutron Transport</i>. We want to compute:\n",
    "\n",
    "\\begin{equation}\n",
    "\\sigma_g(\\vec{r}) = \\int_g dE \\ \\sigma(\\vec{r}, E) \\ f(E) \\quad eq. 1\n",
    "\\end{equation}\n",
    "\n",
    "where we've assumed that the functional dependence of the angular flux $\\psi$ is seperable, e.g.:\n",
    "\n",
    "\\begin{equation}\n",
    "\\psi(\\vec{r},\\hat{\\Omega},E) = f(E) \\ \\psi_g(\\vec{r},\\hat{\\Omega})\n",
    "\\end{equation}\n",
    "\n",
    "## Method 1: Assume Infinite Homogeneous Medium\n",
    "\n",
    "### Solve fine group transport equations\n",
    "\n",
    "- Calculate $\\sigma_j^{\\ddagger}$, the fine group cross sections. How to do this? Assume a function for $f(E)$. Common assumptions for $f(E)$ are: \n",
    "\n",
    "\\begin{equation}\n",
    "\\frac{1}{\\Delta E_g}\\\\\n",
    "\\frac{1}{E}\\\\\n",
    "\\frac{1}{E\\ \\sigma(E)}\n",
    "\\end{equation}\n",
    "\n",
    "After assuming a functional form for $f(E)$, then solve for $\\sigma_j^{\\ddagger}$ using equation 1.\n",
    "\n",
    "- Now assume that neutron flux is in an infinite medium and has no functional dependence on position or angle. Then the neutron transport equation can be integrated over all angles and the streaming (leakage) term vanishes, leaving us with this equation for the fine group scalar fluxes:\n",
    "\n",
    "\\begin{equation}\n",
    "\\sigma_j^{\\ddagger} \\phi_j^{\\ddagger} = \\sum_{j'} \\sigma_{jj'}^{\\ddagger} \\phi_{j'}^{\\ddagger} + \\frac{\\chi_j^{\\ddagger}}{k} F \\quad eq. 2\n",
    "\\end{equation}\n",
    "\n",
    "where $F = \\sum_{j'} \\nu \\sigma_{jj'}^{\\ddagger} \\phi_{j'}^{\\ddagger}$.\n",
    "\n",
    "- Armed with the solution of equation 2, the coarse group cross sections can then be computed:\n",
    "\n",
    "\\begin{equation}\n",
    "\\sigma_g(\\vec{r}) = \\left. \\sum_{j \\in g} \\phi_j^{\\ddagger} \\sigma_j^{\\ddagger}(\\vec{r}) \\middle/ \\sum_{j \\in g} \\phi_j^{\\ddagger} \\right. \\quad eq. 3\n",
    "\\end{equation}\n",
    "\n",
    "\n",
    "\n",
    "# Method 2: Infinite lattice with heterogeneous unit cells\n",
    "\n",
    "- Calculate $\\sigma_{jm}^{\\ddagger}$ where $m$ denotes the material, assuming $f(E)$ as in *Method 1*.\n",
    "- Use some smart method (more advanced than that outlined for *Method 1* to calculate the fine group scalar fluxes, $\\sigma_{jm}^{\\ddagger}$.\n",
    "- After calculating $\\sigma_{jm}^{\\ddagger}$, compute $\\sigma_g$:\n",
    "\n",
    "\\begin{equation}\n",
    "\\sigma_g = \\frac{\\sum_{j \\in g} \\left(V_1 \\phi_{j1}^{\\ddagger} \\sigma_{j1}^{\\ddagger} + V_2 \\phi_{j2}^{\\ddagger} \\sigma_{j2}^{\\ddagger} \\right)}{\\sum_{j \\in g} \\left( V_1\\phi_{j1}^{\\ddagger} + V_2 \\phi_{j2}^{\\ddagger} \\right)}\n",
    "\\end{equation}\n",
    "\n",
    "# Method 3: Finite homogeneous medium\n",
    "\n",
    "- Assume spatial dependence of neutron angular flux:\n",
    "\n",
    "\\begin{equation}\n",
    "\\psi_j^{\\ddagger}(\\vec{r},\\hat{\\Omega}) = \\psi_j^{\\ddagger}(\\hat{\\Omega}) e^{i\\vec{B}\\cdot\\vec{r}} \\quad eq. 4\n",
    "\\end{equation}\n",
    "\n",
    "where $B$ is the the buckling from elementary reactor theory. It is chosen to be the lowest eigenvalue of Helmholtz equation: $\\nabla^2 \\phi + B^2\\phi = 0$ with $\\phi$ taken to be zero on the extrapolated boundaries. Substituting equation 4 into the transport equation, solving for the angular component of $\\psi$, and then integrating over angle yields the constant values for the fine group scalar fluxes (e.g. independent of position because of our separation of spatial and angular dependence for $\\psi$ in equation 4). These values are then used to compute the coarse group cross sections using equation 3.\n",
    "\n",
    "**So the relevant question is now: what does this have to do with Serpent? How come Serpent 2 reports both *infinite* and *B1* values of cross sections? What are the calculation routines in Monte Carlo for determining these cross sections? Shouldn't Serpent have the continuous energy flux distribution that incorporates the geometry of the reactor and it's impact on neutron leakage??**\n",
    "\n",
    "Here's my understanding of the B1 methodology in Serpent. This comes wholely from *E. Fridman, J. Leppänen / Annals of Nuclear Energy 38 (2011) 1399–1405*:\n",
    "\n",
    "1. Fuel assembly lattice calculations are performed with the Ser-pent code to obtain kinf and micro-group cross sections in WIMS69-group energy structure (IAEA, 2007). It is worth mentioning that all micro-group parameters required for the solution of the B1 equations are directly evaluated by Serpent and constitute a part of its standard output.\n",
    "2. The critical flux and current spectra are then found by solving the B1 equations presented above and iteratively searching the material buckling which yields keff = 1. \n",
    "\n",
    "Here's how I interpret the above: in Serpent, they only model one assembly, and they assume that have an inifinite array of such fuel assemblies, e.g. they impose reflective or periodic boundary conditions on the edges of the single fuel assembly that they are modeling, creating in effect an *inifinite* reactor. If such is the model case, then all the language in the enumerated list makes sense. However, what if the Serpent model is of the *entire core* such that reflective/periodic boundary conditions are not chosen? Then is what Jakko calls $k_{inf}$ really $k_{inf}$? I don't think so.\n",
    "\n",
    "Starting from the one-speed, k-eigenvalue, diffusion equation, one can derive this:\n",
    "\n",
    "\\begin{equation}\n",
    "B_n^2 = \\frac{\\frac{\\nu}{k_n} \\Sigma_f - \\Sigma_a}{D}\n",
    "\\end{equation}\n",
    "\n",
    "where $B_n^2$ is from the Helmholtz equation:\n",
    "\n",
    "\\begin{equation}\n",
    "\\nabla^2 \\phi + B_n^2\\phi = 0 \\quad eq. 5\n",
    "\\end{equation}\n",
    " \n",
    "\n",
    "\n",
    "I would not describe $B_n^2$ in it's above form as independent of either geometry or materials, e.g. I would not call it either geometric or material buckling alone. Clearly there's dependence on material group constants. But there's also dependence on $k$, which will be a function of the reactor dimensions. I don't know, it's enough to make my head spin I suppose. I've always interpreted things straight from the differential equations; there's a clear mathematical context there. So this sentence from Stammler (pg. 357) \"We have two sets of eigenvalues, of which the largest material buckling $B_1^2$, and the smallest geometric buckling $B_{111}^2$, are the only ones with egenvectors (spectrum and shape) that are realizable by themselves\" makes no sense to me. Where in the world are two sets of eigenvalues coming from?? There's only one differential equation!! The buckling eigenvalue above $B_n^2$ is a function entirely of the governing equation boundary conditions, e.g. the only parameters appearing inside of it are geometric."
   ]
  },
  {
   "cell_type": "markdown",
   "metadata": {},
   "source": [
    "# 3/7/17\n",
    "\n",
    "Using `k-eigen-gen-mesh.i`, got:\n",
    "\n",
    "- r = 57; k = 1.0339668424\n",
    "- r = 47; k = 0.9003584822\n",
    "- r = 54; k = 0.9984046880\n",
    "\n",
    "The above employed the \"inifinity\" group constants generated from the serpent input file `msre_homogeneous_critical_question_mark`. Using the B1 group constants from the same input file and changing the dimensions to match the serpent simulation (r = 73.86, H = 192.12), we get:\n",
    "\n",
    "- r = 73.86; k = 1.0260387453\n",
    "\n",
    "One group constants taken from `serpent_simulations.ipynb`:\n",
    "\n",
    "Infinity:\n",
    "\n",
    "- NSF = 3.70441E-3\n",
    "- REMXS = 2.39333E-3\n",
    "- DIFFCOEFF = 6.46163E-1\n",
    "- $k_{\\infty}$ = 1.5478\n",
    "\n",
    "B1:\n",
    "\n",
    "- NSF = 3.67837E-3\n",
    "- REMXS = 2.38026E-3\n",
    "- DIFFCOEFF = 9.85825E-1\n",
    "- $k_{\\infty}$ = 1.5454"
   ]
  },
  {
   "cell_type": "markdown",
   "metadata": {},
   "source": [
    "One can see that the only real difference between the two sets of group constants is that the diffusion coefficient is much higher in the B1 set."
   ]
  },
  {
   "cell_type": "code",
   "execution_count": 1,
   "metadata": {
    "collapsed": false
   },
   "outputs": [
    {
     "data": {
      "text/plain": [
       "1.5478057768882687"
      ]
     },
     "execution_count": 1,
     "metadata": {},
     "output_type": "execute_result"
    }
   ],
   "source": [
    "3.70441E-3 / 2.39333E-3"
   ]
  },
  {
   "cell_type": "code",
   "execution_count": 2,
   "metadata": {
    "collapsed": false
   },
   "outputs": [
    {
     "data": {
      "text/plain": [
       "1.5453647920815372"
      ]
     },
     "execution_count": 2,
     "metadata": {},
     "output_type": "execute_result"
    }
   ],
   "source": [
    "3.67837E-3 / 2.38026E-3"
   ]
  },
  {
   "cell_type": "markdown",
   "metadata": {
    "collapsed": true
   },
   "source": [
    "# 3/9/17\n",
    "\n",
    "`CG_no_temp_eigen.i` uses this property tables root: `full_core_cuboid_msre_comp_fuel_data_func_of_fuel_temp_`. For supplied property tables, calculated **k = 1.1806780876**. Definitely too high. But I know this is using the $\\infty$ diffusion coefficient so I expect the diffusion coefficient to be low, leakage to be low, and consequently $k$ to be high. Now let's see if I can backtrace to what serpent output files those moltres input files were generated from."
   ]
  },
  {
   "cell_type": "markdown",
   "metadata": {},
   "source": [
    "To summarize:\n",
    "\n",
    "### Heterogeneous reactor with MC group constants\n",
    "\n",
    "- 3D simulation\n",
    "- 22x22 square cylinder unit cells\n",
    "    - Inner cylinder radius = 2.54 cm; graphite fill\n",
    "    - Outer cylinder radius = 2.8847 cm; fuel fill\n",
    "- Height = 162.56 cm\n",
    "- fuel property_tables_root = `'../property_file_dir/full_core_cuboid_msre_comp_fuel_data_func_of_fuel_temp_'`\n",
    "- moderator `property_tables_root` = `'../property_file_dir/full_core_cuboid_msre_comp_mod_data_func_of_mod_temp_'`\n",
    "- Simulation temperature = 922 K\n",
    "- k = 1.1806780876 (16 power iterations)\n",
    "- Serpent k at 900 K: 1.00931 (exact same geometry as Moltres)\n",
    "- Serpent k at 950 K: 1.00275 (exact same geometry as Moltres)\n"
   ]
  },
  {
   "cell_type": "markdown",
   "metadata": {},
   "source": [
    "These simulations are garbage because B1 criticality searches make no sense with multiple universes, but just for records sake:\n",
    "\n",
    "B1 group constants (`b1_full_core_cuboid_msre_comp`) with 22x22 msh:\n",
    "\n",
    "- k = .1061\n",
    "\n",
    "B1 group constants (`b1_full_core_cuboid_msre_comp`) with 20x20 msh:\n",
    "\n",
    "- k = .1034"
   ]
  },
  {
   "cell_type": "markdown",
   "metadata": {},
   "source": [
    "### Homogeneous reactor with MC group constants\n",
    "\n",
    "- Homogeneous RZ simulation with 100x100 `GeneratedMesh`\n",
    "- R = 73.86 cm\n",
    "- H = 198.12 cm\n",
    "- property_tables_root = `'../property_file_dir/msre_homogeneous_critical_question_mark_'`\n",
    "- Simulation temperature = 922 K\n",
    "- k = 1.1806890474 (21 power iterations)\n",
    "- Serpent k at 922 K: 1.02379 (exact same geometry as Moltres)"
   ]
  },
  {
   "cell_type": "markdown",
   "metadata": {},
   "source": [
    "Is it a pure coincidence that the two simulations with MC group constants have equivalent $k$'s out to 4 decimal points? The serpent material and geometric definitions are completely different, and consequently so are the Moltres input files. I have to think that it's purely a coincidence... This would be supported by the fact that if I simply change the Moltres radius to 57 cm:\n",
    "\n",
    "- Homogeneous RZ simulation with 100x100 `GeneratedMesh`\n",
    "- R = 57 cm\n",
    "- H = 198.12 cm\n",
    "- property_tables_root = `'../property_file_dir/msre_homogeneous_critical_question_mark_'`\n",
    "- Simulation temperature = 922 K\n",
    "- k = 1.0339668424 (24 power iterations)"
   ]
  },
  {
   "cell_type": "markdown",
   "metadata": {},
   "source": [
    "### Known critical Serpent reactor\n",
    "\n",
    "- Homogeneous RZ simulation with 100x100 `GeneratedMesh`\n",
    "- R = 73.86 cm\n",
    "- H = 180 cm\n",
    "- num\\_groups = 1\n",
    "- property_tables_root = `'../property_file_dir/homo_critical_'`\n",
    "- Simulation temperature = 922 K\n",
    "- k = 1.1420138946 (20 power iterations)\n",
    "- Serpent k at 922 K: 1.00569 (exact same geometry as Moltres)"
   ]
  },
  {
   "cell_type": "markdown",
   "metadata": {},
   "source": [
    "My hypothesis is that it's the diffusion coefficient that's not translating well, because as Jakko says many times in his writing, there's no MC analog for the diffusion coefficient. Next step is to play with Uranium MSR concentrations until I create a $k_{\\infty}$ equal to unity. Then I'm going to impose reflective boundary conditions and run a serpent simulation. Then I'll use the resulting group constants in a Moltres sim. If the diffusion coefficient is the only culprit for the serpent/Moltres discrepancies, then the Moltres sim should have a $k$ roughly equal to the Serpent $k$ and roughly equal to unity."
   ]
  },
  {
   "cell_type": "markdown",
   "metadata": {
    "collapsed": true
   },
   "source": [
    "Note that number of power iterations and the precise eigenvalue depends on the number of processors that the simulation is run on. E.g. if I run the above simulation with 8 Talbot processors, then the number or power iterations is 21 and the eigenvalue has a slightly different value (out at some silly high number of decimal places)"
   ]
  },
  {
   "cell_type": "markdown",
   "metadata": {},
   "source": [
    "# Helpful build commands:\n",
    "\n",
    "See verbose output of make if Makefiles are using the option `silent` or `quiet`:\n",
    "\n",
    "`make SHELL=\"/bin/bash -x\" 2>&1 | tee make.txt`\n",
    "\n",
    "Report any missing objects or functions in shared object:\n",
    "\n",
    "`ldd -r [file]`\n",
    "\n",
    "# Helpful build tips\n",
    "\n",
    "After pulling down new MOOSE or libmesh changes, there's no guarantee (except if using the `update_and_rebuild_libmesh_script` for the latter) that all the source files are going to get rebuilt. This presents an issue if you've changed your environment since last compilation. Old object files may have been compiled with different compilers or linked with different library versions. Thus if the environment has changed, you must recompile any object files created before the environment change.\n",
    "\n",
    "# Set notation\n",
    "\n",
    "This link has a great collection of set-symbols: http://www.rapidtables.com/math/symbols/Set_Symbols.htm\n",
    "\n",
    "A (right-facing U) B\n",
    "The above means that A is a sub-set of B\n",
    "\n",
    "A U B\n",
    "The result of the above is a set that is the union of the sets A and B.\n",
    "\n",
    "A (upside-down U) B\n",
    "Result of above is a set that is the intersection of the sets A and B.\n",
    "\n",
    "Weird v symbol with line through it means \"for all\""
   ]
  },
  {
   "cell_type": "code",
   "execution_count": null,
   "metadata": {
    "collapsed": true
   },
   "outputs": [],
   "source": []
  }
 ],
 "metadata": {
  "kernelspec": {
   "display_name": "Python 3",
   "language": "python",
   "name": "python3"
  },
  "language_info": {
   "codemirror_mode": {
    "name": "ipython",
    "version": 3
   },
   "file_extension": ".py",
   "mimetype": "text/x-python",
   "name": "python",
   "nbconvert_exporter": "python",
   "pygments_lexer": "ipython3",
   "version": "3.6.0"
  }
 },
 "nbformat": 4,
 "nbformat_minor": 1
}
