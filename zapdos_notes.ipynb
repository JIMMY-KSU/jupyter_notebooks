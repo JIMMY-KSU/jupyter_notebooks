{
 "cells": [
  {
   "cell_type": "markdown",
   "metadata": {},
   "source": [
    "# 3/22/17"
   ]
  },
  {
   "cell_type": "code",
   "execution_count": 1,
   "metadata": {
    "collapsed": false
   },
   "outputs": [
    {
     "name": "stdout",
     "output_type": "stream",
     "text": [
      "/home/lindsayad/projects/zapdos/problems\n"
     ]
    }
   ],
   "source": [
    "cd ~/projects/zapdos/problems"
   ]
  },
  {
   "cell_type": "code",
   "execution_count": 2,
   "metadata": {
    "collapsed": true
   },
   "outputs": [],
   "source": [
    "import yt\n",
    "ds = yt.load(\"shape_side_uo_physics_test_out.e\", step=-1)\n",
    "ad = ds.all_data()"
   ]
  },
  {
   "cell_type": "code",
   "execution_count": 3,
   "metadata": {
    "collapsed": true
   },
   "outputs": [],
   "source": [
    "sigma_mat = ad[('all','sigma')]"
   ]
  },
  {
   "cell_type": "code",
   "execution_count": 4,
   "metadata": {
    "collapsed": true
   },
   "outputs": [],
   "source": [
    "sigma_aux = ad[('all', 'sigma_aux')]"
   ]
  },
  {
   "cell_type": "code",
   "execution_count": 5,
   "metadata": {
    "collapsed": false
   },
   "outputs": [
    {
     "name": "stdout",
     "output_type": "stream",
     "text": [
      "-0.45977878967135954 dimensionless\n",
      "1.09966589224996 dimensionless\n",
      "-0.45977878967135966 dimensionless\n",
      "1.09966589224996 dimensionless\n"
     ]
    }
   ],
   "source": [
    "print(sigma_mat.min())\n",
    "print(sigma_mat.max())\n",
    "print(sigma_aux.min())\n",
    "print(sigma_aux.max())"
   ]
  },
  {
   "cell_type": "markdown",
   "metadata": {
    "collapsed": true
   },
   "source": [
    "# 4/3/17"
   ]
  },
  {
   "cell_type": "code",
   "execution_count": 1,
   "metadata": {
    "collapsed": false
   },
   "outputs": [
    {
     "name": "stdout",
     "output_type": "stream",
     "text": [
      "/home/lindsayad/projects/zapdos/tests/TM10_circular_wg/gold\n"
     ]
    }
   ],
   "source": [
    "cd ~/projects/zapdos/tests/TM10_circular_wg/gold/"
   ]
  },
  {
   "cell_type": "code",
   "execution_count": 7,
   "metadata": {
    "collapsed": true
   },
   "outputs": [],
   "source": [
    "from matplotlib import rc\n",
    "rc('font',**{'family':'serif'})\n",
    "rc('text', usetex=True)"
   ]
  },
  {
   "cell_type": "code",
   "execution_count": 2,
   "metadata": {
    "collapsed": true
   },
   "outputs": [],
   "source": [
    "import yt\n",
    "ds = yt.load(\"TM_steady_out.e\", step=-1)\n",
    "ad = ds.all_data()"
   ]
  },
  {
   "cell_type": "code",
   "execution_count": 8,
   "metadata": {
    "collapsed": false
   },
   "outputs": [
    {
     "data": {
      "text/plain": [
       "[('all', 'Electric_z'),\n",
       " ('all', 'Er'),\n",
       " ('all', 'Hphi'),\n",
       " ('all', 'Hphi_mag'),\n",
       " ('connect1', 'Electric_z'),\n",
       " ('connect1', 'Er'),\n",
       " ('connect1', 'Hphi'),\n",
       " ('connect1', 'Hphi_mag')]"
      ]
     },
     "execution_count": 8,
     "metadata": {},
     "output_type": "execute_result"
    }
   ],
   "source": [
    "ds.field_list"
   ]
  },
  {
   "cell_type": "code",
   "execution_count": 9,
   "metadata": {
    "collapsed": true
   },
   "outputs": [],
   "source": [
    "field_list = [('all', 'Er'), ('all', 'Electric_z'), ('all', 'Hphi')]\n",
    "field_label = {'Er' : 'Er (V/m)', 'Electric_z' : 'Ez (V/m)', 'Hphi' : 'Hphi (A/m)'}"
   ]
  },
  {
   "cell_type": "code",
   "execution_count": 10,
   "metadata": {
    "collapsed": false
   },
   "outputs": [],
   "source": [
    "for field in field_list:\n",
    "    field_type, field_name = field\n",
    "    slc = yt.SlicePlot(ds, 'z', field)\n",
    "    slc.set_log(field, False)\n",
    "    slc.set_xlabel(\"r (mm)\")\n",
    "    slc.set_ylabel(\"z (mm)\")\n",
    "    slc.set_colorbar_label(field, field_label[field_name])\n",
    "    slc.set_figure_size(1.2)\n",
    "    slc.set_width((.015, .09))\n",
    "    slc.save(\"/home/lindsayad/Pictures/\" + field_name + \".png\")"
   ]
  },
  {
   "cell_type": "code",
   "execution_count": 3,
   "metadata": {
    "collapsed": false
   },
   "outputs": [
    {
     "name": "stdout",
     "output_type": "stream",
     "text": [
      "432\n",
      "440\n",
      "496\n"
     ]
    }
   ],
   "source": [
    "def f(x,y):\n",
    "    return x**3 + 2 * y**3\n",
    "\n",
    "print(f(0,6))\n",
    "print(f(2, 6))\n",
    "print(f(4, 6))"
   ]
  },
  {
   "cell_type": "code",
   "execution_count": 4,
   "metadata": {
    "collapsed": false
   },
   "outputs": [
    {
     "data": {
      "text/plain": [
       "216"
      ]
     },
     "execution_count": 4,
     "metadata": {},
     "output_type": "execute_result"
    }
   ],
   "source": [
    "6*6**2"
   ]
  },
  {
   "cell_type": "code",
   "execution_count": 5,
   "metadata": {
    "collapsed": false
   },
   "outputs": [
    {
     "data": {
      "text/plain": [
       "96"
      ]
     },
     "execution_count": 5,
     "metadata": {},
     "output_type": "execute_result"
    }
   ],
   "source": [
    "6*4**2"
   ]
  },
  {
   "cell_type": "code",
   "execution_count": 2,
   "metadata": {
    "collapsed": false
   },
   "outputs": [
    {
     "name": "stderr",
     "output_type": "stream",
     "text": [
      "/home/lindsayad/miniconda3/lib/python3.6/site-packages/matplotlib/font_manager.py:1297: UserWarning: findfont: Font family ['serif'] not found. Falling back to DejaVu Sans\n",
      "  (prop.get_family(), self.defaultFamily[fontext]))\n"
     ]
    }
   ],
   "source": [
    "import yt\n",
    "ds = yt.load(\"/home/lindsayad/projects/zapdos/tests/TM10_circular_wg/gold/TM_steady_out.e\", step=-1)\n",
    "ad = ds.all_data()\n",
    "\n",
    "from matplotlib import rcParams\n",
    "rcParams['font.family'] = 'serif'\n",
    "rcParams['font.size'] = 17\n",
    "rcParams['font.serif'] = ['Computer Modern Roman']\n",
    "# rcParams['text.usetex'] = True\n",
    "\n",
    "field_list = [('all', 'Er'), ('all', 'Electric_z'), ('all', 'Hphi')]\n",
    "field_label = {'Er' : r'E$_r$ (V/m)', 'Electric_z' : 'E$_z$ (V/m)', 'Hphi' : 'H$_\\phi$ (A/m)'}\n",
    "\n",
    "for field in field_list:\n",
    "# field = field_list[0]\n",
    "    field_type, field_name = field\n",
    "    slc = yt.SlicePlot(ds, 'z', field)\n",
    "    slc.set_log(field, False)\n",
    "    slc.set_xlabel(\"r (mm)\")\n",
    "    slc.set_ylabel(\"z (mm)\")\n",
    "    slc.set_colorbar_label(field, field_label[field_name])\n",
    "    slc.set_figure_size(1.2)\n",
    "    slc.set_width((.015, .09))\n",
    "#     slc.show()\n",
    "    slc.save(\"/home/lindsayad/Pictures/tex\" + field_name + \".png\")"
   ]
  },
  {
   "cell_type": "code",
   "execution_count": 12,
   "metadata": {
    "collapsed": false
   },
   "outputs": [
    {
     "name": "stdout",
     "output_type": "stream",
     "text": [
      "> \u001b[0;32m/home/lindsayad/miniconda3/lib/python3.6/site-packages/matplotlib/texmanager.py\u001b[0m(320)\u001b[0;36mmake_tex\u001b[0;34m()\u001b[0m\n",
      "\u001b[0;32m    318 \u001b[0;31m                                       \u001b[0;34m\"'text.latex.unicode' rcParam.\"\u001b[0m\u001b[0;34m,\u001b[0m\u001b[0;34m\u001b[0m\u001b[0m\n",
      "\u001b[0m\u001b[0;32m    319 \u001b[0;31m                                       'helpful')\n",
      "\u001b[0m\u001b[0;32m--> 320 \u001b[0;31m                    \u001b[0;32mraise\u001b[0m\u001b[0;34m\u001b[0m\u001b[0m\n",
      "\u001b[0m\u001b[0;32m    321 \u001b[0;31m\u001b[0;34m\u001b[0m\u001b[0m\n",
      "\u001b[0m\u001b[0;32m    322 \u001b[0;31m        \u001b[0;32mreturn\u001b[0m \u001b[0mtexfile\u001b[0m\u001b[0;34m\u001b[0m\u001b[0m\n",
      "\u001b[0m\n",
      "ipdb> p s\n",
      "'\\\\documentclass{article}\\n\\\\usepackage{type1cm}\\n\\\\renewcommand{\\\\rmdefault}{pnc}\\n\\\\usepackage{helvet}\\n\\\\usepackage{courier}\\n\\\\usepackage{textcomp}\\n\\n\\n\\\\usepackage[papersize={72in,72in},body={70in,70in},margin={1in,1in}]{geometry}\\n\\\\pagestyle{empty}\\n\\\\begin{document}\\n\\\\fontsize{18.000000}{22.500000}{\\\\sffamily $−50$}\\n\\\\end{document}\\n'\n",
      "ipdb> quit\n"
     ]
    }
   ],
   "source": [
    "%debug"
   ]
  },
  {
   "cell_type": "code",
   "execution_count": 3,
   "metadata": {
    "collapsed": true
   },
   "outputs": [],
   "source": [
    "import matplotlib.pyplot as plt\n",
    "plt.rc('font', family='serif')"
   ]
  },
  {
   "cell_type": "code",
   "execution_count": 4,
   "metadata": {
    "collapsed": false
   },
   "outputs": [
    {
     "name": "stderr",
     "output_type": "stream",
     "text": [
      "/home/lindsayad/miniconda3/lib/python3.6/site-packages/matplotlib/font_manager.py:1297: UserWarning: findfont: Font family ['serif'] not found. Falling back to DejaVu Sans\n",
      "  (prop.get_family(), self.defaultFamily[fontext]))\n",
      "/home/lindsayad/miniconda3/lib/python3.6/site-packages/matplotlib/font_manager.py:1297: UserWarning: findfont: Font family ['serif'] not found. Falling back to DejaVu Sans\n",
      "  (prop.get_family(), self.defaultFamily[fontext]))\n"
     ]
    },
    {
     "ename": "ValueError",
     "evalue": "\n\\displaystyle\\sum_{n=1}^\\infty\\frac{-e^{i\\pi}}{2^n}\n^\nUnknown symbol: \\displaystyle (at char 0), (line:1, col:1)",
     "output_type": "error",
     "traceback": [
      "\u001b[0;31m---------------------------------------------------------------------------\u001b[0m",
      "\u001b[0;31mParseFatalException\u001b[0m                       Traceback (most recent call last)",
      "\u001b[0;32m/home/lindsayad/miniconda3/lib/python3.6/site-packages/matplotlib/mathtext.py\u001b[0m in \u001b[0;36mparse\u001b[0;34m(self, s, fonts_object, fontsize, dpi)\u001b[0m\n\u001b[1;32m   2516\u001b[0m         \u001b[0;32mtry\u001b[0m\u001b[0;34m:\u001b[0m\u001b[0;34m\u001b[0m\u001b[0m\n\u001b[0;32m-> 2517\u001b[0;31m             \u001b[0mresult\u001b[0m \u001b[0;34m=\u001b[0m \u001b[0mself\u001b[0m\u001b[0;34m.\u001b[0m\u001b[0m_expression\u001b[0m\u001b[0;34m.\u001b[0m\u001b[0mparseString\u001b[0m\u001b[0;34m(\u001b[0m\u001b[0ms\u001b[0m\u001b[0;34m)\u001b[0m\u001b[0;34m\u001b[0m\u001b[0m\n\u001b[0m\u001b[1;32m   2518\u001b[0m         \u001b[0;32mexcept\u001b[0m \u001b[0mParseBaseException\u001b[0m \u001b[0;32mas\u001b[0m \u001b[0merr\u001b[0m\u001b[0;34m:\u001b[0m\u001b[0;34m\u001b[0m\u001b[0m\n",
      "\u001b[0;32m/home/lindsayad/miniconda3/lib/python3.6/site-packages/pyparsing.py\u001b[0m in \u001b[0;36mparseString\u001b[0;34m(self, instring, parseAll)\u001b[0m\n\u001b[1;32m   1215\u001b[0m                 \u001b[0;31m# catch and re-raise exception from here, clears out pyparsing internal stack trace\u001b[0m\u001b[0;34m\u001b[0m\u001b[0;34m\u001b[0m\u001b[0m\n\u001b[0;32m-> 1216\u001b[0;31m                 \u001b[0;32mraise\u001b[0m \u001b[0mexc\u001b[0m\u001b[0;34m\u001b[0m\u001b[0m\n\u001b[0m\u001b[1;32m   1217\u001b[0m         \u001b[0;32melse\u001b[0m\u001b[0;34m:\u001b[0m\u001b[0;34m\u001b[0m\u001b[0m\n",
      "\u001b[0;32m/home/lindsayad/miniconda3/lib/python3.6/site-packages/pyparsing.py\u001b[0m in \u001b[0;36mparseString\u001b[0;34m(self, instring, parseAll)\u001b[0m\n\u001b[1;32m   1205\u001b[0m         \u001b[0;32mtry\u001b[0m\u001b[0;34m:\u001b[0m\u001b[0;34m\u001b[0m\u001b[0m\n\u001b[0;32m-> 1206\u001b[0;31m             \u001b[0mloc\u001b[0m\u001b[0;34m,\u001b[0m \u001b[0mtokens\u001b[0m \u001b[0;34m=\u001b[0m \u001b[0mself\u001b[0m\u001b[0;34m.\u001b[0m\u001b[0m_parse\u001b[0m\u001b[0;34m(\u001b[0m \u001b[0minstring\u001b[0m\u001b[0;34m,\u001b[0m \u001b[0;36m0\u001b[0m \u001b[0;34m)\u001b[0m\u001b[0;34m\u001b[0m\u001b[0m\n\u001b[0m\u001b[1;32m   1207\u001b[0m             \u001b[0;32mif\u001b[0m \u001b[0mparseAll\u001b[0m\u001b[0;34m:\u001b[0m\u001b[0;34m\u001b[0m\u001b[0m\n",
      "\u001b[0;32m/home/lindsayad/miniconda3/lib/python3.6/site-packages/pyparsing.py\u001b[0m in \u001b[0;36m_parseCache\u001b[0;34m(self, instring, loc, doActions, callPreParse)\u001b[0m\n\u001b[1;32m   1136\u001b[0m             \u001b[0;32mtry\u001b[0m\u001b[0;34m:\u001b[0m\u001b[0;34m\u001b[0m\u001b[0m\n\u001b[0;32m-> 1137\u001b[0;31m                 \u001b[0mvalue\u001b[0m \u001b[0;34m=\u001b[0m \u001b[0mself\u001b[0m\u001b[0;34m.\u001b[0m\u001b[0m_parseNoCache\u001b[0m\u001b[0;34m(\u001b[0m \u001b[0minstring\u001b[0m\u001b[0;34m,\u001b[0m \u001b[0mloc\u001b[0m\u001b[0;34m,\u001b[0m \u001b[0mdoActions\u001b[0m\u001b[0;34m,\u001b[0m \u001b[0mcallPreParse\u001b[0m \u001b[0;34m)\u001b[0m\u001b[0;34m\u001b[0m\u001b[0m\n\u001b[0m\u001b[1;32m   1138\u001b[0m                 \u001b[0mParserElement\u001b[0m\u001b[0;34m.\u001b[0m\u001b[0m_exprArgCache\u001b[0m\u001b[0;34m[\u001b[0m \u001b[0mlookup\u001b[0m \u001b[0;34m]\u001b[0m \u001b[0;34m=\u001b[0m \u001b[0;34m(\u001b[0m\u001b[0mvalue\u001b[0m\u001b[0;34m[\u001b[0m\u001b[0;36m0\u001b[0m\u001b[0;34m]\u001b[0m\u001b[0;34m,\u001b[0m\u001b[0mvalue\u001b[0m\u001b[0;34m[\u001b[0m\u001b[0;36m1\u001b[0m\u001b[0;34m]\u001b[0m\u001b[0;34m.\u001b[0m\u001b[0mcopy\u001b[0m\u001b[0;34m(\u001b[0m\u001b[0;34m)\u001b[0m\u001b[0;34m)\u001b[0m\u001b[0;34m\u001b[0m\u001b[0m\n",
      "\u001b[0;32m/home/lindsayad/miniconda3/lib/python3.6/site-packages/pyparsing.py\u001b[0m in \u001b[0;36m_parseNoCache\u001b[0;34m(self, instring, loc, doActions, callPreParse)\u001b[0m\n\u001b[1;32m   1071\u001b[0m                 \u001b[0;32mtry\u001b[0m\u001b[0;34m:\u001b[0m\u001b[0;34m\u001b[0m\u001b[0m\n\u001b[0;32m-> 1072\u001b[0;31m                     \u001b[0mloc\u001b[0m\u001b[0;34m,\u001b[0m\u001b[0mtokens\u001b[0m \u001b[0;34m=\u001b[0m \u001b[0mself\u001b[0m\u001b[0;34m.\u001b[0m\u001b[0mparseImpl\u001b[0m\u001b[0;34m(\u001b[0m \u001b[0minstring\u001b[0m\u001b[0;34m,\u001b[0m \u001b[0mpreloc\u001b[0m\u001b[0;34m,\u001b[0m \u001b[0mdoActions\u001b[0m \u001b[0;34m)\u001b[0m\u001b[0;34m\u001b[0m\u001b[0m\n\u001b[0m\u001b[1;32m   1073\u001b[0m                 \u001b[0;32mexcept\u001b[0m \u001b[0mIndexError\u001b[0m\u001b[0;34m:\u001b[0m\u001b[0;34m\u001b[0m\u001b[0m\n",
      "\u001b[0;32m/home/lindsayad/miniconda3/lib/python3.6/site-packages/pyparsing.py\u001b[0m in \u001b[0;36mparseImpl\u001b[0;34m(self, instring, loc, doActions)\u001b[0m\n\u001b[1;32m   2800\u001b[0m         \u001b[0;32mif\u001b[0m \u001b[0mself\u001b[0m\u001b[0;34m.\u001b[0m\u001b[0mexpr\u001b[0m \u001b[0;32mis\u001b[0m \u001b[0;32mnot\u001b[0m \u001b[0;32mNone\u001b[0m\u001b[0;34m:\u001b[0m\u001b[0;34m\u001b[0m\u001b[0m\n\u001b[0;32m-> 2801\u001b[0;31m             \u001b[0;32mreturn\u001b[0m \u001b[0mself\u001b[0m\u001b[0;34m.\u001b[0m\u001b[0mexpr\u001b[0m\u001b[0;34m.\u001b[0m\u001b[0m_parse\u001b[0m\u001b[0;34m(\u001b[0m \u001b[0minstring\u001b[0m\u001b[0;34m,\u001b[0m \u001b[0mloc\u001b[0m\u001b[0;34m,\u001b[0m \u001b[0mdoActions\u001b[0m\u001b[0;34m,\u001b[0m \u001b[0mcallPreParse\u001b[0m\u001b[0;34m=\u001b[0m\u001b[0;32mFalse\u001b[0m \u001b[0;34m)\u001b[0m\u001b[0;34m\u001b[0m\u001b[0m\n\u001b[0m\u001b[1;32m   2802\u001b[0m         \u001b[0;32melse\u001b[0m\u001b[0;34m:\u001b[0m\u001b[0;34m\u001b[0m\u001b[0m\n",
      "\u001b[0;32m/home/lindsayad/miniconda3/lib/python3.6/site-packages/pyparsing.py\u001b[0m in \u001b[0;36m_parseCache\u001b[0;34m(self, instring, loc, doActions, callPreParse)\u001b[0m\n\u001b[1;32m   1136\u001b[0m             \u001b[0;32mtry\u001b[0m\u001b[0;34m:\u001b[0m\u001b[0;34m\u001b[0m\u001b[0m\n\u001b[0;32m-> 1137\u001b[0;31m                 \u001b[0mvalue\u001b[0m \u001b[0;34m=\u001b[0m \u001b[0mself\u001b[0m\u001b[0;34m.\u001b[0m\u001b[0m_parseNoCache\u001b[0m\u001b[0;34m(\u001b[0m \u001b[0minstring\u001b[0m\u001b[0;34m,\u001b[0m \u001b[0mloc\u001b[0m\u001b[0;34m,\u001b[0m \u001b[0mdoActions\u001b[0m\u001b[0;34m,\u001b[0m \u001b[0mcallPreParse\u001b[0m \u001b[0;34m)\u001b[0m\u001b[0;34m\u001b[0m\u001b[0m\n\u001b[0m\u001b[1;32m   1138\u001b[0m                 \u001b[0mParserElement\u001b[0m\u001b[0;34m.\u001b[0m\u001b[0m_exprArgCache\u001b[0m\u001b[0;34m[\u001b[0m \u001b[0mlookup\u001b[0m \u001b[0;34m]\u001b[0m \u001b[0;34m=\u001b[0m \u001b[0;34m(\u001b[0m\u001b[0mvalue\u001b[0m\u001b[0;34m[\u001b[0m\u001b[0;36m0\u001b[0m\u001b[0;34m]\u001b[0m\u001b[0;34m,\u001b[0m\u001b[0mvalue\u001b[0m\u001b[0;34m[\u001b[0m\u001b[0;36m1\u001b[0m\u001b[0;34m]\u001b[0m\u001b[0;34m.\u001b[0m\u001b[0mcopy\u001b[0m\u001b[0;34m(\u001b[0m\u001b[0;34m)\u001b[0m\u001b[0;34m)\u001b[0m\u001b[0;34m\u001b[0m\u001b[0m\n",
      "\u001b[0;32m/home/lindsayad/miniconda3/lib/python3.6/site-packages/pyparsing.py\u001b[0m in \u001b[0;36m_parseNoCache\u001b[0;34m(self, instring, loc, doActions, callPreParse)\u001b[0m\n\u001b[1;32m   1071\u001b[0m                 \u001b[0;32mtry\u001b[0m\u001b[0;34m:\u001b[0m\u001b[0;34m\u001b[0m\u001b[0m\n\u001b[0;32m-> 1072\u001b[0;31m                     \u001b[0mloc\u001b[0m\u001b[0;34m,\u001b[0m\u001b[0mtokens\u001b[0m \u001b[0;34m=\u001b[0m \u001b[0mself\u001b[0m\u001b[0;34m.\u001b[0m\u001b[0mparseImpl\u001b[0m\u001b[0;34m(\u001b[0m \u001b[0minstring\u001b[0m\u001b[0;34m,\u001b[0m \u001b[0mpreloc\u001b[0m\u001b[0;34m,\u001b[0m \u001b[0mdoActions\u001b[0m \u001b[0;34m)\u001b[0m\u001b[0;34m\u001b[0m\u001b[0m\n\u001b[0m\u001b[1;32m   1073\u001b[0m                 \u001b[0;32mexcept\u001b[0m \u001b[0mIndexError\u001b[0m\u001b[0;34m:\u001b[0m\u001b[0;34m\u001b[0m\u001b[0m\n",
      "\u001b[0;32m/home/lindsayad/miniconda3/lib/python3.6/site-packages/pyparsing.py\u001b[0m in \u001b[0;36mparseImpl\u001b[0;34m(self, instring, loc, doActions)\u001b[0m\n\u001b[1;32m   2543\u001b[0m             \u001b[0;32melse\u001b[0m\u001b[0;34m:\u001b[0m\u001b[0;34m\u001b[0m\u001b[0m\n\u001b[0;32m-> 2544\u001b[0;31m                 \u001b[0mloc\u001b[0m\u001b[0;34m,\u001b[0m \u001b[0mexprtokens\u001b[0m \u001b[0;34m=\u001b[0m \u001b[0me\u001b[0m\u001b[0;34m.\u001b[0m\u001b[0m_parse\u001b[0m\u001b[0;34m(\u001b[0m \u001b[0minstring\u001b[0m\u001b[0;34m,\u001b[0m \u001b[0mloc\u001b[0m\u001b[0;34m,\u001b[0m \u001b[0mdoActions\u001b[0m \u001b[0;34m)\u001b[0m\u001b[0;34m\u001b[0m\u001b[0m\n\u001b[0m\u001b[1;32m   2545\u001b[0m             \u001b[0;32mif\u001b[0m \u001b[0mexprtokens\u001b[0m \u001b[0;32mor\u001b[0m \u001b[0mexprtokens\u001b[0m\u001b[0;34m.\u001b[0m\u001b[0mhaskeys\u001b[0m\u001b[0;34m(\u001b[0m\u001b[0;34m)\u001b[0m\u001b[0;34m:\u001b[0m\u001b[0;34m\u001b[0m\u001b[0m\n",
      "\u001b[0;32m/home/lindsayad/miniconda3/lib/python3.6/site-packages/pyparsing.py\u001b[0m in \u001b[0;36m_parseCache\u001b[0;34m(self, instring, loc, doActions, callPreParse)\u001b[0m\n\u001b[1;32m   1136\u001b[0m             \u001b[0;32mtry\u001b[0m\u001b[0;34m:\u001b[0m\u001b[0;34m\u001b[0m\u001b[0m\n\u001b[0;32m-> 1137\u001b[0;31m                 \u001b[0mvalue\u001b[0m \u001b[0;34m=\u001b[0m \u001b[0mself\u001b[0m\u001b[0;34m.\u001b[0m\u001b[0m_parseNoCache\u001b[0m\u001b[0;34m(\u001b[0m \u001b[0minstring\u001b[0m\u001b[0;34m,\u001b[0m \u001b[0mloc\u001b[0m\u001b[0;34m,\u001b[0m \u001b[0mdoActions\u001b[0m\u001b[0;34m,\u001b[0m \u001b[0mcallPreParse\u001b[0m \u001b[0;34m)\u001b[0m\u001b[0;34m\u001b[0m\u001b[0m\n\u001b[0m\u001b[1;32m   1138\u001b[0m                 \u001b[0mParserElement\u001b[0m\u001b[0;34m.\u001b[0m\u001b[0m_exprArgCache\u001b[0m\u001b[0;34m[\u001b[0m \u001b[0mlookup\u001b[0m \u001b[0;34m]\u001b[0m \u001b[0;34m=\u001b[0m \u001b[0;34m(\u001b[0m\u001b[0mvalue\u001b[0m\u001b[0;34m[\u001b[0m\u001b[0;36m0\u001b[0m\u001b[0;34m]\u001b[0m\u001b[0;34m,\u001b[0m\u001b[0mvalue\u001b[0m\u001b[0;34m[\u001b[0m\u001b[0;36m1\u001b[0m\u001b[0;34m]\u001b[0m\u001b[0;34m.\u001b[0m\u001b[0mcopy\u001b[0m\u001b[0;34m(\u001b[0m\u001b[0;34m)\u001b[0m\u001b[0;34m)\u001b[0m\u001b[0;34m\u001b[0m\u001b[0m\n",
      "\u001b[0;32m/home/lindsayad/miniconda3/lib/python3.6/site-packages/pyparsing.py\u001b[0m in \u001b[0;36m_parseNoCache\u001b[0;34m(self, instring, loc, doActions, callPreParse)\u001b[0m\n\u001b[1;32m   1071\u001b[0m                 \u001b[0;32mtry\u001b[0m\u001b[0;34m:\u001b[0m\u001b[0;34m\u001b[0m\u001b[0m\n\u001b[0;32m-> 1072\u001b[0;31m                     \u001b[0mloc\u001b[0m\u001b[0;34m,\u001b[0m\u001b[0mtokens\u001b[0m \u001b[0;34m=\u001b[0m \u001b[0mself\u001b[0m\u001b[0;34m.\u001b[0m\u001b[0mparseImpl\u001b[0m\u001b[0;34m(\u001b[0m \u001b[0minstring\u001b[0m\u001b[0;34m,\u001b[0m \u001b[0mpreloc\u001b[0m\u001b[0;34m,\u001b[0m \u001b[0mdoActions\u001b[0m \u001b[0;34m)\u001b[0m\u001b[0;34m\u001b[0m\u001b[0m\n\u001b[0m\u001b[1;32m   1073\u001b[0m                 \u001b[0;32mexcept\u001b[0m \u001b[0mIndexError\u001b[0m\u001b[0;34m:\u001b[0m\u001b[0;34m\u001b[0m\u001b[0m\n",
      "\u001b[0;32m/home/lindsayad/miniconda3/lib/python3.6/site-packages/pyparsing.py\u001b[0m in \u001b[0;36mparseImpl\u001b[0;34m(self, instring, loc, doActions)\u001b[0m\n\u001b[1;32m   2969\u001b[0m         \u001b[0;32mtry\u001b[0m\u001b[0;34m:\u001b[0m\u001b[0;34m\u001b[0m\u001b[0m\n\u001b[0;32m-> 2970\u001b[0;31m             \u001b[0;32mreturn\u001b[0m \u001b[0msuper\u001b[0m\u001b[0;34m(\u001b[0m\u001b[0mZeroOrMore\u001b[0m\u001b[0;34m,\u001b[0m \u001b[0mself\u001b[0m\u001b[0;34m)\u001b[0m\u001b[0;34m.\u001b[0m\u001b[0mparseImpl\u001b[0m\u001b[0;34m(\u001b[0m\u001b[0minstring\u001b[0m\u001b[0;34m,\u001b[0m \u001b[0mloc\u001b[0m\u001b[0;34m,\u001b[0m \u001b[0mdoActions\u001b[0m\u001b[0;34m)\u001b[0m\u001b[0;34m\u001b[0m\u001b[0m\n\u001b[0m\u001b[1;32m   2971\u001b[0m         \u001b[0;32mexcept\u001b[0m \u001b[0;34m(\u001b[0m\u001b[0mParseException\u001b[0m\u001b[0;34m,\u001b[0m\u001b[0mIndexError\u001b[0m\u001b[0;34m)\u001b[0m\u001b[0;34m:\u001b[0m\u001b[0;34m\u001b[0m\u001b[0m\n",
      "\u001b[0;32m/home/lindsayad/miniconda3/lib/python3.6/site-packages/pyparsing.py\u001b[0m in \u001b[0;36mparseImpl\u001b[0;34m(self, instring, loc, doActions)\u001b[0m\n\u001b[1;32m   2922\u001b[0m             \u001b[0mtry_not_ender\u001b[0m\u001b[0;34m(\u001b[0m\u001b[0minstring\u001b[0m\u001b[0;34m,\u001b[0m \u001b[0mloc\u001b[0m\u001b[0;34m)\u001b[0m\u001b[0;34m\u001b[0m\u001b[0m\n\u001b[0;32m-> 2923\u001b[0;31m         \u001b[0mloc\u001b[0m\u001b[0;34m,\u001b[0m \u001b[0mtokens\u001b[0m \u001b[0;34m=\u001b[0m \u001b[0mself_expr_parse\u001b[0m\u001b[0;34m(\u001b[0m \u001b[0minstring\u001b[0m\u001b[0;34m,\u001b[0m \u001b[0mloc\u001b[0m\u001b[0;34m,\u001b[0m \u001b[0mdoActions\u001b[0m\u001b[0;34m,\u001b[0m \u001b[0mcallPreParse\u001b[0m\u001b[0;34m=\u001b[0m\u001b[0;32mFalse\u001b[0m \u001b[0;34m)\u001b[0m\u001b[0;34m\u001b[0m\u001b[0m\n\u001b[0m\u001b[1;32m   2924\u001b[0m         \u001b[0;32mtry\u001b[0m\u001b[0;34m:\u001b[0m\u001b[0;34m\u001b[0m\u001b[0m\n",
      "\u001b[0;32m/home/lindsayad/miniconda3/lib/python3.6/site-packages/pyparsing.py\u001b[0m in \u001b[0;36m_parseCache\u001b[0;34m(self, instring, loc, doActions, callPreParse)\u001b[0m\n\u001b[1;32m   1136\u001b[0m             \u001b[0;32mtry\u001b[0m\u001b[0;34m:\u001b[0m\u001b[0;34m\u001b[0m\u001b[0m\n\u001b[0;32m-> 1137\u001b[0;31m                 \u001b[0mvalue\u001b[0m \u001b[0;34m=\u001b[0m \u001b[0mself\u001b[0m\u001b[0;34m.\u001b[0m\u001b[0m_parseNoCache\u001b[0m\u001b[0;34m(\u001b[0m \u001b[0minstring\u001b[0m\u001b[0;34m,\u001b[0m \u001b[0mloc\u001b[0m\u001b[0;34m,\u001b[0m \u001b[0mdoActions\u001b[0m\u001b[0;34m,\u001b[0m \u001b[0mcallPreParse\u001b[0m \u001b[0;34m)\u001b[0m\u001b[0;34m\u001b[0m\u001b[0m\n\u001b[0m\u001b[1;32m   1138\u001b[0m                 \u001b[0mParserElement\u001b[0m\u001b[0;34m.\u001b[0m\u001b[0m_exprArgCache\u001b[0m\u001b[0;34m[\u001b[0m \u001b[0mlookup\u001b[0m \u001b[0;34m]\u001b[0m \u001b[0;34m=\u001b[0m \u001b[0;34m(\u001b[0m\u001b[0mvalue\u001b[0m\u001b[0;34m[\u001b[0m\u001b[0;36m0\u001b[0m\u001b[0;34m]\u001b[0m\u001b[0;34m,\u001b[0m\u001b[0mvalue\u001b[0m\u001b[0;34m[\u001b[0m\u001b[0;36m1\u001b[0m\u001b[0;34m]\u001b[0m\u001b[0;34m.\u001b[0m\u001b[0mcopy\u001b[0m\u001b[0;34m(\u001b[0m\u001b[0;34m)\u001b[0m\u001b[0;34m)\u001b[0m\u001b[0;34m\u001b[0m\u001b[0m\n",
      "\u001b[0;32m/home/lindsayad/miniconda3/lib/python3.6/site-packages/pyparsing.py\u001b[0m in \u001b[0;36m_parseNoCache\u001b[0;34m(self, instring, loc, doActions, callPreParse)\u001b[0m\n\u001b[1;32m   1071\u001b[0m                 \u001b[0;32mtry\u001b[0m\u001b[0;34m:\u001b[0m\u001b[0;34m\u001b[0m\u001b[0m\n\u001b[0;32m-> 1072\u001b[0;31m                     \u001b[0mloc\u001b[0m\u001b[0;34m,\u001b[0m\u001b[0mtokens\u001b[0m \u001b[0;34m=\u001b[0m \u001b[0mself\u001b[0m\u001b[0;34m.\u001b[0m\u001b[0mparseImpl\u001b[0m\u001b[0;34m(\u001b[0m \u001b[0minstring\u001b[0m\u001b[0;34m,\u001b[0m \u001b[0mpreloc\u001b[0m\u001b[0;34m,\u001b[0m \u001b[0mdoActions\u001b[0m \u001b[0;34m)\u001b[0m\u001b[0;34m\u001b[0m\u001b[0m\n\u001b[0m\u001b[1;32m   1073\u001b[0m                 \u001b[0;32mexcept\u001b[0m \u001b[0mIndexError\u001b[0m\u001b[0;34m:\u001b[0m\u001b[0;34m\u001b[0m\u001b[0m\n",
      "\u001b[0;32m/home/lindsayad/miniconda3/lib/python3.6/site-packages/pyparsing.py\u001b[0m in \u001b[0;36mparseImpl\u001b[0;34m(self, instring, loc, doActions)\u001b[0m\n\u001b[1;32m   2526\u001b[0m         \u001b[0;31m# pre-parsed the string as part of our And pre-parsing\u001b[0m\u001b[0;34m\u001b[0m\u001b[0;34m\u001b[0m\u001b[0m\n\u001b[0;32m-> 2527\u001b[0;31m         \u001b[0mloc\u001b[0m\u001b[0;34m,\u001b[0m \u001b[0mresultlist\u001b[0m \u001b[0;34m=\u001b[0m \u001b[0mself\u001b[0m\u001b[0;34m.\u001b[0m\u001b[0mexprs\u001b[0m\u001b[0;34m[\u001b[0m\u001b[0;36m0\u001b[0m\u001b[0;34m]\u001b[0m\u001b[0;34m.\u001b[0m\u001b[0m_parse\u001b[0m\u001b[0;34m(\u001b[0m \u001b[0minstring\u001b[0m\u001b[0;34m,\u001b[0m \u001b[0mloc\u001b[0m\u001b[0;34m,\u001b[0m \u001b[0mdoActions\u001b[0m\u001b[0;34m,\u001b[0m \u001b[0mcallPreParse\u001b[0m\u001b[0;34m=\u001b[0m\u001b[0;32mFalse\u001b[0m \u001b[0;34m)\u001b[0m\u001b[0;34m\u001b[0m\u001b[0m\n\u001b[0m\u001b[1;32m   2528\u001b[0m         \u001b[0merrorStop\u001b[0m \u001b[0;34m=\u001b[0m \u001b[0;32mFalse\u001b[0m\u001b[0;34m\u001b[0m\u001b[0m\n",
      "\u001b[0;32m/home/lindsayad/miniconda3/lib/python3.6/site-packages/pyparsing.py\u001b[0m in \u001b[0;36m_parseCache\u001b[0;34m(self, instring, loc, doActions, callPreParse)\u001b[0m\n\u001b[1;32m   1136\u001b[0m             \u001b[0;32mtry\u001b[0m\u001b[0;34m:\u001b[0m\u001b[0;34m\u001b[0m\u001b[0m\n\u001b[0;32m-> 1137\u001b[0;31m                 \u001b[0mvalue\u001b[0m \u001b[0;34m=\u001b[0m \u001b[0mself\u001b[0m\u001b[0;34m.\u001b[0m\u001b[0m_parseNoCache\u001b[0m\u001b[0;34m(\u001b[0m \u001b[0minstring\u001b[0m\u001b[0;34m,\u001b[0m \u001b[0mloc\u001b[0m\u001b[0;34m,\u001b[0m \u001b[0mdoActions\u001b[0m\u001b[0;34m,\u001b[0m \u001b[0mcallPreParse\u001b[0m \u001b[0;34m)\u001b[0m\u001b[0;34m\u001b[0m\u001b[0m\n\u001b[0m\u001b[1;32m   1138\u001b[0m                 \u001b[0mParserElement\u001b[0m\u001b[0;34m.\u001b[0m\u001b[0m_exprArgCache\u001b[0m\u001b[0;34m[\u001b[0m \u001b[0mlookup\u001b[0m \u001b[0;34m]\u001b[0m \u001b[0;34m=\u001b[0m \u001b[0;34m(\u001b[0m\u001b[0mvalue\u001b[0m\u001b[0;34m[\u001b[0m\u001b[0;36m0\u001b[0m\u001b[0;34m]\u001b[0m\u001b[0;34m,\u001b[0m\u001b[0mvalue\u001b[0m\u001b[0;34m[\u001b[0m\u001b[0;36m1\u001b[0m\u001b[0;34m]\u001b[0m\u001b[0;34m.\u001b[0m\u001b[0mcopy\u001b[0m\u001b[0;34m(\u001b[0m\u001b[0;34m)\u001b[0m\u001b[0;34m)\u001b[0m\u001b[0;34m\u001b[0m\u001b[0m\n",
      "\u001b[0;32m/home/lindsayad/miniconda3/lib/python3.6/site-packages/pyparsing.py\u001b[0m in \u001b[0;36m_parseNoCache\u001b[0;34m(self, instring, loc, doActions, callPreParse)\u001b[0m\n\u001b[1;32m   1097\u001b[0m                 \u001b[0;32mfor\u001b[0m \u001b[0mfn\u001b[0m \u001b[0;32min\u001b[0m \u001b[0mself\u001b[0m\u001b[0;34m.\u001b[0m\u001b[0mparseAction\u001b[0m\u001b[0;34m:\u001b[0m\u001b[0;34m\u001b[0m\u001b[0m\n\u001b[0;32m-> 1098\u001b[0;31m                     \u001b[0mtokens\u001b[0m \u001b[0;34m=\u001b[0m \u001b[0mfn\u001b[0m\u001b[0;34m(\u001b[0m \u001b[0minstring\u001b[0m\u001b[0;34m,\u001b[0m \u001b[0mtokensStart\u001b[0m\u001b[0;34m,\u001b[0m \u001b[0mretTokens\u001b[0m \u001b[0;34m)\u001b[0m\u001b[0;34m\u001b[0m\u001b[0m\n\u001b[0m\u001b[1;32m   1099\u001b[0m                     \u001b[0;32mif\u001b[0m \u001b[0mtokens\u001b[0m \u001b[0;32mis\u001b[0m \u001b[0;32mnot\u001b[0m \u001b[0;32mNone\u001b[0m\u001b[0;34m:\u001b[0m\u001b[0;34m\u001b[0m\u001b[0m\n",
      "\u001b[0;32m/home/lindsayad/miniconda3/lib/python3.6/site-packages/pyparsing.py\u001b[0m in \u001b[0;36mwrapper\u001b[0;34m(*args)\u001b[0m\n\u001b[1;32m    818\u001b[0m             \u001b[0;32mtry\u001b[0m\u001b[0;34m:\u001b[0m\u001b[0;34m\u001b[0m\u001b[0m\n\u001b[0;32m--> 819\u001b[0;31m                 \u001b[0mret\u001b[0m \u001b[0;34m=\u001b[0m \u001b[0mfunc\u001b[0m\u001b[0;34m(\u001b[0m\u001b[0;34m*\u001b[0m\u001b[0margs\u001b[0m\u001b[0;34m[\u001b[0m\u001b[0mlimit\u001b[0m\u001b[0;34m[\u001b[0m\u001b[0;36m0\u001b[0m\u001b[0;34m]\u001b[0m\u001b[0;34m:\u001b[0m\u001b[0;34m]\u001b[0m\u001b[0;34m)\u001b[0m\u001b[0;34m\u001b[0m\u001b[0m\n\u001b[0m\u001b[1;32m    820\u001b[0m                 \u001b[0mfoundArity\u001b[0m\u001b[0;34m[\u001b[0m\u001b[0;36m0\u001b[0m\u001b[0;34m]\u001b[0m \u001b[0;34m=\u001b[0m \u001b[0;32mTrue\u001b[0m\u001b[0;34m\u001b[0m\u001b[0m\n",
      "\u001b[0;32m/home/lindsayad/miniconda3/lib/python3.6/site-packages/matplotlib/mathtext.py\u001b[0m in \u001b[0;36mmath_string\u001b[0;34m(self, s, loc, toks)\u001b[0m\n\u001b[1;32m   2587\u001b[0m         \u001b[0;31m# print \"math_string\", toks[0][1:-1]\u001b[0m\u001b[0;34m\u001b[0m\u001b[0;34m\u001b[0m\u001b[0m\n\u001b[0;32m-> 2588\u001b[0;31m         \u001b[0;32mreturn\u001b[0m \u001b[0mself\u001b[0m\u001b[0;34m.\u001b[0m\u001b[0m_math_expression\u001b[0m\u001b[0;34m.\u001b[0m\u001b[0mparseString\u001b[0m\u001b[0;34m(\u001b[0m\u001b[0mtoks\u001b[0m\u001b[0;34m[\u001b[0m\u001b[0;36m0\u001b[0m\u001b[0;34m]\u001b[0m\u001b[0;34m[\u001b[0m\u001b[0;36m1\u001b[0m\u001b[0;34m:\u001b[0m\u001b[0;34m-\u001b[0m\u001b[0;36m1\u001b[0m\u001b[0;34m]\u001b[0m\u001b[0;34m)\u001b[0m\u001b[0;34m\u001b[0m\u001b[0m\n\u001b[0m\u001b[1;32m   2589\u001b[0m \u001b[0;34m\u001b[0m\u001b[0m\n",
      "\u001b[0;32m/home/lindsayad/miniconda3/lib/python3.6/site-packages/pyparsing.py\u001b[0m in \u001b[0;36mparseString\u001b[0;34m(self, instring, parseAll)\u001b[0m\n\u001b[1;32m   1215\u001b[0m                 \u001b[0;31m# catch and re-raise exception from here, clears out pyparsing internal stack trace\u001b[0m\u001b[0;34m\u001b[0m\u001b[0;34m\u001b[0m\u001b[0m\n\u001b[0;32m-> 1216\u001b[0;31m                 \u001b[0;32mraise\u001b[0m \u001b[0mexc\u001b[0m\u001b[0;34m\u001b[0m\u001b[0m\n\u001b[0m\u001b[1;32m   1217\u001b[0m         \u001b[0;32melse\u001b[0m\u001b[0;34m:\u001b[0m\u001b[0;34m\u001b[0m\u001b[0m\n",
      "\u001b[0;32m/home/lindsayad/miniconda3/lib/python3.6/site-packages/pyparsing.py\u001b[0m in \u001b[0;36mparseString\u001b[0;34m(self, instring, parseAll)\u001b[0m\n\u001b[1;32m   1205\u001b[0m         \u001b[0;32mtry\u001b[0m\u001b[0;34m:\u001b[0m\u001b[0;34m\u001b[0m\u001b[0m\n\u001b[0;32m-> 1206\u001b[0;31m             \u001b[0mloc\u001b[0m\u001b[0;34m,\u001b[0m \u001b[0mtokens\u001b[0m \u001b[0;34m=\u001b[0m \u001b[0mself\u001b[0m\u001b[0;34m.\u001b[0m\u001b[0m_parse\u001b[0m\u001b[0;34m(\u001b[0m \u001b[0minstring\u001b[0m\u001b[0;34m,\u001b[0m \u001b[0;36m0\u001b[0m \u001b[0;34m)\u001b[0m\u001b[0;34m\u001b[0m\u001b[0m\n\u001b[0m\u001b[1;32m   1207\u001b[0m             \u001b[0;32mif\u001b[0m \u001b[0mparseAll\u001b[0m\u001b[0;34m:\u001b[0m\u001b[0;34m\u001b[0m\u001b[0m\n",
      "\u001b[0;32m/home/lindsayad/miniconda3/lib/python3.6/site-packages/pyparsing.py\u001b[0m in \u001b[0;36m_parseCache\u001b[0;34m(self, instring, loc, doActions, callPreParse)\u001b[0m\n\u001b[1;32m   1136\u001b[0m             \u001b[0;32mtry\u001b[0m\u001b[0;34m:\u001b[0m\u001b[0;34m\u001b[0m\u001b[0m\n\u001b[0;32m-> 1137\u001b[0;31m                 \u001b[0mvalue\u001b[0m \u001b[0;34m=\u001b[0m \u001b[0mself\u001b[0m\u001b[0;34m.\u001b[0m\u001b[0m_parseNoCache\u001b[0m\u001b[0;34m(\u001b[0m \u001b[0minstring\u001b[0m\u001b[0;34m,\u001b[0m \u001b[0mloc\u001b[0m\u001b[0;34m,\u001b[0m \u001b[0mdoActions\u001b[0m\u001b[0;34m,\u001b[0m \u001b[0mcallPreParse\u001b[0m \u001b[0;34m)\u001b[0m\u001b[0;34m\u001b[0m\u001b[0m\n\u001b[0m\u001b[1;32m   1138\u001b[0m                 \u001b[0mParserElement\u001b[0m\u001b[0;34m.\u001b[0m\u001b[0m_exprArgCache\u001b[0m\u001b[0;34m[\u001b[0m \u001b[0mlookup\u001b[0m \u001b[0;34m]\u001b[0m \u001b[0;34m=\u001b[0m \u001b[0;34m(\u001b[0m\u001b[0mvalue\u001b[0m\u001b[0;34m[\u001b[0m\u001b[0;36m0\u001b[0m\u001b[0;34m]\u001b[0m\u001b[0;34m,\u001b[0m\u001b[0mvalue\u001b[0m\u001b[0;34m[\u001b[0m\u001b[0;36m1\u001b[0m\u001b[0;34m]\u001b[0m\u001b[0;34m.\u001b[0m\u001b[0mcopy\u001b[0m\u001b[0;34m(\u001b[0m\u001b[0;34m)\u001b[0m\u001b[0;34m)\u001b[0m\u001b[0;34m\u001b[0m\u001b[0m\n",
      "\u001b[0;32m/home/lindsayad/miniconda3/lib/python3.6/site-packages/pyparsing.py\u001b[0m in \u001b[0;36m_parseNoCache\u001b[0;34m(self, instring, loc, doActions, callPreParse)\u001b[0m\n\u001b[1;32m   1071\u001b[0m                 \u001b[0;32mtry\u001b[0m\u001b[0;34m:\u001b[0m\u001b[0;34m\u001b[0m\u001b[0m\n\u001b[0;32m-> 1072\u001b[0;31m                     \u001b[0mloc\u001b[0m\u001b[0;34m,\u001b[0m\u001b[0mtokens\u001b[0m \u001b[0;34m=\u001b[0m \u001b[0mself\u001b[0m\u001b[0;34m.\u001b[0m\u001b[0mparseImpl\u001b[0m\u001b[0;34m(\u001b[0m \u001b[0minstring\u001b[0m\u001b[0;34m,\u001b[0m \u001b[0mpreloc\u001b[0m\u001b[0;34m,\u001b[0m \u001b[0mdoActions\u001b[0m \u001b[0;34m)\u001b[0m\u001b[0;34m\u001b[0m\u001b[0m\n\u001b[0m\u001b[1;32m   1073\u001b[0m                 \u001b[0;32mexcept\u001b[0m \u001b[0mIndexError\u001b[0m\u001b[0;34m:\u001b[0m\u001b[0;34m\u001b[0m\u001b[0m\n",
      "\u001b[0;32m/home/lindsayad/miniconda3/lib/python3.6/site-packages/pyparsing.py\u001b[0m in \u001b[0;36mparseImpl\u001b[0;34m(self, instring, loc, doActions)\u001b[0m\n\u001b[1;32m   2800\u001b[0m         \u001b[0;32mif\u001b[0m \u001b[0mself\u001b[0m\u001b[0;34m.\u001b[0m\u001b[0mexpr\u001b[0m \u001b[0;32mis\u001b[0m \u001b[0;32mnot\u001b[0m \u001b[0;32mNone\u001b[0m\u001b[0;34m:\u001b[0m\u001b[0;34m\u001b[0m\u001b[0m\n\u001b[0;32m-> 2801\u001b[0;31m             \u001b[0;32mreturn\u001b[0m \u001b[0mself\u001b[0m\u001b[0;34m.\u001b[0m\u001b[0mexpr\u001b[0m\u001b[0;34m.\u001b[0m\u001b[0m_parse\u001b[0m\u001b[0;34m(\u001b[0m \u001b[0minstring\u001b[0m\u001b[0;34m,\u001b[0m \u001b[0mloc\u001b[0m\u001b[0;34m,\u001b[0m \u001b[0mdoActions\u001b[0m\u001b[0;34m,\u001b[0m \u001b[0mcallPreParse\u001b[0m\u001b[0;34m=\u001b[0m\u001b[0;32mFalse\u001b[0m \u001b[0;34m)\u001b[0m\u001b[0;34m\u001b[0m\u001b[0m\n\u001b[0m\u001b[1;32m   2802\u001b[0m         \u001b[0;32melse\u001b[0m\u001b[0;34m:\u001b[0m\u001b[0;34m\u001b[0m\u001b[0m\n",
      "\u001b[0;32m/home/lindsayad/miniconda3/lib/python3.6/site-packages/pyparsing.py\u001b[0m in \u001b[0;36m_parseCache\u001b[0;34m(self, instring, loc, doActions, callPreParse)\u001b[0m\n\u001b[1;32m   1136\u001b[0m             \u001b[0;32mtry\u001b[0m\u001b[0;34m:\u001b[0m\u001b[0;34m\u001b[0m\u001b[0m\n\u001b[0;32m-> 1137\u001b[0;31m                 \u001b[0mvalue\u001b[0m \u001b[0;34m=\u001b[0m \u001b[0mself\u001b[0m\u001b[0;34m.\u001b[0m\u001b[0m_parseNoCache\u001b[0m\u001b[0;34m(\u001b[0m \u001b[0minstring\u001b[0m\u001b[0;34m,\u001b[0m \u001b[0mloc\u001b[0m\u001b[0;34m,\u001b[0m \u001b[0mdoActions\u001b[0m\u001b[0;34m,\u001b[0m \u001b[0mcallPreParse\u001b[0m \u001b[0;34m)\u001b[0m\u001b[0;34m\u001b[0m\u001b[0m\n\u001b[0m\u001b[1;32m   1138\u001b[0m                 \u001b[0mParserElement\u001b[0m\u001b[0;34m.\u001b[0m\u001b[0m_exprArgCache\u001b[0m\u001b[0;34m[\u001b[0m \u001b[0mlookup\u001b[0m \u001b[0;34m]\u001b[0m \u001b[0;34m=\u001b[0m \u001b[0;34m(\u001b[0m\u001b[0mvalue\u001b[0m\u001b[0;34m[\u001b[0m\u001b[0;36m0\u001b[0m\u001b[0;34m]\u001b[0m\u001b[0;34m,\u001b[0m\u001b[0mvalue\u001b[0m\u001b[0;34m[\u001b[0m\u001b[0;36m1\u001b[0m\u001b[0;34m]\u001b[0m\u001b[0;34m.\u001b[0m\u001b[0mcopy\u001b[0m\u001b[0;34m(\u001b[0m\u001b[0;34m)\u001b[0m\u001b[0;34m)\u001b[0m\u001b[0;34m\u001b[0m\u001b[0m\n",
      "\u001b[0;32m/home/lindsayad/miniconda3/lib/python3.6/site-packages/pyparsing.py\u001b[0m in \u001b[0;36m_parseNoCache\u001b[0;34m(self, instring, loc, doActions, callPreParse)\u001b[0m\n\u001b[1;32m   1071\u001b[0m                 \u001b[0;32mtry\u001b[0m\u001b[0;34m:\u001b[0m\u001b[0;34m\u001b[0m\u001b[0m\n\u001b[0;32m-> 1072\u001b[0;31m                     \u001b[0mloc\u001b[0m\u001b[0;34m,\u001b[0m\u001b[0mtokens\u001b[0m \u001b[0;34m=\u001b[0m \u001b[0mself\u001b[0m\u001b[0;34m.\u001b[0m\u001b[0mparseImpl\u001b[0m\u001b[0;34m(\u001b[0m \u001b[0minstring\u001b[0m\u001b[0;34m,\u001b[0m \u001b[0mpreloc\u001b[0m\u001b[0;34m,\u001b[0m \u001b[0mdoActions\u001b[0m \u001b[0;34m)\u001b[0m\u001b[0;34m\u001b[0m\u001b[0m\n\u001b[0m\u001b[1;32m   1073\u001b[0m                 \u001b[0;32mexcept\u001b[0m \u001b[0mIndexError\u001b[0m\u001b[0;34m:\u001b[0m\u001b[0;34m\u001b[0m\u001b[0m\n",
      "\u001b[0;32m/home/lindsayad/miniconda3/lib/python3.6/site-packages/pyparsing.py\u001b[0m in \u001b[0;36mparseImpl\u001b[0;34m(self, instring, loc, doActions)\u001b[0m\n\u001b[1;32m   2922\u001b[0m             \u001b[0mtry_not_ender\u001b[0m\u001b[0;34m(\u001b[0m\u001b[0minstring\u001b[0m\u001b[0;34m,\u001b[0m \u001b[0mloc\u001b[0m\u001b[0;34m)\u001b[0m\u001b[0;34m\u001b[0m\u001b[0m\n\u001b[0;32m-> 2923\u001b[0;31m         \u001b[0mloc\u001b[0m\u001b[0;34m,\u001b[0m \u001b[0mtokens\u001b[0m \u001b[0;34m=\u001b[0m \u001b[0mself_expr_parse\u001b[0m\u001b[0;34m(\u001b[0m \u001b[0minstring\u001b[0m\u001b[0;34m,\u001b[0m \u001b[0mloc\u001b[0m\u001b[0;34m,\u001b[0m \u001b[0mdoActions\u001b[0m\u001b[0;34m,\u001b[0m \u001b[0mcallPreParse\u001b[0m\u001b[0;34m=\u001b[0m\u001b[0;32mFalse\u001b[0m \u001b[0;34m)\u001b[0m\u001b[0;34m\u001b[0m\u001b[0m\n\u001b[0m\u001b[1;32m   2924\u001b[0m         \u001b[0;32mtry\u001b[0m\u001b[0;34m:\u001b[0m\u001b[0;34m\u001b[0m\u001b[0m\n",
      "\u001b[0;32m/home/lindsayad/miniconda3/lib/python3.6/site-packages/pyparsing.py\u001b[0m in \u001b[0;36m_parseCache\u001b[0;34m(self, instring, loc, doActions, callPreParse)\u001b[0m\n\u001b[1;32m   1136\u001b[0m             \u001b[0;32mtry\u001b[0m\u001b[0;34m:\u001b[0m\u001b[0;34m\u001b[0m\u001b[0m\n\u001b[0;32m-> 1137\u001b[0;31m                 \u001b[0mvalue\u001b[0m \u001b[0;34m=\u001b[0m \u001b[0mself\u001b[0m\u001b[0;34m.\u001b[0m\u001b[0m_parseNoCache\u001b[0m\u001b[0;34m(\u001b[0m \u001b[0minstring\u001b[0m\u001b[0;34m,\u001b[0m \u001b[0mloc\u001b[0m\u001b[0;34m,\u001b[0m \u001b[0mdoActions\u001b[0m\u001b[0;34m,\u001b[0m \u001b[0mcallPreParse\u001b[0m \u001b[0;34m)\u001b[0m\u001b[0;34m\u001b[0m\u001b[0m\n\u001b[0m\u001b[1;32m   1138\u001b[0m                 \u001b[0mParserElement\u001b[0m\u001b[0;34m.\u001b[0m\u001b[0m_exprArgCache\u001b[0m\u001b[0;34m[\u001b[0m \u001b[0mlookup\u001b[0m \u001b[0;34m]\u001b[0m \u001b[0;34m=\u001b[0m \u001b[0;34m(\u001b[0m\u001b[0mvalue\u001b[0m\u001b[0;34m[\u001b[0m\u001b[0;36m0\u001b[0m\u001b[0;34m]\u001b[0m\u001b[0;34m,\u001b[0m\u001b[0mvalue\u001b[0m\u001b[0;34m[\u001b[0m\u001b[0;36m1\u001b[0m\u001b[0;34m]\u001b[0m\u001b[0;34m.\u001b[0m\u001b[0mcopy\u001b[0m\u001b[0;34m(\u001b[0m\u001b[0;34m)\u001b[0m\u001b[0;34m)\u001b[0m\u001b[0;34m\u001b[0m\u001b[0m\n",
      "\u001b[0;32m/home/lindsayad/miniconda3/lib/python3.6/site-packages/pyparsing.py\u001b[0m in \u001b[0;36m_parseNoCache\u001b[0;34m(self, instring, loc, doActions, callPreParse)\u001b[0m\n\u001b[1;32m   1071\u001b[0m                 \u001b[0;32mtry\u001b[0m\u001b[0;34m:\u001b[0m\u001b[0;34m\u001b[0m\u001b[0m\n\u001b[0;32m-> 1072\u001b[0;31m                     \u001b[0mloc\u001b[0m\u001b[0;34m,\u001b[0m\u001b[0mtokens\u001b[0m \u001b[0;34m=\u001b[0m \u001b[0mself\u001b[0m\u001b[0;34m.\u001b[0m\u001b[0mparseImpl\u001b[0m\u001b[0;34m(\u001b[0m \u001b[0minstring\u001b[0m\u001b[0;34m,\u001b[0m \u001b[0mpreloc\u001b[0m\u001b[0;34m,\u001b[0m \u001b[0mdoActions\u001b[0m \u001b[0;34m)\u001b[0m\u001b[0;34m\u001b[0m\u001b[0m\n\u001b[0m\u001b[1;32m   1073\u001b[0m                 \u001b[0;32mexcept\u001b[0m \u001b[0mIndexError\u001b[0m\u001b[0;34m:\u001b[0m\u001b[0;34m\u001b[0m\u001b[0m\n",
      "\u001b[0;32m/home/lindsayad/miniconda3/lib/python3.6/site-packages/pyparsing.py\u001b[0m in \u001b[0;36mparseImpl\u001b[0;34m(self, instring, loc, doActions)\u001b[0m\n\u001b[1;32m   2800\u001b[0m         \u001b[0;32mif\u001b[0m \u001b[0mself\u001b[0m\u001b[0;34m.\u001b[0m\u001b[0mexpr\u001b[0m \u001b[0;32mis\u001b[0m \u001b[0;32mnot\u001b[0m \u001b[0;32mNone\u001b[0m\u001b[0;34m:\u001b[0m\u001b[0;34m\u001b[0m\u001b[0m\n\u001b[0;32m-> 2801\u001b[0;31m             \u001b[0;32mreturn\u001b[0m \u001b[0mself\u001b[0m\u001b[0;34m.\u001b[0m\u001b[0mexpr\u001b[0m\u001b[0;34m.\u001b[0m\u001b[0m_parse\u001b[0m\u001b[0;34m(\u001b[0m \u001b[0minstring\u001b[0m\u001b[0;34m,\u001b[0m \u001b[0mloc\u001b[0m\u001b[0;34m,\u001b[0m \u001b[0mdoActions\u001b[0m\u001b[0;34m,\u001b[0m \u001b[0mcallPreParse\u001b[0m\u001b[0;34m=\u001b[0m\u001b[0;32mFalse\u001b[0m \u001b[0;34m)\u001b[0m\u001b[0;34m\u001b[0m\u001b[0m\n\u001b[0m\u001b[1;32m   2802\u001b[0m         \u001b[0;32melse\u001b[0m\u001b[0;34m:\u001b[0m\u001b[0;34m\u001b[0m\u001b[0m\n",
      "\u001b[0;32m/home/lindsayad/miniconda3/lib/python3.6/site-packages/pyparsing.py\u001b[0m in \u001b[0;36m_parseCache\u001b[0;34m(self, instring, loc, doActions, callPreParse)\u001b[0m\n\u001b[1;32m   1136\u001b[0m             \u001b[0;32mtry\u001b[0m\u001b[0;34m:\u001b[0m\u001b[0;34m\u001b[0m\u001b[0m\n\u001b[0;32m-> 1137\u001b[0;31m                 \u001b[0mvalue\u001b[0m \u001b[0;34m=\u001b[0m \u001b[0mself\u001b[0m\u001b[0;34m.\u001b[0m\u001b[0m_parseNoCache\u001b[0m\u001b[0;34m(\u001b[0m \u001b[0minstring\u001b[0m\u001b[0;34m,\u001b[0m \u001b[0mloc\u001b[0m\u001b[0;34m,\u001b[0m \u001b[0mdoActions\u001b[0m\u001b[0;34m,\u001b[0m \u001b[0mcallPreParse\u001b[0m \u001b[0;34m)\u001b[0m\u001b[0;34m\u001b[0m\u001b[0m\n\u001b[0m\u001b[1;32m   1138\u001b[0m                 \u001b[0mParserElement\u001b[0m\u001b[0;34m.\u001b[0m\u001b[0m_exprArgCache\u001b[0m\u001b[0;34m[\u001b[0m \u001b[0mlookup\u001b[0m \u001b[0;34m]\u001b[0m \u001b[0;34m=\u001b[0m \u001b[0;34m(\u001b[0m\u001b[0mvalue\u001b[0m\u001b[0;34m[\u001b[0m\u001b[0;36m0\u001b[0m\u001b[0;34m]\u001b[0m\u001b[0;34m,\u001b[0m\u001b[0mvalue\u001b[0m\u001b[0;34m[\u001b[0m\u001b[0;36m1\u001b[0m\u001b[0;34m]\u001b[0m\u001b[0;34m.\u001b[0m\u001b[0mcopy\u001b[0m\u001b[0;34m(\u001b[0m\u001b[0;34m)\u001b[0m\u001b[0;34m)\u001b[0m\u001b[0;34m\u001b[0m\u001b[0m\n",
      "\u001b[0;32m/home/lindsayad/miniconda3/lib/python3.6/site-packages/pyparsing.py\u001b[0m in \u001b[0;36m_parseNoCache\u001b[0;34m(self, instring, loc, doActions, callPreParse)\u001b[0m\n\u001b[1;32m   1071\u001b[0m                 \u001b[0;32mtry\u001b[0m\u001b[0;34m:\u001b[0m\u001b[0;34m\u001b[0m\u001b[0m\n\u001b[0;32m-> 1072\u001b[0;31m                     \u001b[0mloc\u001b[0m\u001b[0;34m,\u001b[0m\u001b[0mtokens\u001b[0m \u001b[0;34m=\u001b[0m \u001b[0mself\u001b[0m\u001b[0;34m.\u001b[0m\u001b[0mparseImpl\u001b[0m\u001b[0;34m(\u001b[0m \u001b[0minstring\u001b[0m\u001b[0;34m,\u001b[0m \u001b[0mpreloc\u001b[0m\u001b[0;34m,\u001b[0m \u001b[0mdoActions\u001b[0m \u001b[0;34m)\u001b[0m\u001b[0;34m\u001b[0m\u001b[0m\n\u001b[0m\u001b[1;32m   1073\u001b[0m                 \u001b[0;32mexcept\u001b[0m \u001b[0mIndexError\u001b[0m\u001b[0;34m:\u001b[0m\u001b[0;34m\u001b[0m\u001b[0m\n",
      "\u001b[0;32m/home/lindsayad/miniconda3/lib/python3.6/site-packages/pyparsing.py\u001b[0m in \u001b[0;36mparseImpl\u001b[0;34m(self, instring, loc, doActions)\u001b[0m\n\u001b[1;32m   2657\u001b[0m             \u001b[0;32mtry\u001b[0m\u001b[0;34m:\u001b[0m\u001b[0;34m\u001b[0m\u001b[0m\n\u001b[0;32m-> 2658\u001b[0;31m                 \u001b[0mret\u001b[0m \u001b[0;34m=\u001b[0m \u001b[0me\u001b[0m\u001b[0;34m.\u001b[0m\u001b[0m_parse\u001b[0m\u001b[0;34m(\u001b[0m \u001b[0minstring\u001b[0m\u001b[0;34m,\u001b[0m \u001b[0mloc\u001b[0m\u001b[0;34m,\u001b[0m \u001b[0mdoActions\u001b[0m \u001b[0;34m)\u001b[0m\u001b[0;34m\u001b[0m\u001b[0m\n\u001b[0m\u001b[1;32m   2659\u001b[0m                 \u001b[0;32mreturn\u001b[0m \u001b[0mret\u001b[0m\u001b[0;34m\u001b[0m\u001b[0m\n",
      "\u001b[0;32m/home/lindsayad/miniconda3/lib/python3.6/site-packages/pyparsing.py\u001b[0m in \u001b[0;36m_parseCache\u001b[0;34m(self, instring, loc, doActions, callPreParse)\u001b[0m\n\u001b[1;32m   1136\u001b[0m             \u001b[0;32mtry\u001b[0m\u001b[0;34m:\u001b[0m\u001b[0;34m\u001b[0m\u001b[0m\n\u001b[0;32m-> 1137\u001b[0;31m                 \u001b[0mvalue\u001b[0m \u001b[0;34m=\u001b[0m \u001b[0mself\u001b[0m\u001b[0;34m.\u001b[0m\u001b[0m_parseNoCache\u001b[0m\u001b[0;34m(\u001b[0m \u001b[0minstring\u001b[0m\u001b[0;34m,\u001b[0m \u001b[0mloc\u001b[0m\u001b[0;34m,\u001b[0m \u001b[0mdoActions\u001b[0m\u001b[0;34m,\u001b[0m \u001b[0mcallPreParse\u001b[0m \u001b[0;34m)\u001b[0m\u001b[0;34m\u001b[0m\u001b[0m\n\u001b[0m\u001b[1;32m   1138\u001b[0m                 \u001b[0mParserElement\u001b[0m\u001b[0;34m.\u001b[0m\u001b[0m_exprArgCache\u001b[0m\u001b[0;34m[\u001b[0m \u001b[0mlookup\u001b[0m \u001b[0;34m]\u001b[0m \u001b[0;34m=\u001b[0m \u001b[0;34m(\u001b[0m\u001b[0mvalue\u001b[0m\u001b[0;34m[\u001b[0m\u001b[0;36m0\u001b[0m\u001b[0;34m]\u001b[0m\u001b[0;34m,\u001b[0m\u001b[0mvalue\u001b[0m\u001b[0;34m[\u001b[0m\u001b[0;36m1\u001b[0m\u001b[0;34m]\u001b[0m\u001b[0;34m.\u001b[0m\u001b[0mcopy\u001b[0m\u001b[0;34m(\u001b[0m\u001b[0;34m)\u001b[0m\u001b[0;34m)\u001b[0m\u001b[0;34m\u001b[0m\u001b[0m\n",
      "\u001b[0;32m/home/lindsayad/miniconda3/lib/python3.6/site-packages/pyparsing.py\u001b[0m in \u001b[0;36m_parseNoCache\u001b[0;34m(self, instring, loc, doActions, callPreParse)\u001b[0m\n\u001b[1;32m   1097\u001b[0m                 \u001b[0;32mfor\u001b[0m \u001b[0mfn\u001b[0m \u001b[0;32min\u001b[0m \u001b[0mself\u001b[0m\u001b[0;34m.\u001b[0m\u001b[0mparseAction\u001b[0m\u001b[0;34m:\u001b[0m\u001b[0;34m\u001b[0m\u001b[0m\n\u001b[0;32m-> 1098\u001b[0;31m                     \u001b[0mtokens\u001b[0m \u001b[0;34m=\u001b[0m \u001b[0mfn\u001b[0m\u001b[0;34m(\u001b[0m \u001b[0minstring\u001b[0m\u001b[0;34m,\u001b[0m \u001b[0mtokensStart\u001b[0m\u001b[0;34m,\u001b[0m \u001b[0mretTokens\u001b[0m \u001b[0;34m)\u001b[0m\u001b[0;34m\u001b[0m\u001b[0m\n\u001b[0m\u001b[1;32m   1099\u001b[0m                     \u001b[0;32mif\u001b[0m \u001b[0mtokens\u001b[0m \u001b[0;32mis\u001b[0m \u001b[0;32mnot\u001b[0m \u001b[0;32mNone\u001b[0m\u001b[0;34m:\u001b[0m\u001b[0;34m\u001b[0m\u001b[0m\n",
      "\u001b[0;32m/home/lindsayad/miniconda3/lib/python3.6/site-packages/pyparsing.py\u001b[0m in \u001b[0;36mwrapper\u001b[0;34m(*args)\u001b[0m\n\u001b[1;32m    818\u001b[0m             \u001b[0;32mtry\u001b[0m\u001b[0;34m:\u001b[0m\u001b[0;34m\u001b[0m\u001b[0m\n\u001b[0;32m--> 819\u001b[0;31m                 \u001b[0mret\u001b[0m \u001b[0;34m=\u001b[0m \u001b[0mfunc\u001b[0m\u001b[0;34m(\u001b[0m\u001b[0;34m*\u001b[0m\u001b[0margs\u001b[0m\u001b[0;34m[\u001b[0m\u001b[0mlimit\u001b[0m\u001b[0;34m[\u001b[0m\u001b[0;36m0\u001b[0m\u001b[0;34m]\u001b[0m\u001b[0;34m:\u001b[0m\u001b[0;34m]\u001b[0m\u001b[0;34m)\u001b[0m\u001b[0;34m\u001b[0m\u001b[0m\n\u001b[0m\u001b[1;32m    820\u001b[0m                 \u001b[0mfoundArity\u001b[0m\u001b[0;34m[\u001b[0m\u001b[0;36m0\u001b[0m\u001b[0;34m]\u001b[0m \u001b[0;34m=\u001b[0m \u001b[0;32mTrue\u001b[0m\u001b[0;34m\u001b[0m\u001b[0m\n",
      "\u001b[0;32m/home/lindsayad/miniconda3/lib/python3.6/site-packages/matplotlib/mathtext.py\u001b[0m in \u001b[0;36munknown_symbol\u001b[0;34m(self, s, loc, toks)\u001b[0m\n\u001b[1;32m   2693\u001b[0m         \u001b[0mc\u001b[0m \u001b[0;34m=\u001b[0m \u001b[0mtoks\u001b[0m\u001b[0;34m[\u001b[0m\u001b[0;36m0\u001b[0m\u001b[0;34m]\u001b[0m\u001b[0;34m\u001b[0m\u001b[0m\n\u001b[0;32m-> 2694\u001b[0;31m         \u001b[0;32mraise\u001b[0m \u001b[0mParseFatalException\u001b[0m\u001b[0;34m(\u001b[0m\u001b[0ms\u001b[0m\u001b[0;34m,\u001b[0m \u001b[0mloc\u001b[0m\u001b[0;34m,\u001b[0m \u001b[0;34m\"Unknown symbol: %s\"\u001b[0m \u001b[0;34m%\u001b[0m \u001b[0mc\u001b[0m\u001b[0;34m)\u001b[0m\u001b[0;34m\u001b[0m\u001b[0m\n\u001b[0m\u001b[1;32m   2695\u001b[0m \u001b[0;34m\u001b[0m\u001b[0m\n",
      "\u001b[0;31mParseFatalException\u001b[0m: Unknown symbol: \\displaystyle (at char 0), (line:1, col:1)",
      "\nDuring handling of the above exception, another exception occurred:\n",
      "\u001b[0;31mValueError\u001b[0m                                Traceback (most recent call last)",
      "\u001b[0;32m<ipython-input-4-67f57575cd9e>\u001b[0m in \u001b[0;36m<module>\u001b[0;34m()\u001b[0m\n\u001b[1;32m     19\u001b[0m \u001b[0mplt\u001b[0m\u001b[0;34m.\u001b[0m\u001b[0msubplots_adjust\u001b[0m\u001b[0;34m(\u001b[0m\u001b[0mtop\u001b[0m\u001b[0;34m=\u001b[0m\u001b[0;36m0.8\u001b[0m\u001b[0;34m)\u001b[0m\u001b[0;34m\u001b[0m\u001b[0m\n\u001b[1;32m     20\u001b[0m \u001b[0;34m\u001b[0m\u001b[0m\n\u001b[0;32m---> 21\u001b[0;31m \u001b[0mplt\u001b[0m\u001b[0;34m.\u001b[0m\u001b[0msavefig\u001b[0m\u001b[0;34m(\u001b[0m\u001b[0;34m'tex_demo'\u001b[0m\u001b[0;34m)\u001b[0m\u001b[0;34m\u001b[0m\u001b[0m\n\u001b[0m\u001b[1;32m     22\u001b[0m \u001b[0mplt\u001b[0m\u001b[0;34m.\u001b[0m\u001b[0mshow\u001b[0m\u001b[0;34m(\u001b[0m\u001b[0;34m)\u001b[0m\u001b[0;34m\u001b[0m\u001b[0m\n",
      "\u001b[0;32m/home/lindsayad/miniconda3/lib/python3.6/site-packages/matplotlib/pyplot.py\u001b[0m in \u001b[0;36msavefig\u001b[0;34m(*args, **kwargs)\u001b[0m\n\u001b[1;32m    695\u001b[0m \u001b[0;32mdef\u001b[0m \u001b[0msavefig\u001b[0m\u001b[0;34m(\u001b[0m\u001b[0;34m*\u001b[0m\u001b[0margs\u001b[0m\u001b[0;34m,\u001b[0m \u001b[0;34m**\u001b[0m\u001b[0mkwargs\u001b[0m\u001b[0;34m)\u001b[0m\u001b[0;34m:\u001b[0m\u001b[0;34m\u001b[0m\u001b[0m\n\u001b[1;32m    696\u001b[0m     \u001b[0mfig\u001b[0m \u001b[0;34m=\u001b[0m \u001b[0mgcf\u001b[0m\u001b[0;34m(\u001b[0m\u001b[0;34m)\u001b[0m\u001b[0;34m\u001b[0m\u001b[0m\n\u001b[0;32m--> 697\u001b[0;31m     \u001b[0mres\u001b[0m \u001b[0;34m=\u001b[0m \u001b[0mfig\u001b[0m\u001b[0;34m.\u001b[0m\u001b[0msavefig\u001b[0m\u001b[0;34m(\u001b[0m\u001b[0;34m*\u001b[0m\u001b[0margs\u001b[0m\u001b[0;34m,\u001b[0m \u001b[0;34m**\u001b[0m\u001b[0mkwargs\u001b[0m\u001b[0;34m)\u001b[0m\u001b[0;34m\u001b[0m\u001b[0m\n\u001b[0m\u001b[1;32m    698\u001b[0m     \u001b[0mfig\u001b[0m\u001b[0;34m.\u001b[0m\u001b[0mcanvas\u001b[0m\u001b[0;34m.\u001b[0m\u001b[0mdraw_idle\u001b[0m\u001b[0;34m(\u001b[0m\u001b[0;34m)\u001b[0m   \u001b[0;31m# need this if 'transparent=True' to reset colors\u001b[0m\u001b[0;34m\u001b[0m\u001b[0m\n\u001b[1;32m    699\u001b[0m     \u001b[0;32mreturn\u001b[0m \u001b[0mres\u001b[0m\u001b[0;34m\u001b[0m\u001b[0m\n",
      "\u001b[0;32m/home/lindsayad/miniconda3/lib/python3.6/site-packages/matplotlib/figure.py\u001b[0m in \u001b[0;36msavefig\u001b[0;34m(self, *args, **kwargs)\u001b[0m\n\u001b[1;32m   1570\u001b[0m             \u001b[0mself\u001b[0m\u001b[0;34m.\u001b[0m\u001b[0mset_frameon\u001b[0m\u001b[0;34m(\u001b[0m\u001b[0mframeon\u001b[0m\u001b[0;34m)\u001b[0m\u001b[0;34m\u001b[0m\u001b[0m\n\u001b[1;32m   1571\u001b[0m \u001b[0;34m\u001b[0m\u001b[0m\n\u001b[0;32m-> 1572\u001b[0;31m         \u001b[0mself\u001b[0m\u001b[0;34m.\u001b[0m\u001b[0mcanvas\u001b[0m\u001b[0;34m.\u001b[0m\u001b[0mprint_figure\u001b[0m\u001b[0;34m(\u001b[0m\u001b[0;34m*\u001b[0m\u001b[0margs\u001b[0m\u001b[0;34m,\u001b[0m \u001b[0;34m**\u001b[0m\u001b[0mkwargs\u001b[0m\u001b[0;34m)\u001b[0m\u001b[0;34m\u001b[0m\u001b[0m\n\u001b[0m\u001b[1;32m   1573\u001b[0m \u001b[0;34m\u001b[0m\u001b[0m\n\u001b[1;32m   1574\u001b[0m         \u001b[0;32mif\u001b[0m \u001b[0mframeon\u001b[0m\u001b[0;34m:\u001b[0m\u001b[0;34m\u001b[0m\u001b[0m\n",
      "\u001b[0;32m/home/lindsayad/miniconda3/lib/python3.6/site-packages/matplotlib/backend_bases.py\u001b[0m in \u001b[0;36mprint_figure\u001b[0;34m(self, filename, dpi, facecolor, edgecolor, orientation, format, **kwargs)\u001b[0m\n\u001b[1;32m   2242\u001b[0m                 \u001b[0morientation\u001b[0m\u001b[0;34m=\u001b[0m\u001b[0morientation\u001b[0m\u001b[0;34m,\u001b[0m\u001b[0;34m\u001b[0m\u001b[0m\n\u001b[1;32m   2243\u001b[0m                 \u001b[0mbbox_inches_restore\u001b[0m\u001b[0;34m=\u001b[0m\u001b[0m_bbox_inches_restore\u001b[0m\u001b[0;34m,\u001b[0m\u001b[0;34m\u001b[0m\u001b[0m\n\u001b[0;32m-> 2244\u001b[0;31m                 **kwargs)\n\u001b[0m\u001b[1;32m   2245\u001b[0m         \u001b[0;32mfinally\u001b[0m\u001b[0;34m:\u001b[0m\u001b[0;34m\u001b[0m\u001b[0m\n\u001b[1;32m   2246\u001b[0m             \u001b[0;32mif\u001b[0m \u001b[0mbbox_inches\u001b[0m \u001b[0;32mand\u001b[0m \u001b[0mrestore_bbox\u001b[0m\u001b[0;34m:\u001b[0m\u001b[0;34m\u001b[0m\u001b[0m\n",
      "\u001b[0;32m/home/lindsayad/miniconda3/lib/python3.6/site-packages/matplotlib/backends/backend_agg.py\u001b[0m in \u001b[0;36mprint_png\u001b[0;34m(self, filename_or_obj, *args, **kwargs)\u001b[0m\n\u001b[1;32m    543\u001b[0m \u001b[0;34m\u001b[0m\u001b[0m\n\u001b[1;32m    544\u001b[0m     \u001b[0;32mdef\u001b[0m \u001b[0mprint_png\u001b[0m\u001b[0;34m(\u001b[0m\u001b[0mself\u001b[0m\u001b[0;34m,\u001b[0m \u001b[0mfilename_or_obj\u001b[0m\u001b[0;34m,\u001b[0m \u001b[0;34m*\u001b[0m\u001b[0margs\u001b[0m\u001b[0;34m,\u001b[0m \u001b[0;34m**\u001b[0m\u001b[0mkwargs\u001b[0m\u001b[0;34m)\u001b[0m\u001b[0;34m:\u001b[0m\u001b[0;34m\u001b[0m\u001b[0m\n\u001b[0;32m--> 545\u001b[0;31m         \u001b[0mFigureCanvasAgg\u001b[0m\u001b[0;34m.\u001b[0m\u001b[0mdraw\u001b[0m\u001b[0;34m(\u001b[0m\u001b[0mself\u001b[0m\u001b[0;34m)\u001b[0m\u001b[0;34m\u001b[0m\u001b[0m\n\u001b[0m\u001b[1;32m    546\u001b[0m         \u001b[0mrenderer\u001b[0m \u001b[0;34m=\u001b[0m \u001b[0mself\u001b[0m\u001b[0;34m.\u001b[0m\u001b[0mget_renderer\u001b[0m\u001b[0;34m(\u001b[0m\u001b[0;34m)\u001b[0m\u001b[0;34m\u001b[0m\u001b[0m\n\u001b[1;32m    547\u001b[0m         \u001b[0moriginal_dpi\u001b[0m \u001b[0;34m=\u001b[0m \u001b[0mrenderer\u001b[0m\u001b[0;34m.\u001b[0m\u001b[0mdpi\u001b[0m\u001b[0;34m\u001b[0m\u001b[0m\n",
      "\u001b[0;32m/home/lindsayad/miniconda3/lib/python3.6/site-packages/matplotlib/backends/backend_agg.py\u001b[0m in \u001b[0;36mdraw\u001b[0;34m(self)\u001b[0m\n\u001b[1;32m    462\u001b[0m \u001b[0;34m\u001b[0m\u001b[0m\n\u001b[1;32m    463\u001b[0m         \u001b[0;32mtry\u001b[0m\u001b[0;34m:\u001b[0m\u001b[0;34m\u001b[0m\u001b[0m\n\u001b[0;32m--> 464\u001b[0;31m             \u001b[0mself\u001b[0m\u001b[0;34m.\u001b[0m\u001b[0mfigure\u001b[0m\u001b[0;34m.\u001b[0m\u001b[0mdraw\u001b[0m\u001b[0;34m(\u001b[0m\u001b[0mself\u001b[0m\u001b[0;34m.\u001b[0m\u001b[0mrenderer\u001b[0m\u001b[0;34m)\u001b[0m\u001b[0;34m\u001b[0m\u001b[0m\n\u001b[0m\u001b[1;32m    465\u001b[0m         \u001b[0;32mfinally\u001b[0m\u001b[0;34m:\u001b[0m\u001b[0;34m\u001b[0m\u001b[0m\n\u001b[1;32m    466\u001b[0m             \u001b[0mRendererAgg\u001b[0m\u001b[0;34m.\u001b[0m\u001b[0mlock\u001b[0m\u001b[0;34m.\u001b[0m\u001b[0mrelease\u001b[0m\u001b[0;34m(\u001b[0m\u001b[0;34m)\u001b[0m\u001b[0;34m\u001b[0m\u001b[0m\n",
      "\u001b[0;32m/home/lindsayad/miniconda3/lib/python3.6/site-packages/matplotlib/artist.py\u001b[0m in \u001b[0;36mdraw_wrapper\u001b[0;34m(artist, renderer, *args, **kwargs)\u001b[0m\n\u001b[1;32m     61\u001b[0m     \u001b[0;32mdef\u001b[0m \u001b[0mdraw_wrapper\u001b[0m\u001b[0;34m(\u001b[0m\u001b[0martist\u001b[0m\u001b[0;34m,\u001b[0m \u001b[0mrenderer\u001b[0m\u001b[0;34m,\u001b[0m \u001b[0;34m*\u001b[0m\u001b[0margs\u001b[0m\u001b[0;34m,\u001b[0m \u001b[0;34m**\u001b[0m\u001b[0mkwargs\u001b[0m\u001b[0;34m)\u001b[0m\u001b[0;34m:\u001b[0m\u001b[0;34m\u001b[0m\u001b[0m\n\u001b[1;32m     62\u001b[0m         \u001b[0mbefore\u001b[0m\u001b[0;34m(\u001b[0m\u001b[0martist\u001b[0m\u001b[0;34m,\u001b[0m \u001b[0mrenderer\u001b[0m\u001b[0;34m)\u001b[0m\u001b[0;34m\u001b[0m\u001b[0m\n\u001b[0;32m---> 63\u001b[0;31m         \u001b[0mdraw\u001b[0m\u001b[0;34m(\u001b[0m\u001b[0martist\u001b[0m\u001b[0;34m,\u001b[0m \u001b[0mrenderer\u001b[0m\u001b[0;34m,\u001b[0m \u001b[0;34m*\u001b[0m\u001b[0margs\u001b[0m\u001b[0;34m,\u001b[0m \u001b[0;34m**\u001b[0m\u001b[0mkwargs\u001b[0m\u001b[0;34m)\u001b[0m\u001b[0;34m\u001b[0m\u001b[0m\n\u001b[0m\u001b[1;32m     64\u001b[0m         \u001b[0mafter\u001b[0m\u001b[0;34m(\u001b[0m\u001b[0martist\u001b[0m\u001b[0;34m,\u001b[0m \u001b[0mrenderer\u001b[0m\u001b[0;34m)\u001b[0m\u001b[0;34m\u001b[0m\u001b[0m\n\u001b[1;32m     65\u001b[0m \u001b[0;34m\u001b[0m\u001b[0m\n",
      "\u001b[0;32m/home/lindsayad/miniconda3/lib/python3.6/site-packages/matplotlib/figure.py\u001b[0m in \u001b[0;36mdraw\u001b[0;34m(self, renderer)\u001b[0m\n\u001b[1;32m   1141\u001b[0m \u001b[0;34m\u001b[0m\u001b[0m\n\u001b[1;32m   1142\u001b[0m             mimage._draw_list_compositing_images(\n\u001b[0;32m-> 1143\u001b[0;31m                 renderer, self, dsu, self.suppressComposite)\n\u001b[0m\u001b[1;32m   1144\u001b[0m \u001b[0;34m\u001b[0m\u001b[0m\n\u001b[1;32m   1145\u001b[0m             \u001b[0mrenderer\u001b[0m\u001b[0;34m.\u001b[0m\u001b[0mclose_group\u001b[0m\u001b[0;34m(\u001b[0m\u001b[0;34m'figure'\u001b[0m\u001b[0;34m)\u001b[0m\u001b[0;34m\u001b[0m\u001b[0m\n",
      "\u001b[0;32m/home/lindsayad/miniconda3/lib/python3.6/site-packages/matplotlib/image.py\u001b[0m in \u001b[0;36m_draw_list_compositing_images\u001b[0;34m(renderer, parent, dsu, suppress_composite)\u001b[0m\n\u001b[1;32m    137\u001b[0m     \u001b[0;32mif\u001b[0m \u001b[0mnot_composite\u001b[0m \u001b[0;32mor\u001b[0m \u001b[0;32mnot\u001b[0m \u001b[0mhas_images\u001b[0m\u001b[0;34m:\u001b[0m\u001b[0;34m\u001b[0m\u001b[0m\n\u001b[1;32m    138\u001b[0m         \u001b[0;32mfor\u001b[0m \u001b[0mzorder\u001b[0m\u001b[0;34m,\u001b[0m \u001b[0ma\u001b[0m \u001b[0;32min\u001b[0m \u001b[0mdsu\u001b[0m\u001b[0;34m:\u001b[0m\u001b[0;34m\u001b[0m\u001b[0m\n\u001b[0;32m--> 139\u001b[0;31m             \u001b[0ma\u001b[0m\u001b[0;34m.\u001b[0m\u001b[0mdraw\u001b[0m\u001b[0;34m(\u001b[0m\u001b[0mrenderer\u001b[0m\u001b[0;34m)\u001b[0m\u001b[0;34m\u001b[0m\u001b[0m\n\u001b[0m\u001b[1;32m    140\u001b[0m     \u001b[0;32melse\u001b[0m\u001b[0;34m:\u001b[0m\u001b[0;34m\u001b[0m\u001b[0m\n\u001b[1;32m    141\u001b[0m         \u001b[0;31m# Composite any adjacent images together\u001b[0m\u001b[0;34m\u001b[0m\u001b[0;34m\u001b[0m\u001b[0m\n",
      "\u001b[0;32m/home/lindsayad/miniconda3/lib/python3.6/site-packages/matplotlib/artist.py\u001b[0m in \u001b[0;36mdraw_wrapper\u001b[0;34m(artist, renderer, *args, **kwargs)\u001b[0m\n\u001b[1;32m     61\u001b[0m     \u001b[0;32mdef\u001b[0m \u001b[0mdraw_wrapper\u001b[0m\u001b[0;34m(\u001b[0m\u001b[0martist\u001b[0m\u001b[0;34m,\u001b[0m \u001b[0mrenderer\u001b[0m\u001b[0;34m,\u001b[0m \u001b[0;34m*\u001b[0m\u001b[0margs\u001b[0m\u001b[0;34m,\u001b[0m \u001b[0;34m**\u001b[0m\u001b[0mkwargs\u001b[0m\u001b[0;34m)\u001b[0m\u001b[0;34m:\u001b[0m\u001b[0;34m\u001b[0m\u001b[0m\n\u001b[1;32m     62\u001b[0m         \u001b[0mbefore\u001b[0m\u001b[0;34m(\u001b[0m\u001b[0martist\u001b[0m\u001b[0;34m,\u001b[0m \u001b[0mrenderer\u001b[0m\u001b[0;34m)\u001b[0m\u001b[0;34m\u001b[0m\u001b[0m\n\u001b[0;32m---> 63\u001b[0;31m         \u001b[0mdraw\u001b[0m\u001b[0;34m(\u001b[0m\u001b[0martist\u001b[0m\u001b[0;34m,\u001b[0m \u001b[0mrenderer\u001b[0m\u001b[0;34m,\u001b[0m \u001b[0;34m*\u001b[0m\u001b[0margs\u001b[0m\u001b[0;34m,\u001b[0m \u001b[0;34m**\u001b[0m\u001b[0mkwargs\u001b[0m\u001b[0;34m)\u001b[0m\u001b[0;34m\u001b[0m\u001b[0m\n\u001b[0m\u001b[1;32m     64\u001b[0m         \u001b[0mafter\u001b[0m\u001b[0;34m(\u001b[0m\u001b[0martist\u001b[0m\u001b[0;34m,\u001b[0m \u001b[0mrenderer\u001b[0m\u001b[0;34m)\u001b[0m\u001b[0;34m\u001b[0m\u001b[0m\n\u001b[1;32m     65\u001b[0m \u001b[0;34m\u001b[0m\u001b[0m\n",
      "\u001b[0;32m/home/lindsayad/miniconda3/lib/python3.6/site-packages/matplotlib/axes/_base.py\u001b[0m in \u001b[0;36mdraw\u001b[0;34m(self, renderer, inframe)\u001b[0m\n\u001b[1;32m   2407\u001b[0m             \u001b[0mrenderer\u001b[0m\u001b[0;34m.\u001b[0m\u001b[0mstop_rasterizing\u001b[0m\u001b[0;34m(\u001b[0m\u001b[0;34m)\u001b[0m\u001b[0;34m\u001b[0m\u001b[0m\n\u001b[1;32m   2408\u001b[0m \u001b[0;34m\u001b[0m\u001b[0m\n\u001b[0;32m-> 2409\u001b[0;31m         \u001b[0mmimage\u001b[0m\u001b[0;34m.\u001b[0m\u001b[0m_draw_list_compositing_images\u001b[0m\u001b[0;34m(\u001b[0m\u001b[0mrenderer\u001b[0m\u001b[0;34m,\u001b[0m \u001b[0mself\u001b[0m\u001b[0;34m,\u001b[0m \u001b[0mdsu\u001b[0m\u001b[0;34m)\u001b[0m\u001b[0;34m\u001b[0m\u001b[0m\n\u001b[0m\u001b[1;32m   2410\u001b[0m \u001b[0;34m\u001b[0m\u001b[0m\n\u001b[1;32m   2411\u001b[0m         \u001b[0mrenderer\u001b[0m\u001b[0;34m.\u001b[0m\u001b[0mclose_group\u001b[0m\u001b[0;34m(\u001b[0m\u001b[0;34m'axes'\u001b[0m\u001b[0;34m)\u001b[0m\u001b[0;34m\u001b[0m\u001b[0m\n",
      "\u001b[0;32m/home/lindsayad/miniconda3/lib/python3.6/site-packages/matplotlib/image.py\u001b[0m in \u001b[0;36m_draw_list_compositing_images\u001b[0;34m(renderer, parent, dsu, suppress_composite)\u001b[0m\n\u001b[1;32m    137\u001b[0m     \u001b[0;32mif\u001b[0m \u001b[0mnot_composite\u001b[0m \u001b[0;32mor\u001b[0m \u001b[0;32mnot\u001b[0m \u001b[0mhas_images\u001b[0m\u001b[0;34m:\u001b[0m\u001b[0;34m\u001b[0m\u001b[0m\n\u001b[1;32m    138\u001b[0m         \u001b[0;32mfor\u001b[0m \u001b[0mzorder\u001b[0m\u001b[0;34m,\u001b[0m \u001b[0ma\u001b[0m \u001b[0;32min\u001b[0m \u001b[0mdsu\u001b[0m\u001b[0;34m:\u001b[0m\u001b[0;34m\u001b[0m\u001b[0m\n\u001b[0;32m--> 139\u001b[0;31m             \u001b[0ma\u001b[0m\u001b[0;34m.\u001b[0m\u001b[0mdraw\u001b[0m\u001b[0;34m(\u001b[0m\u001b[0mrenderer\u001b[0m\u001b[0;34m)\u001b[0m\u001b[0;34m\u001b[0m\u001b[0m\n\u001b[0m\u001b[1;32m    140\u001b[0m     \u001b[0;32melse\u001b[0m\u001b[0;34m:\u001b[0m\u001b[0;34m\u001b[0m\u001b[0m\n\u001b[1;32m    141\u001b[0m         \u001b[0;31m# Composite any adjacent images together\u001b[0m\u001b[0;34m\u001b[0m\u001b[0;34m\u001b[0m\u001b[0m\n",
      "\u001b[0;32m/home/lindsayad/miniconda3/lib/python3.6/site-packages/matplotlib/artist.py\u001b[0m in \u001b[0;36mdraw_wrapper\u001b[0;34m(artist, renderer, *args, **kwargs)\u001b[0m\n\u001b[1;32m     61\u001b[0m     \u001b[0;32mdef\u001b[0m \u001b[0mdraw_wrapper\u001b[0m\u001b[0;34m(\u001b[0m\u001b[0martist\u001b[0m\u001b[0;34m,\u001b[0m \u001b[0mrenderer\u001b[0m\u001b[0;34m,\u001b[0m \u001b[0;34m*\u001b[0m\u001b[0margs\u001b[0m\u001b[0;34m,\u001b[0m \u001b[0;34m**\u001b[0m\u001b[0mkwargs\u001b[0m\u001b[0;34m)\u001b[0m\u001b[0;34m:\u001b[0m\u001b[0;34m\u001b[0m\u001b[0m\n\u001b[1;32m     62\u001b[0m         \u001b[0mbefore\u001b[0m\u001b[0;34m(\u001b[0m\u001b[0martist\u001b[0m\u001b[0;34m,\u001b[0m \u001b[0mrenderer\u001b[0m\u001b[0;34m)\u001b[0m\u001b[0;34m\u001b[0m\u001b[0m\n\u001b[0;32m---> 63\u001b[0;31m         \u001b[0mdraw\u001b[0m\u001b[0;34m(\u001b[0m\u001b[0martist\u001b[0m\u001b[0;34m,\u001b[0m \u001b[0mrenderer\u001b[0m\u001b[0;34m,\u001b[0m \u001b[0;34m*\u001b[0m\u001b[0margs\u001b[0m\u001b[0;34m,\u001b[0m \u001b[0;34m**\u001b[0m\u001b[0mkwargs\u001b[0m\u001b[0;34m)\u001b[0m\u001b[0;34m\u001b[0m\u001b[0m\n\u001b[0m\u001b[1;32m     64\u001b[0m         \u001b[0mafter\u001b[0m\u001b[0;34m(\u001b[0m\u001b[0martist\u001b[0m\u001b[0;34m,\u001b[0m \u001b[0mrenderer\u001b[0m\u001b[0;34m)\u001b[0m\u001b[0;34m\u001b[0m\u001b[0m\n\u001b[1;32m     65\u001b[0m \u001b[0;34m\u001b[0m\u001b[0m\n",
      "\u001b[0;32m/home/lindsayad/miniconda3/lib/python3.6/site-packages/matplotlib/text.py\u001b[0m in \u001b[0;36mdraw\u001b[0;34m(self, renderer)\u001b[0m\n\u001b[1;32m    800\u001b[0m                     textrenderer.draw_text(gc, x, y, clean_line,\n\u001b[1;32m    801\u001b[0m                                            \u001b[0mtextobj\u001b[0m\u001b[0;34m.\u001b[0m\u001b[0m_fontproperties\u001b[0m\u001b[0;34m,\u001b[0m \u001b[0mangle\u001b[0m\u001b[0;34m,\u001b[0m\u001b[0;34m\u001b[0m\u001b[0m\n\u001b[0;32m--> 802\u001b[0;31m                                            ismath=ismath, mtext=mtext)\n\u001b[0m\u001b[1;32m    803\u001b[0m \u001b[0;34m\u001b[0m\u001b[0m\n\u001b[1;32m    804\u001b[0m         \u001b[0mgc\u001b[0m\u001b[0;34m.\u001b[0m\u001b[0mrestore\u001b[0m\u001b[0;34m(\u001b[0m\u001b[0;34m)\u001b[0m\u001b[0;34m\u001b[0m\u001b[0m\n",
      "\u001b[0;32m/home/lindsayad/miniconda3/lib/python3.6/site-packages/matplotlib/backends/backend_agg.py\u001b[0m in \u001b[0;36mdraw_text\u001b[0;34m(self, gc, x, y, s, prop, angle, ismath, mtext)\u001b[0m\n\u001b[1;32m    188\u001b[0m \u001b[0;34m\u001b[0m\u001b[0m\n\u001b[1;32m    189\u001b[0m         \u001b[0;32mif\u001b[0m \u001b[0mismath\u001b[0m\u001b[0;34m:\u001b[0m\u001b[0;34m\u001b[0m\u001b[0m\n\u001b[0;32m--> 190\u001b[0;31m             \u001b[0;32mreturn\u001b[0m \u001b[0mself\u001b[0m\u001b[0;34m.\u001b[0m\u001b[0mdraw_mathtext\u001b[0m\u001b[0;34m(\u001b[0m\u001b[0mgc\u001b[0m\u001b[0;34m,\u001b[0m \u001b[0mx\u001b[0m\u001b[0;34m,\u001b[0m \u001b[0my\u001b[0m\u001b[0;34m,\u001b[0m \u001b[0ms\u001b[0m\u001b[0;34m,\u001b[0m \u001b[0mprop\u001b[0m\u001b[0;34m,\u001b[0m \u001b[0mangle\u001b[0m\u001b[0;34m)\u001b[0m\u001b[0;34m\u001b[0m\u001b[0m\n\u001b[0m\u001b[1;32m    191\u001b[0m \u001b[0;34m\u001b[0m\u001b[0m\n\u001b[1;32m    192\u001b[0m         \u001b[0mflags\u001b[0m \u001b[0;34m=\u001b[0m \u001b[0mget_hinting_flag\u001b[0m\u001b[0;34m(\u001b[0m\u001b[0;34m)\u001b[0m\u001b[0;34m\u001b[0m\u001b[0m\n",
      "\u001b[0;32m/home/lindsayad/miniconda3/lib/python3.6/site-packages/matplotlib/backends/backend_agg.py\u001b[0m in \u001b[0;36mdraw_mathtext\u001b[0;34m(self, gc, x, y, s, prop, angle)\u001b[0m\n\u001b[1;32m    173\u001b[0m                                      'debug-annoying')\n\u001b[1;32m    174\u001b[0m         \u001b[0mox\u001b[0m\u001b[0;34m,\u001b[0m \u001b[0moy\u001b[0m\u001b[0;34m,\u001b[0m \u001b[0mwidth\u001b[0m\u001b[0;34m,\u001b[0m \u001b[0mheight\u001b[0m\u001b[0;34m,\u001b[0m \u001b[0mdescent\u001b[0m\u001b[0;34m,\u001b[0m \u001b[0mfont_image\u001b[0m\u001b[0;34m,\u001b[0m \u001b[0mused_characters\u001b[0m \u001b[0;34m=\u001b[0m\u001b[0;31m \u001b[0m\u001b[0;31m\\\u001b[0m\u001b[0;34m\u001b[0m\u001b[0m\n\u001b[0;32m--> 175\u001b[0;31m             \u001b[0mself\u001b[0m\u001b[0;34m.\u001b[0m\u001b[0mmathtext_parser\u001b[0m\u001b[0;34m.\u001b[0m\u001b[0mparse\u001b[0m\u001b[0;34m(\u001b[0m\u001b[0ms\u001b[0m\u001b[0;34m,\u001b[0m \u001b[0mself\u001b[0m\u001b[0;34m.\u001b[0m\u001b[0mdpi\u001b[0m\u001b[0;34m,\u001b[0m \u001b[0mprop\u001b[0m\u001b[0;34m)\u001b[0m\u001b[0;34m\u001b[0m\u001b[0m\n\u001b[0m\u001b[1;32m    176\u001b[0m \u001b[0;34m\u001b[0m\u001b[0m\n\u001b[1;32m    177\u001b[0m         \u001b[0mxd\u001b[0m \u001b[0;34m=\u001b[0m \u001b[0mdescent\u001b[0m \u001b[0;34m*\u001b[0m \u001b[0msin\u001b[0m\u001b[0;34m(\u001b[0m\u001b[0mradians\u001b[0m\u001b[0;34m(\u001b[0m\u001b[0mangle\u001b[0m\u001b[0;34m)\u001b[0m\u001b[0;34m)\u001b[0m\u001b[0;34m\u001b[0m\u001b[0m\n",
      "\u001b[0;32m/home/lindsayad/miniconda3/lib/python3.6/site-packages/matplotlib/mathtext.py\u001b[0m in \u001b[0;36mparse\u001b[0;34m(self, s, dpi, prop)\u001b[0m\n\u001b[1;32m   3287\u001b[0m             \u001b[0mself\u001b[0m\u001b[0;34m.\u001b[0m\u001b[0m__class__\u001b[0m\u001b[0;34m.\u001b[0m\u001b[0m_parser\u001b[0m \u001b[0;34m=\u001b[0m \u001b[0mParser\u001b[0m\u001b[0;34m(\u001b[0m\u001b[0;34m)\u001b[0m\u001b[0;34m\u001b[0m\u001b[0m\n\u001b[1;32m   3288\u001b[0m \u001b[0;34m\u001b[0m\u001b[0m\n\u001b[0;32m-> 3289\u001b[0;31m         \u001b[0mbox\u001b[0m \u001b[0;34m=\u001b[0m \u001b[0mself\u001b[0m\u001b[0;34m.\u001b[0m\u001b[0m_parser\u001b[0m\u001b[0;34m.\u001b[0m\u001b[0mparse\u001b[0m\u001b[0;34m(\u001b[0m\u001b[0ms\u001b[0m\u001b[0;34m,\u001b[0m \u001b[0mfont_output\u001b[0m\u001b[0;34m,\u001b[0m \u001b[0mfontsize\u001b[0m\u001b[0;34m,\u001b[0m \u001b[0mdpi\u001b[0m\u001b[0;34m)\u001b[0m\u001b[0;34m\u001b[0m\u001b[0m\n\u001b[0m\u001b[1;32m   3290\u001b[0m         \u001b[0mfont_output\u001b[0m\u001b[0;34m.\u001b[0m\u001b[0mset_canvas_size\u001b[0m\u001b[0;34m(\u001b[0m\u001b[0mbox\u001b[0m\u001b[0;34m.\u001b[0m\u001b[0mwidth\u001b[0m\u001b[0;34m,\u001b[0m \u001b[0mbox\u001b[0m\u001b[0;34m.\u001b[0m\u001b[0mheight\u001b[0m\u001b[0;34m,\u001b[0m \u001b[0mbox\u001b[0m\u001b[0;34m.\u001b[0m\u001b[0mdepth\u001b[0m\u001b[0;34m)\u001b[0m\u001b[0;34m\u001b[0m\u001b[0m\n\u001b[1;32m   3291\u001b[0m         \u001b[0mresult\u001b[0m \u001b[0;34m=\u001b[0m \u001b[0mfont_output\u001b[0m\u001b[0;34m.\u001b[0m\u001b[0mget_results\u001b[0m\u001b[0;34m(\u001b[0m\u001b[0mbox\u001b[0m\u001b[0;34m)\u001b[0m\u001b[0;34m\u001b[0m\u001b[0m\n",
      "\u001b[0;32m/home/lindsayad/miniconda3/lib/python3.6/site-packages/matplotlib/mathtext.py\u001b[0m in \u001b[0;36mparse\u001b[0;34m(self, s, fonts_object, fontsize, dpi)\u001b[0m\n\u001b[1;32m   2521\u001b[0m                         \u001b[0merr\u001b[0m\u001b[0;34m.\u001b[0m\u001b[0mline\u001b[0m\u001b[0;34m,\u001b[0m\u001b[0;34m\u001b[0m\u001b[0m\n\u001b[1;32m   2522\u001b[0m                         \u001b[0;34m\" \"\u001b[0m \u001b[0;34m*\u001b[0m \u001b[0;34m(\u001b[0m\u001b[0merr\u001b[0m\u001b[0;34m.\u001b[0m\u001b[0mcolumn\u001b[0m \u001b[0;34m-\u001b[0m \u001b[0;36m1\u001b[0m\u001b[0;34m)\u001b[0m \u001b[0;34m+\u001b[0m \u001b[0;34m\"^\"\u001b[0m\u001b[0;34m,\u001b[0m\u001b[0;34m\u001b[0m\u001b[0m\n\u001b[0;32m-> 2523\u001b[0;31m                         six.text_type(err)]))\n\u001b[0m\u001b[1;32m   2524\u001b[0m         \u001b[0mself\u001b[0m\u001b[0;34m.\u001b[0m\u001b[0m_state_stack\u001b[0m \u001b[0;34m=\u001b[0m \u001b[0;32mNone\u001b[0m\u001b[0;34m\u001b[0m\u001b[0m\n\u001b[1;32m   2525\u001b[0m         \u001b[0mself\u001b[0m\u001b[0;34m.\u001b[0m\u001b[0m_em_width_cache\u001b[0m \u001b[0;34m=\u001b[0m \u001b[0;34m{\u001b[0m\u001b[0;34m}\u001b[0m\u001b[0;34m\u001b[0m\u001b[0m\n",
      "\u001b[0;31mValueError\u001b[0m: \n\\displaystyle\\sum_{n=1}^\\infty\\frac{-e^{i\\pi}}{2^n}\n^\nUnknown symbol: \\displaystyle (at char 0), (line:1, col:1)"
     ]
    }
   ],
   "source": [
    "import numpy as np\n",
    "import matplotlib.pyplot as plt\n",
    "\n",
    "\n",
    "# Example data\n",
    "t = np.arange(0.0, 1.0 + 0.01, 0.01)\n",
    "s = np.cos(4 * np.pi * t) + 2\n",
    "\n",
    "plt.rc('text', usetex=True)\n",
    "plt.rc('font', family='serif')\n",
    "plt.plot(t, s)\n",
    "\n",
    "plt.xlabel(r'\\textbf{time} (s)')\n",
    "plt.ylabel(r'\\textit{voltage} (mV)',fontsize=16)\n",
    "plt.title(r\"\\TeX\\ is Number \"\n",
    "          r\"$\\displaystyle\\sum_{n=1}^\\infty\\frac{-e^{i\\pi}}{2^n}$!\",\n",
    "          fontsize=16, color='gray')\n",
    "# Make room for the ridiculously large title.\n",
    "plt.subplots_adjust(top=0.8)\n",
    "\n",
    "plt.savefig('tex_demo')\n",
    "plt.show()"
   ]
  },
  {
   "cell_type": "code",
   "execution_count": 15,
   "metadata": {
    "collapsed": false
   },
   "outputs": [
    {
     "data": {
      "image/png": "[encoded data removed]",
      "text/plain": [
       "<matplotlib.figure.Figure at 0x7f69f85257f0>"
      ]
     },
     "metadata": {},
     "output_type": "display_data"
    }
   ],
   "source": [
    "import numpy as np\n",
    "import matplotlib.pyplot as plt\n",
    "\n",
    "\n",
    "# Example data\n",
    "t = np.arange(0.0, 1.0 + 0.01, 0.01)\n",
    "s = np.cos(4 * np.pi * t) + 2\n",
    "\n",
    "from matplotlib import rcParams\n",
    "rcParams['font.family'] = 'serif'\n",
    "rcParams['font.size'] = 17\n",
    "rcParams['font.serif'] = ['Computer Modern Roman']\n",
    "rcParams['text.usetex'] = True\n",
    "\n",
    "plt.plot(t, s)\n",
    "plt.xlabel(r'\\textbf{time} (s)')\n",
    "plt.ylabel(r'\\textit{voltage} (mV)',fontsize=16)\n",
    "plt.title(r\"\\TeX\\ is Number \"\n",
    "          r\"$\\displaystyle\\sum_{n=1}^\\infty\\frac{-e^{i\\pi}}{2^n}$!\",\n",
    "          fontsize=16, color='gray')\n",
    "# Make room for the ridiculously large title.\n",
    "plt.subplots_adjust(top=0.8)\n",
    "\n",
    "plt.savefig('tex_demo')\n",
    "plt.show()"
   ]
  },
  {
   "cell_type": "code",
   "execution_count": 19,
   "metadata": {
    "collapsed": false
   },
   "outputs": [
    {
     "data": {
      "text/plain": [
       "'/home/lindsayad/projects/zapdos/tests/TM10_circular_wg/gold'"
      ]
     },
     "execution_count": 19,
     "metadata": {},
     "output_type": "execute_result"
    }
   ],
   "source": [
    "pwd"
   ]
  },
  {
   "cell_type": "code",
   "execution_count": 21,
   "metadata": {
    "collapsed": false
   },
   "outputs": [
    {
     "name": "stdout",
     "output_type": "stream",
     "text": [
      "current_carrying_wire_out.e\r\n"
     ]
    }
   ],
   "source": [
    "ls"
   ]
  },
  {
   "cell_type": "code",
   "execution_count": 1,
   "metadata": {
    "collapsed": false
   },
   "outputs": [
    {
     "name": "stdout",
     "output_type": "stream",
     "text": [
      "/home/lindsayad/projects/zapdos/tests/current_carrying_wire/gold\n"
     ]
    }
   ],
   "source": [
    "cd /home/lindsayad/projects/zapdos/tests/current_carrying_wire/gold/"
   ]
  },
  {
   "cell_type": "code",
   "execution_count": 2,
   "metadata": {
    "collapsed": false
   },
   "outputs": [
    {
     "data": {
      "image/png": "[encoded data removed]",
      "text/plain": [
       "<matplotlib.figure.Figure at 0x7fd8281a3400>"
      ]
     },
     "metadata": {},
     "output_type": "display_data"
    }
   ],
   "source": [
    "import yt\n",
    "\n",
    "dscc = yt.load(\"current_carrying_wire_out.e\", step=-1)\n",
    "dscc.field_list\n",
    "\n",
    "import numpy as np\n",
    "import matplotlib.pyplot as plt\n",
    "\n",
    "from yt.geometry.coordinates.cartesian_coordinates import CartesianCoordinateHandler\n",
    "\n",
    "handler = CartesianCoordinateHandler(dscc)\n",
    "\n",
    "arc_length, values = handler.line_plot(('all', 'Bphi'), np.array([0, 0, 0.]), np.array([2, 0, 0.]), 100)\n",
    "plt.plot(arc_length, values)\n",
    "plt.show()"
   ]
  },
  {
   "cell_type": "code",
   "execution_count": 8,
   "metadata": {
    "collapsed": false
   },
   "outputs": [
    {
     "data": {
      "text/html": [
       "<img style=\"max-width:100%%;max-height:100%%;\" src=\"data:image/png;base64,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\"><br>"
      ],
      "text/plain": [
       "<yt.visualization.plot_window.AxisAlignedSlicePlot at 0x7f9e5d59dda0>"
      ]
     },
     "metadata": {},
     "output_type": "display_data"
    }
   ],
   "source": [
    "slc = yt.SlicePlot(dscc, 'z', ('all', 'Bphi'))\n",
    "slc.set_log(('all', 'Bphi'), False)\n",
    "# slc.set_xlabel(\"r (mm)\")\n",
    "# slc.set_ylabel(\"z (mm)\")\n",
    "# slc.set_colorbar_label(field, field_label[field_name])\n",
    "# slc.set_figure_size(1.2)\n",
    "# slc.set_width((.015, .09))\n",
    "slc.show()"
   ]
  },
  {
   "cell_type": "code",
   "execution_count": 9,
   "metadata": {
    "collapsed": false
   },
   "outputs": [
    {
     "data": {
      "text/plain": [
       "['__class__',\n",
       " '__delattr__',\n",
       " '__dict__',\n",
       " '__dir__',\n",
       " '__doc__',\n",
       " '__eq__',\n",
       " '__format__',\n",
       " '__ge__',\n",
       " '__getattribute__',\n",
       " '__getitem__',\n",
       " '__gt__',\n",
       " '__hash__',\n",
       " '__init__',\n",
       " '__init_subclass__',\n",
       " '__iter__',\n",
       " '__le__',\n",
       " '__lt__',\n",
       " '__module__',\n",
       " '__ne__',\n",
       " '__new__',\n",
       " '__reduce__',\n",
       " '__reduce_ex__',\n",
       " '__repr__',\n",
       " '__setattr__',\n",
       " '__sizeof__',\n",
       " '__str__',\n",
       " '__subclasshook__',\n",
       " '__weakref__',\n",
       " '_add_object_class',\n",
       " '_apply_displacement',\n",
       " '_arr',\n",
       " '_assign_unit_system',\n",
       " '_checksum',\n",
       " '_create_unit_registry',\n",
       " '_field_info_class',\n",
       " '_get_current_time',\n",
       " '_get_elem_names',\n",
       " '_get_field_info',\n",
       " '_get_fluid_types',\n",
       " '_get_glo_names',\n",
       " '_get_nod_names',\n",
       " '_get_unique_identifier',\n",
       " '_guess_candidates',\n",
       " '_handle',\n",
       " '_hash',\n",
       " '_index_class',\n",
       " '_index_proxy',\n",
       " '_instantiated',\n",
       " '_instantiated_index',\n",
       " '_is_valid',\n",
       " '_last_finfo',\n",
       " '_last_freq',\n",
       " '_load_domain_edge',\n",
       " '_load_info_records',\n",
       " '_max_level',\n",
       " '_mrep',\n",
       " '_override_code_units',\n",
       " '_parse_parameter_file',\n",
       " '_particle_type_counts',\n",
       " '_quan',\n",
       " '_read_connectivity',\n",
       " '_read_coordinates',\n",
       " '_read_glo_var',\n",
       " '_set_code_unit_attributes',\n",
       " '_set_derived_attrs',\n",
       " '_setup_classes',\n",
       " '_setup_coordinate_handler',\n",
       " '_setup_filtered_type',\n",
       " '_setup_particle_type',\n",
       " '_setup_particle_types',\n",
       " '_skip_cache',\n",
       " 'add_deposited_particle_field',\n",
       " 'add_field',\n",
       " 'add_gradient_fields',\n",
       " 'add_particle_filter',\n",
       " 'add_particle_union',\n",
       " 'add_smoothed_particle_field',\n",
       " 'all_data',\n",
       " 'arbitrary_grid',\n",
       " 'arr',\n",
       " 'backup_filename',\n",
       " 'basename',\n",
       " 'bool',\n",
       " 'box',\n",
       " 'checksum',\n",
       " 'close',\n",
       " 'conversion_factors',\n",
       " 'coordinates',\n",
       " 'cosmological_simulation',\n",
       " 'covering_grid',\n",
       " 'create_field_info',\n",
       " 'current_redshift',\n",
       " 'current_time',\n",
       " 'cut_region',\n",
       " 'cutting',\n",
       " 'data_collection',\n",
       " 'dataset_type',\n",
       " 'default_field',\n",
       " 'default_fluid_type',\n",
       " 'define_unit',\n",
       " 'derived_field_list',\n",
       " 'dimensionality',\n",
       " 'directory',\n",
       " 'disk',\n",
       " 'displacements',\n",
       " 'domain_center',\n",
       " 'domain_dimensions',\n",
       " 'domain_left_edge',\n",
       " 'domain_right_edge',\n",
       " 'domain_width',\n",
       " 'ellipsoid',\n",
       " 'field_dependencies',\n",
       " 'field_info',\n",
       " 'field_list',\n",
       " 'field_units',\n",
       " 'fields',\n",
       " 'file_style',\n",
       " 'filtered_particle_types',\n",
       " 'find_field_values_at_point',\n",
       " 'find_field_values_at_points',\n",
       " 'find_max',\n",
       " 'find_min',\n",
       " 'fluid_types',\n",
       " 'fullpath',\n",
       " 'geometry',\n",
       " 'get_smallest_appropriate_unit',\n",
       " 'get_unit_from_registry',\n",
       " 'h',\n",
       " 'halo',\n",
       " 'has_key',\n",
       " 'hierarchy',\n",
       " 'hub_upload',\n",
       " 'hubble_constant',\n",
       " 'index',\n",
       " 'index_filename',\n",
       " 'intersection',\n",
       " 'ires_factor',\n",
       " 'known_filters',\n",
       " 'length_unit',\n",
       " 'mass_unit',\n",
       " 'max_level',\n",
       " 'min_level',\n",
       " 'no_cgs_equiv_length',\n",
       " 'num_steps',\n",
       " 'object_types',\n",
       " 'objects',\n",
       " 'omega_lambda',\n",
       " 'omega_matter',\n",
       " 'ortho_ray',\n",
       " 'parameter_filename',\n",
       " 'parameters',\n",
       " 'particle_fields_by_type',\n",
       " 'particle_type_counts',\n",
       " 'particle_types',\n",
       " 'particle_types_raw',\n",
       " 'particle_unions',\n",
       " 'particles_exist',\n",
       " 'periodicity',\n",
       " 'plots',\n",
       " 'point',\n",
       " 'print_key_parameters',\n",
       " 'print_stats',\n",
       " 'proj',\n",
       " 'quan',\n",
       " 'r',\n",
       " 'ray',\n",
       " 'read_from_backup',\n",
       " 'refine_by',\n",
       " 'region',\n",
       " 'region_expression',\n",
       " 'relative_refinement',\n",
       " 'set_code_units',\n",
       " 'set_units',\n",
       " 'setup_deprecated_fields',\n",
       " 'slice',\n",
       " 'smoothed_covering_grid',\n",
       " 'sphere',\n",
       " 'step',\n",
       " 'storage_filename',\n",
       " 'streamline',\n",
       " 'surface',\n",
       " 'time_unit',\n",
       " 'union',\n",
       " 'unique_identifier',\n",
       " 'unit_registry',\n",
       " 'unit_system',\n",
       " 'units_override']"
      ]
     },
     "execution_count": 9,
     "metadata": {},
     "output_type": "execute_result"
    }
   ],
   "source": [
    "dir(dscc)"
   ]
  },
  {
   "cell_type": "code",
   "execution_count": 11,
   "metadata": {
    "collapsed": false
   },
   "outputs": [
    {
     "data": {
      "text/plain": [
       "YTArray([ 2.4,  1. ,  1. ]) code_length"
      ]
     },
     "execution_count": 11,
     "metadata": {},
     "output_type": "execute_result"
    }
   ],
   "source": [
    "dscc.domain_width"
   ]
  },
  {
   "cell_type": "code",
   "execution_count": 20,
   "metadata": {
    "collapsed": false
   },
   "outputs": [
    {
     "data": {
      "text/plain": [
       "2.0"
      ]
     },
     "execution_count": 20,
     "metadata": {},
     "output_type": "execute_result"
    }
   ],
   "source": [
    "dscc.index.meshes[0].connectivity_coords.max()"
   ]
  },
  {
   "cell_type": "code",
   "execution_count": 17,
   "metadata": {
    "collapsed": false
   },
   "outputs": [
    {
     "data": {
      "text/plain": [
       "['__add__',\n",
       " '__and__',\n",
       " '__class__',\n",
       " '__delattr__',\n",
       " '__delitem__',\n",
       " '__dict__',\n",
       " '__dir__',\n",
       " '__doc__',\n",
       " '__eq__',\n",
       " '__format__',\n",
       " '__ge__',\n",
       " '__getattribute__',\n",
       " '__getitem__',\n",
       " '__gt__',\n",
       " '__hash__',\n",
       " '__init__',\n",
       " '__init_subclass__',\n",
       " '__invert__',\n",
       " '__le__',\n",
       " '__lt__',\n",
       " '__module__',\n",
       " '__ne__',\n",
       " '__new__',\n",
       " '__or__',\n",
       " '__reduce__',\n",
       " '__reduce_ex__',\n",
       " '__repr__',\n",
       " '__setattr__',\n",
       " '__setitem__',\n",
       " '__sizeof__',\n",
       " '__str__',\n",
       " '__sub__',\n",
       " '__subclasshook__',\n",
       " '__weakref__',\n",
       " '__xor__',\n",
       " '_activate_cache',\n",
       " '_check_consistency',\n",
       " '_chunk_info',\n",
       " '_chunked_read',\n",
       " '_compute_extrema',\n",
       " '_con_args',\n",
       " '_connectivity_length',\n",
       " '_container_fields',\n",
       " '_count_particles',\n",
       " '_current_chunk',\n",
       " '_current_fluid_type',\n",
       " '_current_particle_type',\n",
       " '_data_source',\n",
       " '_debug',\n",
       " '_determine_fields',\n",
       " '_dimensionality',\n",
       " '_distributed',\n",
       " '_extrema_cache',\n",
       " '_field_cache',\n",
       " '_field_lock',\n",
       " '_field_parameter_state',\n",
       " '_field_type_state',\n",
       " '_finalize_parallel',\n",
       " '_generate_container_field',\n",
       " '_generate_field',\n",
       " '_generate_fields',\n",
       " '_generate_fluid_field',\n",
       " '_generate_particle_field',\n",
       " '_generate_spatial_fluid',\n",
       " '_get_grid_objs',\n",
       " '_get_grids',\n",
       " '_get_objs',\n",
       " '_get_selector_mask',\n",
       " '_grids',\n",
       " '_hash',\n",
       " '_identify_dependencies',\n",
       " '_index',\n",
       " '_index_offset',\n",
       " '_initialize_cache',\n",
       " '_initialize_parallel',\n",
       " '_is_default_field_parameter',\n",
       " '_key_fields',\n",
       " '_last_count',\n",
       " '_last_mask',\n",
       " '_last_selector_id',\n",
       " '_locked',\n",
       " '_num_ghost_zones',\n",
       " '_parameter_iterate',\n",
       " '_reshape_vals',\n",
       " '_selector',\n",
       " '_set_center',\n",
       " '_set_default_field_parameters',\n",
       " '_skip_add',\n",
       " '_sort_by',\n",
       " '_spatial',\n",
       " '_tds_attrs',\n",
       " '_tds_fields',\n",
       " '_tree',\n",
       " '_type_name',\n",
       " 'apply_units',\n",
       " 'argmax',\n",
       " 'argmin',\n",
       " 'blocks',\n",
       " 'chunks',\n",
       " 'clear_data',\n",
       " 'clone',\n",
       " 'comm',\n",
       " 'connectivity_coords',\n",
       " 'connectivity_indices',\n",
       " 'convert',\n",
       " 'count',\n",
       " 'count_particles',\n",
       " 'deposit',\n",
       " 'ds',\n",
       " 'fcoords',\n",
       " 'fcoords_vertex',\n",
       " 'field_data',\n",
       " 'field_parameters',\n",
       " 'filename',\n",
       " 'fwidth',\n",
       " 'get_data',\n",
       " 'get_dependencies',\n",
       " 'get_field_parameter',\n",
       " 'get_global_startindex',\n",
       " 'has_field_parameter',\n",
       " 'has_key',\n",
       " 'icoords',\n",
       " 'index',\n",
       " 'integrate',\n",
       " 'ires',\n",
       " 'keys',\n",
       " 'max',\n",
       " 'mean',\n",
       " 'mesh_id',\n",
       " 'min',\n",
       " 'partition_index_2d',\n",
       " 'partition_index_3d',\n",
       " 'partition_index_3d_bisection_list',\n",
       " 'partition_region_3d',\n",
       " 'pf',\n",
       " 'profile',\n",
       " 'ptp',\n",
       " 'save_as_dataset',\n",
       " 'save_object',\n",
       " 'select',\n",
       " 'select_blocks',\n",
       " 'select_fcoords',\n",
       " 'select_fcoords_vertex',\n",
       " 'select_fwidth',\n",
       " 'select_icoords',\n",
       " 'select_ires',\n",
       " 'select_particles',\n",
       " 'select_tcoords',\n",
       " 'selector',\n",
       " 'set_field_parameter',\n",
       " 'shape',\n",
       " 'std',\n",
       " 'sum',\n",
       " 'tiles',\n",
       " 'to_dataframe',\n",
       " 'to_glue',\n",
       " 'write_out']"
      ]
     },
     "execution_count": 17,
     "metadata": {},
     "output_type": "execute_result"
    }
   ],
   "source": [
    "dir(dscc.index.meshes[0])"
   ]
  },
  {
   "cell_type": "markdown",
   "metadata": {},
   "source": [
    "### Conclusions\n",
    "\n",
    "- Don't use `text.usetex = True` when creating yt-plots. Just use matplotlibs built-in mathtext parser. The reason not to use `text.usetex = True` is related to the hacky way that yt uses matplotlib and a current bug in matplotlib. See [here](https://github.com/matplotlib/matplotlib/issues/8423)\n",
    "- The built-in mathtext parser doesn't have `font.family = 'serif'` so don't try to use it. You'll just get a warning and it will fall back to a different font\n",
    "- You can run with these `rcParams` settings in a MPL-only and a yt plotting script. The former will execute without warning (or error) while the latter will warn that it couldn't assign `font.family = 'serif'`. This must be due to yt using MPL's 'classic' plotting style or something like that\n",
    "```python\n",
    "from matplotlib import rcParams\n",
    "rcParams['text.usetex'] = True\n",
    "rcParams['font.family'] = 'serif'\n",
    "rcParams['font.size'] = 17\n",
    "rcParams['font.serif'] = ['Computer Modern Roman']\n",
    "```"
   ]
  },
  {
   "cell_type": "code",
   "execution_count": null,
   "metadata": {
    "collapsed": true
   },
   "outputs": [],
   "source": []
  }
 ],
 "metadata": {
  "kernelspec": {
   "display_name": "Python 3",
   "language": "python",
   "name": "python3"
  },
  "language_info": {
   "codemirror_mode": {
    "name": "ipython",
    "version": 3
   },
   "file_extension": ".py",
   "mimetype": "text/x-python",
   "name": "python",
   "nbconvert_exporter": "python",
   "pygments_lexer": "ipython3",
   "version": "3.6.0"
  }
 },
 "nbformat": 4,
 "nbformat_minor": 2
}
