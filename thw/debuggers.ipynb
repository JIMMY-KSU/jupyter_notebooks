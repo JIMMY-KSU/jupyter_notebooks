{
 "cells": [
  {
   "cell_type": "markdown",
   "metadata": {},
   "source": [
    "# Debuggers: Introduction to gdb, pdb\n",
    "\n",
    "## Common gdb/pdb commands\n",
    "\n",
    "### Both programs\n",
    "\n",
    "- `print`, `p`: print the value of a variable\n",
    "- `list`, `l`: list the code lines around the current line\n",
    "- `up`: move a frame up the stack trace\n",
    "- `down`: move a frame down the stack trace\n",
    "- `backtrace`, `bt`: list all the frames in the stack (e.g. from main all the way down through all the subroutine calls)\n",
    "- `next`, `n`: move to the next line of code, stepping over any subroutine calls\n",
    "- `step`, `s`: similar to next, but will step into subroutine calls (even ones you might not expect like `vector::operator[]`, e.g. vector element access)\n",
    "- `continue`, `c`: continue program execution until hitting the next breakpoint or until program execution finishes (whichever comes first)\n",
    "\n",
    "### gdb\n",
    "\n",
    "- `break`, `b`: tell the debugger to halt execution at a given point. Can be at the beginning of a method call, e.g. `break GroupDiffusion::computeQpResidual`, or a particular line of code, e.g. `break Kernel.C:50`\n",
    "- `finish`: continue execution until the current frame or subroutine returns to the calling frame and print the returned value\n",
    "- `return`: prematurely return from the current frame to the calling frame. Can optionally supply a value that you want the prematurely exiting frame to return\n",
    "- `info <subcommand>`: get info about a particular subcommand. Most common:\n",
    "- `info break`: get information about breakpoints\n",
    "- `run`, `r`: run the program from the beginning\n",
    "- `disable <breakpoint #>`: disable the supplied breakpoint\n",
    "- `enable <breakpoint #>`: enable the supplied breakpoint\n",
    "- `delete <breakpoint #>`, `d <breapoint #>`: delete the supplied breakpoint\n",
    "\n",
    "\n",
    "### pdb\n",
    "\n",
    "- `return`: like the `gdb finish` command; continue execution until the current method returns"
   ]
  },
  {
   "cell_type": "markdown",
   "metadata": {},
   "source": [
    "## How I use gdb\n",
    "\n",
    "`gdb --args <program to run>`\n",
    "\n",
    "### Example: failed assert in C++ program\n",
    "\n",
    "Some systems by default [don't break on failed assertions](http://stackoverflow.com/questions/33646862/what-is-the-proper-way-to-break-on-failed-asserts-in-gdb) (mine doesn't), meaning when the program fails, you can't inspect variables, etc. Solution is either\n",
    "\n",
    "`break abort`\n",
    "\n",
    "or \n",
    "\n",
    "`break exit`\n",
    "\n",
    "After failing assertion, examine backtrace with `bt` and then move up the stack trace with `up` into user land code. Note that after typing a command once, subsequent `RET` without any input will execute that previous command. After a single `p xsec_names[j]`, I know exactly what the problem is.\n",
    "\n",
    "### Example 2: inspect some routine\n",
    "\n",
    "```\n",
    "break CoupledFissionEigenKernel::computeQpResidual\n",
    "break CoupledFissionEigenKernel::computeQpResidual if _qp == 1 && _group == 1\n",
    "p _qp\n",
    "p _group\n",
    "l\n",
    "n\n",
    "n\n",
    "p _chi[_qp][_group]\n",
    "p computeConcentration((*_group_fluxes[i]), _qp)\n",
    "```\n",
    "\n",
    "Can try stepping many times to get into `computeConcentration`, but we'll discover all the `std::vector::operator[]` calls. Would be easier to just set a new breakpoint and then `continue`.\n"
   ]
  },
  {
   "cell_type": "markdown",
   "metadata": {},
   "source": [
    "## How I use pdb\n",
    "\n"
   ]
  },
  {
   "cell_type": "code",
   "execution_count": null,
   "metadata": {
    "collapsed": true
   },
   "outputs": [],
   "source": []
  }
 ],
 "metadata": {
  "kernelspec": {
   "display_name": "Python 3",
   "language": "python",
   "name": "python3"
  },
  "language_info": {
   "codemirror_mode": {
    "name": "ipython",
    "version": 3
   },
   "file_extension": ".py",
   "mimetype": "text/x-python",
   "name": "python",
   "nbconvert_exporter": "python",
   "pygments_lexer": "ipython3",
   "version": "3.6.0"
  }
 },
 "nbformat": 4,
 "nbformat_minor": 2
}
