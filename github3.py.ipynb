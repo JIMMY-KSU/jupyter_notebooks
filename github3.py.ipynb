{
 "cells": [
  {
   "cell_type": "code",
   "execution_count": 5,
   "metadata": {},
   "outputs": [],
   "source": [
    "import subprocess\n",
    "import re\n",
    "import github3\n",
    "\n",
    "libmesh_dir = '/home/lindad/libmesh'\n",
    "commit_range = '8ddbf2885..master'\n",
    "\n",
    "gitlog = subprocess.Popen(['git', 'log', '--pretty=\"%s\"', '--merges', '--first-parent', commit_range], \n",
    "                          stdout=subprocess.PIPE, cwd=libmesh_dir)\n",
    "\n",
    "grep = subprocess.Popen(('grep', 'pull'), stdin=gitlog.stdout, stdout=subprocess.PIPE)\n",
    "\n",
    "gitlog.stdout.close()\n",
    "data = grep.stdout.read()\n",
    "grep.stdout.close()\n",
    "\n",
    "s = str(data)\n",
    "\n",
    "p = re.compile('.*?#([0-9]+)')\n",
    "p2 = re.compile('[^0-9 ].*')\n",
    "\n",
    "pull_numbers = p2.sub('', p.sub('\\\\1 ', s))\n",
    "\n",
    "pr_list = pull_numbers.rstrip().split(' ')\n",
    "\n",
    "username = \"lindsayad\""
   ]
  },
  {
   "cell_type": "code",
   "execution_count": 6,
   "metadata": {},
   "outputs": [],
   "source": [
    "gh = github3.login(username=username,password=password)\n",
    "\n",
    "libmesh = gh.repository(\"libMesh\", \"libmesh\")\n",
    "\n",
    "with open(libmesh_dir + '/pr_summary.txt', 'w') as f:\n",
    "    for pr in pr_list:\n",
    "        f.write('  - ' + libmesh.pull_request(pr).title + '\\n')"
   ]
  },
  {
   "cell_type": "code",
   "execution_count": null,
   "metadata": {},
   "outputs": [],
   "source": []
  }
 ],
 "metadata": {
  "kernelspec": {
   "display_name": "Python 3",
   "language": "python",
   "name": "python3"
  },
  "language_info": {
   "codemirror_mode": {
    "name": "ipython",
    "version": 3
   },
   "file_extension": ".py",
   "mimetype": "text/x-python",
   "name": "python",
   "nbconvert_exporter": "python",
   "pygments_lexer": "ipython3",
   "version": "3.7.2"
  }
 },
 "nbformat": 4,
 "nbformat_minor": 2
}
