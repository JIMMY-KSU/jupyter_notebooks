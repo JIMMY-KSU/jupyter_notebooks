{
 "cells": [
  {
   "cell_type": "code",
   "execution_count": 1,
   "metadata": {},
   "outputs": [],
   "source": [
    "import github3"
   ]
  },
  {
   "cell_type": "code",
   "execution_count": 3,
   "metadata": {},
   "outputs": [],
   "source": [
    "username = \"lindsayad\""
   ]
  },
  {
   "cell_type": "code",
   "execution_count": 5,
   "metadata": {},
   "outputs": [],
   "source": [
    "gh = github3.login(username=username,password=password)"
   ]
  },
  {
   "cell_type": "code",
   "execution_count": 6,
   "metadata": {},
   "outputs": [],
   "source": [
    "libmesh = gh.repository(\"libMesh\", \"libmesh\")"
   ]
  },
  {
   "cell_type": "code",
   "execution_count": 9,
   "metadata": {},
   "outputs": [],
   "source": [
    "prs = libmesh.pull_requests()"
   ]
  },
  {
   "cell_type": "code",
   "execution_count": 10,
   "metadata": {},
   "outputs": [
    {
     "data": {
      "text/plain": [
       "<GitHubIterator [-1, /repos/libMesh/libmesh/pulls]>"
      ]
     },
     "execution_count": 10,
     "metadata": {},
     "output_type": "execute_result"
    }
   ],
   "source": [
    "prs"
   ]
  },
  {
   "cell_type": "code",
   "execution_count": 11,
   "metadata": {},
   "outputs": [
    {
     "name": "stdout",
     "output_type": "stream",
     "text": [
      "Object `GitHubIterator` not found.\n"
     ]
    }
   ],
   "source": [
    "GitHubIterator?"
   ]
  },
  {
   "cell_type": "code",
   "execution_count": 12,
   "metadata": {},
   "outputs": [
    {
     "data": {
      "text/plain": [
       "<Short Pull Request [#1997]>"
      ]
     },
     "execution_count": 12,
     "metadata": {},
     "output_type": "execute_result"
    }
   ],
   "source": [
    "prs.next()"
   ]
  },
  {
   "cell_type": "code",
   "execution_count": 14,
   "metadata": {},
   "outputs": [
    {
     "data": {
      "text/plain": [
       "'Add DualNumber to libMesh::CompareTypes'"
      ]
     },
     "execution_count": 14,
     "metadata": {},
     "output_type": "execute_result"
    }
   ],
   "source": [
    "libmesh.pull_request(1997).title"
   ]
  },
  {
   "cell_type": "code",
   "execution_count": 15,
   "metadata": {},
   "outputs": [],
   "source": [
    "pr_list = [1986, 1946, 1990, 1988, 1987, 1984, 1981, 1983, 1974, 1971, 1980, 1979, 1975, 1977, 1973, 1972, 1970, 1962, 1964, 1960, 1959, 1954, 1955, 1951, 1948, 1953, 1947, 1945, 1941, 1944, 1943, 1940, 1942, 1935, 1937, 1936, 1933, 1934, 1930, 1929, 1928, 1924, 1922, 1921, 1918, 1916]"
   ]
  },
  {
   "cell_type": "code",
   "execution_count": 16,
   "metadata": {},
   "outputs": [
    {
     "name": "stdout",
     "output_type": "stream",
     "text": [
      "Different constraint enforcement for hanging nodes\n",
      "Change vector and tensor return types\n",
      "Add non-const returning versions of Elem::family_tree_ functions\n",
      "Update cppunit m4 test\n",
      "Pass original FEType object to shape()/shape_deriv() calls.\n",
      "Prefer rangefor loops to index_range loops when possible.\n",
      "gradient with infinite elements (2)\n",
      "Hiding second derivative quantities in their macro\n",
      "Pass by reference instead of value in our numerics structures\n",
      "Convert more traditional for-loops to use index_range() helper function\n",
      "Const accessor methods for psi map second derivatives\n",
      "Update MetaPhysicL\n",
      "Allow changing the tolerance for an element Jacobian mapping failure\n",
      "build_simple_side_ptr fix, unit tests\n",
      "Move TypeVector::unit into the header\n",
      "Add const accessor methods for dpsi_maps in FEMap\n",
      "Fix buffer overrun in Hilbert SFC Partitioner\n",
      "Fix for example when Exodus II is not available.\n",
      "Fix output data format in legacy SCM writes\n",
      "Add back in missing reinterpret_cast.\n",
      "Add index_range() helper function.\n",
      "Fix failure to sync nodes in some AMR cases\n",
      "Remove yet more iterator boilerplate\n",
      "Fix --disable-amr build.\n",
      "eval_old_dofs needs var, not var_component\n",
      "Prefer vector::data() to &v[0].\n",
      "Fix LinearPartitioner on small distributed meshes\n",
      "Mark methods final in Elem subclass superclasses\n",
      "Default processor_id_type to 4 bytes\n",
      "Mark new side_ptr functions override to avoid warnings.\n",
      "Use C++11 iterator-returning erase member functions when possible\n",
      "\"Filling\" overloads for side_ptr, build_side_ptr\n",
      "Use only one search in DistributedMesh::add_point\n",
      "Update MetaPhysicL\n",
      "Warn if user tries to add a boundary id for a non-existent node.\n",
      "Test for and use C++11 std::iota \n",
      "infinite improvements\n",
      "Fix Intel warnings\n",
      "fix for #1925 \n",
      "Laspack fixes\n",
      "Fix issue with constness in LaspackMatrix::add().\n",
      "Homepage: mention Github issues and pull requests\n",
      "1D/2D-only fixes\n",
      "Add BoundingBox::signed_distance().\n",
      "Partitioner unit tests\n",
      "SparseMatrix::add() ref should be const\n"
     ]
    }
   ],
   "source": [
    "for pr in pr_list:\n",
    "    print(libmesh.pull_request(pr).title)"
   ]
  },
  {
   "cell_type": "code",
   "execution_count": null,
   "metadata": {},
   "outputs": [],
   "source": []
  }
 ],
 "metadata": {
  "kernelspec": {
   "display_name": "Python 3",
   "language": "python",
   "name": "python3"
  },
  "language_info": {
   "codemirror_mode": {
    "name": "ipython",
    "version": 3
   },
   "file_extension": ".py",
   "mimetype": "text/x-python",
   "name": "python",
   "nbconvert_exporter": "python",
   "pygments_lexer": "ipython3",
   "version": "3.7.1"
  }
 },
 "nbformat": 4,
 "nbformat_minor": 2
}
