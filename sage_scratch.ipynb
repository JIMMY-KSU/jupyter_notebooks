{
 "cells": [
  {
   "cell_type": "markdown",
   "metadata": {},
   "source": [
    "# 2/22/17"
   ]
  },
  {
   "cell_type": "code",
   "execution_count": 22,
   "metadata": {
    "collapsed": false
   },
   "outputs": [
    {
     "data": {
      "text/plain": [
       "[-57.1585531987575, 57.1585531987575]"
      ]
     },
     "execution_count": 22,
     "metadata": {},
     "output_type": "execute_result"
    }
   ],
   "source": [
    "bm2 = .00202183\n",
    "height = 198.12\n",
    "radius = var('radius')\n",
    "solns = solve(bm2 == (pi/height)^2 + (2.405/radius)^2, radius, solution_dict=True)\n",
    "[s[radius].n() for s in solns]"
   ]
  },
  {
   "cell_type": "code",
   "execution_count": 24,
   "metadata": {
    "collapsed": false
   },
   "outputs": [
    {
     "name": "stdout",
     "output_type": "stream",
     "text": [
      "57.1585531987575\n"
     ]
    }
   ],
   "source": [
    "radius = solns[1][radius].n()\n",
    "print(radius)"
   ]
  },
  {
   "cell_type": "code",
   "execution_count": 5,
   "metadata": {
    "collapsed": true
   },
   "outputs": [],
   "source": [
    "nu = 2.43654\n",
    "sigma_f = 1.3769e-3\n",
    "sigma_a = 2.21110e-3\n",
    "diff = 5.31788e-1"
   ]
  },
  {
   "cell_type": "code",
   "execution_count": 6,
   "metadata": {
    "collapsed": true
   },
   "outputs": [],
   "source": [
    "bm2_calc = (nu * sigma_f - sigma_a) / diff"
   ]
  },
  {
   "cell_type": "code",
   "execution_count": 7,
   "metadata": {
    "collapsed": false
   },
   "outputs": [
    {
     "name": "stdout",
     "output_type": "stream",
     "text": [
      "0.00215080431675780\n"
     ]
    }
   ],
   "source": [
    "print(bm2_calc)"
   ]
  },
  {
   "cell_type": "code",
   "execution_count": 9,
   "metadata": {
    "collapsed": false
   },
   "outputs": [
    {
     "name": "stdout",
     "output_type": "stream",
     "text": [
      "0.0318701570630258\n"
     ]
    }
   ],
   "source": [
    "bm2_serpent = 2.15149e-3\n",
    "error = abs(bm2_calc-bm2_serpent) / bm2_serpent * 100\n",
    "print(error)"
   ]
  },
  {
   "cell_type": "markdown",
   "metadata": {},
   "source": [
    "So it looks like there's excellent agreement between the theoretical calculation of the material buckling and the value output by serpent, so it seems reasonable to guess that serpent is using the same formula I just used. Recall that the bigger the reactor dimensions are, the smaller the geometric buckling is, the smaller the leakage is, and the larger k is. Currently the geometric buckling should be 2.02e-3 while the material buckling is 2.15e-3...this would lead me to believe that the reator should have k > 1!!! I need to work this out on paper."
   ]
  },
  {
   "cell_type": "code",
   "execution_count": 10,
   "metadata": {
    "collapsed": false
   },
   "outputs": [
    {
     "name": "stdout",
     "output_type": "stream",
     "text": [
      "1.02087067779525\n"
     ]
    }
   ],
   "source": [
    "bg2_calc = bm2\n",
    "k = (nu * sigma_f) / (sigma_a + diff * bg2_calc)\n",
    "print(k)"
   ]
  },
  {
   "cell_type": "code",
   "execution_count": 13,
   "metadata": {
    "collapsed": false
   },
   "outputs": [
    {
     "name": "stdout",
     "output_type": "stream",
     "text": [
      "1.51728638505721\n"
     ]
    }
   ],
   "source": [
    "kinf = nu * sigma_f / sigma_a\n",
    "print(kinf)"
   ]
  },
  {
   "cell_type": "markdown",
   "metadata": {},
   "source": [
    "The above $k_{inf}$ agrees very well with the six factor $k_{inf}$ from serpent: 1.51783"
   ]
  },
  {
   "cell_type": "code",
   "execution_count": 14,
   "metadata": {
    "collapsed": false
   },
   "outputs": [
    {
     "data": {
      "text/plain": [
       "[0.00352467138656583]"
      ]
     },
     "execution_count": 14,
     "metadata": {},
     "output_type": "execute_result"
    }
   ],
   "source": [
    "bg2_serp = var('bg2_serp')\n",
    "k_serp = .82117\n",
    "solns = solve(k_serp == nu * sigma_f / (sigma_a + diff * bg2_serp), bg2_serp, solution_dict = True)\n",
    "[s[bg2_serp].n() for s in solns]"
   ]
  },
  {
   "cell_type": "code",
   "execution_count": 21,
   "metadata": {
    "collapsed": false
   },
   "outputs": [
    {
     "name": "stdout",
     "output_type": "stream",
     "text": [
      "True\n"
     ]
    }
   ],
   "source": [
    "print(bg2_serpent > bm2_serpent)"
   ]
  },
  {
   "cell_type": "code",
   "execution_count": 16,
   "metadata": {
    "collapsed": false
   },
   "outputs": [
    {
     "data": {
      "text/plain": [
       "{bg2_serp: 948562857856968427/269120934641562332840}"
      ]
     },
     "execution_count": 16,
     "metadata": {},
     "output_type": "execute_result"
    }
   ],
   "source": [
    "solns[0]"
   ]
  },
  {
   "cell_type": "code",
   "execution_count": 17,
   "metadata": {
    "collapsed": false
   },
   "outputs": [
    {
     "data": {
      "text/plain": [
       "[{bg2_serp: 948562857856968427/269120934641562332840}]"
      ]
     },
     "execution_count": 17,
     "metadata": {},
     "output_type": "execute_result"
    }
   ],
   "source": [
    "solns"
   ]
  },
  {
   "cell_type": "code",
   "execution_count": 20,
   "metadata": {
    "collapsed": false
   },
   "outputs": [],
   "source": [
    "bg2_serpent = solns[0][bg2_serp].n()"
   ]
  },
  {
   "cell_type": "markdown",
   "metadata": {},
   "source": [
    "How is it that the actual geometric buckling (3.52e-3) is so much greater than the buckling (2.02e-3) predicted by the following formula?\n",
    "\n",
    "\\begin{equation}\n",
    "B_g^2 = \\left(\\frac{\\pi}{H}\\right)^2 + \\left(\\frac{2.405}{R}\\right)^2\n",
    "\\end{equation}"
   ]
  },
  {
   "cell_type": "code",
   "execution_count": 26,
   "metadata": {
    "collapsed": false
   },
   "outputs": [
    {
     "name": "stdout",
     "output_type": "stream",
     "text": [
      "0.00202183000000000\n"
     ]
    }
   ],
   "source": [
    "predicted = (pi/height)^2 + (2.405/radius)^2\n",
    "print(predicted.n())"
   ]
  },
  {
   "cell_type": "code",
   "execution_count": 27,
   "metadata": {
    "collapsed": false
   },
   "outputs": [
    {
     "data": {
      "text/plain": [
       "0.00352868060204442"
      ]
     },
     "execution_count": 27,
     "metadata": {},
     "output_type": "execute_result"
    }
   ],
   "source": [
    "leak = 1.87651e-3\n",
    "leak / diff"
   ]
  },
  {
   "cell_type": "markdown",
   "metadata": {},
   "source": [
    "Above is another way for calculating geometric buckling in Serpent"
   ]
  },
  {
   "cell_type": "markdown",
   "metadata": {},
   "source": [
    "# With B1 correction"
   ]
  },
  {
   "cell_type": "code",
   "execution_count": 29,
   "metadata": {
    "collapsed": false
   },
   "outputs": [
    {
     "name": "stdout",
     "output_type": "stream",
     "text": [
      "0.00131160081202742\n"
     ]
    }
   ],
   "source": [
    "b1_nsf = 3.66701e-3\n",
    "b1_remxs = 2.37419e-3\n",
    "b1_diff = 9.85681e-1\n",
    "b1_bm2 = (b1_nsf - b1_remxs) / b1_diff\n",
    "print(b1_bm2)"
   ]
  },
  {
   "cell_type": "code",
   "execution_count": 30,
   "metadata": {
    "collapsed": false
   },
   "outputs": [
    {
     "name": "stdout",
     "output_type": "stream",
     "text": [
      "0.00215117460269685\n"
     ]
    }
   ],
   "source": [
    "reg_nsf = 3.35432e-3\n",
    "reg_remxs = 2.21079e-3\n",
    "reg_diff = 5.31584e-1\n",
    "reg_bm2 = (reg_nsf - reg_remxs) / reg_diff\n",
    "print(reg_bm2)"
   ]
  },
  {
   "cell_type": "markdown",
   "metadata": {},
   "source": [
    "Regular material values unchanged...like they should be"
   ]
  },
  {
   "cell_type": "code",
   "execution_count": 31,
   "metadata": {
    "collapsed": true
   },
   "outputs": [],
   "source": [
    "def b2g_wikipedia(r, H):\n",
    "    return (pi/H)^2 + (2.405/r)^2"
   ]
  },
  {
   "cell_type": "code",
   "execution_count": 33,
   "metadata": {
    "collapsed": false
   },
   "outputs": [
    {
     "name": "stdout",
     "output_type": "stream",
     "text": [
      "0.00130769505945962\n"
     ]
    }
   ],
   "source": [
    "print(b2g_wikipedia(74, 198.12).n())"
   ]
  },
  {
   "cell_type": "code",
   "execution_count": 35,
   "metadata": {
    "collapsed": false
   },
   "outputs": [],
   "source": [
    "radius = var('radius')\n",
    "solns = solve(b1_bm2 == (pi/198.12)^2 + (2.405/radius)^2, radius, solution_dict=True)"
   ]
  },
  {
   "cell_type": "code",
   "execution_count": 38,
   "metadata": {
    "collapsed": false
   },
   "outputs": [
    {
     "data": {
      "text/plain": [
       "73.8635613762746"
      ]
     },
     "execution_count": 38,
     "metadata": {},
     "output_type": "execute_result"
    }
   ],
   "source": [
    "solns[1][radius].n()"
   ]
  },
  {
   "cell_type": "markdown",
   "metadata": {},
   "source": [
    "# Now try with those reactor dimensions"
   ]
  },
  {
   "cell_type": "code",
   "execution_count": 39,
   "metadata": {
    "collapsed": true
   },
   "outputs": [],
   "source": [
    "k = 1.02370\n",
    "nsf = 3.70420e-3\n",
    "absxs = 2.39330e-3\n",
    "diff = 6.46350e-1\n",
    "bg2 = var('bg2')\n",
    "solns = solve(k == nsf / (absxs + diff * bg2), bg2, solution_dict=True)"
   ]
  },
  {
   "cell_type": "code",
   "execution_count": 40,
   "metadata": {
    "collapsed": false
   },
   "outputs": [
    {
     "name": "stdout",
     "output_type": "stream",
     "text": [
      "0.00189547907974672\n"
     ]
    }
   ],
   "source": [
    "print(solns[0][bg2].n())"
   ]
  },
  {
   "cell_type": "markdown",
   "metadata": {},
   "source": [
    "# Summary\n",
    "\n",
    "## Simulation 1; R = 57.15; H = 198.12\n",
    "\n",
    "- Predicted geometric buckling = 2.02e-3 (**equation 1**)\n",
    "- Actual geometric buckling = 3.52e-3\n",
    "- Material buckling = 2.15e-3\n",
    "- k = .82117\n",
    "- Serpent b1 predicted critical buckling = 1.31e-3\n",
    "\n",
    "Solve for new radial dimension using equation 1 $\\rightarrow$ R = 73.86\n",
    "\n",
    "## Simulation 2; R = 73.86; H = 198.12\n",
    "\n",
    "- Predicted geometric buckling = 1.31e-3 (**equation 1**)\n",
    "- Actual geometric buckling = 1.90e-3\n",
    "- Material buckling = 2.02e-3\n",
    "- k = 1.0237\n",
    "- Serpent b1 predicted critical buckling = 1.32e-3\n",
    "\n",
    "At least the predicted critical buckling is consistent.\n",
    "\n",
    "## Conclusion\n",
    "\n",
    "Predicted geometric buckling using equation 1 and serpent calculated values for geometric buckling do not agree."
   ]
  },
  {
   "cell_type": "code",
   "execution_count": null,
   "metadata": {
    "collapsed": true
   },
   "outputs": [],
   "source": []
  }
 ],
 "metadata": {
  "kernelspec": {
   "display_name": "SageMath 7.5.1",
   "language": "",
   "name": "sagemath"
  },
  "language_info": {
   "codemirror_mode": {
    "name": "ipython",
    "version": 2
   },
   "file_extension": ".py",
   "mimetype": "text/x-python",
   "name": "python",
   "nbconvert_exporter": "python",
   "pygments_lexer": "ipython2",
   "version": "2.7.13"
  }
 },
 "nbformat": 4,
 "nbformat_minor": 0
}
