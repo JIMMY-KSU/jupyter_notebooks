{
 "cells": [
  {
   "cell_type": "code",
   "execution_count": 35,
   "metadata": {},
   "outputs": [],
   "source": [
    "def halleys(x0, f, J, H, abs_tol=1e-15, nl_max_its=50):\n",
    "    x = x0\n",
    "    fe = f(x)\n",
    "    it = 0    \n",
    "    print(\"Iteration: %d, x: %.1e, f: %.1e\" % (it, x, fe))\n",
    "    \n",
    "\n",
    "    while abs(fe) > abs_tol and it < nl_max_its:\n",
    "        Je = J(x)\n",
    "        He = H(x)\n",
    "        x = x - fe / Je * 1 / (1 - fe / Je * (He / (2 * Je)))\n",
    "        fe = f(x)\n",
    "        it += 1\n",
    "        print(\"Iteration: %d, x: %.1e, f: %.1e\" % (it, x, fe))"
   ]
  },
  {
   "cell_type": "code",
   "execution_count": 36,
   "metadata": {},
   "outputs": [],
   "source": [
    "def newtons(x0, f, J, abs_tol=1e-15, nl_max_its=50, m=1):\n",
    "    x = x0\n",
    "    fe = f(x)\n",
    "    it = 0    \n",
    "    print(\"Iteration: %d, x: %.1e, f: %.1e\" % (it, x, fe))\n",
    "    \n",
    "\n",
    "    while abs(fe) > abs_tol and it < nl_max_its:\n",
    "        Je = J(x)\n",
    "        x = x - m * fe / Je\n",
    "        fe = f(x)\n",
    "        it += 1\n",
    "        print(\"Iteration: %d, x: %.1e, f: %.1e\" % (it, x, fe))    "
   ]
  },
  {
   "cell_type": "code",
   "execution_count": 25,
   "metadata": {},
   "outputs": [],
   "source": [
    "def f(x):\n",
    "    return x**2\n",
    "def J(x):\n",
    "    return 2*x\n",
    "def H(x):\n",
    "    return 2\n",
    "\n",
    "# from math import *\n",
    "# def f(x):\n",
    "#     return sin(x)\n",
    "# def J(x):\n",
    "#     return cos(x)\n",
    "# def H(x):\n",
    "#     return -sin(x)"
   ]
  },
  {
   "cell_type": "code",
   "execution_count": 38,
   "metadata": {},
   "outputs": [
    {
     "name": "stdout",
     "output_type": "stream",
     "text": [
      "Iteration: 0, x: 1.0e+00, f: 1.0e+00\n",
      "Iteration: 1, x: 3.3e-01, f: 1.1e-01\n",
      "Iteration: 2, x: 1.1e-01, f: 1.2e-02\n",
      "Iteration: 3, x: 3.7e-02, f: 1.4e-03\n",
      "Iteration: 4, x: 1.2e-02, f: 1.5e-04\n",
      "Iteration: 5, x: 4.1e-03, f: 1.7e-05\n",
      "Iteration: 6, x: 1.4e-03, f: 1.9e-06\n",
      "Iteration: 7, x: 4.6e-04, f: 2.1e-07\n",
      "Iteration: 8, x: 1.5e-04, f: 2.3e-08\n",
      "Iteration: 9, x: 5.1e-05, f: 2.6e-09\n",
      "Iteration: 10, x: 1.7e-05, f: 2.9e-10\n",
      "Iteration: 11, x: 5.6e-06, f: 3.2e-11\n",
      "Iteration: 12, x: 1.9e-06, f: 3.5e-12\n",
      "Iteration: 13, x: 6.3e-07, f: 3.9e-13\n",
      "Iteration: 14, x: 2.1e-07, f: 4.4e-14\n",
      "Iteration: 15, x: 7.0e-08, f: 4.9e-15\n",
      "Iteration: 16, x: 2.3e-08, f: 5.4e-16\n"
     ]
    }
   ],
   "source": [
    "halleys(1, f, J, H)"
   ]
  },
  {
   "cell_type": "code",
   "execution_count": 39,
   "metadata": {},
   "outputs": [
    {
     "name": "stdout",
     "output_type": "stream",
     "text": [
      "Iteration: 0, x: 1.0e+00, f: 1.0e+00\n",
      "Iteration: 1, x: 0.0e+00, f: 0.0e+00\n"
     ]
    }
   ],
   "source": [
    "newtons(1, f, J, m=2)"
   ]
  },
  {
   "cell_type": "code",
   "execution_count": null,
   "metadata": {},
   "outputs": [],
   "source": []
  }
 ],
 "metadata": {
  "kernelspec": {
   "display_name": "Python 3",
   "language": "python",
   "name": "python3"
  },
  "language_info": {
   "codemirror_mode": {
    "name": "ipython",
    "version": 3
   },
   "file_extension": ".py",
   "mimetype": "text/x-python",
   "name": "python",
   "nbconvert_exporter": "python",
   "pygments_lexer": "ipython3",
   "version": "3.6.4"
  }
 },
 "nbformat": 4,
 "nbformat_minor": 2
}
