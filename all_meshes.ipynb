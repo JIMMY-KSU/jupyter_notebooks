{
 "cells": [
  {
   "cell_type": "code",
   "execution_count": 1,
   "metadata": {
    "collapsed": false
   },
   "outputs": [
    {
     "data": {
      "text/plain": [
       "'/home/lindsayad/projects/moose/test/tests/interfacekernels/2d_interface/gold'"
      ]
     },
     "execution_count": 1,
     "metadata": {},
     "output_type": "execute_result"
    }
   ],
   "source": [
    "pwd"
   ]
  },
  {
   "cell_type": "code",
   "execution_count": 1,
   "metadata": {
    "collapsed": true
   },
   "outputs": [],
   "source": [
    "import yt"
   ]
  },
  {
   "cell_type": "code",
   "execution_count": 20,
   "metadata": {
    "collapsed": true
   },
   "outputs": [],
   "source": [
    "import pdb"
   ]
  },
  {
   "cell_type": "code",
   "execution_count": 3,
   "metadata": {
    "collapsed": false
   },
   "outputs": [
    {
     "name": "stderr",
     "output_type": "stream",
     "text": [
      "yt : [WARNING  ] 2017-01-06 15:39:39,120 name_elem_var not found\n",
      "yt : [INFO     ] 2017-01-06 15:39:39,123 Loading coordinates\n",
      "yt : [INFO     ] 2017-01-06 15:39:39,130 Loading connectivity\n",
      "yt : [INFO     ] 2017-01-06 15:39:39,150 Parameters: current_time              = 1.0\n",
      "yt : [INFO     ] 2017-01-06 15:39:39,155 Parameters: domain_dimensions         = [1 1 1]\n",
      "yt : [INFO     ] 2017-01-06 15:39:39,157 Parameters: domain_left_edge          = [-0.2 -0.2  0. ]\n",
      "yt : [INFO     ] 2017-01-06 15:39:39,159 Parameters: domain_right_edge         = [ 2.2  2.2  1. ]\n",
      "yt : [INFO     ] 2017-01-06 15:39:39,163 Parameters: cosmological_simulation   = 0\n",
      "yt : [INFO     ] 2017-01-06 15:39:39,167 Loading coordinates\n",
      "yt : [INFO     ] 2017-01-06 15:39:39,170 Loading connectivity\n",
      "yt : [WARNING  ] 2017-01-06 15:39:39,183 name_elem_var not found\n"
     ]
    },
    {
     "name": "stdout",
     "output_type": "stream",
     "text": [
      "[('connect1', 'u'), ('connect1', 'v'), ('connect2', 'u'), ('connect2', 'v')]\n"
     ]
    }
   ],
   "source": [
    "ds = yt.load(\"coupled_value_coupled_flux_out.e\", step=-1)\n",
    "ad = ds.all_data()\n",
    "print(ds.field_list)"
   ]
  },
  {
   "cell_type": "code",
   "execution_count": 4,
   "metadata": {
    "collapsed": false
   },
   "outputs": [
    {
     "name": "stdout",
     "output_type": "stream",
     "text": [
      "[[ 0.97193158  0.          0.          1.04608818]\n",
      " [ 0.97193158  1.04608818  0.          0.        ]\n",
      " [ 1.04608818  0.          0.          0.        ]] dimensionless\n"
     ]
    }
   ],
   "source": [
    "print(ad[('connect1','v')])"
   ]
  },
  {
   "cell_type": "code",
   "execution_count": 6,
   "metadata": {
    "collapsed": false
   },
   "outputs": [
    {
     "name": "stdout",
     "output_type": "stream",
     "text": [
      "[[ 0.71001475  0.97193158  1.04608818  0.97193158]] dimensionless\n"
     ]
    }
   ],
   "source": [
    "print(ad[('connect2','v')])"
   ]
  },
  {
   "cell_type": "code",
   "execution_count": 19,
   "metadata": {
    "collapsed": false
   },
   "outputs": [
    {
     "name": "stdout",
     "output_type": "stream",
     "text": [
      "(3, 4)\n",
      "(1, 4)\n"
     ]
    }
   ],
   "source": [
    "print(ad[('connect1','v')].shape)\n",
    "print(ad[('connect2','v')].shape)"
   ]
  },
  {
   "cell_type": "code",
   "execution_count": 9,
   "metadata": {
    "collapsed": false
   },
   "outputs": [
    {
     "name": "stdout",
     "output_type": "stream",
     "text": [
      "/home/lindsayad/projects/moltres/problems\n"
     ]
    }
   ],
   "source": [
    "cd /home/lindsayad/projects/moltres/problems"
   ]
  },
  {
   "cell_type": "code",
   "execution_count": 10,
   "metadata": {
    "collapsed": false
   },
   "outputs": [
    {
     "name": "stderr",
     "output_type": "stream",
     "text": [
      "yt : [WARNING  ] 2017-01-06 16:13:26,656 name_glo_var not found\n",
      "yt : [WARNING  ] 2017-01-06 16:13:26,704 name_elem_var not found\n",
      "yt : [INFO     ] 2017-01-06 16:13:26,706 Loading coordinates\n",
      "yt : [INFO     ] 2017-01-06 16:13:26,707 Loading connectivity\n",
      "yt : [INFO     ] 2017-01-06 16:13:26,734 Parameters: current_time              = 1.0\n",
      "yt : [INFO     ] 2017-01-06 16:13:26,735 Parameters: domain_dimensions         = [1 1 1]\n",
      "yt : [INFO     ] 2017-01-06 16:13:26,751 Parameters: domain_left_edge          = [-0.1 -0.1  0. ]\n",
      "yt : [INFO     ] 2017-01-06 16:13:26,754 Parameters: domain_right_edge         = [ 1.1  1.1  1. ]\n",
      "yt : [INFO     ] 2017-01-06 16:13:26,756 Parameters: cosmological_simulation   = 0\n",
      "yt : [INFO     ] 2017-01-06 16:13:26,757 Loading coordinates\n",
      "yt : [INFO     ] 2017-01-06 16:13:26,759 Loading connectivity\n",
      "yt : [WARNING  ] 2017-01-06 16:13:26,763 name_elem_var not found\n"
     ]
    },
    {
     "name": "stdout",
     "output_type": "stream",
     "text": [
      "[('connect1', 'diffused'), ('connect2', 'diffused')]\n"
     ]
    }
   ],
   "source": [
    "ds2 = yt.load(\"two-region-example_out.e\", step=-1)\n",
    "ad2 = ds2.all_data()\n",
    "print(ds2.field_list)"
   ]
  },
  {
   "cell_type": "code",
   "execution_count": 17,
   "metadata": {
    "collapsed": false
   },
   "outputs": [
    {
     "name": "stdout",
     "output_type": "stream",
     "text": [
      "(50, 4)\n",
      "(50, 4)\n"
     ]
    }
   ],
   "source": [
    "print(ad2[('connect1','diffused')].shape)\n",
    "print(ad2[('connect2','diffused')].shape)"
   ]
  },
  {
   "cell_type": "code",
   "execution_count": 1,
   "metadata": {
    "collapsed": false
   },
   "outputs": [
    {
     "name": "stdout",
     "output_type": "stream",
     "text": [
      "/home/lindsayad/projects/moltres/problems\n"
     ]
    }
   ],
   "source": [
    "cd /home/lindsayad/projects/moltres/problems"
   ]
  },
  {
   "cell_type": "code",
   "execution_count": 1,
   "metadata": {
    "collapsed": false
   },
   "outputs": [
    {
     "name": "stderr",
     "output_type": "stream",
     "text": [
      "yt : [WARNING  ] 2017-01-09 20:58:33,908 name_glo_var not found\n",
      "yt : [WARNING  ] 2017-01-09 20:58:33,943 name_elem_var not found\n",
      "yt : [INFO     ] 2017-01-09 20:58:33,945 Loading coordinates\n",
      "yt : [INFO     ] 2017-01-09 20:58:33,946 Loading connectivity\n",
      "yt : [INFO     ] 2017-01-09 20:58:33,958 Parameters: current_time              = 1.0\n",
      "yt : [INFO     ] 2017-01-09 20:58:33,960 Parameters: domain_dimensions         = [1 1 1]\n",
      "yt : [INFO     ] 2017-01-09 20:58:33,962 Parameters: domain_left_edge          = [-0.1 -0.1  0.   0. ]\n",
      "yt : [INFO     ] 2017-01-09 20:58:33,963 Parameters: domain_right_edge         = [ 1.1  1.1  1.   1. ]\n",
      "yt : [INFO     ] 2017-01-09 20:58:33,965 Parameters: cosmological_simulation   = 0\n",
      "yt : [INFO     ] 2017-01-09 20:58:33,968 Loading coordinates\n",
      "yt : [INFO     ] 2017-01-09 20:58:33,970 Loading connectivity\n",
      "yt : [WARNING  ] 2017-01-09 20:58:33,973 name_elem_var not found\n",
      "yt : [INFO     ] 2017-01-09 20:58:34,238 xlim = -0.100000 1.100000\n",
      "yt : [INFO     ] 2017-01-09 20:58:34,239 ylim = -0.100000 1.100000\n",
      "yt : [INFO     ] 2017-01-09 20:58:34,241 xlim = -0.100000 1.100000\n",
      "yt : [INFO     ] 2017-01-09 20:58:34,242 ylim = -0.100000 1.100000\n",
      "yt : [INFO     ] 2017-01-09 20:58:34,251 Making a fixed resolution buffer of (('connect1', 'diffused')) 800 by 800\n"
     ]
    },
    {
     "name": "stdout",
     "output_type": "stream",
     "text": [
      "[('all', 'diffused'), ('connect1', 'diffused'), ('connect2', 'diffused')]\n",
      "> /home/lindsayad/yt-hg/yt/geometry/coordinates/cartesian_coordinates.py(80)pixelize()\n",
      "-> buff_size = size[0:dimension] + (1,) + size[dimension:]\n",
      "(Pdb) c\n"
     ]
    },
    {
     "data": {
      "text/html": [
       "<img style=\"max-width:100%%;max-height:100%%;\" src=\"data:image/png;base64,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\"><br>"
      ],
      "text/plain": [
       "<yt.visualization.plot_window.AxisAlignedSlicePlot at 0x7fcf89389828>"
      ]
     },
     "metadata": {},
     "output_type": "display_data"
    }
   ],
   "source": [
    "import yt\n",
    "\n",
    "ds2 = yt.load(\"/home/lindsayad/projects/moltres/problems/two-region-example_out.e\", step=-1)\n",
    "ad2 = ds2.all_data()\n",
    "print(ds2.field_list)\n",
    "\n",
    "slice = yt.SlicePlot(ds2, 'z', [('connect1','diffused')])\n",
    "\n",
    "slice.show()"
   ]
  },
  {
   "cell_type": "markdown",
   "metadata": {},
   "source": [
    "## Problem\n",
    "\n",
    "There's a fundamental problem with what I'm trying to do. It's that stupid connect1!!! What I should do is grep for all occurences of `mesh_id = int(ftype[-1]) - 1` because any time that code occurs, it's going to disrupt what I'm trying to do. For now, I'm going to try this one more substituion in `cartesian_coordinates.py` and then it's time to call it a day."
   ]
  },
  {
   "cell_type": "code",
   "execution_count": null,
   "metadata": {
    "collapsed": false
   },
   "outputs": [
    {
     "name": "stdout",
     "output_type": "stream",
     "text": [
      "> \u001b[0;32m/home/lindsayad/yt-hg/yt/data_objects/unstructured_mesh.py\u001b[0m(144)\u001b[0;36mselect\u001b[0;34m()\u001b[0m\n",
      "\u001b[0;32m    142 \u001b[0;31m        \u001b[0;32mif\u001b[0m \u001b[0mcount\u001b[0m \u001b[0;34m==\u001b[0m \u001b[0;36m0\u001b[0m\u001b[0;34m:\u001b[0m \u001b[0;32mreturn\u001b[0m \u001b[0;36m0\u001b[0m\u001b[0;34m\u001b[0m\u001b[0m\n",
      "\u001b[0m\u001b[0;32m    143 \u001b[0;31m        \u001b[0;32mimport\u001b[0m \u001b[0mpdb\u001b[0m\u001b[0;34m;\u001b[0m \u001b[0mpdb\u001b[0m\u001b[0;34m.\u001b[0m\u001b[0mset_trace\u001b[0m\u001b[0;34m(\u001b[0m\u001b[0;34m)\u001b[0m\u001b[0;34m\u001b[0m\u001b[0m\n",
      "\u001b[0m\u001b[0;32m--> 144 \u001b[0;31m        \u001b[0mdest\u001b[0m\u001b[0;34m[\u001b[0m\u001b[0moffset\u001b[0m\u001b[0;34m:\u001b[0m\u001b[0moffset\u001b[0m\u001b[0;34m+\u001b[0m\u001b[0mcount\u001b[0m\u001b[0;34m]\u001b[0m \u001b[0;34m=\u001b[0m \u001b[0msource\u001b[0m\u001b[0;34m[\u001b[0m\u001b[0mmask\u001b[0m\u001b[0;34m,\u001b[0m \u001b[0;34m...\u001b[0m\u001b[0;34m]\u001b[0m\u001b[0;34m\u001b[0m\u001b[0m\n",
      "\u001b[0m\u001b[0;32m    145 \u001b[0;31m        \u001b[0;32mreturn\u001b[0m \u001b[0mcount\u001b[0m\u001b[0;34m\u001b[0m\u001b[0m\n",
      "\u001b[0m\u001b[0;32m    146 \u001b[0;31m\u001b[0;34m\u001b[0m\u001b[0m\n",
      "\u001b[0m\n",
      "ipdb> p count\n",
      "50\n",
      "ipdb> p offset\n",
      "50\n",
      "ipdb> p dest.shape\n",
      "(50, 4)\n",
      "ipdb> l\n",
      "\u001b[1;32m    139 \u001b[0m    \u001b[0;32mdef\u001b[0m \u001b[0mselect\u001b[0m\u001b[0;34m(\u001b[0m\u001b[0mself\u001b[0m\u001b[0;34m,\u001b[0m \u001b[0mselector\u001b[0m\u001b[0;34m,\u001b[0m \u001b[0msource\u001b[0m\u001b[0;34m,\u001b[0m \u001b[0mdest\u001b[0m\u001b[0;34m,\u001b[0m \u001b[0moffset\u001b[0m\u001b[0;34m)\u001b[0m\u001b[0;34m:\u001b[0m\u001b[0;34m\u001b[0m\u001b[0m\n",
      "\u001b[1;32m    140 \u001b[0m        \u001b[0mmask\u001b[0m \u001b[0;34m=\u001b[0m \u001b[0mself\u001b[0m\u001b[0;34m.\u001b[0m\u001b[0m_get_selector_mask\u001b[0m\u001b[0;34m(\u001b[0m\u001b[0mselector\u001b[0m\u001b[0;34m)\u001b[0m\u001b[0;34m\u001b[0m\u001b[0m\n",
      "\u001b[1;32m    141 \u001b[0m        \u001b[0mcount\u001b[0m \u001b[0;34m=\u001b[0m \u001b[0mself\u001b[0m\u001b[0;34m.\u001b[0m\u001b[0mcount\u001b[0m\u001b[0;34m(\u001b[0m\u001b[0mselector\u001b[0m\u001b[0;34m)\u001b[0m\u001b[0;34m\u001b[0m\u001b[0m\n",
      "\u001b[1;32m    142 \u001b[0m        \u001b[0;32mif\u001b[0m \u001b[0mcount\u001b[0m \u001b[0;34m==\u001b[0m \u001b[0;36m0\u001b[0m\u001b[0;34m:\u001b[0m \u001b[0;32mreturn\u001b[0m \u001b[0;36m0\u001b[0m\u001b[0;34m\u001b[0m\u001b[0m\n",
      "\u001b[1;32m    143 \u001b[0m        \u001b[0;32mimport\u001b[0m \u001b[0mpdb\u001b[0m\u001b[0;34m;\u001b[0m \u001b[0mpdb\u001b[0m\u001b[0;34m.\u001b[0m\u001b[0mset_trace\u001b[0m\u001b[0;34m(\u001b[0m\u001b[0;34m)\u001b[0m\u001b[0;34m\u001b[0m\u001b[0m\n",
      "\u001b[0;32m--> 144 \u001b[0;31m        \u001b[0mdest\u001b[0m\u001b[0;34m[\u001b[0m\u001b[0moffset\u001b[0m\u001b[0;34m:\u001b[0m\u001b[0moffset\u001b[0m\u001b[0;34m+\u001b[0m\u001b[0mcount\u001b[0m\u001b[0;34m]\u001b[0m \u001b[0;34m=\u001b[0m \u001b[0msource\u001b[0m\u001b[0;34m[\u001b[0m\u001b[0mmask\u001b[0m\u001b[0;34m,\u001b[0m \u001b[0;34m...\u001b[0m\u001b[0;34m]\u001b[0m\u001b[0;34m\u001b[0m\u001b[0m\n",
      "\u001b[0m\u001b[1;32m    145 \u001b[0m        \u001b[0;32mreturn\u001b[0m \u001b[0mcount\u001b[0m\u001b[0;34m\u001b[0m\u001b[0m\n",
      "\u001b[1;32m    146 \u001b[0m\u001b[0;34m\u001b[0m\u001b[0m\n",
      "\u001b[1;32m    147 \u001b[0m    \u001b[0;32mdef\u001b[0m \u001b[0mcount\u001b[0m\u001b[0;34m(\u001b[0m\u001b[0mself\u001b[0m\u001b[0;34m,\u001b[0m \u001b[0mselector\u001b[0m\u001b[0;34m)\u001b[0m\u001b[0;34m:\u001b[0m\u001b[0;34m\u001b[0m\u001b[0m\n",
      "\u001b[1;32m    148 \u001b[0m        \u001b[0mmask\u001b[0m \u001b[0;34m=\u001b[0m \u001b[0mself\u001b[0m\u001b[0;34m.\u001b[0m\u001b[0m_get_selector_mask\u001b[0m\u001b[0;34m(\u001b[0m\u001b[0mselector\u001b[0m\u001b[0;34m)\u001b[0m\u001b[0;34m\u001b[0m\u001b[0m\n",
      "\u001b[1;32m    149 \u001b[0m        \u001b[0;32mif\u001b[0m \u001b[0mmask\u001b[0m \u001b[0;32mis\u001b[0m \u001b[0;32mNone\u001b[0m\u001b[0;34m:\u001b[0m \u001b[0;32mreturn\u001b[0m \u001b[0;36m0\u001b[0m\u001b[0;34m\u001b[0m\u001b[0m\n",
      "\n",
      "ipdb> p selector\n",
      "<yt.geometry.selection_routines.RegionSelector object at 0x7f0a94042768>\n"
     ]
    }
   ],
   "source": [
    "%debug"
   ]
  },
  {
   "cell_type": "markdown",
   "metadata": {},
   "source": [
    "Ok, here is some stuff going down:\n",
    "\n",
    "1. We start off by creating a YTSlice object.\n",
    "2. We call YTSlice.get_data() since apparently YTSlice inherits from YTSelectionContainer\n",
    "3. The first thing the get_data() routine does is call: `self.index._identify_base_chunk(self)`\n",
    "4. Here's the hierarchy of indexes: ExodusIIUnstructuredIndex(/frontends/exodusii/data_structures) -> UnstructuredIndex(/geometry/unstructured_mesh_handler) -> Index(/geometry/geometry_handler)\n",
    "5. The `_identify_base_chunk` routine is implemented in the UnstructuredIndex class\n",
    "6. In that method, the first thing done is: `dobj._chunk_info = self.meshes`. Recall that dobj refers to the YTSlice object and self currently is the UnstructuredIndex object\n",
    "7. The next important piece of code executed is: `dobj._current_chunk = list(self._chunk_all(dobj))[0]`\n",
    "8. This calls the `_chunk_all` method implemented in the UnstructuredIndex class\n",
    "9. The `_chunk_all` method creates a generator. In this case `list(self._chunk_all(dobj))` is a list of length 1, presumably because we're using an \"all\" method.\n",
    "10. `_chunk_all` creates a a `YTDataChunk` instance through `yield YTDataChunk(dobj, \"all\", oobjs, dobj.size, cache)`\n",
    "11. Note that `oobjs` were created like this: `oobjs = getattr(dobj._current_chunk, \"objs\", dobj._chunk_info)`. So essentially `oobjs = dobj._chunk_info = self.meshes`\n",
    "11. The YTDataChunk `__init__` routine looks like this:\n",
    "```\n",
    "    def __init__(self, dobj, chunk_type, objs, data_size = None,\n",
    "                 field_type = None, cache = False, fast_index = None):\n",
    "        self.dobj = dobj\n",
    "        self.chunk_type = chunk_type\n",
    "        self.objs = objs\n",
    "        self.data_size = data_size\n",
    "        self._field_type = field_type\n",
    "        self._cache = cache\n",
    "        self._fast_index = fast_index\n",
    "```\n",
    "12. So translating: dobj is the YTSlice object, `chunk_type = \"all\"` and the `objs` are equal to the list of UnstructuredMeshes\n",
    "\n",
    "To summarize, the YTSlice `_current_chunk` attribute is equal to a YTDataChunk instance with attributes of `self.dobj` equal to the YTSlice instance and `self.objs` equal to the list of UnstructuredMeshes.\n",
    "\n",
    "However, what we actually pass to the the all (or maybe) important `io._read_fluid_selection` routine is chunks created from the `_chunk_io(dobj)` routine.\n",
    "\n",
    "- The `_chunk_io` function also creates a generator; this time a generator that if it was converted into a list would be of length equal to the number of meshes."
   ]
  },
  {
   "cell_type": "markdown",
   "metadata": {},
   "source": [
    "## Exploring Generators\n",
    "\n",
    "Just when you think you're starting to make serious progress, you run into another new fundamental concept!\n",
    "\n",
    "Here's a generator function I think:"
   ]
  },
  {
   "cell_type": "code",
   "execution_count": 3,
   "metadata": {
    "collapsed": false
   },
   "outputs": [
    {
     "name": "stdout",
     "output_type": "stream",
     "text": [
      "<generator object createGenerator at 0x7fb5f799c990>\n"
     ]
    }
   ],
   "source": [
    "def createGenerator():\n",
    "    mylist = range(3)\n",
    "    for i in mylist:\n",
    "        yield i*i\n",
    "        \n",
    "my_generator_function = createGenerator()\n",
    "print(my_generator_function)"
   ]
  },
  {
   "cell_type": "markdown",
   "metadata": {},
   "source": [
    "And here's a regular function:"
   ]
  },
  {
   "cell_type": "code",
   "execution_count": 5,
   "metadata": {
    "collapsed": false
   },
   "outputs": [
    {
     "name": "stdout",
     "output_type": "stream",
     "text": [
      "0\n"
     ]
    }
   ],
   "source": [
    "def createFunction():\n",
    "    mylist = range(3)\n",
    "    for i in mylist:\n",
    "        return i*i\n",
    "        \n",
    "my_regular_function = createFunction()\n",
    "print(my_regular_function)"
   ]
  },
  {
   "cell_type": "markdown",
   "metadata": {},
   "source": [
    "Psych! A function with a regular return returns as soon it hits `return` the first time."
   ]
  },
  {
   "cell_type": "code",
   "execution_count": 6,
   "metadata": {
    "collapsed": false
   },
   "outputs": [
    {
     "name": "stdout",
     "output_type": "stream",
     "text": [
      "0\n",
      "1\n",
      "4\n"
     ]
    }
   ],
   "source": [
    "for i in my_generator_function:\n",
    "    print(i)"
   ]
  },
  {
   "cell_type": "code",
   "execution_count": 8,
   "metadata": {
    "collapsed": false
   },
   "outputs": [
    {
     "name": "stdout",
     "output_type": "stream",
     "text": [
      "[0, 1, 4]\n",
      "3\n"
     ]
    }
   ],
   "source": [
    "list_from_gen = list(createGenerator())\n",
    "print(list_from_gen)\n",
    "print(len(list_from_gen))"
   ]
  },
  {
   "cell_type": "code",
   "execution_count": 3,
   "metadata": {
    "collapsed": true
   },
   "outputs": [
    {
     "data": {
      "text/html": [
       "<img style=\"max-width:100%%;max-height:100%%;\" src=\"data:image/png;base64,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\"><br>"
      ],
      "text/plain": [
       "<yt.visualization.plot_window.AxisAlignedSlicePlot at 0x7f677a03b940>"
      ]
     },
     "metadata": {},
     "output_type": "display_data"
    }
   ],
   "source": [
    "slice.show()"
   ]
  },
  {
   "cell_type": "code",
   "execution_count": 6,
   "metadata": {
    "collapsed": true
   },
   "outputs": [
    {
     "name": "stdout",
     "output_type": "stream",
     "text": [
      "[[ 1.   1.   0.9  0.9]\n",
      " [ 1.   1.   0.9  0.9]\n",
      " [ 1.   1.   0.9  0.9]\n",
      " [ 1.   1.   0.9  0.9]\n",
      " [ 1.   1.   0.9  0.9]\n",
      " [ 0.9  0.9  0.8  0.8]\n",
      " [ 0.9  0.9  0.8  0.8]\n",
      " [ 0.9  0.9  0.8  0.8]\n",
      " [ 0.9  0.9  0.8  0.8]\n",
      " [ 0.9  0.9  0.8  0.8]\n",
      " [ 0.8  0.8  0.7  0.7]\n",
      " [ 0.8  0.8  0.7  0.7]\n",
      " [ 0.8  0.8  0.7  0.7]\n",
      " [ 0.8  0.8  0.7  0.7]\n",
      " [ 0.8  0.8  0.7  0.7]\n",
      " [ 0.7  0.7  0.6  0.6]\n",
      " [ 0.7  0.7  0.6  0.6]\n",
      " [ 0.7  0.7  0.6  0.6]\n",
      " [ 0.7  0.7  0.6  0.6]\n",
      " [ 0.7  0.7  0.6  0.6]\n",
      " [ 0.6  0.6  0.5  0.5]\n",
      " [ 0.6  0.6  0.5  0.5]\n",
      " [ 0.6  0.6  0.5  0.5]\n",
      " [ 0.6  0.6  0.5  0.5]\n",
      " [ 0.6  0.6  0.5  0.5]\n",
      " [ 0.5  0.5  0.4  0.4]\n",
      " [ 0.5  0.5  0.4  0.4]\n",
      " [ 0.5  0.5  0.4  0.4]\n",
      " [ 0.5  0.5  0.4  0.4]\n",
      " [ 0.5  0.5  0.4  0.4]\n",
      " [ 0.4  0.4  0.3  0.3]\n",
      " [ 0.4  0.4  0.3  0.3]\n",
      " [ 0.4  0.4  0.3  0.3]\n",
      " [ 0.4  0.4  0.3  0.3]\n",
      " [ 0.4  0.4  0.3  0.3]\n",
      " [ 0.3  0.3  0.2  0.2]\n",
      " [ 0.3  0.3  0.2  0.2]\n",
      " [ 0.3  0.3  0.2  0.2]\n",
      " [ 0.3  0.3  0.2  0.2]\n",
      " [ 0.3  0.3  0.2  0.2]\n",
      " [ 0.2  0.2  0.1  0.1]\n",
      " [ 0.2  0.2  0.1  0.1]\n",
      " [ 0.2  0.2  0.1  0.1]\n",
      " [ 0.2  0.2  0.1  0.1]\n",
      " [ 0.2  0.2  0.1  0.1]\n",
      " [ 0.1  0.1  0.   0. ]\n",
      " [ 0.1  0.1  0.   0. ]\n",
      " [ 0.1  0.1  0.   0. ]\n",
      " [ 0.1  0.1  0.   0. ]\n",
      " [ 0.1  0.1  0.   0. ]] dimensionless\n",
      "[[ 1.   1.   0.9  0.9]\n",
      " [ 1.   1.   0.9  0.9]\n",
      " [ 1.   1.   0.9  0.9]\n",
      " [ 1.   1.   0.9  0.9]\n",
      " [ 1.   1.   0.9  0.9]\n",
      " [ 0.9  0.9  0.8  0.8]\n",
      " [ 0.9  0.9  0.8  0.8]\n",
      " [ 0.9  0.9  0.8  0.8]\n",
      " [ 0.9  0.9  0.8  0.8]\n",
      " [ 0.9  0.9  0.8  0.8]\n",
      " [ 0.8  0.8  0.7  0.7]\n",
      " [ 0.8  0.8  0.7  0.7]\n",
      " [ 0.8  0.8  0.7  0.7]\n",
      " [ 0.8  0.8  0.7  0.7]\n",
      " [ 0.8  0.8  0.7  0.7]\n",
      " [ 0.7  0.7  0.6  0.6]\n",
      " [ 0.7  0.7  0.6  0.6]\n",
      " [ 0.7  0.7  0.6  0.6]\n",
      " [ 0.7  0.7  0.6  0.6]\n",
      " [ 0.7  0.7  0.6  0.6]\n",
      " [ 0.6  0.6  0.5  0.5]\n",
      " [ 0.6  0.6  0.5  0.5]\n",
      " [ 0.6  0.6  0.5  0.5]\n",
      " [ 0.6  0.6  0.5  0.5]\n",
      " [ 0.6  0.6  0.5  0.5]\n",
      " [ 0.5  0.5  0.4  0.4]\n",
      " [ 0.5  0.5  0.4  0.4]\n",
      " [ 0.5  0.5  0.4  0.4]\n",
      " [ 0.5  0.5  0.4  0.4]\n",
      " [ 0.5  0.5  0.4  0.4]\n",
      " [ 0.4  0.4  0.3  0.3]\n",
      " [ 0.4  0.4  0.3  0.3]\n",
      " [ 0.4  0.4  0.3  0.3]\n",
      " [ 0.4  0.4  0.3  0.3]\n",
      " [ 0.4  0.4  0.3  0.3]\n",
      " [ 0.3  0.3  0.2  0.2]\n",
      " [ 0.3  0.3  0.2  0.2]\n",
      " [ 0.3  0.3  0.2  0.2]\n",
      " [ 0.3  0.3  0.2  0.2]\n",
      " [ 0.3  0.3  0.2  0.2]\n",
      " [ 0.2  0.2  0.1  0.1]\n",
      " [ 0.2  0.2  0.1  0.1]\n",
      " [ 0.2  0.2  0.1  0.1]\n",
      " [ 0.2  0.2  0.1  0.1]\n",
      " [ 0.2  0.2  0.1  0.1]\n",
      " [ 0.1  0.1  0.   0. ]\n",
      " [ 0.1  0.1  0.   0. ]\n",
      " [ 0.1  0.1  0.   0. ]\n",
      " [ 0.1  0.1  0.   0. ]\n",
      " [ 0.1  0.1  0.   0. ]] dimensionless\n"
     ]
    }
   ],
   "source": [
    "print(array1)\n",
    "print(array2)"
   ]
  },
  {
   "cell_type": "code",
   "execution_count": 2,
   "metadata": {
    "collapsed": true
   },
   "outputs": [
    {
     "name": "stderr",
     "output_type": "stream",
     "text": [
      "yt : [WARNING  ] 2017-01-09 15:41:09,466 name_glo_var not found\n",
      "yt : [WARNING  ] 2017-01-09 15:41:09,514 name_elem_var not found\n",
      "yt : [INFO     ] 2017-01-09 15:41:09,516 Loading coordinates\n",
      "yt : [INFO     ] 2017-01-09 15:41:09,518 Loading connectivity\n",
      "yt : [INFO     ] 2017-01-09 15:41:09,530 Parameters: current_time              = 1.0\n",
      "yt : [INFO     ] 2017-01-09 15:41:09,531 Parameters: domain_dimensions         = [1 1 1]\n",
      "yt : [INFO     ] 2017-01-09 15:41:09,534 Parameters: domain_left_edge          = [-0.1 -0.1  0. ]\n",
      "yt : [INFO     ] 2017-01-09 15:41:09,535 Parameters: domain_right_edge         = [ 1.1  1.1  1. ]\n",
      "yt : [INFO     ] 2017-01-09 15:41:09,536 Parameters: cosmological_simulation   = 0\n",
      "yt : [INFO     ] 2017-01-09 15:41:09,539 Loading coordinates\n",
      "yt : [INFO     ] 2017-01-09 15:41:09,540 Loading connectivity\n",
      "yt : [WARNING  ] 2017-01-09 15:41:09,543 name_elem_var not found\n"
     ]
    },
    {
     "name": "stdout",
     "output_type": "stream",
     "text": [
      "[('all', 'diffused'), ('connect1', 'diffused'), ('connect2', 'diffused')]\n",
      "> /home/lindsayad/yt-hg/yt/visualization/plot_window.py(2002)SlicePlot()\n",
      "-> return AxisAlignedSlicePlot(ds, normal, fields, *args, **kwargs)\n",
      "(Pdb) c\n"
     ]
    },
    {
     "ename": "KeyError",
     "evalue": "'all'",
     "output_type": "error",
     "traceback": [
      "\u001b[0;31m---------------------------------------------------------------------------\u001b[0m",
      "\u001b[0;31mKeyError\u001b[0m                                  Traceback (most recent call last)",
      "\u001b[0;32m<ipython-input-2-4883f9fddbcf>\u001b[0m in \u001b[0;36m<module>\u001b[0;34m()\u001b[0m\n\u001b[1;32m      5\u001b[0m \u001b[0mprint\u001b[0m\u001b[0;34m(\u001b[0m\u001b[0mds2\u001b[0m\u001b[0;34m.\u001b[0m\u001b[0mfield_list\u001b[0m\u001b[0;34m)\u001b[0m\u001b[0;34m\u001b[0m\u001b[0m\n\u001b[1;32m      6\u001b[0m \u001b[0;34m\u001b[0m\u001b[0m\n\u001b[0;32m----> 7\u001b[0;31m \u001b[0mslice\u001b[0m \u001b[0;34m=\u001b[0m \u001b[0myt\u001b[0m\u001b[0;34m.\u001b[0m\u001b[0mSlicePlot\u001b[0m\u001b[0;34m(\u001b[0m\u001b[0mds2\u001b[0m\u001b[0;34m,\u001b[0m \u001b[0;34m'z'\u001b[0m\u001b[0;34m,\u001b[0m \u001b[0;34m[\u001b[0m\u001b[0;34m(\u001b[0m\u001b[0;34m'all'\u001b[0m\u001b[0;34m,\u001b[0m\u001b[0;34m'diffused'\u001b[0m\u001b[0;34m)\u001b[0m\u001b[0;34m]\u001b[0m\u001b[0;34m)\u001b[0m\u001b[0;34m\u001b[0m\u001b[0m\n\u001b[0m",
      "\u001b[0;32m/home/lindsayad/yt-hg/yt/visualization/plot_window.py\u001b[0m in \u001b[0;36mSlicePlot\u001b[0;34m(ds, normal, fields, axis, *args, **kwargs)\u001b[0m\n\u001b[1;32m   2000\u001b[0m \u001b[0;34m\u001b[0m\u001b[0m\n\u001b[1;32m   2001\u001b[0m         \u001b[0;32mimport\u001b[0m \u001b[0mpdb\u001b[0m\u001b[0;34m;\u001b[0m \u001b[0mpdb\u001b[0m\u001b[0;34m.\u001b[0m\u001b[0mset_trace\u001b[0m\u001b[0;34m(\u001b[0m\u001b[0;34m)\u001b[0m\u001b[0;34m\u001b[0m\u001b[0m\n\u001b[0;32m-> 2002\u001b[0;31m         \u001b[0;32mreturn\u001b[0m \u001b[0mAxisAlignedSlicePlot\u001b[0m\u001b[0;34m(\u001b[0m\u001b[0mds\u001b[0m\u001b[0;34m,\u001b[0m \u001b[0mnormal\u001b[0m\u001b[0;34m,\u001b[0m \u001b[0mfields\u001b[0m\u001b[0;34m,\u001b[0m \u001b[0;34m*\u001b[0m\u001b[0margs\u001b[0m\u001b[0;34m,\u001b[0m \u001b[0;34m**\u001b[0m\u001b[0mkwargs\u001b[0m\u001b[0;34m)\u001b[0m\u001b[0;34m\u001b[0m\u001b[0m\n\u001b[0m",
      "\u001b[0;32m/home/lindsayad/yt-hg/yt/visualization/plot_window.py\u001b[0m in \u001b[0;36m__init__\u001b[0;34m(self, ds, axis, fields, center, width, axes_unit, origin, right_handed, fontsize, field_parameters, window_size, aspect, data_source)\u001b[0m\n\u001b[1;32m   1324\u001b[0m             slc = ds.slice(axis, center[axis], field_parameters=field_parameters,\n\u001b[1;32m   1325\u001b[0m                            center=center, data_source=data_source)\n\u001b[0;32m-> 1326\u001b[0;31m             \u001b[0mslc\u001b[0m\u001b[0;34m.\u001b[0m\u001b[0mget_data\u001b[0m\u001b[0;34m(\u001b[0m\u001b[0mfields\u001b[0m\u001b[0;34m)\u001b[0m\u001b[0;34m\u001b[0m\u001b[0m\n\u001b[0m\u001b[1;32m   1327\u001b[0m         \u001b[0mvalidate_mesh_fields\u001b[0m\u001b[0;34m(\u001b[0m\u001b[0mslc\u001b[0m\u001b[0;34m,\u001b[0m \u001b[0mfields\u001b[0m\u001b[0;34m)\u001b[0m\u001b[0;34m\u001b[0m\u001b[0m\n\u001b[1;32m   1328\u001b[0m         PWViewerMPL.__init__(self, slc, bounds, origin=origin,\n",
      "\u001b[0;32m/home/lindsayad/yt-hg/yt/data_objects/data_containers.py\u001b[0m in \u001b[0;36mget_data\u001b[0;34m(self, fields)\u001b[0m\n\u001b[1;32m   1319\u001b[0m         \u001b[0;31m# need to be generated.\u001b[0m\u001b[0;34m\u001b[0m\u001b[0;34m\u001b[0m\u001b[0m\n\u001b[1;32m   1320\u001b[0m         read_fluids, gen_fluids = self.index._read_fluid_fields(\n\u001b[0;32m-> 1321\u001b[0;31m                                         fluids, self, self._current_chunk)\n\u001b[0m\u001b[1;32m   1322\u001b[0m         \u001b[0;32mfor\u001b[0m \u001b[0mf\u001b[0m\u001b[0;34m,\u001b[0m \u001b[0mv\u001b[0m \u001b[0;32min\u001b[0m \u001b[0mread_fluids\u001b[0m\u001b[0;34m.\u001b[0m\u001b[0mitems\u001b[0m\u001b[0;34m(\u001b[0m\u001b[0;34m)\u001b[0m\u001b[0;34m:\u001b[0m\u001b[0;34m\u001b[0m\u001b[0m\n\u001b[1;32m   1323\u001b[0m             \u001b[0mself\u001b[0m\u001b[0;34m.\u001b[0m\u001b[0mfield_data\u001b[0m\u001b[0;34m[\u001b[0m\u001b[0mf\u001b[0m\u001b[0;34m]\u001b[0m \u001b[0;34m=\u001b[0m \u001b[0mself\u001b[0m\u001b[0;34m.\u001b[0m\u001b[0mds\u001b[0m\u001b[0;34m.\u001b[0m\u001b[0marr\u001b[0m\u001b[0;34m(\u001b[0m\u001b[0mv\u001b[0m\u001b[0;34m,\u001b[0m \u001b[0minput_units\u001b[0m \u001b[0;34m=\u001b[0m \u001b[0mfinfos\u001b[0m\u001b[0;34m[\u001b[0m\u001b[0mf\u001b[0m\u001b[0;34m]\u001b[0m\u001b[0;34m.\u001b[0m\u001b[0munits\u001b[0m\u001b[0;34m)\u001b[0m\u001b[0;34m\u001b[0m\u001b[0m\n",
      "\u001b[0;32m/home/lindsayad/yt-hg/yt/geometry/geometry_handler.py\u001b[0m in \u001b[0;36m_read_fluid_fields\u001b[0;34m(self, fields, dobj, chunk)\u001b[0m\n\u001b[1;32m    243\u001b[0m             \u001b[0mselector\u001b[0m\u001b[0;34m,\u001b[0m\u001b[0;34m\u001b[0m\u001b[0m\n\u001b[1;32m    244\u001b[0m             \u001b[0mfields_to_read\u001b[0m\u001b[0;34m,\u001b[0m\u001b[0;34m\u001b[0m\u001b[0m\n\u001b[0;32m--> 245\u001b[0;31m             chunk_size)\n\u001b[0m\u001b[1;32m    246\u001b[0m         \u001b[0;32mreturn\u001b[0m \u001b[0mfields_to_return\u001b[0m\u001b[0;34m,\u001b[0m \u001b[0mfields_to_generate\u001b[0m\u001b[0;34m\u001b[0m\u001b[0m\n\u001b[1;32m    247\u001b[0m \u001b[0;34m\u001b[0m\u001b[0m\n",
      "\u001b[0;32m/home/lindsayad/yt-hg/yt/frontends/exodus_ii/io.py\u001b[0m in \u001b[0;36m_read_fluid_selection\u001b[0;34m(self, chunks, selector, fields, size)\u001b[0m\n\u001b[1;32m     51\u001b[0m         \u001b[0;32mfor\u001b[0m \u001b[0mfield\u001b[0m \u001b[0;32min\u001b[0m \u001b[0mfields\u001b[0m\u001b[0;34m:\u001b[0m\u001b[0;34m\u001b[0m\u001b[0m\n\u001b[1;32m     52\u001b[0m             \u001b[0mftype\u001b[0m\u001b[0;34m,\u001b[0m \u001b[0mfname\u001b[0m \u001b[0;34m=\u001b[0m \u001b[0mfield\u001b[0m\u001b[0;34m\u001b[0m\u001b[0m\n\u001b[0;32m---> 53\u001b[0;31m             \u001b[0mci\u001b[0m \u001b[0;34m=\u001b[0m \u001b[0mself\u001b[0m\u001b[0;34m.\u001b[0m\u001b[0mhandler\u001b[0m\u001b[0;34m.\u001b[0m\u001b[0mvariables\u001b[0m\u001b[0;34m[\u001b[0m\u001b[0mftype\u001b[0m\u001b[0;34m]\u001b[0m\u001b[0;34m[\u001b[0m\u001b[0;34m:\u001b[0m\u001b[0;34m]\u001b[0m \u001b[0;34m-\u001b[0m \u001b[0mself\u001b[0m\u001b[0;34m.\u001b[0m\u001b[0m_INDEX_OFFSET\u001b[0m\u001b[0;34m\u001b[0m\u001b[0m\n\u001b[0m\u001b[1;32m     54\u001b[0m             \u001b[0mnum_elem\u001b[0m \u001b[0;34m=\u001b[0m \u001b[0mci\u001b[0m\u001b[0;34m.\u001b[0m\u001b[0mshape\u001b[0m\u001b[0;34m[\u001b[0m\u001b[0;36m0\u001b[0m\u001b[0;34m]\u001b[0m\u001b[0;34m\u001b[0m\u001b[0m\n\u001b[1;32m     55\u001b[0m             \u001b[0;32mif\u001b[0m \u001b[0mfname\u001b[0m \u001b[0;32min\u001b[0m \u001b[0mself\u001b[0m\u001b[0;34m.\u001b[0m\u001b[0mnode_fields\u001b[0m\u001b[0;34m:\u001b[0m\u001b[0;34m\u001b[0m\u001b[0m\n",
      "\u001b[0;31mKeyError\u001b[0m: 'all'"
     ]
    }
   ],
   "source": [
    "slice = yt.SlicePlot(ds2, 'z', [('all','diffused')])"
   ]
  },
  {
   "cell_type": "code",
   "execution_count": 4,
   "metadata": {
    "collapsed": false
   },
   "outputs": [
    {
     "name": "stdout",
     "output_type": "stream",
     "text": [
      "> /home/lindsayad/yt-hg/yt/frontends/exodus_ii/io.py(52)_read_fluid_selection()\n",
      "-> for field in fields:\n",
      "(Pdb) c\n",
      "> /home/lindsayad/yt-hg/yt/frontends/exodus_ii/io.py(52)_read_fluid_selection()\n",
      "-> for field in fields:\n",
      "(Pdb) c\n",
      "(50, 4)\n",
      "(50, 4)\n"
     ]
    }
   ],
   "source": [
    "array1 = ad2[('connect1','diffused')]\n",
    "array2 = ad2[('connect2','diffused')]\n",
    "print(array1.shape)\n",
    "print(array2.shape)"
   ]
  },
  {
   "cell_type": "code",
   "execution_count": 7,
   "metadata": {
    "collapsed": false
   },
   "outputs": [
    {
     "name": "stderr",
     "output_type": "stream",
     "text": [
      "yt : [WARNING  ] 2017-01-09 16:31:51,513 name_elem_var not found\n"
     ]
    }
   ],
   "source": [
    "my_io_handler = yt.frontends.exodus_ii.IOHandlerExodusII(ds2)"
   ]
  },
  {
   "cell_type": "code",
   "execution_count": 8,
   "metadata": {
    "collapsed": true
   },
   "outputs": [
    {
     "name": "stdout",
     "output_type": "stream",
     "text": [
      "OrderedDict([('time_whole', <class 'netCDF4._netCDF4.Variable'>\n",
      "float64 time_whole(time_step)\n",
      "unlimited dimensions: time_step\n",
      "current shape = (1,)\n",
      "filling off\n",
      "), ('eb_status', <class 'netCDF4._netCDF4.Variable'>\n",
      "int32 eb_status(num_el_blk)\n",
      "unlimited dimensions: \n",
      "current shape = (2,)\n",
      "filling off\n",
      "), ('eb_prop1', <class 'netCDF4._netCDF4.Variable'>\n",
      "int32 eb_prop1(num_el_blk)\n",
      "    name: ID\n",
      "unlimited dimensions: \n",
      "current shape = (2,)\n",
      "filling off\n",
      "), ('ns_status', <class 'netCDF4._netCDF4.Variable'>\n",
      "int32 ns_status(num_node_sets)\n",
      "unlimited dimensions: \n",
      "current shape = (4,)\n",
      "filling off\n",
      "), ('ns_prop1', <class 'netCDF4._netCDF4.Variable'>\n",
      "int32 ns_prop1(num_node_sets)\n",
      "    name: ID\n",
      "unlimited dimensions: \n",
      "current shape = (4,)\n",
      "filling off\n",
      "), ('ss_status', <class 'netCDF4._netCDF4.Variable'>\n",
      "int32 ss_status(num_side_sets)\n",
      "unlimited dimensions: \n",
      "current shape = (4,)\n",
      "filling off\n",
      "), ('ss_prop1', <class 'netCDF4._netCDF4.Variable'>\n",
      "int32 ss_prop1(num_side_sets)\n",
      "    name: ID\n",
      "unlimited dimensions: \n",
      "current shape = (4,)\n",
      "filling off\n",
      "), ('coordx', <class 'netCDF4._netCDF4.Variable'>\n",
      "float64 coordx(num_nodes)\n",
      "unlimited dimensions: \n",
      "current shape = (121,)\n",
      "filling off\n",
      "), ('coordy', <class 'netCDF4._netCDF4.Variable'>\n",
      "float64 coordy(num_nodes)\n",
      "unlimited dimensions: \n",
      "current shape = (121,)\n",
      "filling off\n",
      "), ('eb_names', <class 'netCDF4._netCDF4.Variable'>\n",
      "|S1 eb_names(num_el_blk, len_name)\n",
      "unlimited dimensions: \n",
      "current shape = (2, 33)\n",
      "filling off\n",
      "), ('ns_names', <class 'netCDF4._netCDF4.Variable'>\n",
      "|S1 ns_names(num_node_sets, len_name)\n",
      "unlimited dimensions: \n",
      "current shape = (4, 33)\n",
      "filling off\n",
      "), ('ss_names', <class 'netCDF4._netCDF4.Variable'>\n",
      "|S1 ss_names(num_side_sets, len_name)\n",
      "unlimited dimensions: \n",
      "current shape = (4, 33)\n",
      "filling off\n",
      "), ('coor_names', <class 'netCDF4._netCDF4.Variable'>\n",
      "|S1 coor_names(num_dim, len_name)\n",
      "unlimited dimensions: \n",
      "current shape = (2, 33)\n",
      "filling off\n",
      "), ('node_num_map', <class 'netCDF4._netCDF4.Variable'>\n",
      "int32 node_num_map(num_nodes)\n",
      "unlimited dimensions: \n",
      "current shape = (121,)\n",
      "filling off\n",
      "), ('connect1', <class 'netCDF4._netCDF4.Variable'>\n",
      "int32 connect1(num_el_in_blk1, num_nod_per_el1)\n",
      "    elem_type: QUAD4\n",
      "unlimited dimensions: \n",
      "current shape = (50, 4)\n",
      "filling off\n",
      "), ('connect2', <class 'netCDF4._netCDF4.Variable'>\n",
      "int32 connect2(num_el_in_blk2, num_nod_per_el2)\n",
      "    elem_type: QUAD4\n",
      "unlimited dimensions: \n",
      "current shape = (50, 4)\n",
      "filling off\n",
      "), ('elem_num_map', <class 'netCDF4._netCDF4.Variable'>\n",
      "int32 elem_num_map(num_elem)\n",
      "unlimited dimensions: \n",
      "current shape = (100,)\n",
      "filling off\n",
      "), ('elem_ss1', <class 'netCDF4._netCDF4.Variable'>\n",
      "int32 elem_ss1(num_side_ss1)\n",
      "unlimited dimensions: \n",
      "current shape = (10,)\n",
      "filling off\n",
      "), ('side_ss1', <class 'netCDF4._netCDF4.Variable'>\n",
      "int32 side_ss1(num_side_ss1)\n",
      "unlimited dimensions: \n",
      "current shape = (10,)\n",
      "filling off\n",
      "), ('elem_ss2', <class 'netCDF4._netCDF4.Variable'>\n",
      "int32 elem_ss2(num_side_ss2)\n",
      "unlimited dimensions: \n",
      "current shape = (10,)\n",
      "filling off\n",
      "), ('side_ss2', <class 'netCDF4._netCDF4.Variable'>\n",
      "int32 side_ss2(num_side_ss2)\n",
      "unlimited dimensions: \n",
      "current shape = (10,)\n",
      "filling off\n",
      "), ('elem_ss3', <class 'netCDF4._netCDF4.Variable'>\n",
      "int32 elem_ss3(num_side_ss3)\n",
      "unlimited dimensions: \n",
      "current shape = (10,)\n",
      "filling off\n",
      "), ('side_ss3', <class 'netCDF4._netCDF4.Variable'>\n",
      "int32 side_ss3(num_side_ss3)\n",
      "unlimited dimensions: \n",
      "current shape = (10,)\n",
      "filling off\n",
      "), ('elem_ss4', <class 'netCDF4._netCDF4.Variable'>\n",
      "int32 elem_ss4(num_side_ss4)\n",
      "unlimited dimensions: \n",
      "current shape = (10,)\n",
      "filling off\n",
      "), ('side_ss4', <class 'netCDF4._netCDF4.Variable'>\n",
      "int32 side_ss4(num_side_ss4)\n",
      "unlimited dimensions: \n",
      "current shape = (10,)\n",
      "filling off\n",
      "), ('node_ns1', <class 'netCDF4._netCDF4.Variable'>\n",
      "int32 node_ns1(num_nod_ns1)\n",
      "unlimited dimensions: \n",
      "current shape = (11,)\n",
      "filling off\n",
      "), ('node_ns2', <class 'netCDF4._netCDF4.Variable'>\n",
      "int32 node_ns2(num_nod_ns2)\n",
      "unlimited dimensions: \n",
      "current shape = (11,)\n",
      "filling off\n",
      "), ('node_ns3', <class 'netCDF4._netCDF4.Variable'>\n",
      "int32 node_ns3(num_nod_ns3)\n",
      "unlimited dimensions: \n",
      "current shape = (11,)\n",
      "filling off\n",
      "), ('node_ns4', <class 'netCDF4._netCDF4.Variable'>\n",
      "int32 node_ns4(num_nod_ns4)\n",
      "unlimited dimensions: \n",
      "current shape = (11,)\n",
      "filling off\n",
      "), ('vals_nod_var1', <class 'netCDF4._netCDF4.Variable'>\n",
      "float64 vals_nod_var1(time_step, num_nodes)\n",
      "unlimited dimensions: time_step\n",
      "current shape = (1, 121)\n",
      "filling off\n",
      "), ('name_nod_var', <class 'netCDF4._netCDF4.Variable'>\n",
      "|S1 name_nod_var(num_nod_var, len_name)\n",
      "unlimited dimensions: \n",
      "current shape = (1, 33)\n",
      "filling off\n",
      "), ('info_records', <class 'netCDF4._netCDF4.Variable'>\n",
      "|S1 info_records(num_info, len_line)\n",
      "unlimited dimensions: \n",
      "current shape = (230, 81)\n",
      "filling off\n",
      ")])\n"
     ]
    }
   ],
   "source": [
    "variables = my_io_handler.handler.variables\n",
    "print(variables)"
   ]
  },
  {
   "cell_type": "code",
   "execution_count": 27,
   "metadata": {
    "collapsed": true
   },
   "outputs": [],
   "source": [
    "ci = variables['connect1'][:] - 1\n",
    "ci2 = variables['connect2'][:] - 1"
   ]
  },
  {
   "cell_type": "code",
   "execution_count": null,
   "metadata": {
    "collapsed": true
   },
   "outputs": [],
   "source": [
    "print(ci)"
   ]
  },
  {
   "cell_type": "code",
   "execution_count": 28,
   "metadata": {
    "collapsed": false
   },
   "outputs": [
    {
     "name": "stdout",
     "output_type": "stream",
     "text": [
      "(50, 4)\n",
      "(50, 4)\n"
     ]
    }
   ],
   "source": [
    "print(ci.shape)\n",
    "print(ci2.shape)"
   ]
  },
  {
   "cell_type": "code",
   "execution_count": 33,
   "metadata": {
    "collapsed": true
   },
   "outputs": [],
   "source": [
    "import numpy as np"
   ]
  },
  {
   "cell_type": "code",
   "execution_count": 36,
   "metadata": {
    "collapsed": false
   },
   "outputs": [
    {
     "name": "stdout",
     "output_type": "stream",
     "text": [
      "(100, 4)\n"
     ]
    }
   ],
   "source": [
    "all_array = np.concatenate((ci, ci2))\n",
    "print(all_array.shape)"
   ]
  },
  {
   "cell_type": "code",
   "execution_count": 37,
   "metadata": {
    "collapsed": true
   },
   "outputs": [
    {
     "name": "stdout",
     "output_type": "stream",
     "text": [
      "[[ 1.   1.   0.9  0.9]\n",
      " [ 1.   1.   0.9  0.9]\n",
      " [ 1.   1.   0.9  0.9]\n",
      " [ 1.   1.   0.9  0.9]\n",
      " [ 1.   1.   0.9  0.9]\n",
      " [ 0.9  0.9  0.8  0.8]\n",
      " [ 0.9  0.9  0.8  0.8]\n",
      " [ 0.9  0.9  0.8  0.8]\n",
      " [ 0.9  0.9  0.8  0.8]\n",
      " [ 0.9  0.9  0.8  0.8]\n",
      " [ 0.8  0.8  0.7  0.7]\n",
      " [ 0.8  0.8  0.7  0.7]\n",
      " [ 0.8  0.8  0.7  0.7]\n",
      " [ 0.8  0.8  0.7  0.7]\n",
      " [ 0.8  0.8  0.7  0.7]\n",
      " [ 0.7  0.7  0.6  0.6]\n",
      " [ 0.7  0.7  0.6  0.6]\n",
      " [ 0.7  0.7  0.6  0.6]\n",
      " [ 0.7  0.7  0.6  0.6]\n",
      " [ 0.7  0.7  0.6  0.6]\n",
      " [ 0.6  0.6  0.5  0.5]\n",
      " [ 0.6  0.6  0.5  0.5]\n",
      " [ 0.6  0.6  0.5  0.5]\n",
      " [ 0.6  0.6  0.5  0.5]\n",
      " [ 0.6  0.6  0.5  0.5]\n",
      " [ 0.5  0.5  0.4  0.4]\n",
      " [ 0.5  0.5  0.4  0.4]\n",
      " [ 0.5  0.5  0.4  0.4]\n",
      " [ 0.5  0.5  0.4  0.4]\n",
      " [ 0.5  0.5  0.4  0.4]\n",
      " [ 0.4  0.4  0.3  0.3]\n",
      " [ 0.4  0.4  0.3  0.3]\n",
      " [ 0.4  0.4  0.3  0.3]\n",
      " [ 0.4  0.4  0.3  0.3]\n",
      " [ 0.4  0.4  0.3  0.3]\n",
      " [ 0.3  0.3  0.2  0.2]\n",
      " [ 0.3  0.3  0.2  0.2]\n",
      " [ 0.3  0.3  0.2  0.2]\n",
      " [ 0.3  0.3  0.2  0.2]\n",
      " [ 0.3  0.3  0.2  0.2]\n",
      " [ 0.2  0.2  0.1  0.1]\n",
      " [ 0.2  0.2  0.1  0.1]\n",
      " [ 0.2  0.2  0.1  0.1]\n",
      " [ 0.2  0.2  0.1  0.1]\n",
      " [ 0.2  0.2  0.1  0.1]\n",
      " [ 0.1  0.1  0.   0. ]\n",
      " [ 0.1  0.1  0.   0. ]\n",
      " [ 0.1  0.1  0.   0. ]\n",
      " [ 0.1  0.1  0.   0. ]\n",
      " [ 0.1  0.1  0.   0. ]\n",
      " [ 1.   1.   0.9  0.9]\n",
      " [ 1.   1.   0.9  0.9]\n",
      " [ 1.   1.   0.9  0.9]\n",
      " [ 1.   1.   0.9  0.9]\n",
      " [ 1.   1.   0.9  0.9]\n",
      " [ 0.9  0.9  0.8  0.8]\n",
      " [ 0.9  0.9  0.8  0.8]\n",
      " [ 0.9  0.9  0.8  0.8]\n",
      " [ 0.9  0.9  0.8  0.8]\n",
      " [ 0.9  0.9  0.8  0.8]\n",
      " [ 0.8  0.8  0.7  0.7]\n",
      " [ 0.8  0.8  0.7  0.7]\n",
      " [ 0.8  0.8  0.7  0.7]\n",
      " [ 0.8  0.8  0.7  0.7]\n",
      " [ 0.8  0.8  0.7  0.7]\n",
      " [ 0.7  0.7  0.6  0.6]\n",
      " [ 0.7  0.7  0.6  0.6]\n",
      " [ 0.7  0.7  0.6  0.6]\n",
      " [ 0.7  0.7  0.6  0.6]\n",
      " [ 0.7  0.7  0.6  0.6]\n",
      " [ 0.6  0.6  0.5  0.5]\n",
      " [ 0.6  0.6  0.5  0.5]\n",
      " [ 0.6  0.6  0.5  0.5]\n",
      " [ 0.6  0.6  0.5  0.5]\n",
      " [ 0.6  0.6  0.5  0.5]\n",
      " [ 0.5  0.5  0.4  0.4]\n",
      " [ 0.5  0.5  0.4  0.4]\n",
      " [ 0.5  0.5  0.4  0.4]\n",
      " [ 0.5  0.5  0.4  0.4]\n",
      " [ 0.5  0.5  0.4  0.4]\n",
      " [ 0.4  0.4  0.3  0.3]\n",
      " [ 0.4  0.4  0.3  0.3]\n",
      " [ 0.4  0.4  0.3  0.3]\n",
      " [ 0.4  0.4  0.3  0.3]\n",
      " [ 0.4  0.4  0.3  0.3]\n",
      " [ 0.3  0.3  0.2  0.2]\n",
      " [ 0.3  0.3  0.2  0.2]\n",
      " [ 0.3  0.3  0.2  0.2]\n",
      " [ 0.3  0.3  0.2  0.2]\n",
      " [ 0.3  0.3  0.2  0.2]\n",
      " [ 0.2  0.2  0.1  0.1]\n",
      " [ 0.2  0.2  0.1  0.1]\n",
      " [ 0.2  0.2  0.1  0.1]\n",
      " [ 0.2  0.2  0.1  0.1]\n",
      " [ 0.2  0.2  0.1  0.1]\n",
      " [ 0.1  0.1  0.   0. ]\n",
      " [ 0.1  0.1  0.   0. ]\n",
      " [ 0.1  0.1  0.   0. ]\n",
      " [ 0.1  0.1  0.   0. ]\n",
      " [ 0.1  0.1  0.   0. ]]\n"
     ]
    }
   ],
   "source": [
    "print(variables['vals_nod_var1'][-1][all_array])"
   ]
  },
  {
   "cell_type": "code",
   "execution_count": 35,
   "metadata": {
    "collapsed": true
   },
   "outputs": [
    {
     "name": "stdout",
     "output_type": "stream",
     "text": [
      "[[  0   1   2   3]\n",
      " [  1   4   5   2]\n",
      " [  4   6   7   5]\n",
      " [  6   8   9   7]\n",
      " [  8  10  11   9]\n",
      " [  3   2  22  23]\n",
      " [  2   5  24  22]\n",
      " [  5   7  25  24]\n",
      " [  7   9  26  25]\n",
      " [  9  11  27  26]\n",
      " [ 23  22  33  34]\n",
      " [ 22  24  35  33]\n",
      " [ 24  25  36  35]\n",
      " [ 25  26  37  36]\n",
      " [ 26  27  38  37]\n",
      " [ 34  33  44  45]\n",
      " [ 33  35  46  44]\n",
      " [ 35  36  47  46]\n",
      " [ 36  37  48  47]\n",
      " [ 37  38  49  48]\n",
      " [ 45  44  55  56]\n",
      " [ 44  46  57  55]\n",
      " [ 46  47  58  57]\n",
      " [ 47  48  59  58]\n",
      " [ 48  49  60  59]\n",
      " [ 56  55  66  67]\n",
      " [ 55  57  68  66]\n",
      " [ 57  58  69  68]\n",
      " [ 58  59  70  69]\n",
      " [ 59  60  71  70]\n",
      " [ 67  66  77  78]\n",
      " [ 66  68  79  77]\n",
      " [ 68  69  80  79]\n",
      " [ 69  70  81  80]\n",
      " [ 70  71  82  81]\n",
      " [ 78  77  88  89]\n",
      " [ 77  79  90  88]\n",
      " [ 79  80  91  90]\n",
      " [ 80  81  92  91]\n",
      " [ 81  82  93  92]\n",
      " [ 89  88  99 100]\n",
      " [ 88  90 101  99]\n",
      " [ 90  91 102 101]\n",
      " [ 91  92 103 102]\n",
      " [ 92  93 104 103]\n",
      " [100  99 110 111]\n",
      " [ 99 101 112 110]\n",
      " [101 102 113 112]\n",
      " [102 103 114 113]\n",
      " [103 104 115 114]\n",
      " [ 10  12  13  11]\n",
      " [ 12  14  15  13]\n",
      " [ 14  16  17  15]\n",
      " [ 16  18  19  17]\n",
      " [ 18  20  21  19]\n",
      " [ 11  13  28  27]\n",
      " [ 13  15  29  28]\n",
      " [ 15  17  30  29]\n",
      " [ 17  19  31  30]\n",
      " [ 19  21  32  31]\n",
      " [ 27  28  39  38]\n",
      " [ 28  29  40  39]\n",
      " [ 29  30  41  40]\n",
      " [ 30  31  42  41]\n",
      " [ 31  32  43  42]\n",
      " [ 38  39  50  49]\n",
      " [ 39  40  51  50]\n",
      " [ 40  41  52  51]\n",
      " [ 41  42  53  52]\n",
      " [ 42  43  54  53]\n",
      " [ 49  50  61  60]\n",
      " [ 50  51  62  61]\n",
      " [ 51  52  63  62]\n",
      " [ 52  53  64  63]\n",
      " [ 53  54  65  64]\n",
      " [ 60  61  72  71]\n",
      " [ 61  62  73  72]\n",
      " [ 62  63  74  73]\n",
      " [ 63  64  75  74]\n",
      " [ 64  65  76  75]\n",
      " [ 71  72  83  82]\n",
      " [ 72  73  84  83]\n",
      " [ 73  74  85  84]\n",
      " [ 74  75  86  85]\n",
      " [ 75  76  87  86]\n",
      " [ 82  83  94  93]\n",
      " [ 83  84  95  94]\n",
      " [ 84  85  96  95]\n",
      " [ 85  86  97  96]\n",
      " [ 86  87  98  97]\n",
      " [ 93  94 105 104]\n",
      " [ 94  95 106 105]\n",
      " [ 95  96 107 106]\n",
      " [ 96  97 108 107]\n",
      " [ 97  98 109 108]\n",
      " [104 105 116 115]\n",
      " [105 106 117 116]\n",
      " [106 107 118 117]\n",
      " [107 108 119 118]\n",
      " [108 109 120 119]]\n"
     ]
    }
   ],
   "source": [
    "print(all_array)"
   ]
  },
  {
   "cell_type": "code",
   "execution_count": 30,
   "metadata": {
    "collapsed": false
   },
   "outputs": [
    {
     "name": "stdout",
     "output_type": "stream",
     "text": [
      "(50, 4)\n"
     ]
    }
   ],
   "source": [
    "newarray = ci + ci2\n",
    "print(newarray.shape)"
   ]
  },
  {
   "cell_type": "code",
   "execution_count": 31,
   "metadata": {
    "collapsed": false
   },
   "outputs": [
    {
     "data": {
      "text/plain": [
       "numpy.ndarray"
      ]
     },
     "execution_count": 31,
     "metadata": {},
     "output_type": "execute_result"
    }
   ],
   "source": [
    "type(ci)"
   ]
  },
  {
   "cell_type": "code",
   "execution_count": 21,
   "metadata": {
    "collapsed": false
   },
   "outputs": [
    {
     "name": "stdout",
     "output_type": "stream",
     "text": [
      "(1, 121)\n"
     ]
    }
   ],
   "source": [
    "print(variables['vals_nod_var1'].shape)"
   ]
  },
  {
   "cell_type": "code",
   "execution_count": 23,
   "metadata": {
    "collapsed": true
   },
   "outputs": [
    {
     "ename": "IndexError",
     "evalue": "",
     "output_type": "error",
     "traceback": [
      "\u001b[0;31m---------------------------------------------------------------------------\u001b[0m",
      "\u001b[0;31mIndexError\u001b[0m                                Traceback (most recent call last)",
      "\u001b[0;32m<ipython-input-23-383e2adabf09>\u001b[0m in \u001b[0;36m<module>\u001b[0;34m()\u001b[0m\n\u001b[0;32m----> 1\u001b[0;31m \u001b[0mprint\u001b[0m\u001b[0;34m(\u001b[0m\u001b[0mvariables\u001b[0m\u001b[0;34m[\u001b[0m\u001b[0;34m'vals_nod_var1'\u001b[0m\u001b[0;34m]\u001b[0m\u001b[0;34m[\u001b[0m\u001b[0;36m1\u001b[0m\u001b[0;34m]\u001b[0m\u001b[0;34m)\u001b[0m\u001b[0;34m\u001b[0m\u001b[0m\n\u001b[0m",
      "\u001b[0;32mnetCDF4/_netCDF4.pyx\u001b[0m in \u001b[0;36mnetCDF4._netCDF4.Variable.__getitem__ (netCDF4/_netCDF4.c:37923)\u001b[0;34m()\u001b[0m\n",
      "\u001b[0;32mnetCDF4/_netCDF4.pyx\u001b[0m in \u001b[0;36mnetCDF4._netCDF4.Variable._get (netCDF4/_netCDF4.c:47101)\u001b[0;34m()\u001b[0m\n",
      "\u001b[0;31mIndexError\u001b[0m: "
     ]
    }
   ],
   "source": [
    "print(variables['vals_nod_var1'][1])"
   ]
  },
  {
   "cell_type": "code",
   "execution_count": 19,
   "metadata": {
    "collapsed": false
   },
   "outputs": [
    {
     "name": "stdout",
     "output_type": "stream",
     "text": [
      "[ 1.   1.   0.9  0.9  1.   0.9  1.   0.9  1.   0.9  1.   0.9  1.   0.9  1.\n",
      "  0.9  1.   0.9  1.   0.9  1.   0.9  0.8  0.8  0.8  0.8  0.8  0.8  0.8  0.8\n",
      "  0.8  0.8  0.8  0.7  0.7  0.7  0.7  0.7  0.7  0.7  0.7  0.7  0.7  0.7  0.6\n",
      "  0.6  0.6  0.6  0.6  0.6  0.6  0.6  0.6  0.6  0.6  0.5  0.5  0.5  0.5  0.5\n",
      "  0.5  0.5  0.5  0.5  0.5  0.5  0.4  0.4  0.4  0.4  0.4  0.4  0.4  0.4  0.4\n",
      "  0.4  0.4  0.3  0.3  0.3  0.3  0.3  0.3  0.3  0.3  0.3  0.3  0.3  0.2  0.2\n",
      "  0.2  0.2  0.2  0.2  0.2  0.2  0.2  0.2  0.2  0.1  0.1  0.1  0.1  0.1  0.1\n",
      "  0.1  0.1  0.1  0.1  0.1  0.   0.   0.   0.   0.   0.   0.   0.   0.   0.\n",
      "  0. ]\n",
      "(121,)\n"
     ]
    }
   ],
   "source": [
    "print(variables['vals_nod_var1'][-1][:])\n",
    "print(variables['vals_nod_var1'][-1][:].shape)"
   ]
  },
  {
   "cell_type": "code",
   "execution_count": 18,
   "metadata": {
    "collapsed": false
   },
   "outputs": [
    {
     "name": "stdout",
     "output_type": "stream",
     "text": [
      "[ 1.   1.   0.9  0.9  1.   0.9  1.   0.9  1.   0.9  1.   0.9  1.   0.9  1.\n",
      "  0.9  1.   0.9  1.   0.9  1.   0.9  0.8  0.8  0.8  0.8  0.8  0.8  0.8  0.8\n",
      "  0.8  0.8  0.8  0.7  0.7  0.7  0.7  0.7  0.7  0.7  0.7  0.7  0.7  0.7  0.6\n",
      "  0.6  0.6  0.6  0.6  0.6  0.6  0.6  0.6  0.6  0.6  0.5  0.5  0.5  0.5  0.5\n",
      "  0.5  0.5  0.5  0.5  0.5  0.5  0.4  0.4  0.4  0.4  0.4  0.4  0.4  0.4  0.4\n",
      "  0.4  0.4  0.3  0.3  0.3  0.3  0.3  0.3  0.3  0.3  0.3  0.3  0.3  0.2  0.2\n",
      "  0.2  0.2  0.2  0.2  0.2  0.2  0.2  0.2  0.2  0.1  0.1  0.1  0.1  0.1  0.1\n",
      "  0.1  0.1  0.1  0.1  0.1  0.   0.   0.   0.   0.   0.   0.   0.   0.   0.\n",
      "  0. ]\n",
      "(121,)\n"
     ]
    }
   ],
   "source": [
    "print(variables['vals_nod_var1'][-1])\n",
    "print(variables['vals_nod_var1'][-1].shape)"
   ]
  },
  {
   "cell_type": "code",
   "execution_count": null,
   "metadata": {
    "collapsed": true
   },
   "outputs": [],
   "source": [
    "print(variables['vals_nod_var1'][-1][ci])\n",
    "print(variables['vals_nod_var1'][-1][ci].shape)"
   ]
  },
  {
   "cell_type": "code",
   "execution_count": 17,
   "metadata": {
    "collapsed": false
   },
   "outputs": [
    {
     "ename": "IndexError",
     "evalue": "Index cannot be multidimensional",
     "output_type": "error",
     "traceback": [
      "\u001b[0;31m---------------------------------------------------------------------------\u001b[0m",
      "\u001b[0;31mIndexError\u001b[0m                                Traceback (most recent call last)",
      "\u001b[0;32m<ipython-input-17-62b8c8641153>\u001b[0m in \u001b[0;36m<module>\u001b[0;34m()\u001b[0m\n\u001b[0;32m----> 1\u001b[0;31m \u001b[0mprint\u001b[0m\u001b[0;34m(\u001b[0m\u001b[0mvariables\u001b[0m\u001b[0;34m[\u001b[0m\u001b[0;34m'vals_nod_var1'\u001b[0m\u001b[0;34m]\u001b[0m\u001b[0;34m[\u001b[0m\u001b[0mci\u001b[0m\u001b[0;34m]\u001b[0m\u001b[0;34m)\u001b[0m\u001b[0;34m\u001b[0m\u001b[0m\n\u001b[0m\u001b[1;32m      2\u001b[0m \u001b[0mprint\u001b[0m\u001b[0;34m(\u001b[0m\u001b[0mvariables\u001b[0m\u001b[0;34m[\u001b[0m\u001b[0;34m'vals_nod_var1'\u001b[0m\u001b[0;34m]\u001b[0m\u001b[0;34m[\u001b[0m\u001b[0mci\u001b[0m\u001b[0;34m]\u001b[0m\u001b[0;34m.\u001b[0m\u001b[0mshape\u001b[0m\u001b[0;34m)\u001b[0m\u001b[0;34m\u001b[0m\u001b[0m\n",
      "\u001b[0;32mnetCDF4/_netCDF4.pyx\u001b[0m in \u001b[0;36mnetCDF4._netCDF4.Variable.__getitem__ (netCDF4/_netCDF4.c:37136)\u001b[0;34m()\u001b[0m\n",
      "\u001b[0;32m/home/lindsayad/miniconda2/envs/yt-devel/lib/python3.5/site-packages/netCDF4/utils.py\u001b[0m in \u001b[0;36m_StartCountStride\u001b[0;34m(elem, shape, dimensions, grp, datashape, put)\u001b[0m\n\u001b[1;32m    197\u001b[0m         \u001b[0;31m# Raise error if multidimensional indexing is used.\u001b[0m\u001b[0;34m\u001b[0m\u001b[0;34m\u001b[0m\u001b[0m\n\u001b[1;32m    198\u001b[0m         \u001b[0;32mif\u001b[0m \u001b[0mea\u001b[0m\u001b[0;34m.\u001b[0m\u001b[0mndim\u001b[0m \u001b[0;34m>\u001b[0m \u001b[0;36m1\u001b[0m\u001b[0;34m:\u001b[0m\u001b[0;34m\u001b[0m\u001b[0m\n\u001b[0;32m--> 199\u001b[0;31m             \u001b[0;32mraise\u001b[0m \u001b[0mIndexError\u001b[0m\u001b[0;34m(\u001b[0m\u001b[0;34m\"Index cannot be multidimensional\"\u001b[0m\u001b[0;34m)\u001b[0m\u001b[0;34m\u001b[0m\u001b[0m\n\u001b[0m\u001b[1;32m    200\u001b[0m         \u001b[0;31m# set unlim to True if dimension is unlimited and put==True\u001b[0m\u001b[0;34m\u001b[0m\u001b[0;34m\u001b[0m\u001b[0m\n\u001b[1;32m    201\u001b[0m         \u001b[0;31m# (called from __setitem__)\u001b[0m\u001b[0;34m\u001b[0m\u001b[0;34m\u001b[0m\u001b[0m\n",
      "\u001b[0;31mIndexError\u001b[0m: Index cannot be multidimensional"
     ]
    }
   ],
   "source": [
    "print(variables['vals_nod_var1'][ci])\n",
    "print(variables['vals_nod_var1'][ci].shape)"
   ]
  },
  {
   "cell_type": "code",
   "execution_count": 11,
   "metadata": {
    "collapsed": false
   },
   "outputs": [
    {
     "name": "stdout",
     "output_type": "stream",
     "text": [
      "-1\n"
     ]
    }
   ],
   "source": [
    "print(my_io_handler.ds.step)"
   ]
  },
  {
   "cell_type": "code",
   "execution_count": null,
   "metadata": {
    "collapsed": true
   },
   "outputs": [],
   "source": []
  }
 ],
 "metadata": {
  "kernelspec": {
   "display_name": "Python 3",
   "language": "python",
   "name": "python3"
  },
  "language_info": {
   "codemirror_mode": {
    "name": "ipython",
    "version": 3
   },
   "file_extension": ".py",
   "mimetype": "text/x-python",
   "name": "python",
   "nbconvert_exporter": "python",
   "pygments_lexer": "ipython3",
   "version": "3.5.2"
  }
 },
 "nbformat": 4,
 "nbformat_minor": 1
}
