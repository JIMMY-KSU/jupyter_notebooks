{
 "cells": [
  {
   "cell_type": "code",
   "execution_count": 1,
   "metadata": {
    "collapsed": false
   },
   "outputs": [
    {
     "name": "stdout",
     "output_type": "stream",
     "text": [
      "Using matplotlib backend: Qt4Agg\n",
      "Populating the interactive namespace from numpy and matplotlib\n"
     ]
    },
    {
     "name": "stderr",
     "output_type": "stream",
     "text": [
      "/home/lindsayad/yt-hg/yt/config.py:112: UserWarning: The configuration file /home/lindsayad/.yt/config is deprecated. Please migrate your config to /home/lindsayad/.config/yt/ytrc by running: 'yt config migrate'\n",
      "  warnings.warn(msg.format(_OLD_CONFIG_FILE, CURRENT_CONFIG_FILE))\n"
     ]
    }
   ],
   "source": [
    "%pylab\n",
    "import yt\n",
    "from mpl_toolkits.mplot3d import Axes3D"
   ]
  },
  {
   "cell_type": "code",
   "execution_count": 3,
   "metadata": {
    "collapsed": false
   },
   "outputs": [
    {
     "name": "stderr",
     "output_type": "stream",
     "text": [
      "yt : [INFO     ] 2016-10-03 10:40:19,620 Loading coordinates\n",
      "yt : [INFO     ] 2016-10-03 10:40:19,666 Loading connectivity\n",
      "yt : [INFO     ] 2016-10-03 10:40:19,700 Parameters: current_time              = 70150000.0\n",
      "yt : [INFO     ] 2016-10-03 10:40:19,701 Parameters: domain_dimensions         = [1 1 1]\n",
      "yt : [INFO     ] 2016-10-03 10:40:19,702 Parameters: domain_left_edge          = [-0.00569976 -0.00565779 -0.00522478]\n",
      "yt : [INFO     ] 2016-10-03 10:40:19,703 Parameters: domain_right_edge         = [ 0.00569976  0.06223573  0.00047498]\n",
      "yt : [INFO     ] 2016-10-03 10:40:19,704 Parameters: cosmological_simulation   = 0\n",
      "yt : [INFO     ] 2016-10-03 10:40:19,706 Loading coordinates\n",
      "yt : [INFO     ] 2016-10-03 10:40:19,718 Loading connectivity\n"
     ]
    }
   ],
   "source": [
    "ds = yt.load('MOOSE_sample_data/mps_out.e', step=-1)"
   ]
  },
  {
   "cell_type": "code",
   "execution_count": 4,
   "metadata": {
    "collapsed": false
   },
   "outputs": [],
   "source": [
    "index = 6899  # selects an element\n",
    "m = ds.index.meshes[1]\n",
    "coords = m.connectivity_coords\n",
    "indices = m.connectivity_indices - 1\n",
    "vertices = coords[indices[index]]"
   ]
  },
  {
   "cell_type": "code",
   "execution_count": 5,
   "metadata": {
    "collapsed": false
   },
   "outputs": [],
   "source": [
    "def rotation_matrix(axis, theta):\n",
    "    \"\"\"\n",
    "    Return the rotation matrix associated with counterclockwise rotation about\n",
    "    the given axis by theta radians.\n",
    "    \"\"\"\n",
    "    axis = np.asarray(axis)\n",
    "    theta = np.asarray(theta)\n",
    "    axis = axis/math.sqrt(np.dot(axis, axis))\n",
    "    a = math.cos(theta/2)\n",
    "    b, c, d = -axis*math.sin(theta/2)\n",
    "    aa, bb, cc, dd = a*a, b*b, c*c, d*d\n",
    "    bc, ad, ac, ab, bd, cd = b*c, a*d, a*c, a*b, b*d, c*d\n",
    "    return np.array([[aa+bb-cc-dd, 2*(bc+ad), 2*(bd-ac)],\n",
    "                     [2*(bc-ad), aa+cc-bb-dd, 2*(cd+ab)],\n",
    "                     [2*(bd+ac), 2*(cd-ab), aa+dd-bb-cc]])\n",
    "\n",
    "axis = [0, 1, 1]\n",
    "theta = 1.2\n",
    "\n",
    "vertices -= vertices.mean(axis=0)\n",
    "vertices *= 5e3\n",
    "\n",
    "for i in range(20):\n",
    "    vertices[i] = np.dot(rotation_matrix(axis,theta), vertices[i]) "
   ]
  },
  {
   "cell_type": "code",
   "execution_count": 6,
   "metadata": {
    "collapsed": false
   },
   "outputs": [],
   "source": [
    "def patchSurfaceFunc(u, v, verts):\n",
    "    return 0.25*(1.0 - u)*(1.0 - v)*(-u - v - 1)*verts[0] + \\\n",
    "           0.25*(1.0 + u)*(1.0 - v)*( u - v - 1)*verts[1] + \\\n",
    "           0.25*(1.0 + u)*(1.0 + v)*( u + v - 1)*verts[2] + \\\n",
    "           0.25*(1.0 - u)*(1.0 + v)*(-u + v - 1)*verts[3] + \\\n",
    "           0.5*(1 - u)*(1 - v*v)*verts[4] + \\\n",
    "           0.5*(1 - u*u)*(1 - v)*verts[5] + \\\n",
    "           0.5*(1 + u)*(1 - v*v)*verts[6] + \\\n",
    "           0.5*(1 - u*u)*(1 + v)*verts[7]"
   ]
  },
  {
   "cell_type": "code",
   "execution_count": 7,
   "metadata": {
    "collapsed": false
   },
   "outputs": [],
   "source": [
    "faces = [[0, 1, 5, 4, 12, 8, 13, 16],\n",
    "        [1, 2, 6, 5, 13, 9, 14, 17],\n",
    "        [3, 2, 6, 7, 15, 10, 14, 18],\n",
    "        [0, 3, 7, 4, 12, 11, 15, 19],\n",
    "        [4, 5, 6, 7, 19, 16, 17, 18],\n",
    "        [0, 1, 2, 3, 11, 8, 9, 10]]"
   ]
  },
  {
   "cell_type": "code",
   "execution_count": 8,
   "metadata": {
    "collapsed": false
   },
   "outputs": [],
   "source": [
    "fig = plt.figure()\n",
    "ax = fig.add_subplot(111, projection='3d')\n",
    "\n",
    "for face in faces:\n",
    "    N = 16\n",
    "    x = np.empty(N**2)\n",
    "    y = np.empty(N**2)\n",
    "    z = np.empty(N**2)\n",
    "    for i, u in enumerate(np.linspace(-1.0, 1.0, N)):\n",
    "        for j, v in enumerate(np.linspace(-1.0, 1.0, N)):\n",
    "            index = i*N+j\n",
    "            x[index], y[index], z[index] = patchSurfaceFunc(u, v, vertices[face])\n",
    "    ax.plot_trisurf(x, y, z)"
   ]
  },
  {
   "cell_type": "code",
   "execution_count": null,
   "metadata": {
    "collapsed": true
   },
   "outputs": [],
   "source": []
  }
 ],
 "metadata": {
  "kernelspec": {
   "display_name": "Python 3",
   "language": "python",
   "name": "python3"
  },
  "language_info": {
   "codemirror_mode": {
    "name": "ipython",
    "version": 3
   },
   "file_extension": ".py",
   "mimetype": "text/x-python",
   "name": "python",
   "nbconvert_exporter": "python",
   "pygments_lexer": "ipython3",
   "version": "3.5.2"
  }
 },
 "nbformat": 4,
 "nbformat_minor": 0
}
